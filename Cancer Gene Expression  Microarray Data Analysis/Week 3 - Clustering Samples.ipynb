{
 "cells": [
  {
   "cell_type": "code",
   "execution_count": 1,
   "id": "61bf3755-efe9-4f63-809e-5dcfde223c69",
   "metadata": {},
   "outputs": [],
   "source": [
    "import pandas as pd\n",
    "import numpy as np\n",
    "from sklearn.cluster import KMeans, DBSCAN\n",
    "import matplotlib.pyplot as plt\n",
    "import seaborn as sns\n",
    "from sklearn.neighbors import NearestNeighbors"
   ]
  },
  {
   "cell_type": "markdown",
   "id": "4f6f044f-04e5-4d89-8d2f-ab7fff40b78e",
   "metadata": {},
   "source": [
    "# Clustering on Samples\n",
    "\n",
    "The goal of sample-based clustering is to find the phenotype structures or substructures of the samples. Previous studies have demonstrated that phenotypes of samples can be discriminated through only a small subset of genes whose expression levels strongly correlate with the class distinction. These genes are called informative genes. The remaining genes in the gene expression matrix are irrelevant to the division of samples of interest and thus are regarded as noise in the data set.\n",
    "\n",
    "The existing methods of selecting informative genes to cluster samples fall into two major categories: **supervised analysis** (clustering based on supervised informative gene selection) and **unsupervised analysis** (unsupervised clustering and informative gene selection).\n"
   ]
  },
  {
   "cell_type": "markdown",
   "id": "4843f7c4-7e77-42a6-8724-f20dd7fcda2c",
   "metadata": {},
   "source": [
    "**Note** : Since we have ground truth labels available, we can assess the quality of clustering. For the tasks at hand we would use entropy to measure cluster goodness. This will help us compare different clustering methods. "
   ]
  },
  {
   "cell_type": "code",
   "execution_count": 2,
   "id": "01ded89a-59eb-4cce-a0ec-857ce3f2c11e",
   "metadata": {},
   "outputs": [],
   "source": [
    "def entropy(clusterlabels, y):\n",
    "    \n",
    "    N = clusterlabels.shape[0]\n",
    "    entropy = dict()\n",
    "    total_entropy = 0\n",
    "    \n",
    "    for label in np.unique(clusterlabels):\n",
    "        \n",
    "        n = clusterlabels[np.where(clusterlabels==label)].shape[0]\n",
    "        y_cluster = y[np.where(clusterlabels==label)]\n",
    "        arr = np.unique(y_cluster, return_counts = True)[1]\n",
    "        entropy[label] = - np.sum(arr/n * np.log(arr/n))\n",
    "        total_entropy += entropy[label] * n/N\n",
    "        \n",
    "    return entropy,total_entropy\n",
    "    \n",
    "    "
   ]
  },
  {
   "cell_type": "code",
   "execution_count": null,
   "id": "38397c5b-ae6a-463f-bcdb-c04e077be5df",
   "metadata": {},
   "outputs": [],
   "source": []
  },
  {
   "cell_type": "markdown",
   "id": "ca32c261-ec44-4637-a869-6ccf4bbe7b8c",
   "metadata": {},
   "source": [
    "## Clustering based on supervised informative gene selection\n",
    "\n",
    "The supervised approach assumes that phenotype information is attached to the samples. Using this information, a “classifier” which only contains the informative genes can be constructed. Based on this “classifier”, samples can be clustered to match their phenotypes and labels can be predicted for the future coming samples from\n",
    "the expression profiles. The major steps to build the classifier include:\n",
    "\n",
    "1. ***Training sample selection*** : Divide the dataset into train and test\n",
    "\n",
    "2. ***Informative gene selection*** : Build a classifier which ranks feature importances and select important features i.e. the informative genes (Week 1)\n",
    "\n",
    "3. ***Sample clustering and classification*** : After about 50 - 200 informative genes which manifest the phenotype partition within the training samples are selected, the whole set of samples are clustered using only the informative genes as features. Since the feature volume is relatively small, conventional clustering algorithms, such as K-means or SOM, are usually applied to cluster samples.\n",
    "\n",
    "**Note**: Usually, the number of phenotypes within a gene expression matrix is very small and known in advance. For example, the number of phenotypes is for the well-known leukemia microarray set which often serves as the benchmark for microarray analysis methods. **Thus for sample-based analysis, the number of clusters is always pre-defined, namely, as an input parameter of the clustering method.** In the current dataset, phenotypes are 5 classes of cancer, so we already know the optimal number of clusters, which is equal to 5.  \n"
   ]
  },
  {
   "cell_type": "code",
   "execution_count": 3,
   "id": "3522f55d-300f-4fc2-82b4-89f61c3ab9a2",
   "metadata": {},
   "outputs": [],
   "source": [
    "dfcomplete = pd.read_csv(\"datasets/cleaned/datacleaned.csv\")\n",
    "df_feature_selection = pd.read_csv(\"datasets/featureselection/train.csv\")"
   ]
  },
  {
   "cell_type": "code",
   "execution_count": 4,
   "id": "7d5b510c-d54e-4480-98b1-390a9289c634",
   "metadata": {},
   "outputs": [],
   "source": [
    "informative_genes = df_feature_selection.columns.to_list()"
   ]
  },
  {
   "cell_type": "code",
   "execution_count": 5,
   "id": "0844e71a-b680-4626-b1b5-ff841b0ce8c1",
   "metadata": {},
   "outputs": [],
   "source": [
    "df_sup = dfcomplete[informative_genes]"
   ]
  },
  {
   "cell_type": "code",
   "execution_count": 6,
   "id": "a16269ae-ee4b-474f-9171-aef4eb7bf4d2",
   "metadata": {},
   "outputs": [],
   "source": [
    "X_sup = df_sup.drop(columns=['Class'])\n",
    "y_sup = df_sup['Class']"
   ]
  },
  {
   "cell_type": "code",
   "execution_count": 7,
   "id": "86da9707-5260-4181-9253-f5b50efe8fc0",
   "metadata": {},
   "outputs": [],
   "source": [
    "X_sup.set_index('sample_id', inplace=True)"
   ]
  },
  {
   "cell_type": "code",
   "execution_count": 8,
   "id": "d3a6357c-f06c-4eae-8610-4b1e0f3c9f28",
   "metadata": {},
   "outputs": [],
   "source": [
    "X_sup = (X_sup - X_sup.mean()) / X_sup.std()"
   ]
  },
  {
   "cell_type": "code",
   "execution_count": null,
   "id": "5fa24a03-3996-4925-8380-60c89a0bba16",
   "metadata": {},
   "outputs": [],
   "source": []
  },
  {
   "cell_type": "markdown",
   "id": "1e45b663-422e-4395-92c7-4c6b22abff02",
   "metadata": {},
   "source": [
    "### KMeans Clustering"
   ]
  },
  {
   "cell_type": "code",
   "execution_count": 9,
   "id": "b72be01e-8b1a-4b09-a722-0eb45bfb61d1",
   "metadata": {},
   "outputs": [],
   "source": [
    "kmeans_sup = KMeans(n_clusters=5)"
   ]
  },
  {
   "cell_type": "code",
   "execution_count": 10,
   "id": "3f98dd55-35dc-4765-8f1e-b265ebbc7a7f",
   "metadata": {},
   "outputs": [
    {
     "data": {
      "text/plain": [
       "KMeans(n_clusters=5)"
      ]
     },
     "execution_count": 10,
     "metadata": {},
     "output_type": "execute_result"
    }
   ],
   "source": [
    "kmeans_sup.fit(X_sup)"
   ]
  },
  {
   "cell_type": "code",
   "execution_count": 11,
   "id": "1ec1c5c2-7d92-4af7-96c1-b9b9b95d1b4e",
   "metadata": {},
   "outputs": [],
   "source": [
    "clusterlabels_kmeans_sup = kmeans_sup.predict(X_sup)"
   ]
  },
  {
   "cell_type": "code",
   "execution_count": 12,
   "id": "00157477-6fe1-4c82-bf0b-de3528d64c0a",
   "metadata": {},
   "outputs": [],
   "source": [
    "kmeanscluster = pd.DataFrame({\"kmeans\": clusterlabels_kmeans_sup, \"groundtruth\":y_sup})"
   ]
  },
  {
   "cell_type": "code",
   "execution_count": 13,
   "id": "e5fc7efa-b1e9-4a04-b45c-9347cd12fbae",
   "metadata": {},
   "outputs": [
    {
     "data": {
      "text/plain": [
       "({0: 0.05554607526889177, 1: -0.0, 2: -0.0, 3: -0.0, 4: -0.0},\n",
       " 0.021011811244037712)"
      ]
     },
     "execution_count": 13,
     "metadata": {},
     "output_type": "execute_result"
    }
   ],
   "source": [
    "entropy(clusterlabels_kmeans_sup,y_sup.values)"
   ]
  },
  {
   "cell_type": "markdown",
   "id": "c197fa56-abbc-432e-9706-a4b5e3cdd969",
   "metadata": {},
   "source": [
    "The entropy of each cluster and total entropy of all clusters is close to zero. This means samples have been nearly perfectly clustered. We need to check for cluster 3"
   ]
  },
  {
   "cell_type": "code",
   "execution_count": 14,
   "id": "21be641d-abf1-431b-895a-a16515b41ea4",
   "metadata": {},
   "outputs": [
    {
     "data": {
      "text/plain": [
       "(array([0, 2], dtype=int64), array([300,   3], dtype=int64))"
      ]
     },
     "execution_count": 14,
     "metadata": {},
     "output_type": "execute_result"
    }
   ],
   "source": [
    "ycluster0 = y_sup.values[np.where(clusterlabels_kmeans_sup==0)]\n",
    "np.unique(ycluster0,return_counts=True)"
   ]
  },
  {
   "cell_type": "code",
   "execution_count": 15,
   "id": "bc80a546-3a15-451e-add6-0a3c66640d74",
   "metadata": {},
   "outputs": [
    {
     "data": {
      "text/html": [
       "<div>\n",
       "<style scoped>\n",
       "    .dataframe tbody tr th:only-of-type {\n",
       "        vertical-align: middle;\n",
       "    }\n",
       "\n",
       "    .dataframe tbody tr th {\n",
       "        vertical-align: top;\n",
       "    }\n",
       "\n",
       "    .dataframe thead th {\n",
       "        text-align: right;\n",
       "    }\n",
       "</style>\n",
       "<table border=\"1\" class=\"dataframe\">\n",
       "  <thead>\n",
       "    <tr style=\"text-align: right;\">\n",
       "      <th></th>\n",
       "      <th>kmeans</th>\n",
       "      <th>groundtruth</th>\n",
       "    </tr>\n",
       "  </thead>\n",
       "  <tbody>\n",
       "    <tr>\n",
       "      <th>129</th>\n",
       "      <td>0</td>\n",
       "      <td>2</td>\n",
       "    </tr>\n",
       "    <tr>\n",
       "      <th>507</th>\n",
       "      <td>0</td>\n",
       "      <td>2</td>\n",
       "    </tr>\n",
       "    <tr>\n",
       "      <th>599</th>\n",
       "      <td>0</td>\n",
       "      <td>2</td>\n",
       "    </tr>\n",
       "  </tbody>\n",
       "</table>\n",
       "</div>"
      ],
      "text/plain": [
       "     kmeans  groundtruth\n",
       "129       0            2\n",
       "507       0            2\n",
       "599       0            2"
      ]
     },
     "execution_count": 15,
     "metadata": {},
     "output_type": "execute_result"
    }
   ],
   "source": [
    "kmeanscluster[(kmeanscluster.kmeans==0) & (kmeanscluster.groundtruth==2) ]"
   ]
  },
  {
   "cell_type": "code",
   "execution_count": 30,
   "id": "ab0ca430-50c3-47aa-90e5-1f8a4f6dfd6d",
   "metadata": {},
   "outputs": [
    {
     "data": {
      "text/plain": [
       "<AxesSubplot:xlabel='kmeans', ylabel='groundtruth'>"
      ]
     },
     "execution_count": 30,
     "metadata": {},
     "output_type": "execute_result"
    },
    {
     "data": {
      "image/png": "[encoded data removed]",
      "text/plain": [
       "<Figure size 432x288 with 1 Axes>"
      ]
     },
     "metadata": {
      "needs_background": "light"
     },
     "output_type": "display_data"
    }
   ],
   "source": [
    "sns.scatterplot(x=\"kmeans\", y=\"groundtruth\", data=kmeanscluster, hue=\"groundtruth\" s = )"
   ]
  },
  {
   "cell_type": "code",
   "execution_count": 89,
   "id": "5638e113-3814-4cb3-b5d3-aa17d655893f",
   "metadata": {},
   "outputs": [
    {
     "data": {
      "text/html": [
       "<div>\n",
       "<style scoped>\n",
       "    .dataframe tbody tr th:only-of-type {\n",
       "        vertical-align: middle;\n",
       "    }\n",
       "\n",
       "    .dataframe tbody tr th {\n",
       "        vertical-align: top;\n",
       "    }\n",
       "\n",
       "    .dataframe thead th {\n",
       "        text-align: right;\n",
       "    }\n",
       "</style>\n",
       "<table border=\"1\" class=\"dataframe\">\n",
       "  <thead>\n",
       "    <tr style=\"text-align: right;\">\n",
       "      <th></th>\n",
       "      <th>groundtruth</th>\n",
       "    </tr>\n",
       "    <tr>\n",
       "      <th>kmeans</th>\n",
       "      <th></th>\n",
       "    </tr>\n",
       "  </thead>\n",
       "  <tbody>\n",
       "    <tr>\n",
       "      <th>0</th>\n",
       "      <td>0.019802</td>\n",
       "    </tr>\n",
       "    <tr>\n",
       "      <th>1</th>\n",
       "      <td>2.000000</td>\n",
       "    </tr>\n",
       "    <tr>\n",
       "      <th>2</th>\n",
       "      <td>1.000000</td>\n",
       "    </tr>\n",
       "    <tr>\n",
       "      <th>3</th>\n",
       "      <td>3.000000</td>\n",
       "    </tr>\n",
       "    <tr>\n",
       "      <th>4</th>\n",
       "      <td>4.000000</td>\n",
       "    </tr>\n",
       "  </tbody>\n",
       "</table>\n",
       "</div>"
      ],
      "text/plain": [
       "        groundtruth\n",
       "kmeans             \n",
       "0          0.019802\n",
       "1          2.000000\n",
       "2          1.000000\n",
       "3          3.000000\n",
       "4          4.000000"
      ]
     },
     "execution_count": 89,
     "metadata": {},
     "output_type": "execute_result"
    }
   ],
   "source": [
    "kmeanscluster.groupby('kmeans').mean()"
   ]
  },
  {
   "cell_type": "markdown",
   "id": "3965f39c-51ca-4e97-8abc-3a7507391ca6",
   "metadata": {},
   "source": [
    "Only 3 examples are assigned different cluster, which belonged to the same class. "
   ]
  },
  {
   "cell_type": "markdown",
   "id": "4293d7d9-737b-4c75-b652-1655628ad181",
   "metadata": {},
   "source": [
    "### DBScan Clustering"
   ]
  },
  {
   "cell_type": "markdown",
   "id": "9252e9af-2f69-45fd-936a-02aa2c704628",
   "metadata": {},
   "source": [
    "Finding optimal hyperparameters for DBSCAN : One technique to automatically determine the optimal ε value is described in the paper listed below. This technique calculates the average distance between each point and its k nearest neighbors, where k = the MinPts value you selected. The average k-distances are then plotted in ascending order on a k-distance graph. You’ll find the optimal value for ε at the point of maximum curvature (i.e. where the graph has the greatest slope)."
   ]
  },
  {
   "cell_type": "code",
   "execution_count": 16,
   "id": "9c1fae60-e623-4415-a33f-4d5fd44d6ec5",
   "metadata": {},
   "outputs": [
    {
     "data": {
      "text/plain": [
       "[<matplotlib.lines.Line2D at 0x1de39122340>]"
      ]
     },
     "execution_count": 16,
     "metadata": {},
     "output_type": "execute_result"
    },
    {
     "data": {
      "image/png": "[encoded data removed]",
      "text/plain": [
       "<Figure size 432x288 with 1 Axes>"
      ]
     },
     "metadata": {
      "needs_background": "light"
     },
     "output_type": "display_data"
    }
   ],
   "source": [
    "neighbors = NearestNeighbors(n_neighbors=50)\n",
    "neighbors_fit = neighbors.fit(X_sup)\n",
    "distances, indices = neighbors_fit.kneighbors(X_sup)\n",
    "distances = np.sort(distances, axis=0)\n",
    "distances = distances[:,1]\n",
    "plt.plot(distances)"
   ]
  },
  {
   "cell_type": "code",
   "execution_count": 17,
   "id": "34c3df7e-7c07-435d-b6ed-e5716aea32e4",
   "metadata": {},
   "outputs": [],
   "source": [
    "entropies_dbscan = []\n",
    "for epsilon in np.arange(3,6,0.5):\n",
    "    dbscan = DBSCAN(eps=epsilon,min_samples=50)\n",
    "    clusterlabels_dbscan_sup = dbscan.fit_predict(X_sup)\n",
    "    entropies_dbscan.append(entropy(clusterlabels_dbscan_sup, y_sup.values)[1])"
   ]
  },
  {
   "cell_type": "code",
   "execution_count": 18,
   "id": "89b39af1-0046-4d8f-afea-33ec52481644",
   "metadata": {},
   "outputs": [
    {
     "data": {
      "text/plain": [
       "[0.4830720263150855,\n",
       " 0.22369508472804708,\n",
       " 0.05717620444584738,\n",
       " 0.013594256870726885,\n",
       " 0.002808165516198793,\n",
       " 0.001730704570686505]"
      ]
     },
     "execution_count": 18,
     "metadata": {},
     "output_type": "execute_result"
    }
   ],
   "source": [
    "entropies_dbscan"
   ]
  },
  {
   "cell_type": "code",
   "execution_count": 19,
   "id": "717835f5-cea3-41ee-a90c-baed3badc7d3",
   "metadata": {},
   "outputs": [
    {
     "data": {
      "text/plain": [
       "({-1: 0.6931471805599453, 0: -0.0, 1: -0.0, 2: -0.0, 3: -0.0, 4: -0.0},\n",
       " 0.001730704570686505)"
      ]
     },
     "execution_count": 19,
     "metadata": {},
     "output_type": "execute_result"
    }
   ],
   "source": [
    "dbscan = DBSCAN(eps=5.5, min_samples=50)\n",
    "clusterlabels_dbscan_sup = dbscan.fit_predict(X_sup)\n",
    "entropy(clusterlabels_dbscan_sup, y_sup.values)"
   ]
  },
  {
   "cell_type": "code",
   "execution_count": 20,
   "id": "29737b04-f046-433d-bb9f-c916cca101eb",
   "metadata": {},
   "outputs": [],
   "source": [
    "dbscancluster = pd.DataFrame({\"dbscan\": clusterlabels_dbscan_sup, \"groundtruth\":y_sup})"
   ]
  },
  {
   "cell_type": "code",
   "execution_count": 21,
   "id": "7cead3fd-4a47-4ad8-b8fc-df6805a38627",
   "metadata": {},
   "outputs": [
    {
     "data": {
      "text/html": [
       "<div>\n",
       "<style scoped>\n",
       "    .dataframe tbody tr th:only-of-type {\n",
       "        vertical-align: middle;\n",
       "    }\n",
       "\n",
       "    .dataframe tbody tr th {\n",
       "        vertical-align: top;\n",
       "    }\n",
       "\n",
       "    .dataframe thead th {\n",
       "        text-align: right;\n",
       "    }\n",
       "</style>\n",
       "<table border=\"1\" class=\"dataframe\">\n",
       "  <thead>\n",
       "    <tr style=\"text-align: right;\">\n",
       "      <th></th>\n",
       "      <th>dbscan</th>\n",
       "      <th>groundtruth</th>\n",
       "    </tr>\n",
       "  </thead>\n",
       "  <tbody>\n",
       "    <tr>\n",
       "      <th>507</th>\n",
       "      <td>-1</td>\n",
       "      <td>2</td>\n",
       "    </tr>\n",
       "    <tr>\n",
       "      <th>789</th>\n",
       "      <td>-1</td>\n",
       "      <td>1</td>\n",
       "    </tr>\n",
       "  </tbody>\n",
       "</table>\n",
       "</div>"
      ],
      "text/plain": [
       "     dbscan  groundtruth\n",
       "507      -1            2\n",
       "789      -1            1"
      ]
     },
     "execution_count": 21,
     "metadata": {},
     "output_type": "execute_result"
    }
   ],
   "source": [
    "dbscancluster[dbscancluster.dbscan==-1 ]"
   ]
  },
  {
   "cell_type": "markdown",
   "id": "c5ff3b51-fc34-4dc4-9e3f-f5a9334197df",
   "metadata": {},
   "source": [
    "It can be seen that sample number 507, 789 are detected as outliers by dbscan while 507 was also misclustered by kmeans clustering. Overall DBscan performed slightly better than kmeans. "
   ]
  },
  {
   "cell_type": "code",
   "execution_count": null,
   "id": "73505143-0205-4de8-998c-9687b2265209",
   "metadata": {},
   "outputs": [],
   "source": []
  },
  {
   "cell_type": "markdown",
   "id": "8a61ce2b-569b-4396-8ecb-cacb747324a4",
   "metadata": {},
   "source": [
    "## Unsupervised clustering and informative gene selection\n",
    "\n",
    "Unsupervised sample-based clustering assumes no phenotype information being assigned to any sample. Since the initial biological identification of sample classes has been slow, typically evolving through years of hypothesis-driven research, automatically discovering samples’ phenotypes presents a significant contribution in gene expression data analysis \n",
    "\n",
    "Two general strategies have been employed to address the problem of unsupervised clustering and information gene selection: unsupervised gene selection and interrelated clustering.\n",
    "\n",
    "1. **Unsupervised gene selection :** The first strategy differentiates gene selection and sample clustering as independent processes. First the gene (feature) dimension is reduced, then the conventional clustering algorithms are applied. Since no training samples are available, gene selection only relies on statistical models to analyze the variance in the gene expression data. Alter et al. [4] applied the principal component analysis (PCA) to capture the majority of the variations within the genes by a small set of principal components (PCs), called “eigen-genes.” The samples are then projected on the new lower-dimensional PC space.\n",
    "\n",
    "2. **Interrelated clustering :** strategy utilizes the relationship between the genes and samples to perform gene selection and sample clustering simultaneously in an iterative paradigm. \n",
    "\n",
    "\n",
    "For this task we will apply the 1st strategy that is Unsupervised gene selection using PCA components which we elected in week 2. "
   ]
  },
  {
   "cell_type": "markdown",
   "id": "db71fbfb-e1da-462b-8910-941495103810",
   "metadata": {},
   "source": [
    "### KMeans - PCA"
   ]
  },
  {
   "cell_type": "code",
   "execution_count": 23,
   "id": "c2707a22-a200-41e7-9b4f-6fef3b664b38",
   "metadata": {},
   "outputs": [],
   "source": [
    "from sklearn.decomposition import PCA"
   ]
  },
  {
   "cell_type": "code",
   "execution_count": 34,
   "id": "c857a161-5c2b-4776-923b-c0615423e5d4",
   "metadata": {},
   "outputs": [],
   "source": [
    "df_dim = dfcomplete.drop(columns=['Class'])\n",
    "df_dim.set_index(\"sample_id\", inplace = True)\n",
    "pca = PCA(n_components=250)\n",
    "df_dim_tr = pca.fit_transform(df_dim)"
   ]
  },
  {
   "cell_type": "code",
   "execution_count": 35,
   "id": "17285bab-a123-483d-9a4e-c3d55e70017d",
   "metadata": {},
   "outputs": [],
   "source": [
    "kmeans_unsup = KMeans(n_clusters=5)\n",
    "kmeans_unsup.fit(df_dim_tr)\n",
    "clusterlabels_kmeans_unsup = kmeans_unsup.predict(df_dim_tr)"
   ]
  },
  {
   "cell_type": "code",
   "execution_count": 36,
   "id": "8b014cc9-0b74-475f-9694-8e49772c0b0c",
   "metadata": {},
   "outputs": [
    {
     "data": {
      "text/plain": [
       "({0: -0.0, 1: 0.06184819574705823, 2: -0.0, 3: -0.0, 4: 0.0744466204045084},\n",
       " 0.03650059524144111)"
      ]
     },
     "execution_count": 36,
     "metadata": {},
     "output_type": "execute_result"
    }
   ],
   "source": [
    "entropy(clusterlabels_kmeans_unsup,y_sup.values)"
   ]
  },
  {
   "cell_type": "code",
   "execution_count": 90,
   "id": "351b722b-f189-4a3c-90a7-66567ef7ee21",
   "metadata": {},
   "outputs": [],
   "source": [
    "kmeansclusterpca = pd.DataFrame({\"kmeans\": clusterlabels_kmeans_unsup, \"groundtruth\":y_sup})"
   ]
  },
  {
   "cell_type": "code",
   "execution_count": 91,
   "id": "8faae90b-4405-4d3c-a75a-241288c26155",
   "metadata": {},
   "outputs": [
    {
     "data": {
      "text/html": [
       "<div>\n",
       "<style scoped>\n",
       "    .dataframe tbody tr th:only-of-type {\n",
       "        vertical-align: middle;\n",
       "    }\n",
       "\n",
       "    .dataframe tbody tr th {\n",
       "        vertical-align: top;\n",
       "    }\n",
       "\n",
       "    .dataframe thead th {\n",
       "        text-align: right;\n",
       "    }\n",
       "</style>\n",
       "<table border=\"1\" class=\"dataframe\">\n",
       "  <thead>\n",
       "    <tr style=\"text-align: right;\">\n",
       "      <th></th>\n",
       "      <th>groundtruth</th>\n",
       "    </tr>\n",
       "    <tr>\n",
       "      <th>kmeans</th>\n",
       "      <th></th>\n",
       "    </tr>\n",
       "  </thead>\n",
       "  <tbody>\n",
       "    <tr>\n",
       "      <th>0</th>\n",
       "      <td>3.000000</td>\n",
       "    </tr>\n",
       "    <tr>\n",
       "      <th>1</th>\n",
       "      <td>0.016502</td>\n",
       "    </tr>\n",
       "    <tr>\n",
       "      <th>2</th>\n",
       "      <td>4.000000</td>\n",
       "    </tr>\n",
       "    <tr>\n",
       "      <th>3</th>\n",
       "      <td>1.000000</td>\n",
       "    </tr>\n",
       "    <tr>\n",
       "      <th>4</th>\n",
       "      <td>2.028369</td>\n",
       "    </tr>\n",
       "  </tbody>\n",
       "</table>\n",
       "</div>"
      ],
      "text/plain": [
       "        groundtruth\n",
       "kmeans             \n",
       "0          3.000000\n",
       "1          0.016502\n",
       "2          4.000000\n",
       "3          1.000000\n",
       "4          2.028369"
      ]
     },
     "execution_count": 91,
     "metadata": {},
     "output_type": "execute_result"
    }
   ],
   "source": [
    "kmeansclusterpca.groupby('kmeans').mean()"
   ]
  },
  {
   "cell_type": "code",
   "execution_count": 92,
   "id": "eaebc5e3-76f0-453a-8cdf-48ccf450adfe",
   "metadata": {},
   "outputs": [
    {
     "data": {
      "text/html": [
       "<div>\n",
       "<style scoped>\n",
       "    .dataframe tbody tr th:only-of-type {\n",
       "        vertical-align: middle;\n",
       "    }\n",
       "\n",
       "    .dataframe tbody tr th {\n",
       "        vertical-align: top;\n",
       "    }\n",
       "\n",
       "    .dataframe thead th {\n",
       "        text-align: right;\n",
       "    }\n",
       "</style>\n",
       "<table border=\"1\" class=\"dataframe\">\n",
       "  <thead>\n",
       "    <tr style=\"text-align: right;\">\n",
       "      <th></th>\n",
       "      <th>kmeans</th>\n",
       "      <th>groundtruth</th>\n",
       "    </tr>\n",
       "  </thead>\n",
       "  <tbody>\n",
       "    <tr>\n",
       "      <th>61</th>\n",
       "      <td>1</td>\n",
       "      <td>1</td>\n",
       "    </tr>\n",
       "    <tr>\n",
       "      <th>129</th>\n",
       "      <td>1</td>\n",
       "      <td>2</td>\n",
       "    </tr>\n",
       "    <tr>\n",
       "      <th>599</th>\n",
       "      <td>1</td>\n",
       "      <td>2</td>\n",
       "    </tr>\n",
       "  </tbody>\n",
       "</table>\n",
       "</div>"
      ],
      "text/plain": [
       "     kmeans  groundtruth\n",
       "61        1            1\n",
       "129       1            2\n",
       "599       1            2"
      ]
     },
     "execution_count": 92,
     "metadata": {},
     "output_type": "execute_result"
    }
   ],
   "source": [
    "kmeansclusterpca[(kmeansclusterpca.kmeans==1) & (kmeansclusterpca.groundtruth!=0)]"
   ]
  },
  {
   "cell_type": "code",
   "execution_count": 93,
   "id": "32102597-cb4b-42fa-ba21-39140e3c55b6",
   "metadata": {},
   "outputs": [
    {
     "data": {
      "text/html": [
       "<div>\n",
       "<style scoped>\n",
       "    .dataframe tbody tr th:only-of-type {\n",
       "        vertical-align: middle;\n",
       "    }\n",
       "\n",
       "    .dataframe tbody tr th {\n",
       "        vertical-align: top;\n",
       "    }\n",
       "\n",
       "    .dataframe thead th {\n",
       "        text-align: right;\n",
       "    }\n",
       "</style>\n",
       "<table border=\"1\" class=\"dataframe\">\n",
       "  <thead>\n",
       "    <tr style=\"text-align: right;\">\n",
       "      <th></th>\n",
       "      <th>kmeans</th>\n",
       "      <th>groundtruth</th>\n",
       "    </tr>\n",
       "  </thead>\n",
       "  <tbody>\n",
       "    <tr>\n",
       "      <th>252</th>\n",
       "      <td>4</td>\n",
       "      <td>4</td>\n",
       "    </tr>\n",
       "    <tr>\n",
       "      <th>798</th>\n",
       "      <td>4</td>\n",
       "      <td>4</td>\n",
       "    </tr>\n",
       "  </tbody>\n",
       "</table>\n",
       "</div>"
      ],
      "text/plain": [
       "     kmeans  groundtruth\n",
       "252       4            4\n",
       "798       4            4"
      ]
     },
     "execution_count": 93,
     "metadata": {},
     "output_type": "execute_result"
    }
   ],
   "source": [
    "kmeansclusterpca[(kmeansclusterpca.kmeans==4) & (kmeansclusterpca.groundtruth!=2)]"
   ]
  },
  {
   "cell_type": "code",
   "execution_count": null,
   "id": "05d33d49-5f58-4ab9-b379-7855293948c1",
   "metadata": {},
   "outputs": [],
   "source": []
  },
  {
   "cell_type": "markdown",
   "id": "13870940-4786-4efe-a396-783cd34d8ccf",
   "metadata": {},
   "source": [
    "### DBSCAN - PCA"
   ]
  },
  {
   "cell_type": "code",
   "execution_count": 43,
   "id": "33a4fa8f-4979-43f5-b488-1331af0bfc46",
   "metadata": {},
   "outputs": [
    {
     "data": {
      "text/plain": [
       "[<matplotlib.lines.Line2D at 0x1de3bdbe0a0>]"
      ]
     },
     "execution_count": 43,
     "metadata": {},
     "output_type": "execute_result"
    },
    {
     "data": {
      "image/png": "[encoded data removed]",
      "text/plain": [
       "<Figure size 432x288 with 1 Axes>"
      ]
     },
     "metadata": {
      "needs_background": "light"
     },
     "output_type": "display_data"
    }
   ],
   "source": [
    "neighborspca = NearestNeighbors(n_neighbors=50)\n",
    "neighborspca_fit = neighborspca.fit(df_dim_tr)\n",
    "distances, indices = neighborspca_fit.kneighbors(df_dim_tr)\n",
    "distances = np.sort(distances, axis=0)\n",
    "distances = distances[:,1]\n",
    "plt.plot(distances)"
   ]
  },
  {
   "cell_type": "code",
   "execution_count": 57,
   "id": "0ac915d9-3157-4cd9-89ea-0751b88ad5d8",
   "metadata": {},
   "outputs": [],
   "source": [
    "entropies_dbscan_pca = []\n",
    "for epsilon in np.arange(100,175,5):\n",
    "    dbscanpca = DBSCAN(eps=epsilon,min_samples=50)\n",
    "    clusterlabels_dbscan_pca = dbscanpca.fit_predict(df_dim_tr)\n",
    "    entropies_dbscan_pca.append((epsilon,entropy(clusterlabels_dbscan_pca, y_sup.values)[1]))"
   ]
  },
  {
   "cell_type": "code",
   "execution_count": 58,
   "id": "2bd2fd47-50ca-493f-ab68-a3dff0c2690b",
   "metadata": {},
   "outputs": [
    {
     "data": {
      "text/plain": [
       "[(160, 0.2270684894177944),\n",
       " (155, 0.266031074837747),\n",
       " (150, 0.3390074993764397),\n",
       " (145, 0.6001718432908156),\n",
       " (140, 0.640833331910165),\n",
       " (135, 0.6840082513089288),\n",
       " (130, 0.757956511990184),\n",
       " (170, 0.7723799347919256),\n",
       " (165, 0.7817681356934851),\n",
       " (125, 0.8473237725008471)]"
      ]
     },
     "execution_count": 58,
     "metadata": {},
     "output_type": "execute_result"
    }
   ],
   "source": [
    "sorted(entropies_dbscan_pca, key = lambda x: x[1], reverse = False)[:10]"
   ]
  },
  {
   "cell_type": "code",
   "execution_count": 59,
   "id": "8a91eb4c-5b5e-4493-bcea-438fc80634be",
   "metadata": {},
   "outputs": [
    {
     "data": {
      "text/plain": [
       "({-1: 1.1516545197593593,\n",
       "  0: -0.0,\n",
       "  1: 0.05083107155230286,\n",
       "  2: -0.0,\n",
       "  3: -0.0,\n",
       "  4: -0.0},\n",
       " 0.2270684894177944)"
      ]
     },
     "execution_count": 59,
     "metadata": {},
     "output_type": "execute_result"
    }
   ],
   "source": [
    "dbscanpca = DBSCAN(eps=160, min_samples=50)\n",
    "clusterlabels_dbscan_pca = dbscanpca.fit_predict(df_dim_tr)\n",
    "entropy(clusterlabels_dbscan_pca, y_sup.values)"
   ]
  },
  {
   "cell_type": "code",
   "execution_count": 73,
   "id": "3a3e7b40-20df-4e16-b249-6c2208bba59d",
   "metadata": {},
   "outputs": [],
   "source": [
    "dbscanclusterpca = pd.DataFrame({\"dbscan\": clusterlabels_dbscan_pca, \"groundtruth\":y_sup})"
   ]
  },
  {
   "cell_type": "code",
   "execution_count": 75,
   "id": "418bca4c-929e-4c66-932c-cdebc5014116",
   "metadata": {},
   "outputs": [
    {
     "data": {
      "text/plain": [
       "array([0, 2], dtype=int64)"
      ]
     },
     "execution_count": 75,
     "metadata": {},
     "output_type": "execute_result"
    }
   ],
   "source": [
    "np.unique(y_sup.values[np.where(clusterlabels_dbscan_pca==1)])"
   ]
  },
  {
   "cell_type": "markdown",
   "id": "1b980d19-587c-4bf0-82ac-7b72f406c59c",
   "metadata": {},
   "source": [
    "#### Wrong cluster assignment"
   ]
  },
  {
   "cell_type": "code",
   "execution_count": 76,
   "id": "9bf5e953-7177-4d16-8c9f-caa5cac87d9a",
   "metadata": {},
   "outputs": [
    {
     "data": {
      "text/html": [
       "<div>\n",
       "<style scoped>\n",
       "    .dataframe tbody tr th:only-of-type {\n",
       "        vertical-align: middle;\n",
       "    }\n",
       "\n",
       "    .dataframe tbody tr th {\n",
       "        vertical-align: top;\n",
       "    }\n",
       "\n",
       "    .dataframe thead th {\n",
       "        text-align: right;\n",
       "    }\n",
       "</style>\n",
       "<table border=\"1\" class=\"dataframe\">\n",
       "  <thead>\n",
       "    <tr style=\"text-align: right;\">\n",
       "      <th></th>\n",
       "      <th>dbscan</th>\n",
       "      <th>groundtruth</th>\n",
       "    </tr>\n",
       "  </thead>\n",
       "  <tbody>\n",
       "    <tr>\n",
       "      <th>210</th>\n",
       "      <td>1</td>\n",
       "      <td>2</td>\n",
       "    </tr>\n",
       "    <tr>\n",
       "      <th>334</th>\n",
       "      <td>1</td>\n",
       "      <td>2</td>\n",
       "    </tr>\n",
       "  </tbody>\n",
       "</table>\n",
       "</div>"
      ],
      "text/plain": [
       "     dbscan  groundtruth\n",
       "210       1            2\n",
       "334       1            2"
      ]
     },
     "execution_count": 76,
     "metadata": {},
     "output_type": "execute_result"
    }
   ],
   "source": [
    "dbscanclusterpca[(dbscanclusterpca.dbscan==1) & (dbscanclusterpca.groundtruth==2)]"
   ]
  },
  {
   "cell_type": "markdown",
   "id": "999ca0a8-e86a-4fb0-b7c5-e763f2102afc",
   "metadata": {},
   "source": [
    "#### Outliers"
   ]
  },
  {
   "cell_type": "code",
   "execution_count": 79,
   "id": "903aa510-8d05-4b57-9dac-e93a7affc16e",
   "metadata": {},
   "outputs": [
    {
     "data": {
      "text/plain": [
       "(148, 2)"
      ]
     },
     "execution_count": 79,
     "metadata": {},
     "output_type": "execute_result"
    }
   ],
   "source": [
    "dbscanclusterpca[(dbscanclusterpca.dbscan==-1)].shape"
   ]
  },
  {
   "cell_type": "code",
   "execution_count": 88,
   "id": "3fbc6ed9-81bd-41cd-9e80-9a930f1feeac",
   "metadata": {},
   "outputs": [
    {
     "data": {
      "text/html": [
       "<div>\n",
       "<style scoped>\n",
       "    .dataframe tbody tr th:only-of-type {\n",
       "        vertical-align: middle;\n",
       "    }\n",
       "\n",
       "    .dataframe tbody tr th {\n",
       "        vertical-align: top;\n",
       "    }\n",
       "\n",
       "    .dataframe thead th {\n",
       "        text-align: right;\n",
       "    }\n",
       "</style>\n",
       "<table border=\"1\" class=\"dataframe\">\n",
       "  <thead>\n",
       "    <tr style=\"text-align: right;\">\n",
       "      <th></th>\n",
       "      <th>groundtruth</th>\n",
       "    </tr>\n",
       "    <tr>\n",
       "      <th>dbscan</th>\n",
       "      <th></th>\n",
       "    </tr>\n",
       "  </thead>\n",
       "  <tbody>\n",
       "    <tr>\n",
       "      <th>-1</th>\n",
       "      <td>0.925676</td>\n",
       "    </tr>\n",
       "    <tr>\n",
       "      <th>0</th>\n",
       "      <td>3.000000</td>\n",
       "    </tr>\n",
       "    <tr>\n",
       "      <th>1</th>\n",
       "      <td>0.017778</td>\n",
       "    </tr>\n",
       "    <tr>\n",
       "      <th>2</th>\n",
       "      <td>1.000000</td>\n",
       "    </tr>\n",
       "    <tr>\n",
       "      <th>3</th>\n",
       "      <td>4.000000</td>\n",
       "    </tr>\n",
       "    <tr>\n",
       "      <th>4</th>\n",
       "      <td>2.000000</td>\n",
       "    </tr>\n",
       "  </tbody>\n",
       "</table>\n",
       "</div>"
      ],
      "text/plain": [
       "        groundtruth\n",
       "dbscan             \n",
       "-1         0.925676\n",
       " 0         3.000000\n",
       " 1         0.017778\n",
       " 2         1.000000\n",
       " 3         4.000000\n",
       " 4         2.000000"
      ]
     },
     "execution_count": 88,
     "metadata": {},
     "output_type": "execute_result"
    }
   ],
   "source": [
    "dbscanclusterpca.groupby('dbscan').mean()"
   ]
  },
  {
   "cell_type": "markdown",
   "id": "ea3311ba-888d-4722-ade2-31c0a8bbc645",
   "metadata": {},
   "source": [
    "There are 148 outliers - examples which couldn't be clustered into any group. These results are not good. "
   ]
  },
  {
   "cell_type": "markdown",
   "id": "c0bdba17-f736-4ec7-8ea7-fc14e0560863",
   "metadata": {},
   "source": [
    "### KMeans - LDA"
   ]
  },
  {
   "cell_type": "code",
   "execution_count": 38,
   "id": "c8d32aac-e6bf-46d9-a57c-79d8140e452d",
   "metadata": {},
   "outputs": [],
   "source": [
    "from sklearn.discriminant_analysis import LinearDiscriminantAnalysis as LDA"
   ]
  },
  {
   "cell_type": "code",
   "execution_count": 40,
   "id": "5d969799-dc02-4ad2-882a-eb979380aae9",
   "metadata": {},
   "outputs": [],
   "source": [
    "df_dim_lda = dfcomplete.drop(columns=['Class'])\n",
    "df_dim_lda.set_index(\"sample_id\", inplace = True)\n",
    "lda = LDA(n_components=4)\n",
    "df_dim_lda_tr = lda.fit_transform(df_dim_lda,y_sup)"
   ]
  },
  {
   "cell_type": "code",
   "execution_count": 41,
   "id": "495c779e-734b-4a0d-a43b-e87ba217c154",
   "metadata": {},
   "outputs": [],
   "source": [
    "kmeans_lda = KMeans(n_clusters=5)\n",
    "kmeans_lda.fit(df_dim_lda_tr)\n",
    "clusterlabels_kmeans_lda = kmeans_lda.predict(df_dim_lda_tr)"
   ]
  },
  {
   "cell_type": "code",
   "execution_count": 42,
   "id": "479951ea-6f13-4ed5-8012-2ab28d3694e8",
   "metadata": {},
   "outputs": [
    {
     "data": {
      "text/plain": [
       "({0: 0.02227723353007071, 1: -0.0, 2: -0.0, 3: -0.0, 4: -0.0},\n",
       " 0.008371344934520953)"
      ]
     },
     "execution_count": 42,
     "metadata": {},
     "output_type": "execute_result"
    }
   ],
   "source": [
    "entropy(clusterlabels_kmeans_lda,y_sup.values)"
   ]
  },
  {
   "cell_type": "code",
   "execution_count": 83,
   "id": "dda1c5e7-10ad-4fb5-bc74-c6a4849f0e0b",
   "metadata": {},
   "outputs": [],
   "source": [
    "kmeansclusterlda = pd.DataFrame({\"kmeans\": clusterlabels_kmeans_lda, \"groundtruth\":y_sup})"
   ]
  },
  {
   "cell_type": "code",
   "execution_count": 80,
   "id": "3039fcf4-9e70-4738-b3d6-fe6a9d582e41",
   "metadata": {},
   "outputs": [
    {
     "data": {
      "text/plain": [
       "(array([0, 3], dtype=int64), array([300,   1], dtype=int64))"
      ]
     },
     "execution_count": 80,
     "metadata": {},
     "output_type": "execute_result"
    }
   ],
   "source": [
    "np.unique(y_sup.values[np.where(clusterlabels_kmeans_lda==0)], return_counts=True)"
   ]
  },
  {
   "cell_type": "code",
   "execution_count": 85,
   "id": "ef68843d-0614-4468-8b22-1d83c835f4a0",
   "metadata": {},
   "outputs": [
    {
     "data": {
      "text/html": [
       "<div>\n",
       "<style scoped>\n",
       "    .dataframe tbody tr th:only-of-type {\n",
       "        vertical-align: middle;\n",
       "    }\n",
       "\n",
       "    .dataframe tbody tr th {\n",
       "        vertical-align: top;\n",
       "    }\n",
       "\n",
       "    .dataframe thead th {\n",
       "        text-align: right;\n",
       "    }\n",
       "</style>\n",
       "<table border=\"1\" class=\"dataframe\">\n",
       "  <thead>\n",
       "    <tr style=\"text-align: right;\">\n",
       "      <th></th>\n",
       "      <th>kmeans</th>\n",
       "      <th>groundtruth</th>\n",
       "    </tr>\n",
       "  </thead>\n",
       "  <tbody>\n",
       "    <tr>\n",
       "      <th>243</th>\n",
       "      <td>0</td>\n",
       "      <td>3</td>\n",
       "    </tr>\n",
       "  </tbody>\n",
       "</table>\n",
       "</div>"
      ],
      "text/plain": [
       "     kmeans  groundtruth\n",
       "243       0            3"
      ]
     },
     "execution_count": 85,
     "metadata": {},
     "output_type": "execute_result"
    }
   ],
   "source": [
    "kmeansclusterlda[(kmeansclusterlda.kmeans==0) & (kmeansclusterlda.groundtruth==3)]"
   ]
  },
  {
   "cell_type": "code",
   "execution_count": 87,
   "id": "1b5e2962-ad66-4ccc-95a4-94cc8679fd7c",
   "metadata": {},
   "outputs": [
    {
     "data": {
      "text/html": [
       "<div>\n",
       "<style scoped>\n",
       "    .dataframe tbody tr th:only-of-type {\n",
       "        vertical-align: middle;\n",
       "    }\n",
       "\n",
       "    .dataframe tbody tr th {\n",
       "        vertical-align: top;\n",
       "    }\n",
       "\n",
       "    .dataframe thead th {\n",
       "        text-align: right;\n",
       "    }\n",
       "</style>\n",
       "<table border=\"1\" class=\"dataframe\">\n",
       "  <thead>\n",
       "    <tr style=\"text-align: right;\">\n",
       "      <th></th>\n",
       "      <th>groundtruth</th>\n",
       "    </tr>\n",
       "    <tr>\n",
       "      <th>kmeans</th>\n",
       "      <th></th>\n",
       "    </tr>\n",
       "  </thead>\n",
       "  <tbody>\n",
       "    <tr>\n",
       "      <th>0</th>\n",
       "      <td>0.009967</td>\n",
       "    </tr>\n",
       "    <tr>\n",
       "      <th>1</th>\n",
       "      <td>3.000000</td>\n",
       "    </tr>\n",
       "    <tr>\n",
       "      <th>2</th>\n",
       "      <td>1.000000</td>\n",
       "    </tr>\n",
       "    <tr>\n",
       "      <th>3</th>\n",
       "      <td>4.000000</td>\n",
       "    </tr>\n",
       "    <tr>\n",
       "      <th>4</th>\n",
       "      <td>2.000000</td>\n",
       "    </tr>\n",
       "  </tbody>\n",
       "</table>\n",
       "</div>"
      ],
      "text/plain": [
       "        groundtruth\n",
       "kmeans             \n",
       "0          0.009967\n",
       "1          3.000000\n",
       "2          1.000000\n",
       "3          4.000000\n",
       "4          2.000000"
      ]
     },
     "execution_count": 87,
     "metadata": {},
     "output_type": "execute_result"
    }
   ],
   "source": [
    "kmeansclusterlda.groupby('kmeans').mean()"
   ]
  },
  {
   "cell_type": "markdown",
   "id": "04b4bbef-40cb-4c5e-a247-103bbcc34f67",
   "metadata": {},
   "source": [
    "There is only 1 example which is assigned to a wrong cluster. These results are good. "
   ]
  },
  {
   "cell_type": "markdown",
   "id": "1044cc19-91c1-4386-8768-666db564a22b",
   "metadata": {},
   "source": [
    "### DBSCAN - LDA"
   ]
  },
  {
   "cell_type": "code",
   "execution_count": 68,
   "id": "6d3d8ad4-a49d-497b-84b7-776af063ed30",
   "metadata": {},
   "outputs": [
    {
     "data": {
      "text/plain": [
       "[<matplotlib.lines.Line2D at 0x1de000a0bb0>]"
      ]
     },
     "execution_count": 68,
     "metadata": {},
     "output_type": "execute_result"
    },
    {
     "data": {
      "image/png": "[encoded data removed]",
      "text/plain": [
       "<Figure size 432x288 with 1 Axes>"
      ]
     },
     "metadata": {
      "needs_background": "light"
     },
     "output_type": "display_data"
    }
   ],
   "source": [
    "neighborslda = NearestNeighbors(n_neighbors=50)\n",
    "neighborslda_fit = neighborslda.fit(df_dim_lda_tr)\n",
    "distances, indices = neighborslda_fit.kneighbors(df_dim_lda_tr)\n",
    "distances = np.sort(distances, axis=0)\n",
    "distances = distances[:,1]\n",
    "plt.plot(distances)\n"
   ]
  },
  {
   "cell_type": "code",
   "execution_count": 69,
   "id": "fa6f2e3b-f908-4666-a4c2-9471cdec1acd",
   "metadata": {},
   "outputs": [],
   "source": [
    "entropies_dbscan_lda = []\n",
    "for epsilon in np.arange(0.5,2,0.1):\n",
    "    dbscanlda = DBSCAN(eps=epsilon,min_samples=50)\n",
    "    clusterlabels_dbscan_lda = dbscanlda.fit_predict(df_dim_lda_tr)\n",
    "    entropies_dbscan_lda.append((epsilon,entropy(clusterlabels_dbscan_lda, y_sup.values)[1]))"
   ]
  },
  {
   "cell_type": "code",
   "execution_count": 70,
   "id": "e0ec2aaa-05ee-4050-9b30-b68d998ac9f9",
   "metadata": {},
   "outputs": [
    {
     "data": {
      "text/plain": [
       "[(1.8999999999999997, 0.17199617723184366),\n",
       " (1.7999999999999998, 0.21720933645041815),\n",
       " (1.6999999999999997, 0.26868418361457674),\n",
       " (1.5999999999999996, 0.28919703991637624),\n",
       " (1.4999999999999998, 0.3445945347680846)]"
      ]
     },
     "execution_count": 70,
     "metadata": {},
     "output_type": "execute_result"
    }
   ],
   "source": [
    "sorted(entropies_dbscan_lda, key = lambda x: x[1], reverse = False)[:5]"
   ]
  },
  {
   "cell_type": "code",
   "execution_count": 71,
   "id": "1d6ff471-20b3-4a65-93d2-d13289c50029",
   "metadata": {},
   "outputs": [
    {
     "data": {
      "text/plain": [
       "({-1: 1.1110398222798932, 0: -0.0, 1: -0.0, 2: -0.0, 3: -0.0},\n",
       " 0.17199617723184366)"
      ]
     },
     "execution_count": 71,
     "metadata": {},
     "output_type": "execute_result"
    }
   ],
   "source": [
    "dbscanlda = DBSCAN(eps=1.9,min_samples=50)\n",
    "clusterlabels_dbscan_lda = dbscanlda.fit_predict(df_dim_lda_tr)\n",
    "entropy(clusterlabels_dbscan_lda, y_sup.values)"
   ]
  },
  {
   "cell_type": "markdown",
   "id": "fbdfd0ba-093c-4cf1-860b-9b02926c0a7e",
   "metadata": {},
   "source": [
    "Dbscan on LDA doesn't detect 5 clusters and treats many examples as rather outliers"
   ]
  },
  {
   "cell_type": "markdown",
   "id": "33488ede-da67-4b5a-8f30-4ebc333198a0",
   "metadata": {},
   "source": [
    "## Analysis"
   ]
  },
  {
   "cell_type": "markdown",
   "id": "e5a313e7-472f-43e7-8935-a2da71fd884a",
   "metadata": {},
   "source": [
    "Total 6 clustering algorithms were run:\n",
    "1. KMeans clustering on Feature Selection Dataset : (Total entropy:0.0210, wrong clusters : 3 examples)\n",
    "2. KMeans clustering on PCA dataset : (Total entropy : 0.03650, wrong clusters : 5 examples )\n",
    "3. KMeans clustering on LDA dataset : (Total entropy: 0.00837, wrong clusters : 1 example)\n",
    "4. DBSCAN clustering on Feature Selection Dataset : (Total entropy: 0.00173, wrong clusters : 2 examples)\n",
    "5. DBSCAN clustering on PCA dataset : (Total entropy: 0.22706, wrong clusters : 150 )\n",
    "6. DBSCAN clustering on LDA Dataset : (Total entropy : 0.17199, wrong clusters : Not applicable)\n",
    "\n",
    "\n",
    "Entropy can be interpreted as following: If the entropy is 0 in a cluster, then it means all the examples assigned to the given cluster belong to the same class, else there are members of other classes as well. This gives us the top 3 clustering algorithms as follows : Kmeans on LDA Dataset, DBSCAN on Feature Selection Dataset, Kmeans on Feature Selection Dataset. \n",
    "\n",
    "**Samples of the same class which also belong to the same cluster** : Wherever entropy of a given cluster is 0, this condition is satisfied. \n",
    "\n",
    "**Samples identified to be belonging to another cluster but also to the same class (cancer type)** : This can be found out as follows: \n"
   ]
  },
  {
   "cell_type": "code",
   "execution_count": 97,
   "id": "9c5f0e0b-421c-4fb8-981a-9f2ed392cb73",
   "metadata": {},
   "outputs": [
    {
     "data": {
      "text/html": [
       "<div>\n",
       "<style scoped>\n",
       "    .dataframe tbody tr th:only-of-type {\n",
       "        vertical-align: middle;\n",
       "    }\n",
       "\n",
       "    .dataframe tbody tr th {\n",
       "        vertical-align: top;\n",
       "    }\n",
       "\n",
       "    .dataframe thead th {\n",
       "        text-align: right;\n",
       "    }\n",
       "</style>\n",
       "<table border=\"1\" class=\"dataframe\">\n",
       "  <thead>\n",
       "    <tr style=\"text-align: right;\">\n",
       "      <th></th>\n",
       "      <th>kmeans</th>\n",
       "    </tr>\n",
       "    <tr>\n",
       "      <th>groundtruth</th>\n",
       "      <th></th>\n",
       "    </tr>\n",
       "  </thead>\n",
       "  <tbody>\n",
       "    <tr>\n",
       "      <th>0</th>\n",
       "      <td>0.000000</td>\n",
       "    </tr>\n",
       "    <tr>\n",
       "      <th>1</th>\n",
       "      <td>2.000000</td>\n",
       "    </tr>\n",
       "    <tr>\n",
       "      <th>2</th>\n",
       "      <td>4.000000</td>\n",
       "    </tr>\n",
       "    <tr>\n",
       "      <th>3</th>\n",
       "      <td>0.992647</td>\n",
       "    </tr>\n",
       "    <tr>\n",
       "      <th>4</th>\n",
       "      <td>3.000000</td>\n",
       "    </tr>\n",
       "  </tbody>\n",
       "</table>\n",
       "</div>"
      ],
      "text/plain": [
       "               kmeans\n",
       "groundtruth          \n",
       "0            0.000000\n",
       "1            2.000000\n",
       "2            4.000000\n",
       "3            0.992647\n",
       "4            3.000000"
      ]
     },
     "execution_count": 97,
     "metadata": {},
     "output_type": "execute_result"
    }
   ],
   "source": [
    "kmeansclusterlda.groupby('groundtruth').mean()"
   ]
  },
  {
   "cell_type": "code",
   "execution_count": 98,
   "id": "2d8ed71f-212e-48a4-9576-fb29c52aa5c4",
   "metadata": {},
   "outputs": [
    {
     "data": {
      "text/html": [
       "<div>\n",
       "<style scoped>\n",
       "    .dataframe tbody tr th:only-of-type {\n",
       "        vertical-align: middle;\n",
       "    }\n",
       "\n",
       "    .dataframe tbody tr th {\n",
       "        vertical-align: top;\n",
       "    }\n",
       "\n",
       "    .dataframe thead th {\n",
       "        text-align: right;\n",
       "    }\n",
       "</style>\n",
       "<table border=\"1\" class=\"dataframe\">\n",
       "  <thead>\n",
       "    <tr style=\"text-align: right;\">\n",
       "      <th></th>\n",
       "      <th>kmeans</th>\n",
       "      <th>groundtruth</th>\n",
       "    </tr>\n",
       "  </thead>\n",
       "  <tbody>\n",
       "    <tr>\n",
       "      <th>243</th>\n",
       "      <td>0</td>\n",
       "      <td>3</td>\n",
       "    </tr>\n",
       "  </tbody>\n",
       "</table>\n",
       "</div>"
      ],
      "text/plain": [
       "     kmeans  groundtruth\n",
       "243       0            3"
      ]
     },
     "execution_count": 98,
     "metadata": {},
     "output_type": "execute_result"
    }
   ],
   "source": [
    "kmeansclusterlda[(kmeansclusterlda.groundtruth==3) & (kmeansclusterlda.kmeans!=1)]"
   ]
  },
  {
   "cell_type": "code",
   "execution_count": null,
   "id": "7fe1b702-a49b-434a-ba1b-2e45f0e08ae4",
   "metadata": {},
   "outputs": [],
   "source": []
  }
 ],
 "metadata": {
  "kernelspec": {
   "display_name": "Python 3 (ipykernel)",
   "language": "python",
   "name": "python3"
  },
  "language_info": {
   "codemirror_mode": {
    "name": "ipython",
    "version": 3
   },
   "file_extension": ".py",
   "mimetype": "text/x-python",
   "name": "python",
   "nbconvert_exporter": "python",
   "pygments_lexer": "ipython3",
   "version": "3.8.8"
  }
 },
 "nbformat": 4,
 "nbformat_minor": 5
}
