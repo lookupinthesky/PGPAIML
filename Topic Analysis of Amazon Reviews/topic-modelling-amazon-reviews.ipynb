{
 "cells": [
  {
   "cell_type": "code",
   "execution_count": 2,
   "metadata": {
    "_cell_guid": "b1076dfc-b9ad-4769-8c92-a6c4dae69d19",
    "_uuid": "8f2839f25d086af736a60e9eeb907d3b93b6e0e5",
    "execution": {
     "iopub.execute_input": "2021-11-26T15:11:51.274790Z",
     "iopub.status.busy": "2021-11-26T15:11:51.274132Z",
     "iopub.status.idle": "2021-11-26T15:11:51.284426Z",
     "shell.execute_reply": "2021-11-26T15:11:51.283227Z",
     "shell.execute_reply.started": "2021-11-26T15:11:51.274746Z"
    }
   },
   "outputs": [
    {
     "name": "stdout",
     "output_type": "stream",
     "text": [
      "/kaggle/input/amazon-review/K8 Reviews v0.2.csv\n"
     ]
    }
   ],
   "source": [
    "# This Python 3 environment comes with many helpful analytics libraries installed\n",
    "# It is defined by the kaggle/python Docker image: https://github.com/kaggle/docker-python\n",
    "# For example, here's several helpful packages to load\n",
    "\n",
    "import numpy as np # linear algebra\n",
    "import pandas as pd # data processing, CSV file I/O (e.g. pd.read_csv)\n",
    "import matplotlib.pyplot as plt\n",
    "import spacy\n",
    "import textblob\n",
    "\n",
    "# Input data files are available in the read-only \"../input/\" directory\n",
    "# For example, running this (by clicking run or pressing Shift+Enter) will list all files under the input directory\n",
    "\n",
    "import os\n",
    "for dirname, _, filenames in os.walk('/kaggle/input'):\n",
    "    for filename in filenames:\n",
    "        print(os.path.join(dirname, filename))\n",
    "\n",
    "# You can write up to 20GB to the current directory (/kaggle/working/) that gets preserved as output when you create a version using \"Save & Run All\" \n",
    "# You can also write temporary files to /kaggle/temp/, but they won't be saved outside of the current session"
   ]
  },
  {
   "cell_type": "code",
   "execution_count": 3,
   "metadata": {
    "execution": {
     "iopub.execute_input": "2021-11-26T15:11:51.286467Z",
     "iopub.status.busy": "2021-11-26T15:11:51.286212Z",
     "iopub.status.idle": "2021-11-26T15:11:52.169264Z",
     "shell.execute_reply": "2021-11-26T15:11:52.168266Z",
     "shell.execute_reply.started": "2021-11-26T15:11:51.286440Z"
    }
   },
   "outputs": [],
   "source": [
    "nlp = spacy.load('en_core_web_sm')"
   ]
  },
  {
   "cell_type": "code",
   "execution_count": 4,
   "metadata": {
    "execution": {
     "iopub.execute_input": "2021-11-26T15:11:52.170853Z",
     "iopub.status.busy": "2021-11-26T15:11:52.170593Z",
     "iopub.status.idle": "2021-11-26T15:11:52.274258Z",
     "shell.execute_reply": "2021-11-26T15:11:52.273188Z",
     "shell.execute_reply.started": "2021-11-26T15:11:52.170824Z"
    }
   },
   "outputs": [
    {
     "data": {
      "text/html": [
       "<div>\n",
       "<style scoped>\n",
       "    .dataframe tbody tr th:only-of-type {\n",
       "        vertical-align: middle;\n",
       "    }\n",
       "\n",
       "    .dataframe tbody tr th {\n",
       "        vertical-align: top;\n",
       "    }\n",
       "\n",
       "    .dataframe thead th {\n",
       "        text-align: right;\n",
       "    }\n",
       "</style>\n",
       "<table border=\"1\" class=\"dataframe\">\n",
       "  <thead>\n",
       "    <tr style=\"text-align: right;\">\n",
       "      <th></th>\n",
       "      <th>sentiment</th>\n",
       "      <th>review</th>\n",
       "    </tr>\n",
       "  </thead>\n",
       "  <tbody>\n",
       "    <tr>\n",
       "      <th>8469</th>\n",
       "      <td>0</td>\n",
       "      <td>Nice</td>\n",
       "    </tr>\n",
       "    <tr>\n",
       "      <th>14514</th>\n",
       "      <td>1</td>\n",
       "      <td>This phone works good for first 4 months and t...</td>\n",
       "    </tr>\n",
       "    <tr>\n",
       "      <th>3416</th>\n",
       "      <td>0</td>\n",
       "      <td>Bad product not working properly, heating issu...</td>\n",
       "    </tr>\n",
       "    <tr>\n",
       "      <th>12819</th>\n",
       "      <td>0</td>\n",
       "      <td>It is a pathetic phone.</td>\n",
       "    </tr>\n",
       "    <tr>\n",
       "      <th>12066</th>\n",
       "      <td>1</td>\n",
       "      <td>Good product</td>\n",
       "    </tr>\n",
       "    <tr>\n",
       "      <th>12056</th>\n",
       "      <td>0</td>\n",
       "      <td>Camera is not up to the point. Heats up while ...</td>\n",
       "    </tr>\n",
       "    <tr>\n",
       "      <th>7872</th>\n",
       "      <td>1</td>\n",
       "      <td>This phone is superb... Only issue here is cha...</td>\n",
       "    </tr>\n",
       "    <tr>\n",
       "      <th>8386</th>\n",
       "      <td>1</td>\n",
       "      <td>It's awesome</td>\n",
       "    </tr>\n",
       "    <tr>\n",
       "      <th>3404</th>\n",
       "      <td>1</td>\n",
       "      <td>Very nyc phone</td>\n",
       "    </tr>\n",
       "    <tr>\n",
       "      <th>401</th>\n",
       "      <td>0</td>\n",
       "      <td>Nice phone at this price range.....deca core p...</td>\n",
       "    </tr>\n",
       "  </tbody>\n",
       "</table>\n",
       "</div>"
      ],
      "text/plain": [
       "       sentiment                                             review\n",
       "8469           0                                               Nice\n",
       "14514          1  This phone works good for first 4 months and t...\n",
       "3416           0  Bad product not working properly, heating issu...\n",
       "12819          0                            It is a pathetic phone.\n",
       "12066          1                                       Good product\n",
       "12056          0  Camera is not up to the point. Heats up while ...\n",
       "7872           1  This phone is superb... Only issue here is cha...\n",
       "8386           1                                       It's awesome\n",
       "3404           1                                     Very nyc phone\n",
       "401            0  Nice phone at this price range.....deca core p..."
      ]
     },
     "execution_count": 4,
     "metadata": {},
     "output_type": "execute_result"
    }
   ],
   "source": [
    "data = pd.read_csv(\"../input/amazon-review/K8 Reviews v0.2.csv\")\n",
    "data.sample(10)"
   ]
  },
  {
   "cell_type": "code",
   "execution_count": 5,
   "metadata": {
    "execution": {
     "iopub.execute_input": "2021-11-26T15:11:52.276916Z",
     "iopub.status.busy": "2021-11-26T15:11:52.276552Z",
     "iopub.status.idle": "2021-11-26T15:11:52.283860Z",
     "shell.execute_reply": "2021-11-26T15:11:52.283224Z",
     "shell.execute_reply.started": "2021-11-26T15:11:52.276881Z"
    }
   },
   "outputs": [
    {
     "data": {
      "text/plain": [
       "(14675, 2)"
      ]
     },
     "execution_count": 5,
     "metadata": {},
     "output_type": "execute_result"
    }
   ],
   "source": [
    "data.shape"
   ]
  },
  {
   "cell_type": "code",
   "execution_count": 6,
   "metadata": {
    "execution": {
     "iopub.execute_input": "2021-11-26T15:11:52.285506Z",
     "iopub.status.busy": "2021-11-26T15:11:52.285089Z",
     "iopub.status.idle": "2021-11-26T15:11:52.303231Z",
     "shell.execute_reply": "2021-11-26T15:11:52.302501Z",
     "shell.execute_reply.started": "2021-11-26T15:11:52.285472Z"
    }
   },
   "outputs": [
    {
     "data": {
      "text/plain": [
       "0    7712\n",
       "1    6963\n",
       "Name: sentiment, dtype: int64"
      ]
     },
     "execution_count": 6,
     "metadata": {},
     "output_type": "execute_result"
    }
   ],
   "source": [
    "data['sentiment'].value_counts()"
   ]
  },
  {
   "cell_type": "markdown",
   "metadata": {},
   "source": [
    "The dataset is fairly balanced"
   ]
  },
  {
   "cell_type": "markdown",
   "metadata": {},
   "source": [
    "#### What's the average length of review for negative sentiment vs positive sentiment?"
   ]
  },
  {
   "cell_type": "code",
   "execution_count": 7,
   "metadata": {
    "execution": {
     "iopub.execute_input": "2021-11-26T15:11:52.305087Z",
     "iopub.status.busy": "2021-11-26T15:11:52.304678Z",
     "iopub.status.idle": "2021-11-26T15:11:52.325713Z",
     "shell.execute_reply": "2021-11-26T15:11:52.324666Z",
     "shell.execute_reply.started": "2021-11-26T15:11:52.305055Z"
    }
   },
   "outputs": [],
   "source": [
    "data['length_of_review'] = data['review'].apply(len)"
   ]
  },
  {
   "cell_type": "code",
   "execution_count": 8,
   "metadata": {
    "execution": {
     "iopub.execute_input": "2021-11-26T15:11:52.327778Z",
     "iopub.status.busy": "2021-11-26T15:11:52.327401Z",
     "iopub.status.idle": "2021-11-26T15:11:52.346108Z",
     "shell.execute_reply": "2021-11-26T15:11:52.345345Z",
     "shell.execute_reply.started": "2021-11-26T15:11:52.327745Z"
    }
   },
   "outputs": [
    {
     "data": {
      "text/html": [
       "<div>\n",
       "<style scoped>\n",
       "    .dataframe tbody tr th:only-of-type {\n",
       "        vertical-align: middle;\n",
       "    }\n",
       "\n",
       "    .dataframe tbody tr th {\n",
       "        vertical-align: top;\n",
       "    }\n",
       "\n",
       "    .dataframe thead th {\n",
       "        text-align: right;\n",
       "    }\n",
       "</style>\n",
       "<table border=\"1\" class=\"dataframe\">\n",
       "  <thead>\n",
       "    <tr style=\"text-align: right;\">\n",
       "      <th></th>\n",
       "      <th>sentiment</th>\n",
       "      <th>review</th>\n",
       "      <th>length_of_review</th>\n",
       "    </tr>\n",
       "  </thead>\n",
       "  <tbody>\n",
       "    <tr>\n",
       "      <th>0</th>\n",
       "      <td>1</td>\n",
       "      <td>Good but need updates and improvements</td>\n",
       "      <td>38</td>\n",
       "    </tr>\n",
       "    <tr>\n",
       "      <th>1</th>\n",
       "      <td>0</td>\n",
       "      <td>Worst mobile i have bought ever, Battery is dr...</td>\n",
       "      <td>475</td>\n",
       "    </tr>\n",
       "    <tr>\n",
       "      <th>2</th>\n",
       "      <td>1</td>\n",
       "      <td>when I will get my 10% cash back.... its alrea...</td>\n",
       "      <td>61</td>\n",
       "    </tr>\n",
       "    <tr>\n",
       "      <th>3</th>\n",
       "      <td>1</td>\n",
       "      <td>Good</td>\n",
       "      <td>4</td>\n",
       "    </tr>\n",
       "    <tr>\n",
       "      <th>4</th>\n",
       "      <td>0</td>\n",
       "      <td>The worst phone everThey have changed the last...</td>\n",
       "      <td>156</td>\n",
       "    </tr>\n",
       "  </tbody>\n",
       "</table>\n",
       "</div>"
      ],
      "text/plain": [
       "   sentiment                                             review  \\\n",
       "0          1             Good but need updates and improvements   \n",
       "1          0  Worst mobile i have bought ever, Battery is dr...   \n",
       "2          1  when I will get my 10% cash back.... its alrea...   \n",
       "3          1                                               Good   \n",
       "4          0  The worst phone everThey have changed the last...   \n",
       "\n",
       "   length_of_review  \n",
       "0                38  \n",
       "1               475  \n",
       "2                61  \n",
       "3                 4  \n",
       "4               156  "
      ]
     },
     "execution_count": 8,
     "metadata": {},
     "output_type": "execute_result"
    }
   ],
   "source": [
    "data.head()"
   ]
  },
  {
   "cell_type": "markdown",
   "metadata": {},
   "source": []
  },
  {
   "cell_type": "code",
   "execution_count": 9,
   "metadata": {
    "execution": {
     "iopub.execute_input": "2021-11-26T15:11:52.348171Z",
     "iopub.status.busy": "2021-11-26T15:11:52.347730Z",
     "iopub.status.idle": "2021-11-26T15:11:52.365780Z",
     "shell.execute_reply": "2021-11-26T15:11:52.364856Z",
     "shell.execute_reply.started": "2021-11-26T15:11:52.348122Z"
    }
   },
   "outputs": [
    {
     "data": {
      "text/plain": [
       "sentiment\n",
       "0    154.957339\n",
       "1     66.791182\n",
       "Name: length_of_review, dtype: float64"
      ]
     },
     "execution_count": 9,
     "metadata": {},
     "output_type": "execute_result"
    }
   ],
   "source": [
    "data.groupby(['sentiment']).mean()['length_of_review']"
   ]
  },
  {
   "cell_type": "markdown",
   "metadata": {},
   "source": [
    "It seems like people tend to write more elaborate reviews when they are unhappy with the product. "
   ]
  },
  {
   "cell_type": "code",
   "execution_count": 10,
   "metadata": {
    "execution": {
     "iopub.execute_input": "2021-11-26T15:11:52.368393Z",
     "iopub.status.busy": "2021-11-26T15:11:52.367355Z",
     "iopub.status.idle": "2021-11-26T15:11:52.381013Z",
     "shell.execute_reply": "2021-11-26T15:11:52.380066Z",
     "shell.execute_reply.started": "2021-11-26T15:11:52.368335Z"
    }
   },
   "outputs": [
    {
     "data": {
      "text/plain": [
       "sentiment           0\n",
       "review              0\n",
       "length_of_review    0\n",
       "dtype: int64"
      ]
     },
     "execution_count": 10,
     "metadata": {},
     "output_type": "execute_result"
    }
   ],
   "source": [
    "data.isna().sum()"
   ]
  },
  {
   "cell_type": "markdown",
   "metadata": {},
   "source": [
    "### POS TAGGING, STOPWORD REMOVAL, NORMALIZE CASINGS"
   ]
  },
  {
   "cell_type": "code",
   "execution_count": 11,
   "metadata": {
    "execution": {
     "iopub.execute_input": "2021-11-26T15:11:52.384629Z",
     "iopub.status.busy": "2021-11-26T15:11:52.384024Z",
     "iopub.status.idle": "2021-11-26T15:11:52.389553Z",
     "shell.execute_reply": "2021-11-26T15:11:52.388833Z",
     "shell.execute_reply.started": "2021-11-26T15:11:52.384590Z"
    }
   },
   "outputs": [],
   "source": [
    "nlp.Defaults.stop_words |= {\"n't\", \"phone\", \"mobile\", \"lenovo\",\"note\", \"k8\",}"
   ]
  },
  {
   "cell_type": "code",
   "execution_count": 12,
   "metadata": {
    "execution": {
     "iopub.execute_input": "2021-11-26T15:11:52.391924Z",
     "iopub.status.busy": "2021-11-26T15:11:52.391034Z",
     "iopub.status.idle": "2021-11-26T15:14:11.327341Z",
     "shell.execute_reply": "2021-11-26T15:14:11.326367Z",
     "shell.execute_reply.started": "2021-11-26T15:11:52.391867Z"
    }
   },
   "outputs": [],
   "source": [
    "data['reviews_cleaned_sp'] = data['review'].apply(lambda x: ' '.join([(token.text).lower() for token in nlp(x.lower()) if not token.is_stop if token.pos_ in [\"NOUN\", \"PROPN\"] if len(token.text)>2]))"
   ]
  },
  {
   "cell_type": "code",
   "execution_count": 13,
   "metadata": {
    "execution": {
     "iopub.execute_input": "2021-11-26T15:14:11.329133Z",
     "iopub.status.busy": "2021-11-26T15:14:11.328803Z",
     "iopub.status.idle": "2021-11-26T15:14:11.392929Z",
     "shell.execute_reply": "2021-11-26T15:14:11.392043Z",
     "shell.execute_reply.started": "2021-11-26T15:14:11.329097Z"
    }
   },
   "outputs": [
    {
     "data": {
      "text/html": [
       "<div>\n",
       "<style scoped>\n",
       "    .dataframe tbody tr th:only-of-type {\n",
       "        vertical-align: middle;\n",
       "    }\n",
       "\n",
       "    .dataframe tbody tr th {\n",
       "        vertical-align: top;\n",
       "    }\n",
       "\n",
       "    .dataframe thead th {\n",
       "        text-align: right;\n",
       "    }\n",
       "</style>\n",
       "<table border=\"1\" class=\"dataframe\">\n",
       "  <thead>\n",
       "    <tr style=\"text-align: right;\">\n",
       "      <th></th>\n",
       "      <th>review</th>\n",
       "      <th>reviews_cleaned_sp</th>\n",
       "    </tr>\n",
       "  </thead>\n",
       "  <tbody>\n",
       "    <tr>\n",
       "      <th>0</th>\n",
       "      <td>Good but need updates and improvements</td>\n",
       "      <td>updates improvements</td>\n",
       "    </tr>\n",
       "    <tr>\n",
       "      <th>1</th>\n",
       "      <td>Worst mobile i have bought ever, Battery is dr...</td>\n",
       "      <td>battery hell backup hours internet uses idle d...</td>\n",
       "    </tr>\n",
       "    <tr>\n",
       "      <th>2</th>\n",
       "      <td>when I will get my 10% cash back.... its alrea...</td>\n",
       "      <td>cash january</td>\n",
       "    </tr>\n",
       "    <tr>\n",
       "      <th>3</th>\n",
       "      <td>Good</td>\n",
       "      <td></td>\n",
       "    </tr>\n",
       "    <tr>\n",
       "      <th>4</th>\n",
       "      <td>The worst phone everThey have changed the last...</td>\n",
       "      <td>problem amazon amazon</td>\n",
       "    </tr>\n",
       "    <tr>\n",
       "      <th>...</th>\n",
       "      <td>...</td>\n",
       "      <td>...</td>\n",
       "    </tr>\n",
       "    <tr>\n",
       "      <th>14670</th>\n",
       "      <td>I really like the phone, Everything is working...</td>\n",
       "      <td></td>\n",
       "    </tr>\n",
       "    <tr>\n",
       "      <th>14671</th>\n",
       "      <td>The Lenovo K8 Note is awesome. It takes best p...</td>\n",
       "      <td>pictures camera body bit hand cover features a...</td>\n",
       "    </tr>\n",
       "    <tr>\n",
       "      <th>14672</th>\n",
       "      <td>Awesome Gaget.. @ this price</td>\n",
       "      <td>gaget price</td>\n",
       "    </tr>\n",
       "    <tr>\n",
       "      <th>14673</th>\n",
       "      <td>This phone is nice processing will be successf...</td>\n",
       "      <td>processing camera mod</td>\n",
       "    </tr>\n",
       "    <tr>\n",
       "      <th>14674</th>\n",
       "      <td>Good product but the pakeging was not enough.</td>\n",
       "      <td>product pakeging</td>\n",
       "    </tr>\n",
       "  </tbody>\n",
       "</table>\n",
       "<p>14675 rows × 2 columns</p>\n",
       "</div>"
      ],
      "text/plain": [
       "                                                  review  \\\n",
       "0                 Good but need updates and improvements   \n",
       "1      Worst mobile i have bought ever, Battery is dr...   \n",
       "2      when I will get my 10% cash back.... its alrea...   \n",
       "3                                                   Good   \n",
       "4      The worst phone everThey have changed the last...   \n",
       "...                                                  ...   \n",
       "14670  I really like the phone, Everything is working...   \n",
       "14671  The Lenovo K8 Note is awesome. It takes best p...   \n",
       "14672                       Awesome Gaget.. @ this price   \n",
       "14673  This phone is nice processing will be successf...   \n",
       "14674      Good product but the pakeging was not enough.   \n",
       "\n",
       "                                      reviews_cleaned_sp  \n",
       "0                                   updates improvements  \n",
       "1      battery hell backup hours internet uses idle d...  \n",
       "2                                           cash january  \n",
       "3                                                         \n",
       "4                                  problem amazon amazon  \n",
       "...                                                  ...  \n",
       "14670                                                     \n",
       "14671  pictures camera body bit hand cover features a...  \n",
       "14672                                        gaget price  \n",
       "14673                              processing camera mod  \n",
       "14674                                   product pakeging  \n",
       "\n",
       "[14675 rows x 2 columns]"
      ]
     },
     "execution_count": 13,
     "metadata": {},
     "output_type": "execute_result"
    }
   ],
   "source": [
    "data['reviews_cleaned_sp'].replace(regex=True, inplace=True, to_replace=r'[^a-zA-Z ]', value=r'')\n",
    "data[['review','reviews_cleaned_sp']]"
   ]
  },
  {
   "cell_type": "markdown",
   "metadata": {},
   "source": [
    "#### Visualizing words"
   ]
  },
  {
   "cell_type": "code",
   "execution_count": 14,
   "metadata": {
    "execution": {
     "iopub.execute_input": "2021-11-26T15:14:11.395415Z",
     "iopub.status.busy": "2021-11-26T15:14:11.394460Z",
     "iopub.status.idle": "2021-11-26T15:14:13.560303Z",
     "shell.execute_reply": "2021-11-26T15:14:13.559420Z",
     "shell.execute_reply.started": "2021-11-26T15:14:11.395369Z"
    }
   },
   "outputs": [
    {
     "data": {
      "image/png": "[encoded data removed]",
      "text/plain": [
       "<Figure size 1080x576 with 1 Axes>"
      ]
     },
     "metadata": {
      "needs_background": "light"
     },
     "output_type": "display_data"
    },
    {
     "data": {
      "text/plain": [
       "<Figure size 432x288 with 0 Axes>"
      ]
     },
     "metadata": {},
     "output_type": "display_data"
    }
   ],
   "source": [
    "from wordcloud import WordCloud\n",
    "all_words = ''.join([word for word in data['reviews_cleaned_sp'][::]])\n",
    "all_words\n",
    "wordcloud = WordCloud(width=800, height=500, random_state=21, max_font_size=110).generate(all_words)\n",
    "plt.figure(figsize=(15, 8))\n",
    "plt.imshow(wordcloud, interpolation=\"bilinear\")\n",
    "plt.axis('off')\n",
    "plt.title(\"Frequent Words\", weight='bold', fontsize=14)\n",
    "plt.show()\n",
    "plt.savefig(\"Wordcloud.png\")"
   ]
  },
  {
   "cell_type": "markdown",
   "metadata": {},
   "source": []
  },
  {
   "cell_type": "code",
   "execution_count": 15,
   "metadata": {
    "execution": {
     "iopub.execute_input": "2021-11-26T15:14:13.562017Z",
     "iopub.status.busy": "2021-11-26T15:14:13.561690Z",
     "iopub.status.idle": "2021-11-26T15:14:13.567239Z",
     "shell.execute_reply": "2021-11-26T15:14:13.566337Z",
     "shell.execute_reply.started": "2021-11-26T15:14:13.561988Z"
    }
   },
   "outputs": [],
   "source": [
    "from sklearn.feature_extraction.text import TfidfVectorizer"
   ]
  },
  {
   "cell_type": "code",
   "execution_count": 16,
   "metadata": {
    "execution": {
     "iopub.execute_input": "2021-11-26T15:14:13.569538Z",
     "iopub.status.busy": "2021-11-26T15:14:13.568968Z",
     "iopub.status.idle": "2021-11-26T15:14:13.756339Z",
     "shell.execute_reply": "2021-11-26T15:14:13.755391Z",
     "shell.execute_reply.started": "2021-11-26T15:14:13.569492Z"
    }
   },
   "outputs": [],
   "source": [
    "tfidf_vectorizer = TfidfVectorizer(use_idf=True, \n",
    "                                   max_df=0.5,\n",
    "                                   min_df=0.01,\n",
    "                                  max_features=50000)\n",
    "vectorized_corpus = tfidf_vectorizer.fit_transform(data['reviews_cleaned_sp'])"
   ]
  },
  {
   "cell_type": "code",
   "execution_count": 17,
   "metadata": {
    "execution": {
     "iopub.execute_input": "2021-11-26T15:14:13.757780Z",
     "iopub.status.busy": "2021-11-26T15:14:13.757553Z",
     "iopub.status.idle": "2021-11-26T15:14:13.764254Z",
     "shell.execute_reply": "2021-11-26T15:14:13.763244Z",
     "shell.execute_reply.started": "2021-11-26T15:14:13.757751Z"
    }
   },
   "outputs": [
    {
     "data": {
      "text/plain": [
       "(14675, 72)"
      ]
     },
     "execution_count": 17,
     "metadata": {},
     "output_type": "execute_result"
    }
   ],
   "source": [
    "vectorized_corpus.shape"
   ]
  },
  {
   "cell_type": "code",
   "execution_count": 18,
   "metadata": {
    "execution": {
     "iopub.execute_input": "2021-11-26T15:14:13.765694Z",
     "iopub.status.busy": "2021-11-26T15:14:13.765449Z",
     "iopub.status.idle": "2021-11-26T15:14:13.787873Z",
     "shell.execute_reply": "2021-11-26T15:14:13.786958Z",
     "shell.execute_reply.started": "2021-11-26T15:14:13.765665Z"
    }
   },
   "outputs": [],
   "source": [
    "corpus_array = vectorized_corpus.toarray()"
   ]
  },
  {
   "cell_type": "markdown",
   "metadata": {},
   "source": [
    "### Top words in positive and negative sentiment"
   ]
  },
  {
   "cell_type": "code",
   "execution_count": 19,
   "metadata": {
    "execution": {
     "iopub.execute_input": "2021-11-26T15:14:13.789441Z",
     "iopub.status.busy": "2021-11-26T15:14:13.789190Z",
     "iopub.status.idle": "2021-11-26T15:14:13.793718Z",
     "shell.execute_reply": "2021-11-26T15:14:13.793083Z",
     "shell.execute_reply.started": "2021-11-26T15:14:13.789411Z"
    }
   },
   "outputs": [],
   "source": [
    "sentiment = data['sentiment']"
   ]
  },
  {
   "cell_type": "code",
   "execution_count": 20,
   "metadata": {
    "execution": {
     "iopub.execute_input": "2021-11-26T15:14:13.795692Z",
     "iopub.status.busy": "2021-11-26T15:14:13.794832Z",
     "iopub.status.idle": "2021-11-26T15:14:13.812720Z",
     "shell.execute_reply": "2021-11-26T15:14:13.811791Z",
     "shell.execute_reply.started": "2021-11-26T15:14:13.795645Z"
    }
   },
   "outputs": [],
   "source": [
    "positive = corpus_array[np.where(sentiment==1)]\n",
    "negative = corpus_array[np.where(sentiment==0)]"
   ]
  },
  {
   "cell_type": "code",
   "execution_count": 21,
   "metadata": {
    "execution": {
     "iopub.execute_input": "2021-11-26T15:14:13.815013Z",
     "iopub.status.busy": "2021-11-26T15:14:13.814116Z",
     "iopub.status.idle": "2021-11-26T15:14:13.819948Z",
     "shell.execute_reply": "2021-11-26T15:14:13.819158Z",
     "shell.execute_reply.started": "2021-11-26T15:14:13.814962Z"
    }
   },
   "outputs": [],
   "source": [
    "feature_names = tfidf_vectorizer.get_feature_names()"
   ]
  },
  {
   "cell_type": "code",
   "execution_count": 22,
   "metadata": {
    "execution": {
     "iopub.execute_input": "2021-11-26T15:14:13.822048Z",
     "iopub.status.busy": "2021-11-26T15:14:13.821412Z",
     "iopub.status.idle": "2021-11-26T15:14:13.835854Z",
     "shell.execute_reply": "2021-11-26T15:14:13.835030Z",
     "shell.execute_reply.started": "2021-11-26T15:14:13.822000Z"
    }
   },
   "outputs": [
    {
     "data": {
      "text/plain": [
       "numpy.ndarray"
      ]
     },
     "execution_count": 22,
     "metadata": {},
     "output_type": "execute_result"
    }
   ],
   "source": [
    "type(positive.sum(0))"
   ]
  },
  {
   "cell_type": "code",
   "execution_count": 23,
   "metadata": {
    "execution": {
     "iopub.execute_input": "2021-11-26T15:14:13.837579Z",
     "iopub.status.busy": "2021-11-26T15:14:13.837166Z",
     "iopub.status.idle": "2021-11-26T15:14:13.845825Z",
     "shell.execute_reply": "2021-11-26T15:14:13.844972Z",
     "shell.execute_reply.started": "2021-11-26T15:14:13.837534Z"
    }
   },
   "outputs": [],
   "source": [
    "def get_top_features(arr, feature_names, n_top):\n",
    "    tple  = zip(feature_names,arr.sum(0).tolist())\n",
    "    sortedtpl = sorted(tple,key=lambda x: x[1], reverse=True)[:n_top]\n",
    "    feature_list = [x[0] for x in sortedtpl]\n",
    "    value_list = [x[1] for x in sortedtpl]\n",
    "    return (feature_list,value_list)"
   ]
  },
  {
   "cell_type": "code",
   "execution_count": 24,
   "metadata": {
    "execution": {
     "iopub.execute_input": "2021-11-26T15:14:13.847937Z",
     "iopub.status.busy": "2021-11-26T15:14:13.847445Z",
     "iopub.status.idle": "2021-11-26T15:14:13.864657Z",
     "shell.execute_reply": "2021-11-26T15:14:13.863705Z",
     "shell.execute_reply.started": "2021-11-26T15:14:13.847892Z"
    }
   },
   "outputs": [],
   "source": [
    "top_pos = get_top_features(positive,feature_names,15)\n",
    "top_neg = get_top_features(negative,feature_names,15)"
   ]
  },
  {
   "cell_type": "code",
   "execution_count": 25,
   "metadata": {
    "execution": {
     "iopub.execute_input": "2021-11-26T15:14:13.866666Z",
     "iopub.status.busy": "2021-11-26T15:14:13.866240Z",
     "iopub.status.idle": "2021-11-26T15:14:14.313126Z",
     "shell.execute_reply": "2021-11-26T15:14:14.312199Z",
     "shell.execute_reply.started": "2021-11-26T15:14:13.866618Z"
    }
   },
   "outputs": [
    {
     "data": {
      "image/png": "[encoded data removed]",
      "text/plain": [
       "<Figure size 1440x864 with 1 Axes>"
      ]
     },
     "metadata": {
      "needs_background": "light"
     },
     "output_type": "display_data"
    }
   ],
   "source": [
    "plt.rcParams['figure.figsize'] = (20,12)\n",
    "plt.bar(top_pos[0],top_pos[1])\n",
    "plt.savefig(\"positive.png\")"
   ]
  },
  {
   "cell_type": "code",
   "execution_count": 26,
   "metadata": {
    "execution": {
     "iopub.execute_input": "2021-11-26T15:14:14.315720Z",
     "iopub.status.busy": "2021-11-26T15:14:14.314833Z",
     "iopub.status.idle": "2021-11-26T15:14:14.758170Z",
     "shell.execute_reply": "2021-11-26T15:14:14.757235Z",
     "shell.execute_reply.started": "2021-11-26T15:14:14.315676Z"
    }
   },
   "outputs": [
    {
     "data": {
      "image/png": "[encoded data removed]",
      "text/plain": [
       "<Figure size 1440x864 with 1 Axes>"
      ]
     },
     "metadata": {
      "needs_background": "light"
     },
     "output_type": "display_data"
    }
   ],
   "source": [
    "plt.bar(top_neg[0],top_neg[1])\n",
    "plt.savefig(\"negative.png\")"
   ]
  },
  {
   "cell_type": "markdown",
   "metadata": {},
   "source": [
    "From this chart we can infer that battery, camera and heating are being talked negatively. So the phone probably has poor battery life, camera quality and overheating issues. "
   ]
  },
  {
   "cell_type": "markdown",
   "metadata": {},
   "source": [
    "## Building LDA model using Gensim"
   ]
  },
  {
   "cell_type": "code",
   "execution_count": 27,
   "metadata": {
    "execution": {
     "iopub.execute_input": "2021-11-26T15:14:14.760996Z",
     "iopub.status.busy": "2021-11-26T15:14:14.760409Z",
     "iopub.status.idle": "2021-11-26T15:14:14.915050Z",
     "shell.execute_reply": "2021-11-26T15:14:14.914009Z",
     "shell.execute_reply.started": "2021-11-26T15:14:14.760941Z"
    }
   },
   "outputs": [],
   "source": [
    "import gensim\n",
    "import gensim.corpora as corpora\n",
    "from gensim.models import CoherenceModel\n",
    "from gensim.models import ldamodel"
   ]
  },
  {
   "cell_type": "code",
   "execution_count": 28,
   "metadata": {
    "execution": {
     "iopub.execute_input": "2021-11-26T15:14:14.916817Z",
     "iopub.status.busy": "2021-11-26T15:14:14.916462Z",
     "iopub.status.idle": "2021-11-26T15:14:16.805660Z",
     "shell.execute_reply": "2021-11-26T15:14:16.804498Z",
     "shell.execute_reply.started": "2021-11-26T15:14:14.916779Z"
    }
   },
   "outputs": [],
   "source": [
    "from nltk.tokenize import word_tokenize\n",
    "data['reviews_token'] = [word_tokenize(sent) for sent in data.reviews_cleaned_sp]"
   ]
  },
  {
   "cell_type": "code",
   "execution_count": 29,
   "metadata": {
    "execution": {
     "iopub.execute_input": "2021-11-26T15:14:16.810742Z",
     "iopub.status.busy": "2021-11-26T15:14:16.810453Z",
     "iopub.status.idle": "2021-11-26T15:14:16.832553Z",
     "shell.execute_reply": "2021-11-26T15:14:16.831888Z",
     "shell.execute_reply.started": "2021-11-26T15:14:16.810705Z"
    }
   },
   "outputs": [
    {
     "data": {
      "text/html": [
       "<div>\n",
       "<style scoped>\n",
       "    .dataframe tbody tr th:only-of-type {\n",
       "        vertical-align: middle;\n",
       "    }\n",
       "\n",
       "    .dataframe tbody tr th {\n",
       "        vertical-align: top;\n",
       "    }\n",
       "\n",
       "    .dataframe thead th {\n",
       "        text-align: right;\n",
       "    }\n",
       "</style>\n",
       "<table border=\"1\" class=\"dataframe\">\n",
       "  <thead>\n",
       "    <tr style=\"text-align: right;\">\n",
       "      <th></th>\n",
       "      <th>sentiment</th>\n",
       "      <th>review</th>\n",
       "      <th>length_of_review</th>\n",
       "      <th>reviews_cleaned_sp</th>\n",
       "      <th>reviews_token</th>\n",
       "    </tr>\n",
       "  </thead>\n",
       "  <tbody>\n",
       "    <tr>\n",
       "      <th>0</th>\n",
       "      <td>1</td>\n",
       "      <td>Good but need updates and improvements</td>\n",
       "      <td>38</td>\n",
       "      <td>updates improvements</td>\n",
       "      <td>[updates, improvements]</td>\n",
       "    </tr>\n",
       "    <tr>\n",
       "      <th>1</th>\n",
       "      <td>0</td>\n",
       "      <td>Worst mobile i have bought ever, Battery is dr...</td>\n",
       "      <td>475</td>\n",
       "      <td>battery hell backup hours internet uses idle d...</td>\n",
       "      <td>[battery, hell, backup, hours, internet, uses,...</td>\n",
       "    </tr>\n",
       "    <tr>\n",
       "      <th>2</th>\n",
       "      <td>1</td>\n",
       "      <td>when I will get my 10% cash back.... its alrea...</td>\n",
       "      <td>61</td>\n",
       "      <td>cash january</td>\n",
       "      <td>[cash, january]</td>\n",
       "    </tr>\n",
       "    <tr>\n",
       "      <th>3</th>\n",
       "      <td>1</td>\n",
       "      <td>Good</td>\n",
       "      <td>4</td>\n",
       "      <td></td>\n",
       "      <td>[]</td>\n",
       "    </tr>\n",
       "    <tr>\n",
       "      <th>4</th>\n",
       "      <td>0</td>\n",
       "      <td>The worst phone everThey have changed the last...</td>\n",
       "      <td>156</td>\n",
       "      <td>problem amazon amazon</td>\n",
       "      <td>[problem, amazon, amazon]</td>\n",
       "    </tr>\n",
       "    <tr>\n",
       "      <th>...</th>\n",
       "      <td>...</td>\n",
       "      <td>...</td>\n",
       "      <td>...</td>\n",
       "      <td>...</td>\n",
       "      <td>...</td>\n",
       "    </tr>\n",
       "    <tr>\n",
       "      <th>14670</th>\n",
       "      <td>1</td>\n",
       "      <td>I really like the phone, Everything is working...</td>\n",
       "      <td>78</td>\n",
       "      <td></td>\n",
       "      <td>[]</td>\n",
       "    </tr>\n",
       "    <tr>\n",
       "      <th>14671</th>\n",
       "      <td>1</td>\n",
       "      <td>The Lenovo K8 Note is awesome. It takes best p...</td>\n",
       "      <td>246</td>\n",
       "      <td>pictures camera body bit hand cover features a...</td>\n",
       "      <td>[pictures, camera, body, bit, hand, cover, fea...</td>\n",
       "    </tr>\n",
       "    <tr>\n",
       "      <th>14672</th>\n",
       "      <td>1</td>\n",
       "      <td>Awesome Gaget.. @ this price</td>\n",
       "      <td>28</td>\n",
       "      <td>gaget price</td>\n",
       "      <td>[gaget, price]</td>\n",
       "    </tr>\n",
       "    <tr>\n",
       "      <th>14673</th>\n",
       "      <td>1</td>\n",
       "      <td>This phone is nice processing will be successf...</td>\n",
       "      <td>99</td>\n",
       "      <td>processing camera mod</td>\n",
       "      <td>[processing, camera, mod]</td>\n",
       "    </tr>\n",
       "    <tr>\n",
       "      <th>14674</th>\n",
       "      <td>1</td>\n",
       "      <td>Good product but the pakeging was not enough.</td>\n",
       "      <td>45</td>\n",
       "      <td>product pakeging</td>\n",
       "      <td>[product, pakeging]</td>\n",
       "    </tr>\n",
       "  </tbody>\n",
       "</table>\n",
       "<p>14675 rows × 5 columns</p>\n",
       "</div>"
      ],
      "text/plain": [
       "       sentiment                                             review  \\\n",
       "0              1             Good but need updates and improvements   \n",
       "1              0  Worst mobile i have bought ever, Battery is dr...   \n",
       "2              1  when I will get my 10% cash back.... its alrea...   \n",
       "3              1                                               Good   \n",
       "4              0  The worst phone everThey have changed the last...   \n",
       "...          ...                                                ...   \n",
       "14670          1  I really like the phone, Everything is working...   \n",
       "14671          1  The Lenovo K8 Note is awesome. It takes best p...   \n",
       "14672          1                       Awesome Gaget.. @ this price   \n",
       "14673          1  This phone is nice processing will be successf...   \n",
       "14674          1      Good product but the pakeging was not enough.   \n",
       "\n",
       "       length_of_review                                 reviews_cleaned_sp  \\\n",
       "0                    38                               updates improvements   \n",
       "1                   475  battery hell backup hours internet uses idle d...   \n",
       "2                    61                                       cash january   \n",
       "3                     4                                                      \n",
       "4                   156                              problem amazon amazon   \n",
       "...                 ...                                                ...   \n",
       "14670                78                                                      \n",
       "14671               246  pictures camera body bit hand cover features a...   \n",
       "14672                28                                        gaget price   \n",
       "14673                99                              processing camera mod   \n",
       "14674                45                                   product pakeging   \n",
       "\n",
       "                                           reviews_token  \n",
       "0                                [updates, improvements]  \n",
       "1      [battery, hell, backup, hours, internet, uses,...  \n",
       "2                                        [cash, january]  \n",
       "3                                                     []  \n",
       "4                              [problem, amazon, amazon]  \n",
       "...                                                  ...  \n",
       "14670                                                 []  \n",
       "14671  [pictures, camera, body, bit, hand, cover, fea...  \n",
       "14672                                     [gaget, price]  \n",
       "14673                          [processing, camera, mod]  \n",
       "14674                                [product, pakeging]  \n",
       "\n",
       "[14675 rows x 5 columns]"
      ]
     },
     "execution_count": 29,
     "metadata": {},
     "output_type": "execute_result"
    }
   ],
   "source": [
    "data"
   ]
  },
  {
   "cell_type": "code",
   "execution_count": 30,
   "metadata": {
    "execution": {
     "iopub.execute_input": "2021-11-26T15:14:16.834303Z",
     "iopub.status.busy": "2021-11-26T15:14:16.833624Z",
     "iopub.status.idle": "2021-11-26T15:14:17.195092Z",
     "shell.execute_reply": "2021-11-26T15:14:17.193962Z",
     "shell.execute_reply.started": "2021-11-26T15:14:16.834264Z"
    }
   },
   "outputs": [],
   "source": [
    "id2word = corpora.Dictionary(data.reviews_token)\n",
    "texts = data.reviews_token\n",
    "corpus = [id2word.doc2bow(text) for text in texts]"
   ]
  },
  {
   "cell_type": "markdown",
   "metadata": {},
   "source": [
    "#### Create model with 12 topics"
   ]
  },
  {
   "cell_type": "code",
   "execution_count": 31,
   "metadata": {
    "execution": {
     "iopub.execute_input": "2021-11-26T15:14:17.196860Z",
     "iopub.status.busy": "2021-11-26T15:14:17.196605Z",
     "iopub.status.idle": "2021-11-26T15:14:57.520468Z",
     "shell.execute_reply": "2021-11-26T15:14:57.519495Z",
     "shell.execute_reply.started": "2021-11-26T15:14:17.196831Z"
    }
   },
   "outputs": [],
   "source": [
    "lda_model = gensim.models.ldamodel.LdaModel(corpus=corpus,\n",
    "                                           id2word=id2word,\n",
    "                                           num_topics=12, \n",
    "                                           random_state=20,\n",
    "                                           passes=15,\n",
    "                                           per_word_topics=True)"
   ]
  },
  {
   "cell_type": "markdown",
   "metadata": {
    "execution": {
     "iopub.execute_input": "2021-11-25T19:08:29.931739Z",
     "iopub.status.busy": "2021-11-25T19:08:29.927298Z",
     "iopub.status.idle": "2021-11-25T19:08:29.954348Z",
     "shell.execute_reply": "2021-11-25T19:08:29.952111Z",
     "shell.execute_reply.started": "2021-11-25T19:08:29.931537Z"
    }
   },
   "source": [
    "#### Show top terms for each topic"
   ]
  },
  {
   "cell_type": "markdown",
   "metadata": {},
   "source": []
  },
  {
   "cell_type": "code",
   "execution_count": 32,
   "metadata": {
    "execution": {
     "iopub.execute_input": "2021-11-26T15:14:57.522409Z",
     "iopub.status.busy": "2021-11-26T15:14:57.521983Z",
     "iopub.status.idle": "2021-11-26T15:14:57.535172Z",
     "shell.execute_reply": "2021-11-26T15:14:57.534205Z",
     "shell.execute_reply.started": "2021-11-26T15:14:57.522361Z"
    }
   },
   "outputs": [
    {
     "name": "stdout",
     "output_type": "stream",
     "text": [
      "Topic #0: camera|performance|mode|processor|android|update|depth|software|stock|clarity|user|system|bit|gaming|core\n",
      "Topic #1: video|mark|apps|music|light|redmi|photos|notification|ram|google|videos|image|moto|speakers|message\n",
      "Topic #2: camera|quality|speaker|sound|touch|picture|display|photo|superb|time|class|rest|images|color|stars\n",
      "Topic #3: battery|backup|charger|hours|turbo|time|life|day|charging|usage|performance|charge|mah|hrs|use\n",
      "Topic #4: amazon|product|service|days|time|delivery|handset|replacement|customer|experience|return|center|thanks|purchase|piece\n",
      "Topic #5: money|waste|value|glass|volte|gorilla|cover|item|hang|k|pictures|lte|look|refund|order\n",
      "Topic #6: screen|bluetooth|data|box|times|wifi|cast|calls|connection|headset|usb|ear|cable|solution|bed\n",
      "Topic #7: dolby|budget|display|heat|killer|sound|phones|atmos|volume|music|buy|thing|button|samsung|cell\n",
      "Topic #8: features|camera|feature|app|screen|option|speed|card|sensor|memory|recording|voice|lot|flash|good\n",
      "Topic #9: problem|heating|issue|network|issues|jio|signal|sim|problems|work|software|internet|star|update|day\n",
      "Topic #10: hai|smartphone|nhi|device|bill|bhi|hota|improvement|par|drainage|koi|tha|china|technician|updates\n",
      "Topic #11: product|price|range|features|month|earphone|headphone|nahi|facility|weight|jack|sir|sale|raha|bahut\n"
     ]
    }
   ],
   "source": [
    "for index, topic in lda_model.show_topics(num_topics = 12, formatted=False, num_words= 15):\n",
    "    print('Topic #{}: {}'.format(index,'|'.join(w[0] for w in topic)))"
   ]
  },
  {
   "cell_type": "code",
   "execution_count": 33,
   "metadata": {
    "execution": {
     "iopub.execute_input": "2021-11-26T15:14:57.539165Z",
     "iopub.status.busy": "2021-11-26T15:14:57.536676Z",
     "iopub.status.idle": "2021-11-26T15:14:57.547589Z",
     "shell.execute_reply": "2021-11-26T15:14:57.546724Z",
     "shell.execute_reply.started": "2021-11-26T15:14:57.539107Z"
    }
   },
   "outputs": [
    {
     "data": {
      "text/plain": [
       "pandas.core.series.Series"
      ]
     },
     "execution_count": 33,
     "metadata": {},
     "output_type": "execute_result"
    }
   ],
   "source": [
    "type(texts)"
   ]
  },
  {
   "cell_type": "code",
   "execution_count": 34,
   "metadata": {
    "execution": {
     "iopub.execute_input": "2021-11-26T15:14:57.549649Z",
     "iopub.status.busy": "2021-11-26T15:14:57.549157Z",
     "iopub.status.idle": "2021-11-26T15:14:57.557682Z",
     "shell.execute_reply": "2021-11-26T15:14:57.557007Z",
     "shell.execute_reply.started": "2021-11-26T15:14:57.549617Z"
    }
   },
   "outputs": [],
   "source": [
    "reviews = data['review']"
   ]
  },
  {
   "cell_type": "markdown",
   "metadata": {},
   "source": []
  },
  {
   "cell_type": "markdown",
   "metadata": {},
   "source": [
    "### View the topic which is most dominant in each document, get topic probability and attach topic keywords to dataframe"
   ]
  },
  {
   "cell_type": "code",
   "execution_count": 35,
   "metadata": {
    "execution": {
     "iopub.execute_input": "2021-11-26T15:14:57.559693Z",
     "iopub.status.busy": "2021-11-26T15:14:57.559184Z",
     "iopub.status.idle": "2021-11-26T15:14:57.571397Z",
     "shell.execute_reply": "2021-11-26T15:14:57.570396Z",
     "shell.execute_reply.started": "2021-11-26T15:14:57.559658Z"
    }
   },
   "outputs": [],
   "source": [
    "def format_topics_sentences(ldamodel=lda_model, corpus=corpus, texts=texts, original_text = reviews):\n",
    "    # Init output\n",
    "    sent_topics_df = pd.DataFrame()\n",
    "\n",
    "    # Get main topic in each document\n",
    "    for i, row in enumerate(ldamodel[corpus]):\n",
    "        row = sorted(row[0], key=lambda x: x[1], reverse=True)\n",
    "        # Get the Dominant topic, Perc Contribution and Keywords for each document\n",
    "        for j, (topic_num, prop_topic) in enumerate(row):\n",
    "            if j == 0:  # => dominant topic\n",
    "                wp = ldamodel.show_topic(topic_num)\n",
    "                topic_keywords = \", \".join([word for word, prop in wp])\n",
    "                sent_topics_df = sent_topics_df.append(pd.Series([int(topic_num), round(prop_topic,4), topic_keywords]), ignore_index=True)\n",
    "            else:\n",
    "                break\n",
    "    sent_topics_df.columns = ['Dominant_Topic', 'Perc_Contribution', 'Topic_Keywords']\n",
    "\n",
    "    # Add original text to the end of the output\n",
    "    contents = original_text\n",
    "    sent_topics_df = pd.concat([sent_topics_df, contents], axis=1)\n",
    "    return(sent_topics_df)\n"
   ]
  },
  {
   "cell_type": "code",
   "execution_count": 36,
   "metadata": {
    "execution": {
     "iopub.execute_input": "2021-11-26T15:14:57.573384Z",
     "iopub.status.busy": "2021-11-26T15:14:57.572797Z",
     "iopub.status.idle": "2021-11-26T15:15:50.472832Z",
     "shell.execute_reply": "2021-11-26T15:15:50.472005Z",
     "shell.execute_reply.started": "2021-11-26T15:14:57.573349Z"
    }
   },
   "outputs": [],
   "source": [
    "df_topic_sents_keywords = format_topics_sentences(ldamodel=lda_model, corpus=corpus, texts=texts, original_text=reviews)"
   ]
  },
  {
   "cell_type": "code",
   "execution_count": 37,
   "metadata": {
    "execution": {
     "iopub.execute_input": "2021-11-26T15:15:50.474489Z",
     "iopub.status.busy": "2021-11-26T15:15:50.474236Z",
     "iopub.status.idle": "2021-11-26T15:15:50.495218Z",
     "shell.execute_reply": "2021-11-26T15:15:50.492522Z",
     "shell.execute_reply.started": "2021-11-26T15:15:50.474459Z"
    }
   },
   "outputs": [
    {
     "data": {
      "text/html": [
       "<div>\n",
       "<style scoped>\n",
       "    .dataframe tbody tr th:only-of-type {\n",
       "        vertical-align: middle;\n",
       "    }\n",
       "\n",
       "    .dataframe tbody tr th {\n",
       "        vertical-align: top;\n",
       "    }\n",
       "\n",
       "    .dataframe thead th {\n",
       "        text-align: right;\n",
       "    }\n",
       "</style>\n",
       "<table border=\"1\" class=\"dataframe\">\n",
       "  <thead>\n",
       "    <tr style=\"text-align: right;\">\n",
       "      <th></th>\n",
       "      <th>Dominant_Topic</th>\n",
       "      <th>Perc_Contribution</th>\n",
       "      <th>Topic_Keywords</th>\n",
       "      <th>review</th>\n",
       "    </tr>\n",
       "  </thead>\n",
       "  <tbody>\n",
       "    <tr>\n",
       "      <th>0</th>\n",
       "      <td>10.0</td>\n",
       "      <td>0.6944</td>\n",
       "      <td>hai, smartphone, nhi, device, bill, bhi, hota,...</td>\n",
       "      <td>Good but need updates and improvements</td>\n",
       "    </tr>\n",
       "    <tr>\n",
       "      <th>1</th>\n",
       "      <td>3.0</td>\n",
       "      <td>0.5345</td>\n",
       "      <td>battery, backup, charger, hours, turbo, time, ...</td>\n",
       "      <td>Worst mobile i have bought ever, Battery is dr...</td>\n",
       "    </tr>\n",
       "    <tr>\n",
       "      <th>2</th>\n",
       "      <td>11.0</td>\n",
       "      <td>0.3611</td>\n",
       "      <td>product, price, range, features, month, earpho...</td>\n",
       "      <td>when I will get my 10% cash back.... its alrea...</td>\n",
       "    </tr>\n",
       "    <tr>\n",
       "      <th>3</th>\n",
       "      <td>0.0</td>\n",
       "      <td>0.0833</td>\n",
       "      <td>camera, performance, mode, processor, android,...</td>\n",
       "      <td>Good</td>\n",
       "    </tr>\n",
       "    <tr>\n",
       "      <th>4</th>\n",
       "      <td>4.0</td>\n",
       "      <td>0.5208</td>\n",
       "      <td>amazon, product, service, days, time, delivery...</td>\n",
       "      <td>The worst phone everThey have changed the last...</td>\n",
       "    </tr>\n",
       "    <tr>\n",
       "      <th>...</th>\n",
       "      <td>...</td>\n",
       "      <td>...</td>\n",
       "      <td>...</td>\n",
       "      <td>...</td>\n",
       "    </tr>\n",
       "    <tr>\n",
       "      <th>14670</th>\n",
       "      <td>0.0</td>\n",
       "      <td>0.0833</td>\n",
       "      <td>camera, performance, mode, processor, android,...</td>\n",
       "      <td>I really like the phone, Everything is working...</td>\n",
       "    </tr>\n",
       "    <tr>\n",
       "      <th>14671</th>\n",
       "      <td>0.0</td>\n",
       "      <td>0.4858</td>\n",
       "      <td>camera, performance, mode, processor, android,...</td>\n",
       "      <td>The Lenovo K8 Note is awesome. It takes best p...</td>\n",
       "    </tr>\n",
       "    <tr>\n",
       "      <th>14672</th>\n",
       "      <td>11.0</td>\n",
       "      <td>0.5525</td>\n",
       "      <td>product, price, range, features, month, earpho...</td>\n",
       "      <td>Awesome Gaget.. @ this price</td>\n",
       "    </tr>\n",
       "    <tr>\n",
       "      <th>14673</th>\n",
       "      <td>9.0</td>\n",
       "      <td>0.3786</td>\n",
       "      <td>problem, heating, issue, network, issues, jio,...</td>\n",
       "      <td>This phone is nice processing will be successf...</td>\n",
       "    </tr>\n",
       "    <tr>\n",
       "      <th>14674</th>\n",
       "      <td>11.0</td>\n",
       "      <td>0.5525</td>\n",
       "      <td>product, price, range, features, month, earpho...</td>\n",
       "      <td>Good product but the pakeging was not enough.</td>\n",
       "    </tr>\n",
       "  </tbody>\n",
       "</table>\n",
       "<p>14675 rows × 4 columns</p>\n",
       "</div>"
      ],
      "text/plain": [
       "       Dominant_Topic  Perc_Contribution  \\\n",
       "0                10.0             0.6944   \n",
       "1                 3.0             0.5345   \n",
       "2                11.0             0.3611   \n",
       "3                 0.0             0.0833   \n",
       "4                 4.0             0.5208   \n",
       "...               ...                ...   \n",
       "14670             0.0             0.0833   \n",
       "14671             0.0             0.4858   \n",
       "14672            11.0             0.5525   \n",
       "14673             9.0             0.3786   \n",
       "14674            11.0             0.5525   \n",
       "\n",
       "                                          Topic_Keywords  \\\n",
       "0      hai, smartphone, nhi, device, bill, bhi, hota,...   \n",
       "1      battery, backup, charger, hours, turbo, time, ...   \n",
       "2      product, price, range, features, month, earpho...   \n",
       "3      camera, performance, mode, processor, android,...   \n",
       "4      amazon, product, service, days, time, delivery...   \n",
       "...                                                  ...   \n",
       "14670  camera, performance, mode, processor, android,...   \n",
       "14671  camera, performance, mode, processor, android,...   \n",
       "14672  product, price, range, features, month, earpho...   \n",
       "14673  problem, heating, issue, network, issues, jio,...   \n",
       "14674  product, price, range, features, month, earpho...   \n",
       "\n",
       "                                                  review  \n",
       "0                 Good but need updates and improvements  \n",
       "1      Worst mobile i have bought ever, Battery is dr...  \n",
       "2      when I will get my 10% cash back.... its alrea...  \n",
       "3                                                   Good  \n",
       "4      The worst phone everThey have changed the last...  \n",
       "...                                                  ...  \n",
       "14670  I really like the phone, Everything is working...  \n",
       "14671  The Lenovo K8 Note is awesome. It takes best p...  \n",
       "14672                       Awesome Gaget.. @ this price  \n",
       "14673  This phone is nice processing will be successf...  \n",
       "14674      Good product but the pakeging was not enough.  \n",
       "\n",
       "[14675 rows x 4 columns]"
      ]
     },
     "execution_count": 37,
     "metadata": {},
     "output_type": "execute_result"
    }
   ],
   "source": [
    "df_topic_sents_keywords"
   ]
  },
  {
   "cell_type": "code",
   "execution_count": 38,
   "metadata": {
    "execution": {
     "iopub.execute_input": "2021-11-26T15:15:50.497090Z",
     "iopub.status.busy": "2021-11-26T15:15:50.496772Z",
     "iopub.status.idle": "2021-11-26T15:15:50.520067Z",
     "shell.execute_reply": "2021-11-26T15:15:50.518953Z",
     "shell.execute_reply.started": "2021-11-26T15:15:50.497052Z"
    }
   },
   "outputs": [
    {
     "data": {
      "text/html": [
       "<div>\n",
       "<style scoped>\n",
       "    .dataframe tbody tr th:only-of-type {\n",
       "        vertical-align: middle;\n",
       "    }\n",
       "\n",
       "    .dataframe tbody tr th {\n",
       "        vertical-align: top;\n",
       "    }\n",
       "\n",
       "    .dataframe thead th {\n",
       "        text-align: right;\n",
       "    }\n",
       "</style>\n",
       "<table border=\"1\" class=\"dataframe\">\n",
       "  <thead>\n",
       "    <tr style=\"text-align: right;\">\n",
       "      <th></th>\n",
       "      <th>Document_No</th>\n",
       "      <th>Dominant_Topic</th>\n",
       "      <th>Topic_Perc_Contrib</th>\n",
       "      <th>Keywords</th>\n",
       "      <th>Text</th>\n",
       "    </tr>\n",
       "  </thead>\n",
       "  <tbody>\n",
       "    <tr>\n",
       "      <th>0</th>\n",
       "      <td>0</td>\n",
       "      <td>10.0</td>\n",
       "      <td>0.6944</td>\n",
       "      <td>hai, smartphone, nhi, device, bill, bhi, hota,...</td>\n",
       "      <td>Good but need updates and improvements</td>\n",
       "    </tr>\n",
       "    <tr>\n",
       "      <th>1</th>\n",
       "      <td>1</td>\n",
       "      <td>3.0</td>\n",
       "      <td>0.5345</td>\n",
       "      <td>battery, backup, charger, hours, turbo, time, ...</td>\n",
       "      <td>Worst mobile i have bought ever, Battery is dr...</td>\n",
       "    </tr>\n",
       "    <tr>\n",
       "      <th>2</th>\n",
       "      <td>2</td>\n",
       "      <td>11.0</td>\n",
       "      <td>0.3611</td>\n",
       "      <td>product, price, range, features, month, earpho...</td>\n",
       "      <td>when I will get my 10% cash back.... its alrea...</td>\n",
       "    </tr>\n",
       "    <tr>\n",
       "      <th>3</th>\n",
       "      <td>3</td>\n",
       "      <td>0.0</td>\n",
       "      <td>0.0833</td>\n",
       "      <td>camera, performance, mode, processor, android,...</td>\n",
       "      <td>Good</td>\n",
       "    </tr>\n",
       "    <tr>\n",
       "      <th>4</th>\n",
       "      <td>4</td>\n",
       "      <td>4.0</td>\n",
       "      <td>0.5208</td>\n",
       "      <td>amazon, product, service, days, time, delivery...</td>\n",
       "      <td>The worst phone everThey have changed the last...</td>\n",
       "    </tr>\n",
       "    <tr>\n",
       "      <th>5</th>\n",
       "      <td>5</td>\n",
       "      <td>5.0</td>\n",
       "      <td>0.5428</td>\n",
       "      <td>money, waste, value, glass, volte, gorilla, co...</td>\n",
       "      <td>Only I'm telling don't buyI'm totally disappoi...</td>\n",
       "    </tr>\n",
       "    <tr>\n",
       "      <th>6</th>\n",
       "      <td>6</td>\n",
       "      <td>5.0</td>\n",
       "      <td>0.5428</td>\n",
       "      <td>money, waste, value, glass, volte, gorilla, co...</td>\n",
       "      <td>Phone is awesome. But while charging, it heats...</td>\n",
       "    </tr>\n",
       "    <tr>\n",
       "      <th>7</th>\n",
       "      <td>7</td>\n",
       "      <td>3.0</td>\n",
       "      <td>0.3611</td>\n",
       "      <td>battery, backup, charger, hours, turbo, time, ...</td>\n",
       "      <td>The battery level has worn down</td>\n",
       "    </tr>\n",
       "    <tr>\n",
       "      <th>8</th>\n",
       "      <td>8</td>\n",
       "      <td>4.0</td>\n",
       "      <td>0.8852</td>\n",
       "      <td>amazon, product, service, days, time, delivery...</td>\n",
       "      <td>It's over hitting problems...and phone hanging...</td>\n",
       "    </tr>\n",
       "    <tr>\n",
       "      <th>9</th>\n",
       "      <td>9</td>\n",
       "      <td>8.0</td>\n",
       "      <td>0.4167</td>\n",
       "      <td>features, camera, feature, app, screen, option...</td>\n",
       "      <td>A lot of glitches dont buy this thing better g...</td>\n",
       "    </tr>\n",
       "  </tbody>\n",
       "</table>\n",
       "</div>"
      ],
      "text/plain": [
       "   Document_No  Dominant_Topic  Topic_Perc_Contrib  \\\n",
       "0            0            10.0              0.6944   \n",
       "1            1             3.0              0.5345   \n",
       "2            2            11.0              0.3611   \n",
       "3            3             0.0              0.0833   \n",
       "4            4             4.0              0.5208   \n",
       "5            5             5.0              0.5428   \n",
       "6            6             5.0              0.5428   \n",
       "7            7             3.0              0.3611   \n",
       "8            8             4.0              0.8852   \n",
       "9            9             8.0              0.4167   \n",
       "\n",
       "                                            Keywords  \\\n",
       "0  hai, smartphone, nhi, device, bill, bhi, hota,...   \n",
       "1  battery, backup, charger, hours, turbo, time, ...   \n",
       "2  product, price, range, features, month, earpho...   \n",
       "3  camera, performance, mode, processor, android,...   \n",
       "4  amazon, product, service, days, time, delivery...   \n",
       "5  money, waste, value, glass, volte, gorilla, co...   \n",
       "6  money, waste, value, glass, volte, gorilla, co...   \n",
       "7  battery, backup, charger, hours, turbo, time, ...   \n",
       "8  amazon, product, service, days, time, delivery...   \n",
       "9  features, camera, feature, app, screen, option...   \n",
       "\n",
       "                                                Text  \n",
       "0             Good but need updates and improvements  \n",
       "1  Worst mobile i have bought ever, Battery is dr...  \n",
       "2  when I will get my 10% cash back.... its alrea...  \n",
       "3                                               Good  \n",
       "4  The worst phone everThey have changed the last...  \n",
       "5  Only I'm telling don't buyI'm totally disappoi...  \n",
       "6  Phone is awesome. But while charging, it heats...  \n",
       "7                    The battery level has worn down  \n",
       "8  It's over hitting problems...and phone hanging...  \n",
       "9  A lot of glitches dont buy this thing better g...  "
      ]
     },
     "execution_count": 38,
     "metadata": {},
     "output_type": "execute_result"
    }
   ],
   "source": [
    "# Format\n",
    "df_dominant_topic = df_topic_sents_keywords.reset_index()\n",
    "df_dominant_topic.columns = ['Document_No', 'Dominant_Topic', 'Topic_Perc_Contrib', 'Keywords', 'Text']\n",
    "\n",
    "# Show\n",
    "df_dominant_topic.head(10)"
   ]
  },
  {
   "cell_type": "code",
   "execution_count": 39,
   "metadata": {
    "execution": {
     "iopub.execute_input": "2021-11-26T15:15:50.522904Z",
     "iopub.status.busy": "2021-11-26T15:15:50.522176Z",
     "iopub.status.idle": "2021-11-26T15:15:50.532522Z",
     "shell.execute_reply": "2021-11-26T15:15:50.531594Z",
     "shell.execute_reply.started": "2021-11-26T15:15:50.522849Z"
    }
   },
   "outputs": [],
   "source": [
    "pd.set_option('display.max_colwidth', None) "
   ]
  },
  {
   "cell_type": "markdown",
   "metadata": {},
   "source": [
    "### View the three most relevant documents for each topic"
   ]
  },
  {
   "cell_type": "code",
   "execution_count": 40,
   "metadata": {
    "execution": {
     "iopub.execute_input": "2021-11-26T15:15:50.535558Z",
     "iopub.status.busy": "2021-11-26T15:15:50.534965Z",
     "iopub.status.idle": "2021-11-26T15:15:50.544302Z",
     "shell.execute_reply": "2021-11-26T15:15:50.543435Z",
     "shell.execute_reply.started": "2021-11-26T15:15:50.535517Z"
    }
   },
   "outputs": [],
   "source": [
    "def sort_df_by_topic_contrib(df_dominant_topic):\n",
    "    df_rep_doc = df_dominant_topic.sort_values(['Topic_Perc_Contrib'], ascending=False).groupby(['Dominant_Topic']).head(3)\n",
    "    df_rep_doc = df_rep_doc.sort_values(['Dominant_Topic'])\n",
    "    return df_rep_doc"
   ]
  },
  {
   "cell_type": "code",
   "execution_count": 41,
   "metadata": {
    "execution": {
     "iopub.execute_input": "2021-11-26T15:15:50.546876Z",
     "iopub.status.busy": "2021-11-26T15:15:50.546233Z",
     "iopub.status.idle": "2021-11-26T15:15:50.589368Z",
     "shell.execute_reply": "2021-11-26T15:15:50.588258Z",
     "shell.execute_reply.started": "2021-11-26T15:15:50.546826Z"
    }
   },
   "outputs": [
    {
     "data": {
      "text/html": [
       "<div>\n",
       "<style scoped>\n",
       "    .dataframe tbody tr th:only-of-type {\n",
       "        vertical-align: middle;\n",
       "    }\n",
       "\n",
       "    .dataframe tbody tr th {\n",
       "        vertical-align: top;\n",
       "    }\n",
       "\n",
       "    .dataframe thead th {\n",
       "        text-align: right;\n",
       "    }\n",
       "</style>\n",
       "<table border=\"1\" class=\"dataframe\">\n",
       "  <thead>\n",
       "    <tr style=\"text-align: right;\">\n",
       "      <th></th>\n",
       "      <th>Document_No</th>\n",
       "      <th>Dominant_Topic</th>\n",
       "      <th>Topic_Perc_Contrib</th>\n",
       "      <th>Keywords</th>\n",
       "      <th>Text</th>\n",
       "    </tr>\n",
       "  </thead>\n",
       "  <tbody>\n",
       "    <tr>\n",
       "      <th>5181</th>\n",
       "      <td>5181</td>\n",
       "      <td>0.0</td>\n",
       "      <td>0.8723</td>\n",
       "      <td>camera, performance, mode, processor, android, update, depth, software, stock, clarity</td>\n",
       "      <td>Full paisa wasool lookFull paisa wasool cameraFull paisa wasool processorFull paisa wasool display with gorilla glassFull paisa wasool price.Over allFull paisa wasool.</td>\n",
       "    </tr>\n",
       "    <tr>\n",
       "      <th>4417</th>\n",
       "      <td>4417</td>\n",
       "      <td>0.0</td>\n",
       "      <td>0.9084</td>\n",
       "      <td>camera, performance, mode, processor, android, update, depth, software, stock, clarity</td>\n",
       "      <td>Excellent Performance Mediatek Hello X23 Deca Core SoC Is Rocking.Only The Down Point Is The RAM Management.</td>\n",
       "    </tr>\n",
       "    <tr>\n",
       "      <th>1812</th>\n",
       "      <td>1812</td>\n",
       "      <td>0.0</td>\n",
       "      <td>0.8849</td>\n",
       "      <td>camera, performance, mode, processor, android, update, depth, software, stock, clarity</td>\n",
       "      <td>Pros:Good BatteryStock AndroidVery SmoothCons:Bad Dual Camera (Probably a fix with software update)Sometimes Overheats</td>\n",
       "    </tr>\n",
       "    <tr>\n",
       "      <th>275</th>\n",
       "      <td>275</td>\n",
       "      <td>1.0</td>\n",
       "      <td>0.8468</td>\n",
       "      <td>video, mark, apps, music, light, redmi, photos, notification, ram, google</td>\n",
       "      <td>I bought this phone for my friendHe is pretty happy with the phoneAll the specs meet his daily basic requirementsButA highly skinned os makes it little fullOtherwise a great tech</td>\n",
       "    </tr>\n",
       "    <tr>\n",
       "      <th>1232</th>\n",
       "      <td>1232</td>\n",
       "      <td>1.0</td>\n",
       "      <td>0.9166</td>\n",
       "      <td>video, mark, apps, music, light, redmi, photos, notification, ram, google</td>\n",
       "      <td>What are all the Pro's and Con's of this device, watch the Full REVIEW Vs Redmi Note 4 on my utube channel, DennisCNLew .. also watch the Durability BEND Test and Splash Test!!!</td>\n",
       "    </tr>\n",
       "    <tr>\n",
       "      <th>4739</th>\n",
       "      <td>4739</td>\n",
       "      <td>1.0</td>\n",
       "      <td>0.8690</td>\n",
       "      <td>video, mark, apps, music, light, redmi, photos, notification, ram, google</td>\n",
       "      <td>Amazing the inbuilt is so nice and made by Motorola. This phone is combination of Moto and Lenovo. Better than any phones of Mi because their phones are not trustable.</td>\n",
       "    </tr>\n",
       "    <tr>\n",
       "      <th>1852</th>\n",
       "      <td>1852</td>\n",
       "      <td>2.0</td>\n",
       "      <td>0.8468</td>\n",
       "      <td>camera, quality, speaker, sound, touch, picture, display, photo, superb, time</td>\n",
       "      <td>When I put the hadephone but don't show the sine of hadephone.....but I hear clearly on hadephone.... please tell me the process ..</td>\n",
       "    </tr>\n",
       "    <tr>\n",
       "      <th>461</th>\n",
       "      <td>461</td>\n",
       "      <td>2.0</td>\n",
       "      <td>0.8690</td>\n",
       "      <td>camera, quality, speaker, sound, touch, picture, display, photo, superb, time</td>\n",
       "      <td>Awesome phone...no lag, camera is average but with lil effort you can pull fine quality images.</td>\n",
       "    </tr>\n",
       "    <tr>\n",
       "      <th>2914</th>\n",
       "      <td>2914</td>\n",
       "      <td>2.0</td>\n",
       "      <td>0.8691</td>\n",
       "      <td>camera, quality, speaker, sound, touch, picture, display, photo, superb, time</td>\n",
       "      <td>Camera not goodgood split performanceBattery backup goodVery best soundsRear camera is not good as copmare to dual camera.</td>\n",
       "    </tr>\n",
       "    <tr>\n",
       "      <th>14218</th>\n",
       "      <td>14218</td>\n",
       "      <td>3.0</td>\n",
       "      <td>0.9238</td>\n",
       "      <td>battery, backup, charger, hours, turbo, time, life, day, charging, usage</td>\n",
       "      <td>Worst device.. device getting so heat while charging also not getting charge fast.... even very difficult to call on this device as that heat hurt Ears..Battery Drain quickly, not working for a full one day even if you are not using Net.</td>\n",
       "    </tr>\n",
       "    <tr>\n",
       "      <th>621</th>\n",
       "      <td>621</td>\n",
       "      <td>3.0</td>\n",
       "      <td>0.9167</td>\n",
       "      <td>battery, backup, charger, hours, turbo, time, life, day, charging, usage</td>\n",
       "      <td>This phone is not good condition..Its take a very long time to full it's battery like 6 to 7 hours, Turbo charger is not working..Battery backup is not good...It's heating a lot... Over heat...</td>\n",
       "    </tr>\n",
       "    <tr>\n",
       "      <th>12042</th>\n",
       "      <td>12042</td>\n",
       "      <td>3.0</td>\n",
       "      <td>0.9084</td>\n",
       "      <td>battery, backup, charger, hours, turbo, time, life, day, charging, usage</td>\n",
       "      <td>I was much interested on f ****ingLenovo k8 note n I got this on 30 of September ..after 2 days it's becoming too hot while using and though the fast charger is not much efficient it's taking 3 to 4 hours to charge and usage is about 5 to 6 hours on continuos FB WhatsApp ( with about 4000 mah battery) ....I hv Never used such a f****ing mobile ..</td>\n",
       "    </tr>\n",
       "    <tr>\n",
       "      <th>8776</th>\n",
       "      <td>8776</td>\n",
       "      <td>4.0</td>\n",
       "      <td>0.9083</td>\n",
       "      <td>amazon, product, service, days, time, delivery, handset, replacement, customer, experience</td>\n",
       "      <td>please don't buy this phone on 16th day of purchase phone stopped working spoke to Amazon they refused to help went to service center they said mother board is faulty &amp; needs replacement which takes 25days so please avoid .</td>\n",
       "    </tr>\n",
       "    <tr>\n",
       "      <th>14604</th>\n",
       "      <td>14604</td>\n",
       "      <td>4.0</td>\n",
       "      <td>0.8981</td>\n",
       "      <td>amazon, product, service, days, time, delivery, handset, replacement, customer, experience</td>\n",
       "      <td>Fantastic product and awesome service provide by Amazon. Thanks to Amazon for fast delivery . Device is very good and works fluently .</td>\n",
       "    </tr>\n",
       "    <tr>\n",
       "      <th>6169</th>\n",
       "      <td>6169</td>\n",
       "      <td>4.0</td>\n",
       "      <td>0.8981</td>\n",
       "      <td>amazon, product, service, days, time, delivery, handset, replacement, customer, experience</td>\n",
       "      <td>Not worth. Within 10days, just after the day of return date it got failed. Has to go to service centre. Very bad experience with the product</td>\n",
       "    </tr>\n",
       "    <tr>\n",
       "      <th>4661</th>\n",
       "      <td>4661</td>\n",
       "      <td>5.0</td>\n",
       "      <td>0.8167</td>\n",
       "      <td>money, waste, value, glass, volte, gorilla, cover, item, hang, k</td>\n",
       "      <td>Dont go for this mobile ....gorilla glass is very weak and waste of money for buying this mobile...</td>\n",
       "    </tr>\n",
       "    <tr>\n",
       "      <th>8075</th>\n",
       "      <td>8075</td>\n",
       "      <td>5.0</td>\n",
       "      <td>0.9684</td>\n",
       "      <td>money, waste, value, glass, volte, gorilla, cover, item, hang, k</td>\n",
       "      <td>Waste waste waste waste waste waste waste waste waste waste waste waste waste waste waste waste waste waste waste waste waste waste waste waste waste waste waste waste</td>\n",
       "    </tr>\n",
       "    <tr>\n",
       "      <th>624</th>\n",
       "      <td>624</td>\n",
       "      <td>5.0</td>\n",
       "      <td>0.7708</td>\n",
       "      <td>money, waste, value, glass, volte, gorilla, cover, item, hang, k</td>\n",
       "      <td>Worst waste of money totaly</td>\n",
       "    </tr>\n",
       "    <tr>\n",
       "      <th>1497</th>\n",
       "      <td>1497</td>\n",
       "      <td>6.0</td>\n",
       "      <td>0.9194</td>\n",
       "      <td>screen, bluetooth, data, box, times, wifi, cast, calls, connection, headset</td>\n",
       "      <td>got Lenovo k8 note intake box today.thank u amazon.but inside box only 1pcs 15w charger 1pcs data cable 1pcs hand set.no any head phone or no extra one 15w charger.when I purchase that time say the description 2pcs 15w charger in box.pls send me feedback for head phone and charger.</td>\n",
       "    </tr>\n",
       "    <tr>\n",
       "      <th>12622</th>\n",
       "      <td>12622</td>\n",
       "      <td>6.0</td>\n",
       "      <td>0.8472</td>\n",
       "      <td>screen, bluetooth, data, box, times, wifi, cast, calls, connection, headset</td>\n",
       "      <td>It is mentioned on website that Box will contain Headset along with charger. But headset is missing.</td>\n",
       "    </tr>\n",
       "    <tr>\n",
       "      <th>5790</th>\n",
       "      <td>5790</td>\n",
       "      <td>6.0</td>\n",
       "      <td>0.7807</td>\n",
       "      <td>screen, bluetooth, data, box, times, wifi, cast, calls, connection, headset</td>\n",
       "      <td>Ordered the phone and now the charger does not work, got it replaced and now I see that screen cast is not work with any smart TV, Bluetooth connectivity is also not good device keeps disconnecting. Not a good device</td>\n",
       "    </tr>\n",
       "    <tr>\n",
       "      <th>7322</th>\n",
       "      <td>7322</td>\n",
       "      <td>7.0</td>\n",
       "      <td>0.8472</td>\n",
       "      <td>dolby, budget, display, heat, killer, sound, phones, atmos, volume, music</td>\n",
       "      <td>World's worst company Lenovo there phone are useless there phone blast during charging don't buy this company phones</td>\n",
       "    </tr>\n",
       "    <tr>\n",
       "      <th>13558</th>\n",
       "      <td>13558</td>\n",
       "      <td>7.0</td>\n",
       "      <td>0.8167</td>\n",
       "      <td>dolby, budget, display, heat, killer, sound, phones, atmos, volume, music</td>\n",
       "      <td>Worst music volume,no home button led</td>\n",
       "    </tr>\n",
       "    <tr>\n",
       "      <th>9712</th>\n",
       "      <td>9712</td>\n",
       "      <td>7.0</td>\n",
       "      <td>0.8981</td>\n",
       "      <td>dolby, budget, display, heat, killer, sound, phones, atmos, volume, music</td>\n",
       "      <td>dont buy this phone whoever find dolby system because its sound system is very poor ..other samsung phone normal music is better than lenovo k8 note dolby system...</td>\n",
       "    </tr>\n",
       "    <tr>\n",
       "      <th>1330</th>\n",
       "      <td>1330</td>\n",
       "      <td>8.0</td>\n",
       "      <td>0.8472</td>\n",
       "      <td>features, camera, feature, app, screen, option, speed, card, sensor, memory</td>\n",
       "      <td>Compare k3 note lot of apps like call recording , screen shot are missing</td>\n",
       "    </tr>\n",
       "    <tr>\n",
       "      <th>649</th>\n",
       "      <td>649</td>\n",
       "      <td>8.0</td>\n",
       "      <td>0.8853</td>\n",
       "      <td>features, camera, feature, app, screen, option, speed, card, sensor, memory</td>\n",
       "      <td>Very poor Ram.Dual Camera feature is like fake feature.I like speed and other features (except ram and secondary 5 mp camera)</td>\n",
       "    </tr>\n",
       "    <tr>\n",
       "      <th>8732</th>\n",
       "      <td>8732</td>\n",
       "      <td>8.0</td>\n",
       "      <td>0.8403</td>\n",
       "      <td>features, camera, feature, app, screen, option, speed, card, sensor, memory</td>\n",
       "      <td>I am using last 15 days... But not good for mobile.. low memory space.... I am not using more apps but low space the memory... Internet on lightly hang the mobile..... So not good for memory space more app installed. And hang to on internet... How to problem solved...</td>\n",
       "    </tr>\n",
       "    <tr>\n",
       "      <th>2589</th>\n",
       "      <td>2589</td>\n",
       "      <td>9.0</td>\n",
       "      <td>0.8473</td>\n",
       "      <td>problem, heating, issue, network, issues, jio, signal, sim, problems, work</td>\n",
       "      <td>Heating problem can be solve by using other Sim than jio ,you can see switch off jio and use phone, the phone will not heat,.other Sim can use then phone will not heat</td>\n",
       "    </tr>\n",
       "    <tr>\n",
       "      <th>3255</th>\n",
       "      <td>3255</td>\n",
       "      <td>9.0</td>\n",
       "      <td>0.8981</td>\n",
       "      <td>problem, heating, issue, network, issues, jio, signal, sim, problems, work</td>\n",
       "      <td>Issue with signal,it is always half ...I really hope it's a software issue that will be fixed with the next update... sometimes there is no sound when someone calls and I have to call them back.. this is a really bad problem and if it doesn't get fixed soon I'm gong to have to buy a new phone...</td>\n",
       "    </tr>\n",
       "    <tr>\n",
       "      <th>3260</th>\n",
       "      <td>3260</td>\n",
       "      <td>9.0</td>\n",
       "      <td>0.8260</td>\n",
       "      <td>problem, heating, issue, network, issues, jio, signal, sim, problems, work</td>\n",
       "      <td>Everything is fine with mobile but there is mainly three issue with the mobile.They are:1) Camera is not good as it should be according to it's specification.2) I am facing network issue in first slot my jio sim network always disappear.It is the most worst thing.3)Alarm don't work when mobile is switched off.So,Please resolve this that's why I am giving three star otherwise it deserve five star.</td>\n",
       "    </tr>\n",
       "    <tr>\n",
       "      <th>10862</th>\n",
       "      <td>10862</td>\n",
       "      <td>10.0</td>\n",
       "      <td>0.8854</td>\n",
       "      <td>hai, smartphone, nhi, device, bill, bhi, hota, improvement, par, drainage</td>\n",
       "      <td>WTF Bill to dikh bhi nhi rha hai iska</td>\n",
       "    </tr>\n",
       "    <tr>\n",
       "      <th>14548</th>\n",
       "      <td>14548</td>\n",
       "      <td>10.0</td>\n",
       "      <td>0.8854</td>\n",
       "      <td>hai, smartphone, nhi, device, bill, bhi, hota, improvement, par, drainage</td>\n",
       "      <td>PoorUi is very bad it always crashes4gb ram only for publicityDevelopers not fixing bugsBoot loop bugUi is not customised for hardwarePoor updates</td>\n",
       "    </tr>\n",
       "    <tr>\n",
       "      <th>777</th>\n",
       "      <td>777</td>\n",
       "      <td>10.0</td>\n",
       "      <td>0.9166</td>\n",
       "      <td>hai, smartphone, nhi, device, bill, bhi, hota, improvement, par, drainage</td>\n",
       "      <td>Mera bill kho gya hai please mere email par bill bhej dijiye</td>\n",
       "    </tr>\n",
       "    <tr>\n",
       "      <th>2737</th>\n",
       "      <td>2737</td>\n",
       "      <td>11.0</td>\n",
       "      <td>0.8169</td>\n",
       "      <td>product, price, range, features, month, earphone, headphone, nahi, facility, weight</td>\n",
       "      <td>It is a dead product sir i want new product fastlyI am sooo sad for this product</td>\n",
       "    </tr>\n",
       "    <tr>\n",
       "      <th>6554</th>\n",
       "      <td>6554</td>\n",
       "      <td>11.0</td>\n",
       "      <td>0.8167</td>\n",
       "      <td>product, price, range, features, month, earphone, headphone, nahi, facility, weight</td>\n",
       "      <td>this product is too costly for this price range it should have been priced under 10000, no one shall order this product.</td>\n",
       "    </tr>\n",
       "    <tr>\n",
       "      <th>12052</th>\n",
       "      <td>12052</td>\n",
       "      <td>11.0</td>\n",
       "      <td>0.8167</td>\n",
       "      <td>product, price, range, features, month, earphone, headphone, nahi, facility, weight</td>\n",
       "      <td>😏Nobody will buy this phone at such a high price. Very high price has been kept. At this price no one can buy this phone, too much price... 😣</td>\n",
       "    </tr>\n",
       "  </tbody>\n",
       "</table>\n",
       "</div>"
      ],
      "text/plain": [
       "       Document_No  Dominant_Topic  Topic_Perc_Contrib  \\\n",
       "5181          5181             0.0              0.8723   \n",
       "4417          4417             0.0              0.9084   \n",
       "1812          1812             0.0              0.8849   \n",
       "275            275             1.0              0.8468   \n",
       "1232          1232             1.0              0.9166   \n",
       "4739          4739             1.0              0.8690   \n",
       "1852          1852             2.0              0.8468   \n",
       "461            461             2.0              0.8690   \n",
       "2914          2914             2.0              0.8691   \n",
       "14218        14218             3.0              0.9238   \n",
       "621            621             3.0              0.9167   \n",
       "12042        12042             3.0              0.9084   \n",
       "8776          8776             4.0              0.9083   \n",
       "14604        14604             4.0              0.8981   \n",
       "6169          6169             4.0              0.8981   \n",
       "4661          4661             5.0              0.8167   \n",
       "8075          8075             5.0              0.9684   \n",
       "624            624             5.0              0.7708   \n",
       "1497          1497             6.0              0.9194   \n",
       "12622        12622             6.0              0.8472   \n",
       "5790          5790             6.0              0.7807   \n",
       "7322          7322             7.0              0.8472   \n",
       "13558        13558             7.0              0.8167   \n",
       "9712          9712             7.0              0.8981   \n",
       "1330          1330             8.0              0.8472   \n",
       "649            649             8.0              0.8853   \n",
       "8732          8732             8.0              0.8403   \n",
       "2589          2589             9.0              0.8473   \n",
       "3255          3255             9.0              0.8981   \n",
       "3260          3260             9.0              0.8260   \n",
       "10862        10862            10.0              0.8854   \n",
       "14548        14548            10.0              0.8854   \n",
       "777            777            10.0              0.9166   \n",
       "2737          2737            11.0              0.8169   \n",
       "6554          6554            11.0              0.8167   \n",
       "12052        12052            11.0              0.8167   \n",
       "\n",
       "                                                                                         Keywords  \\\n",
       "5181       camera, performance, mode, processor, android, update, depth, software, stock, clarity   \n",
       "4417       camera, performance, mode, processor, android, update, depth, software, stock, clarity   \n",
       "1812       camera, performance, mode, processor, android, update, depth, software, stock, clarity   \n",
       "275                     video, mark, apps, music, light, redmi, photos, notification, ram, google   \n",
       "1232                    video, mark, apps, music, light, redmi, photos, notification, ram, google   \n",
       "4739                    video, mark, apps, music, light, redmi, photos, notification, ram, google   \n",
       "1852                camera, quality, speaker, sound, touch, picture, display, photo, superb, time   \n",
       "461                 camera, quality, speaker, sound, touch, picture, display, photo, superb, time   \n",
       "2914                camera, quality, speaker, sound, touch, picture, display, photo, superb, time   \n",
       "14218                    battery, backup, charger, hours, turbo, time, life, day, charging, usage   \n",
       "621                      battery, backup, charger, hours, turbo, time, life, day, charging, usage   \n",
       "12042                    battery, backup, charger, hours, turbo, time, life, day, charging, usage   \n",
       "8776   amazon, product, service, days, time, delivery, handset, replacement, customer, experience   \n",
       "14604  amazon, product, service, days, time, delivery, handset, replacement, customer, experience   \n",
       "6169   amazon, product, service, days, time, delivery, handset, replacement, customer, experience   \n",
       "4661                             money, waste, value, glass, volte, gorilla, cover, item, hang, k   \n",
       "8075                             money, waste, value, glass, volte, gorilla, cover, item, hang, k   \n",
       "624                              money, waste, value, glass, volte, gorilla, cover, item, hang, k   \n",
       "1497                  screen, bluetooth, data, box, times, wifi, cast, calls, connection, headset   \n",
       "12622                 screen, bluetooth, data, box, times, wifi, cast, calls, connection, headset   \n",
       "5790                  screen, bluetooth, data, box, times, wifi, cast, calls, connection, headset   \n",
       "7322                    dolby, budget, display, heat, killer, sound, phones, atmos, volume, music   \n",
       "13558                   dolby, budget, display, heat, killer, sound, phones, atmos, volume, music   \n",
       "9712                    dolby, budget, display, heat, killer, sound, phones, atmos, volume, music   \n",
       "1330                  features, camera, feature, app, screen, option, speed, card, sensor, memory   \n",
       "649                   features, camera, feature, app, screen, option, speed, card, sensor, memory   \n",
       "8732                  features, camera, feature, app, screen, option, speed, card, sensor, memory   \n",
       "2589                   problem, heating, issue, network, issues, jio, signal, sim, problems, work   \n",
       "3255                   problem, heating, issue, network, issues, jio, signal, sim, problems, work   \n",
       "3260                   problem, heating, issue, network, issues, jio, signal, sim, problems, work   \n",
       "10862                   hai, smartphone, nhi, device, bill, bhi, hota, improvement, par, drainage   \n",
       "14548                   hai, smartphone, nhi, device, bill, bhi, hota, improvement, par, drainage   \n",
       "777                     hai, smartphone, nhi, device, bill, bhi, hota, improvement, par, drainage   \n",
       "2737          product, price, range, features, month, earphone, headphone, nahi, facility, weight   \n",
       "6554          product, price, range, features, month, earphone, headphone, nahi, facility, weight   \n",
       "12052         product, price, range, features, month, earphone, headphone, nahi, facility, weight   \n",
       "\n",
       "                                                                                                                                                                                                                                                                                                                                                                                                                  Text  \n",
       "5181                                                                                                                                                                                                                                           Full paisa wasool lookFull paisa wasool cameraFull paisa wasool processorFull paisa wasool display with gorilla glassFull paisa wasool price.Over allFull paisa wasool.  \n",
       "4417                                                                                                                                                                                                                                                                                                      Excellent Performance Mediatek Hello X23 Deca Core SoC Is Rocking.Only The Down Point Is The RAM Management.  \n",
       "1812                                                                                                                                                                                                                                                                                            Pros:Good BatteryStock AndroidVery SmoothCons:Bad Dual Camera (Probably a fix with software update)Sometimes Overheats  \n",
       "275                                                                                                                                                                                                                                 I bought this phone for my friendHe is pretty happy with the phoneAll the specs meet his daily basic requirementsButA highly skinned os makes it little fullOtherwise a great tech  \n",
       "1232                                                                                                                                                                                                                                 What are all the Pro's and Con's of this device, watch the Full REVIEW Vs Redmi Note 4 on my utube channel, DennisCNLew .. also watch the Durability BEND Test and Splash Test!!!  \n",
       "4739                                                                                                                                                                                                                                           Amazing the inbuilt is so nice and made by Motorola. This phone is combination of Moto and Lenovo. Better than any phones of Mi because their phones are not trustable.  \n",
       "1852                                                                                                                                                                                                                                                                               When I put the hadephone but don't show the sine of hadephone.....but I hear clearly on hadephone.... please tell me the process ..  \n",
       "461                                                                                                                                                                                                                                                                                                                    Awesome phone...no lag, camera is average but with lil effort you can pull fine quality images.  \n",
       "2914                                                                                                                                                                                                                                                                                        Camera not goodgood split performanceBattery backup goodVery best soundsRear camera is not good as copmare to dual camera.  \n",
       "14218                                                                                                                                                                    Worst device.. device getting so heat while charging also not getting charge fast.... even very difficult to call on this device as that heat hurt Ears..Battery Drain quickly, not working for a full one day even if you are not using Net.  \n",
       "621                                                                                                                                                                                                                  This phone is not good condition..Its take a very long time to full it's battery like 6 to 7 hours, Turbo charger is not working..Battery backup is not good...It's heating a lot... Over heat...  \n",
       "12042                                                     I was much interested on f ****ingLenovo k8 note n I got this on 30 of September ..after 2 days it's becoming too hot while using and though the fast charger is not much efficient it's taking 3 to 4 hours to charge and usage is about 5 to 6 hours on continuos FB WhatsApp ( with about 4000 mah battery) ....I hv Never used such a f****ing mobile ..  \n",
       "8776                                                                                                                                                                                   please don't buy this phone on 16th day of purchase phone stopped working spoke to Amazon they refused to help went to service center they said mother board is faulty & needs replacement which takes 25days so please avoid .  \n",
       "14604                                                                                                                                                                                                                                                                           Fantastic product and awesome service provide by Amazon. Thanks to Amazon for fast delivery . Device is very good and works fluently .  \n",
       "6169                                                                                                                                                                                                                                                                      Not worth. Within 10days, just after the day of return date it got failed. Has to go to service centre. Very bad experience with the product  \n",
       "4661                                                                                                                                                                                                                                                                                                               Dont go for this mobile ....gorilla glass is very weak and waste of money for buying this mobile...  \n",
       "8075                                                                                                                                                                                                                                           Waste waste waste waste waste waste waste waste waste waste waste waste waste waste waste waste waste waste waste waste waste waste waste waste waste waste waste waste  \n",
       "624                                                                                                                                                                                                                                                                                                                                                                                        Worst waste of money totaly  \n",
       "1497                                                                                                                        got Lenovo k8 note intake box today.thank u amazon.but inside box only 1pcs 15w charger 1pcs data cable 1pcs hand set.no any head phone or no extra one 15w charger.when I purchase that time say the description 2pcs 15w charger in box.pls send me feedback for head phone and charger.  \n",
       "12622                                                                                                                                                                                                                                                                                                             It is mentioned on website that Box will contain Headset along with charger. But headset is missing.  \n",
       "5790                                                                                                                                                                                          Ordered the phone and now the charger does not work, got it replaced and now I see that screen cast is not work with any smart TV, Bluetooth connectivity is also not good device keeps disconnecting. Not a good device  \n",
       "7322                                                                                                                                                                                                                                                                                              World's worst company Lenovo there phone are useless there phone blast during charging don't buy this company phones  \n",
       "13558                                                                                                                                                                                                                                                                                                                                                                            Worst music volume,no home button led  \n",
       "9712                                                                                                                                                                                                                                              dont buy this phone whoever find dolby system because its sound system is very poor ..other samsung phone normal music is better than lenovo k8 note dolby system...  \n",
       "1330                                                                                                                                                                                                                                                                                                                                         Compare k3 note lot of apps like call recording , screen shot are missing  \n",
       "649                                                                                                                                                                                                                                                                                      Very poor Ram.Dual Camera feature is like fake feature.I like speed and other features (except ram and secondary 5 mp camera)  \n",
       "8732                                                                                                                                      I am using last 15 days... But not good for mobile.. low memory space.... I am not using more apps but low space the memory... Internet on lightly hang the mobile..... So not good for memory space more app installed. And hang to on internet... How to problem solved...  \n",
       "2589                                                                                                                                                                                                                                           Heating problem can be solve by using other Sim than jio ,you can see switch off jio and use phone, the phone will not heat,.other Sim can use then phone will not heat  \n",
       "3255                                                                                                          Issue with signal,it is always half ...I really hope it's a software issue that will be fixed with the next update... sometimes there is no sound when someone calls and I have to call them back.. this is a really bad problem and if it doesn't get fixed soon I'm gong to have to buy a new phone...  \n",
       "3260   Everything is fine with mobile but there is mainly three issue with the mobile.They are:1) Camera is not good as it should be according to it's specification.2) I am facing network issue in first slot my jio sim network always disappear.It is the most worst thing.3)Alarm don't work when mobile is switched off.So,Please resolve this that's why I am giving three star otherwise it deserve five star.  \n",
       "10862                                                                                                                                                                                                                                                                                                                                                                            WTF Bill to dikh bhi nhi rha hai iska  \n",
       "14548                                                                                                                                                                                                                                                               PoorUi is very bad it always crashes4gb ram only for publicityDevelopers not fixing bugsBoot loop bugUi is not customised for hardwarePoor updates  \n",
       "777                                                                                                                                                                                                                                                                                                                                                       Mera bill kho gya hai please mere email par bill bhej dijiye  \n",
       "2737                                                                                                                                                                                                                                                                                                                                  It is a dead product sir i want new product fastlyI am sooo sad for this product  \n",
       "6554                                                                                                                                                                                                                                                                                          this product is too costly for this price range it should have been priced under 10000, no one shall order this product.  \n",
       "12052                                                                                                                                                                                                                                                                    😏Nobody will buy this phone at such a high price. Very high price has been kept. At this price no one can buy this phone, too much price... 😣  "
      ]
     },
     "execution_count": 41,
     "metadata": {},
     "output_type": "execute_result"
    }
   ],
   "source": [
    "sort_df_by_topic_contrib(df_dominant_topic)"
   ]
  },
  {
   "cell_type": "markdown",
   "metadata": {},
   "source": [
    "### Assign names to each topic for business usecase"
   ]
  },
  {
   "cell_type": "markdown",
   "metadata": {},
   "source": []
  },
  {
   "cell_type": "code",
   "execution_count": 42,
   "metadata": {
    "execution": {
     "iopub.execute_input": "2021-11-26T15:15:50.592591Z",
     "iopub.status.busy": "2021-11-26T15:15:50.592310Z",
     "iopub.status.idle": "2021-11-26T15:15:50.618461Z",
     "shell.execute_reply": "2021-11-26T15:15:50.617711Z",
     "shell.execute_reply.started": "2021-11-26T15:15:50.592561Z"
    }
   },
   "outputs": [
    {
     "data": {
      "text/html": [
       "<div>\n",
       "<style scoped>\n",
       "    .dataframe tbody tr th:only-of-type {\n",
       "        vertical-align: middle;\n",
       "    }\n",
       "\n",
       "    .dataframe tbody tr th {\n",
       "        vertical-align: top;\n",
       "    }\n",
       "\n",
       "    .dataframe thead th {\n",
       "        text-align: right;\n",
       "    }\n",
       "</style>\n",
       "<table border=\"1\" class=\"dataframe\">\n",
       "  <thead>\n",
       "    <tr style=\"text-align: right;\">\n",
       "      <th></th>\n",
       "      <th>Topic Num</th>\n",
       "      <th>Keywords</th>\n",
       "      <th>topic_names</th>\n",
       "    </tr>\n",
       "  </thead>\n",
       "  <tbody>\n",
       "    <tr>\n",
       "      <th>0</th>\n",
       "      <td>0</td>\n",
       "      <td>camera, performance, mode, processor, android, update, depth, software, stock, clarity, user, system, bit, gaming, core</td>\n",
       "      <td>Software</td>\n",
       "    </tr>\n",
       "    <tr>\n",
       "      <th>1</th>\n",
       "      <td>1</td>\n",
       "      <td>video, mark, apps, music, light, redmi, photos, notification, ram, google, videos, image, moto, speakers, message</td>\n",
       "      <td>None</td>\n",
       "    </tr>\n",
       "    <tr>\n",
       "      <th>2</th>\n",
       "      <td>2</td>\n",
       "      <td>camera, quality, speaker, sound, touch, picture, display, photo, superb, time, class, rest, images, color, stars</td>\n",
       "      <td>Camera and Sound</td>\n",
       "    </tr>\n",
       "    <tr>\n",
       "      <th>3</th>\n",
       "      <td>3</td>\n",
       "      <td>battery, backup, charger, hours, turbo, time, life, day, charging, usage, performance, charge, mah, hrs, use</td>\n",
       "      <td>Battery and Overheating</td>\n",
       "    </tr>\n",
       "    <tr>\n",
       "      <th>4</th>\n",
       "      <td>4</td>\n",
       "      <td>amazon, product, service, days, time, delivery, handset, replacement, customer, experience, return, center, thanks, purchase, piece</td>\n",
       "      <td>Amazon Service</td>\n",
       "    </tr>\n",
       "    <tr>\n",
       "      <th>5</th>\n",
       "      <td>5</td>\n",
       "      <td>money, waste, value, glass, volte, gorilla, cover, item, hang, k, pictures, lte, look, refund, order</td>\n",
       "      <td>Value for money</td>\n",
       "    </tr>\n",
       "    <tr>\n",
       "      <th>6</th>\n",
       "      <td>6</td>\n",
       "      <td>screen, bluetooth, data, box, times, wifi, cast, calls, connection, headset, usb, ear, cable, solution, bed</td>\n",
       "      <td>Packaging and Screen cast</td>\n",
       "    </tr>\n",
       "    <tr>\n",
       "      <th>7</th>\n",
       "      <td>7</td>\n",
       "      <td>dolby, budget, display, heat, killer, sound, phones, atmos, volume, music, buy, thing, button, samsung, cell</td>\n",
       "      <td>Sound sytem</td>\n",
       "    </tr>\n",
       "    <tr>\n",
       "      <th>8</th>\n",
       "      <td>8</td>\n",
       "      <td>features, camera, feature, app, screen, option, speed, card, sensor, memory, recording, voice, lot, flash, good</td>\n",
       "      <td>Low Memory/RAM and missing features</td>\n",
       "    </tr>\n",
       "    <tr>\n",
       "      <th>9</th>\n",
       "      <td>9</td>\n",
       "      <td>problem, heating, issue, network, issues, jio, signal, sim, problems, work, software, internet, star, update, day</td>\n",
       "      <td>Network issue and heating</td>\n",
       "    </tr>\n",
       "    <tr>\n",
       "      <th>10</th>\n",
       "      <td>10</td>\n",
       "      <td>hai, smartphone, nhi, device, bill, bhi, hota, improvement, par, drainage, koi, tha, china, technician, updates</td>\n",
       "      <td>None</td>\n",
       "    </tr>\n",
       "    <tr>\n",
       "      <th>11</th>\n",
       "      <td>11</td>\n",
       "      <td>product, price, range, features, month, earphone, headphone, nahi, facility, weight, jack, sir, sale, raha, bahut</td>\n",
       "      <td>Price</td>\n",
       "    </tr>\n",
       "  </tbody>\n",
       "</table>\n",
       "</div>"
      ],
      "text/plain": [
       "    Topic Num  \\\n",
       "0           0   \n",
       "1           1   \n",
       "2           2   \n",
       "3           3   \n",
       "4           4   \n",
       "5           5   \n",
       "6           6   \n",
       "7           7   \n",
       "8           8   \n",
       "9           9   \n",
       "10         10   \n",
       "11         11   \n",
       "\n",
       "                                                                                                                               Keywords  \\\n",
       "0               camera, performance, mode, processor, android, update, depth, software, stock, clarity, user, system, bit, gaming, core   \n",
       "1                     video, mark, apps, music, light, redmi, photos, notification, ram, google, videos, image, moto, speakers, message   \n",
       "2                      camera, quality, speaker, sound, touch, picture, display, photo, superb, time, class, rest, images, color, stars   \n",
       "3                          battery, backup, charger, hours, turbo, time, life, day, charging, usage, performance, charge, mah, hrs, use   \n",
       "4   amazon, product, service, days, time, delivery, handset, replacement, customer, experience, return, center, thanks, purchase, piece   \n",
       "5                                  money, waste, value, glass, volte, gorilla, cover, item, hang, k, pictures, lte, look, refund, order   \n",
       "6                           screen, bluetooth, data, box, times, wifi, cast, calls, connection, headset, usb, ear, cable, solution, bed   \n",
       "7                          dolby, budget, display, heat, killer, sound, phones, atmos, volume, music, buy, thing, button, samsung, cell   \n",
       "8                       features, camera, feature, app, screen, option, speed, card, sensor, memory, recording, voice, lot, flash, good   \n",
       "9                     problem, heating, issue, network, issues, jio, signal, sim, problems, work, software, internet, star, update, day   \n",
       "10                      hai, smartphone, nhi, device, bill, bhi, hota, improvement, par, drainage, koi, tha, china, technician, updates   \n",
       "11                    product, price, range, features, month, earphone, headphone, nahi, facility, weight, jack, sir, sale, raha, bahut   \n",
       "\n",
       "                            topic_names  \n",
       "0                              Software  \n",
       "1                                  None  \n",
       "2                      Camera and Sound  \n",
       "3               Battery and Overheating  \n",
       "4                        Amazon Service  \n",
       "5                       Value for money  \n",
       "6             Packaging and Screen cast  \n",
       "7                           Sound sytem  \n",
       "8   Low Memory/RAM and missing features  \n",
       "9             Network issue and heating  \n",
       "10                                 None  \n",
       "11                                Price  "
      ]
     },
     "execution_count": 42,
     "metadata": {},
     "output_type": "execute_result"
    }
   ],
   "source": [
    "topicdict = {}\n",
    "for index, topic in lda_model.show_topics(num_topics = 12, formatted=False, num_words= 15):\n",
    "    topicdict[index] = ', '.join(w[0] for w in topic)\n",
    "final_topics = pd.DataFrame(topicdict.items())\n",
    "topic_dict = {0:\"Software\", \n",
    "              1:\"None\", \n",
    "              2:\"Camera and Sound\", \n",
    "              3:\"Battery and Overheating\", \n",
    "              4:\"Amazon Service\", \n",
    "              5:\"Value for money\", \n",
    "              6:\"Packaging and Screen cast\", \n",
    "              7:\"Sound sytem\", \n",
    "              8:\"Low Memory/RAM and missing features\", \n",
    "              9:\"Network issue and heating\", \n",
    "              10:\"None\", \n",
    "              11:\"Price\"}\n",
    "final_topics.columns = [\"Topic Num\", \"Keywords\"]\n",
    "final_topics['topic_names'] = pd.Series(topic_dict).sort_index()\n",
    "final_topics"
   ]
  },
  {
   "cell_type": "markdown",
   "metadata": {},
   "source": [
    "#### Which of the topics can be merged?"
   ]
  },
  {
   "cell_type": "markdown",
   "metadata": {},
   "source": [
    "In the above table topic#4 and topic#6 can be merged, topic#7 and topic#2 can be merged and topic#1 and topic#10 can be merged"
   ]
  },
  {
   "cell_type": "markdown",
   "metadata": {},
   "source": [
    "### Compute Coherence Score"
   ]
  },
  {
   "cell_type": "code",
   "execution_count": 43,
   "metadata": {
    "execution": {
     "iopub.execute_input": "2021-11-26T15:15:50.620772Z",
     "iopub.status.busy": "2021-11-26T15:15:50.619848Z",
     "iopub.status.idle": "2021-11-26T15:15:52.955281Z",
     "shell.execute_reply": "2021-11-26T15:15:52.954005Z",
     "shell.execute_reply.started": "2021-11-26T15:15:50.620718Z"
    }
   },
   "outputs": [
    {
     "name": "stdout",
     "output_type": "stream",
     "text": [
      "\n",
      "Coherence Score:  0.5256851629910054\n"
     ]
    }
   ],
   "source": [
    "# Compute Coherence Score\n",
    "\n",
    "coherence_model_lda = CoherenceModel(model=lda_model, texts=texts, dictionary=id2word, coherence='c_v')\n",
    "coherence_lda = coherence_model_lda.get_coherence()\n",
    "print('\\nCoherence Score: ', coherence_lda)"
   ]
  },
  {
   "cell_type": "markdown",
   "metadata": {},
   "source": [
    "### Find the most optimum model"
   ]
  },
  {
   "cell_type": "code",
   "execution_count": 44,
   "metadata": {
    "execution": {
     "iopub.execute_input": "2021-11-26T15:15:52.959555Z",
     "iopub.status.busy": "2021-11-26T15:15:52.959268Z",
     "iopub.status.idle": "2021-11-26T15:15:52.967826Z",
     "shell.execute_reply": "2021-11-26T15:15:52.966459Z",
     "shell.execute_reply.started": "2021-11-26T15:15:52.959517Z"
    }
   },
   "outputs": [],
   "source": [
    "def compute_coherence_values(dictionary, corpus, texts, limit, start=2, step=3):\n",
    "    \n",
    "    coherence_values = []\n",
    "    model_list = []\n",
    "    for num_topics in range(start, limit, step):\n",
    "    \n",
    "        model = gensim.models.ldamodel.LdaModel(corpus=corpus,\n",
    "                                           id2word=id2word,\n",
    "                                           num_topics=num_topics, \n",
    "                                           random_state=20,\n",
    "                                           passes=15,\n",
    "                                           per_word_topics=True)\n",
    "        model_list.append(model)\n",
    "        coherencemodel = CoherenceModel(model=model, texts=texts, dictionary=dictionary, coherence='c_v')\n",
    "        coherence_values.append(coherencemodel.get_coherence())\n",
    "\n",
    "    return model_list, coherence_values"
   ]
  },
  {
   "cell_type": "code",
   "execution_count": 45,
   "metadata": {
    "execution": {
     "iopub.execute_input": "2021-11-26T15:15:52.969850Z",
     "iopub.status.busy": "2021-11-26T15:15:52.969529Z",
     "iopub.status.idle": "2021-11-26T15:29:20.659208Z",
     "shell.execute_reply": "2021-11-26T15:29:20.657820Z",
     "shell.execute_reply.started": "2021-11-26T15:15:52.969816Z"
    }
   },
   "outputs": [],
   "source": [
    "limit=20\n",
    "start=2\n",
    "step=1\n",
    "model_list, coherence_values = compute_coherence_values(dictionary=id2word, corpus=corpus, texts=texts, start=start, limit=limit, step=step)\n"
   ]
  },
  {
   "cell_type": "code",
   "execution_count": 46,
   "metadata": {
    "execution": {
     "iopub.execute_input": "2021-11-26T15:29:20.662308Z",
     "iopub.status.busy": "2021-11-26T15:29:20.661870Z",
     "iopub.status.idle": "2021-11-26T15:29:21.016968Z",
     "shell.execute_reply": "2021-11-26T15:29:21.016255Z",
     "shell.execute_reply.started": "2021-11-26T15:29:20.662254Z"
    }
   },
   "outputs": [
    {
     "data": {
      "image/png": "[encoded data removed]",
      "text/plain": [
       "<Figure size 1440x720 with 1 Axes>"
      ]
     },
     "metadata": {
      "needs_background": "light"
     },
     "output_type": "display_data"
    },
    {
     "data": {
      "text/plain": [
       "<Figure size 1440x720 with 0 Axes>"
      ]
     },
     "metadata": {},
     "output_type": "display_data"
    }
   ],
   "source": [
    "# Show graph\n",
    "plt.rcParams['figure.figsize'] = (20,10)\n",
    "x = range(start, limit, step)\n",
    "plt.plot(x, coherence_values)\n",
    "plt.xlabel(\"Num Topics\")\n",
    "plt.ylabel(\"Coherence score\")\n",
    "plt.legend((\"coherence_values\"), loc='best')\n",
    "plt.show()\n",
    "plt.savefig(\"optimum_topics.png\")"
   ]
  },
  {
   "cell_type": "code",
   "execution_count": 47,
   "metadata": {
    "execution": {
     "iopub.execute_input": "2021-11-26T15:29:21.018861Z",
     "iopub.status.busy": "2021-11-26T15:29:21.018128Z",
     "iopub.status.idle": "2021-11-26T15:29:21.026140Z",
     "shell.execute_reply": "2021-11-26T15:29:21.025220Z",
     "shell.execute_reply.started": "2021-11-26T15:29:21.018821Z"
    }
   },
   "outputs": [
    {
     "data": {
      "text/plain": [
       "[0.5867435218233518,\n",
       " 0.5408105566665805,\n",
       " 0.5659497729740548,\n",
       " 0.5893290109066381,\n",
       " 0.5838185705710087,\n",
       " 0.5503611004924963,\n",
       " 0.5308087500673625,\n",
       " 0.5524837324377484,\n",
       " 0.5462764667497249,\n",
       " 0.508474163044058,\n",
       " 0.5256851629910054,\n",
       " 0.5140793474622767,\n",
       " 0.4708130530292345,\n",
       " 0.46565240568814154,\n",
       " 0.49824944828449075,\n",
       " 0.4696487964642688,\n",
       " 0.45180645356575044,\n",
       " 0.46567599593477355]"
      ]
     },
     "execution_count": 47,
     "metadata": {},
     "output_type": "execute_result"
    }
   ],
   "source": [
    "coherence_values"
   ]
  },
  {
   "cell_type": "markdown",
   "metadata": {},
   "source": [
    "### Print topics for the best model (num_topics = 5)"
   ]
  },
  {
   "cell_type": "markdown",
   "metadata": {},
   "source": []
  },
  {
   "cell_type": "code",
   "execution_count": 48,
   "metadata": {
    "execution": {
     "iopub.execute_input": "2021-11-26T15:29:21.028448Z",
     "iopub.status.busy": "2021-11-26T15:29:21.028093Z",
     "iopub.status.idle": "2021-11-26T15:29:21.040830Z",
     "shell.execute_reply": "2021-11-26T15:29:21.039868Z",
     "shell.execute_reply.started": "2021-11-26T15:29:21.028403Z"
    }
   },
   "outputs": [
    {
     "name": "stdout",
     "output_type": "stream",
     "text": [
      "Topic #0: camera|performance|mode|quality|processor|android|battery|dolby|depth|music|ram|sound|display|device|stock\n",
      "Topic #1: price|features|screen|range|option|app|phones|volte|sensor|feature|recording|video|gallery|smartphone|apps\n",
      "Topic #2: camera|quality|network|problem|speaker|jio|sim|bluetooth|speed|picture|calls|time|handset|sound|connectivity\n",
      "Topic #3: battery|heating|issue|problem|backup|time|charger|issues|hours|turbo|day|life|heat|charging|update\n",
      "Topic #4: product|amazon|money|service|waste|delivery|value|hai|replacement|customer|return|time|center|box|days\n"
     ]
    }
   ],
   "source": [
    "best_model_index = coherence_values.index(max(coherence_values))\n",
    "num_topics_best = best_model_index + 2\n",
    "lda_model_best = model_list[best_model_index]\n",
    "for index, topic in lda_model_best.show_topics(num_topics = num_topics_best, formatted=False, num_words= 15):\n",
    "    print('Topic #{}: {}'.format(index,'|'.join(w[0] for w in topic)))"
   ]
  },
  {
   "cell_type": "markdown",
   "metadata": {},
   "source": [
    "### Print topics for the second best model (num_topics = 6)"
   ]
  },
  {
   "cell_type": "code",
   "execution_count": 49,
   "metadata": {
    "execution": {
     "iopub.execute_input": "2021-11-26T15:29:21.042931Z",
     "iopub.status.busy": "2021-11-26T15:29:21.042604Z",
     "iopub.status.idle": "2021-11-26T15:29:21.053192Z",
     "shell.execute_reply": "2021-11-26T15:29:21.052206Z",
     "shell.execute_reply.started": "2021-11-26T15:29:21.042886Z"
    }
   },
   "outputs": [
    {
     "name": "stdout",
     "output_type": "stream",
     "text": [
      "Topic #0: camera|performance|mode|android|dolby|depth|display|sound|device|quality|software|stock|signal|music|apps\n",
      "Topic #1: price|camera|features|screen|range|quality|feature|option|processor|app|video|touch|sensor|recording|core\n",
      "Topic #2: camera|quality|problem|network|heating|issue|speaker|jio|sim|bluetooth|mark|calls|work|sound|handset\n",
      "Topic #3: battery|heating|issue|backup|problem|issues|time|charger|day|hours|turbo|life|heat|performance|charging\n",
      "Topic #4: product|amazon|service|delivery|days|replacement|time|customer|experience|return|center|box|screen|thanks|piece\n",
      "Topic #5: money|waste|value|hai|glass|gorilla|screen|nhi|set|nahi|bill|bed|bhi|display|head\n"
     ]
    }
   ],
   "source": [
    "lda_model_second_best = model_list[4]\n",
    "for index, topic in lda_model_second_best.show_topics(num_topics = 6, formatted=False, num_words= 15):\n",
    "    print('Topic #{}: {}'.format(index,'|'.join(w[0] for w in topic)))"
   ]
  },
  {
   "cell_type": "markdown",
   "metadata": {},
   "source": [
    "#### It can be observed that num_topics = 5 provide a better segmentation into topics than num_topics = 6"
   ]
  },
  {
   "cell_type": "markdown",
   "metadata": {},
   "source": [
    "### Coherence score for best topic"
   ]
  },
  {
   "cell_type": "code",
   "execution_count": 50,
   "metadata": {
    "execution": {
     "iopub.execute_input": "2021-11-26T15:29:21.056466Z",
     "iopub.status.busy": "2021-11-26T15:29:21.055017Z",
     "iopub.status.idle": "2021-11-26T15:29:21.063683Z",
     "shell.execute_reply": "2021-11-26T15:29:21.062466Z",
     "shell.execute_reply.started": "2021-11-26T15:29:21.056421Z"
    }
   },
   "outputs": [
    {
     "name": "stdout",
     "output_type": "stream",
     "text": [
      "0.5893290109066381\n"
     ]
    }
   ],
   "source": [
    "coh_score = coherence_values[best_model_index]\n",
    "print(coh_score)"
   ]
  },
  {
   "cell_type": "markdown",
   "metadata": {},
   "source": [
    "### View the 3 most relevant documents for each topic, along with topic probability, keywords and document number"
   ]
  },
  {
   "cell_type": "code",
   "execution_count": 51,
   "metadata": {
    "execution": {
     "iopub.execute_input": "2021-11-26T15:29:21.066377Z",
     "iopub.status.busy": "2021-11-26T15:29:21.066013Z",
     "iopub.status.idle": "2021-11-26T15:30:10.068116Z",
     "shell.execute_reply": "2021-11-26T15:30:10.067171Z",
     "shell.execute_reply.started": "2021-11-26T15:29:21.066330Z"
    }
   },
   "outputs": [
    {
     "data": {
      "text/html": [
       "<div>\n",
       "<style scoped>\n",
       "    .dataframe tbody tr th:only-of-type {\n",
       "        vertical-align: middle;\n",
       "    }\n",
       "\n",
       "    .dataframe tbody tr th {\n",
       "        vertical-align: top;\n",
       "    }\n",
       "\n",
       "    .dataframe thead th {\n",
       "        text-align: right;\n",
       "    }\n",
       "</style>\n",
       "<table border=\"1\" class=\"dataframe\">\n",
       "  <thead>\n",
       "    <tr style=\"text-align: right;\">\n",
       "      <th></th>\n",
       "      <th>Document_No</th>\n",
       "      <th>Dominant_Topic</th>\n",
       "      <th>Topic_Perc_Contrib</th>\n",
       "      <th>Keywords</th>\n",
       "      <th>Text</th>\n",
       "    </tr>\n",
       "  </thead>\n",
       "  <tbody>\n",
       "    <tr>\n",
       "      <th>1457</th>\n",
       "      <td>1457</td>\n",
       "      <td>0.0</td>\n",
       "      <td>0.9720</td>\n",
       "      <td>camera, performance, mode, quality, processor, android, battery, dolby, depth, music</td>\n",
       "      <td>Pros1.stock Android2. Faster updates3. Very fast installation4. Comparatively fast and responsiveSmooth.5. Speaker on this phone is awesome6. Dolby Atmos7. Headphone output (bit above avg)8. Design looks very poor.Cons1.Depth mode is marketing gimmick,2.fixed focus front camera,3.both camera lenses are very poor quality very poor camera performance,4.OS needs lot of stabilization, below 15% battery , the phone starts behaving very weirdly!(I guess it's due to power saving mode)5. Display quality is poor .</td>\n",
       "    </tr>\n",
       "    <tr>\n",
       "      <th>2793</th>\n",
       "      <td>2793</td>\n",
       "      <td>0.0</td>\n",
       "      <td>0.9550</td>\n",
       "      <td>camera, performance, mode, quality, processor, android, battery, dolby, depth, music</td>\n",
       "      <td>Dolby Atmos / Sound output is pathetic. I used my Sony headpones other Lenovo k series it was awesome. But on this it is like using some cheap Chinese phone. Even my Samsung on5 gives far greater output than this.I searched online, &amp; found that people are already complaining to Lenovo about this issue but no action has been taken yet.Unfortunately I am not able to return this as there is no option available from Amazon.Dolby was the only USP in k8 which I was looking forward to &amp; that came out to be the worst one.EXTREMELY DISAPPOINTED !</td>\n",
       "    </tr>\n",
       "    <tr>\n",
       "      <th>5408</th>\n",
       "      <td>5408</td>\n",
       "      <td>0.0</td>\n",
       "      <td>0.9548</td>\n",
       "      <td>camera, performance, mode, quality, processor, android, battery, dolby, depth, music</td>\n",
       "      <td>this phone comes with lots of probleam and i am buy this phone only features for dual camera but i am not satisfied of this phone because secondary camera are not work in depth mode and clear photos as low light i hope the secondary camera is not any work here?My suggestion lenovo improve ur quality and features.There is nothing like what you are getting on the phone's features if you are taking dual camera for a bad phone</td>\n",
       "    </tr>\n",
       "    <tr>\n",
       "      <th>5274</th>\n",
       "      <td>5274</td>\n",
       "      <td>1.0</td>\n",
       "      <td>0.9269</td>\n",
       "      <td>price, features, screen, range, option, app, phones, volte, sensor, feature</td>\n",
       "      <td>A few very common features missing which is very strange.1. You can't select any tune from your labs as a ringtone.2. It doesn't support VoLTE.3. There is no screen mirroring.4. Phone gets hot after long usage.All these features nowadays are available in lower phones but somehow Lenovo has missed to provide. Any clue why?</td>\n",
       "    </tr>\n",
       "    <tr>\n",
       "      <th>11513</th>\n",
       "      <td>11513</td>\n",
       "      <td>1.0</td>\n",
       "      <td>0.9268</td>\n",
       "      <td>price, features, screen, range, option, app, phones, volte, sensor, feature</td>\n",
       "      <td>Some of the basic software features are missing like1. The option for scheduled power ON/OFF is not there.2. The option for customised ringtone is not there.3. The option for hotspot metering like in lenovo k3 note is not there.</td>\n",
       "    </tr>\n",
       "    <tr>\n",
       "      <th>1232</th>\n",
       "      <td>1232</td>\n",
       "      <td>1.0</td>\n",
       "      <td>0.9262</td>\n",
       "      <td>price, features, screen, range, option, app, phones, volte, sensor, feature</td>\n",
       "      <td>What are all the Pro's and Con's of this device, watch the Full REVIEW Vs Redmi Note 4 on my utube channel, DennisCNLew .. also watch the Durability BEND Test and Splash Test!!!</td>\n",
       "    </tr>\n",
       "    <tr>\n",
       "      <th>7783</th>\n",
       "      <td>7783</td>\n",
       "      <td>2.0</td>\n",
       "      <td>0.9424</td>\n",
       "      <td>camera, quality, network, problem, speaker, jio, sim, bluetooth, speed, picture</td>\n",
       "      <td>(1) Call k Doran slide baar niche aajata h kaan k touch hotehi .(2) light Sencer is not work properly.(3)beatry is not longer time work.</td>\n",
       "    </tr>\n",
       "    <tr>\n",
       "      <th>3124</th>\n",
       "      <td>3124</td>\n",
       "      <td>2.0</td>\n",
       "      <td>0.9270</td>\n",
       "      <td>camera, quality, network, problem, speaker, jio, sim, bluetooth, speed, picture</td>\n",
       "      <td>back camera bekarga undi lanjodukuam camera ra edi nee.......back camera mari worast ga undi</td>\n",
       "    </tr>\n",
       "    <tr>\n",
       "      <th>1125</th>\n",
       "      <td>1125</td>\n",
       "      <td>2.0</td>\n",
       "      <td>0.9267</td>\n",
       "      <td>camera, quality, network, problem, speaker, jio, sim, bluetooth, speed, picture</td>\n",
       "      <td>I face some problemsSensor problemBattery drain too fastApp hangedScreen touch show mark after click in callin Manageri think u sent me a defective pice</td>\n",
       "    </tr>\n",
       "    <tr>\n",
       "      <th>11837</th>\n",
       "      <td>11837</td>\n",
       "      <td>3.0</td>\n",
       "      <td>0.9595</td>\n",
       "      <td>battery, heating, issue, problem, backup, time, charger, issues, hours, turbo</td>\n",
       "      <td>Hi guys I have received it yesterday only. The 2 main problems are1 . Heating issue - though not installed many apps as yesterday only received the handset but still getting very hot2. Charging and battery issue - even after turbo charger it's taking more then 4 he to charge and battery got drained in 8hr only with very limited use of phoneSo plz suggest is it normal or having issue in my handset . Should I return it???</td>\n",
       "    </tr>\n",
       "    <tr>\n",
       "      <th>8329</th>\n",
       "      <td>8329</td>\n",
       "      <td>3.0</td>\n",
       "      <td>0.9554</td>\n",
       "      <td>battery, heating, issue, problem, backup, time, charger, issues, hours, turbo</td>\n",
       "      <td>Plz dont go for it. battery backup is utter worst,even though its mentioned 4000mah, getting hardly 4hours without data and getting 4hours time to get the full charge inspite of turbo charger. getting lot of heat all the time. utter worst battery backup and the power charging. 0 rating</td>\n",
       "    </tr>\n",
       "    <tr>\n",
       "      <th>9044</th>\n",
       "      <td>9044</td>\n",
       "      <td>3.0</td>\n",
       "      <td>0.9465</td>\n",
       "      <td>battery, heating, issue, problem, backup, time, charger, issues, hours, turbo</td>\n",
       "      <td>Totally dissatisfied with the battery performance and heating issue. Lenovo claims it as Turbo charging, but it takes around 4-5 hours for charging 100 %.More over battery drains fast - even if the internet is switched off. If you are planning to buy this mobile, do not forgot to buy a pair of gloves. If not, you may end up burning your hands.</td>\n",
       "    </tr>\n",
       "    <tr>\n",
       "      <th>14639</th>\n",
       "      <td>14639</td>\n",
       "      <td>4.0</td>\n",
       "      <td>0.9800</td>\n",
       "      <td>product, amazon, money, service, waste, delivery, value, hai, replacement, customer</td>\n",
       "      <td>Chor hai amazon wale maine 19 october ko complain kiya tha lenovo k8 note k liye or pickup hua 15 november ko or refund k liye roz bola jaa rha hai k aaj refund ho jayega aaj refund ho jayega... Or aaj jab call lagaya to mere no ko block kr diya gya hai. Maine screenshort bhej diya hai... Chor hai chor hai</td>\n",
       "    </tr>\n",
       "    <tr>\n",
       "      <th>8075</th>\n",
       "      <td>8075</td>\n",
       "      <td>4.0</td>\n",
       "      <td>0.9724</td>\n",
       "      <td>product, amazon, money, service, waste, delivery, value, hai, replacement, customer</td>\n",
       "      <td>Waste waste waste waste waste waste waste waste waste waste waste waste waste waste waste waste waste waste waste waste waste waste waste waste waste waste waste waste</td>\n",
       "    </tr>\n",
       "    <tr>\n",
       "      <th>14210</th>\n",
       "      <td>14210</td>\n",
       "      <td>4.0</td>\n",
       "      <td>0.9701</td>\n",
       "      <td>product, amazon, money, service, waste, delivery, value, hai, replacement, customer</td>\n",
       "      <td>Ek dum bekaarPehLe charger kharab diya fr complaint kri toh 4 din inko replacement m Lg gye uske baad bhi kaharb phone delivered kiyaa itna overheated or Bakwaas phone h ye...Mera pehla online product tha ye Ek dum bekaaar.....I'm suggest you bilkul mt purchase krna</td>\n",
       "    </tr>\n",
       "  </tbody>\n",
       "</table>\n",
       "</div>"
      ],
      "text/plain": [
       "       Document_No  Dominant_Topic  Topic_Perc_Contrib  \\\n",
       "1457          1457             0.0              0.9720   \n",
       "2793          2793             0.0              0.9550   \n",
       "5408          5408             0.0              0.9548   \n",
       "5274          5274             1.0              0.9269   \n",
       "11513        11513             1.0              0.9268   \n",
       "1232          1232             1.0              0.9262   \n",
       "7783          7783             2.0              0.9424   \n",
       "3124          3124             2.0              0.9270   \n",
       "1125          1125             2.0              0.9267   \n",
       "11837        11837             3.0              0.9595   \n",
       "8329          8329             3.0              0.9554   \n",
       "9044          9044             3.0              0.9465   \n",
       "14639        14639             4.0              0.9800   \n",
       "8075          8075             4.0              0.9724   \n",
       "14210        14210             4.0              0.9701   \n",
       "\n",
       "                                                                                   Keywords  \\\n",
       "1457   camera, performance, mode, quality, processor, android, battery, dolby, depth, music   \n",
       "2793   camera, performance, mode, quality, processor, android, battery, dolby, depth, music   \n",
       "5408   camera, performance, mode, quality, processor, android, battery, dolby, depth, music   \n",
       "5274            price, features, screen, range, option, app, phones, volte, sensor, feature   \n",
       "11513           price, features, screen, range, option, app, phones, volte, sensor, feature   \n",
       "1232            price, features, screen, range, option, app, phones, volte, sensor, feature   \n",
       "7783        camera, quality, network, problem, speaker, jio, sim, bluetooth, speed, picture   \n",
       "3124        camera, quality, network, problem, speaker, jio, sim, bluetooth, speed, picture   \n",
       "1125        camera, quality, network, problem, speaker, jio, sim, bluetooth, speed, picture   \n",
       "11837         battery, heating, issue, problem, backup, time, charger, issues, hours, turbo   \n",
       "8329          battery, heating, issue, problem, backup, time, charger, issues, hours, turbo   \n",
       "9044          battery, heating, issue, problem, backup, time, charger, issues, hours, turbo   \n",
       "14639   product, amazon, money, service, waste, delivery, value, hai, replacement, customer   \n",
       "8075    product, amazon, money, service, waste, delivery, value, hai, replacement, customer   \n",
       "14210   product, amazon, money, service, waste, delivery, value, hai, replacement, customer   \n",
       "\n",
       "                                                                                                                                                                                                                                                                                                                                                                                                                                                                                                                                                                  Text  \n",
       "1457                                    Pros1.stock Android2. Faster updates3. Very fast installation4. Comparatively fast and responsiveSmooth.5. Speaker on this phone is awesome6. Dolby Atmos7. Headphone output (bit above avg)8. Design looks very poor.Cons1.Depth mode is marketing gimmick,2.fixed focus front camera,3.both camera lenses are very poor quality very poor camera performance,4.OS needs lot of stabilization, below 15% battery , the phone starts behaving very weirdly!(I guess it's due to power saving mode)5. Display quality is poor .  \n",
       "2793   Dolby Atmos / Sound output is pathetic. I used my Sony headpones other Lenovo k series it was awesome. But on this it is like using some cheap Chinese phone. Even my Samsung on5 gives far greater output than this.I searched online, & found that people are already complaining to Lenovo about this issue but no action has been taken yet.Unfortunately I am not able to return this as there is no option available from Amazon.Dolby was the only USP in k8 which I was looking forward to & that came out to be the worst one.EXTREMELY DISAPPOINTED !  \n",
       "5408                                                                                                                        this phone comes with lots of probleam and i am buy this phone only features for dual camera but i am not satisfied of this phone because secondary camera are not work in depth mode and clear photos as low light i hope the secondary camera is not any work here?My suggestion lenovo improve ur quality and features.There is nothing like what you are getting on the phone's features if you are taking dual camera for a bad phone  \n",
       "5274                                                                                                                                                                                                                               A few very common features missing which is very strange.1. You can't select any tune from your labs as a ringtone.2. It doesn't support VoLTE.3. There is no screen mirroring.4. Phone gets hot after long usage.All these features nowadays are available in lower phones but somehow Lenovo has missed to provide. Any clue why?  \n",
       "11513                                                                                                                                                                                                                                                                                                                             Some of the basic software features are missing like1. The option for scheduled power ON/OFF is not there.2. The option for customised ringtone is not there.3. The option for hotspot metering like in lenovo k3 note is not there.  \n",
       "1232                                                                                                                                                                                                                                                                                                                                                                                 What are all the Pro's and Con's of this device, watch the Full REVIEW Vs Redmi Note 4 on my utube channel, DennisCNLew .. also watch the Durability BEND Test and Splash Test!!!  \n",
       "7783                                                                                                                                                                                                                                                                                                                                                                                                                          (1) Call k Doran slide baar niche aajata h kaan k touch hotehi .(2) light Sencer is not work properly.(3)beatry is not longer time work.  \n",
       "3124                                                                                                                                                                                                                                                                                                                                                                                                                                                                      back camera bekarga undi lanjodukuam camera ra edi nee.......back camera mari worast ga undi  \n",
       "1125                                                                                                                                                                                                                                                                                                                                                                                                          I face some problemsSensor problemBattery drain too fastApp hangedScreen touch show mark after click in callin Manageri think u sent me a defective pice  \n",
       "11837                                                                                                                          Hi guys I have received it yesterday only. The 2 main problems are1 . Heating issue - though not installed many apps as yesterday only received the handset but still getting very hot2. Charging and battery issue - even after turbo charger it's taking more then 4 he to charge and battery got drained in 8hr only with very limited use of phoneSo plz suggest is it normal or having issue in my handset . Should I return it???  \n",
       "8329                                                                                                                                                                                                                                                                    Plz dont go for it. battery backup is utter worst,even though its mentioned 4000mah, getting hardly 4hours without data and getting 4hours time to get the full charge inspite of turbo charger. getting lot of heat all the time. utter worst battery backup and the power charging. 0 rating  \n",
       "9044                                                                                                                                                                                                         Totally dissatisfied with the battery performance and heating issue. Lenovo claims it as Turbo charging, but it takes around 4-5 hours for charging 100 %.More over battery drains fast - even if the internet is switched off. If you are planning to buy this mobile, do not forgot to buy a pair of gloves. If not, you may end up burning your hands.  \n",
       "14639                                                                                                                                                                                                                                              Chor hai amazon wale maine 19 october ko complain kiya tha lenovo k8 note k liye or pickup hua 15 november ko or refund k liye roz bola jaa rha hai k aaj refund ho jayega aaj refund ho jayega... Or aaj jab call lagaya to mere no ko block kr diya gya hai. Maine screenshort bhej diya hai... Chor hai chor hai  \n",
       "8075                                                                                                                                                                                                                                                                                                                                                                                           Waste waste waste waste waste waste waste waste waste waste waste waste waste waste waste waste waste waste waste waste waste waste waste waste waste waste waste waste  \n",
       "14210                                                                                                                                                                                                                                                                                       Ek dum bekaarPehLe charger kharab diya fr complaint kri toh 4 din inko replacement m Lg gye uske baad bhi kaharb phone delivered kiyaa itna overheated or Bakwaas phone h ye...Mera pehla online product tha ye Ek dum bekaaar.....I'm suggest you bilkul mt purchase krna  "
      ]
     },
     "execution_count": 51,
     "metadata": {},
     "output_type": "execute_result"
    }
   ],
   "source": [
    "df_topic_keywords = format_topics_sentences(ldamodel=lda_model_best, corpus=corpus, texts=texts, original_text=reviews)\n",
    "# Format\n",
    "df_dominant_topic_best = df_topic_keywords.reset_index()\n",
    "df_dominant_topic_best.columns = ['Document_No', 'Dominant_Topic', 'Topic_Perc_Contrib', 'Keywords', 'Text']\n",
    "sort_df_by_topic_contrib(df_dominant_topic_best)"
   ]
  },
  {
   "cell_type": "code",
   "execution_count": null,
   "metadata": {},
   "outputs": [],
   "source": []
  },
  {
   "cell_type": "markdown",
   "metadata": {},
   "source": [
    "#### We need to look more closely into topic#2 and topic#4"
   ]
  },
  {
   "cell_type": "code",
   "execution_count": 52,
   "metadata": {
    "execution": {
     "iopub.execute_input": "2021-11-26T15:30:10.070326Z",
     "iopub.status.busy": "2021-11-26T15:30:10.069796Z",
     "iopub.status.idle": "2021-11-26T15:30:10.102942Z",
     "shell.execute_reply": "2021-11-26T15:30:10.102061Z",
     "shell.execute_reply.started": "2021-11-26T15:30:10.070267Z"
    }
   },
   "outputs": [
    {
     "data": {
      "text/html": [
       "<div>\n",
       "<style scoped>\n",
       "    .dataframe tbody tr th:only-of-type {\n",
       "        vertical-align: middle;\n",
       "    }\n",
       "\n",
       "    .dataframe tbody tr th {\n",
       "        vertical-align: top;\n",
       "    }\n",
       "\n",
       "    .dataframe thead th {\n",
       "        text-align: right;\n",
       "    }\n",
       "</style>\n",
       "<table border=\"1\" class=\"dataframe\">\n",
       "  <thead>\n",
       "    <tr style=\"text-align: right;\">\n",
       "      <th></th>\n",
       "      <th>Document_No</th>\n",
       "      <th>Dominant_Topic</th>\n",
       "      <th>Topic_Perc_Contrib</th>\n",
       "      <th>Keywords</th>\n",
       "      <th>Text</th>\n",
       "    </tr>\n",
       "  </thead>\n",
       "  <tbody>\n",
       "    <tr>\n",
       "      <th>6040</th>\n",
       "      <td>6040</td>\n",
       "      <td>2.0</td>\n",
       "      <td>0.8847</td>\n",
       "      <td>camera, quality, network, problem, speaker, jio, sim, bluetooth, speed, picture</td>\n",
       "      <td>Not good one compare, very poor Network reception, very slow camera, slove in responce,</td>\n",
       "    </tr>\n",
       "    <tr>\n",
       "      <th>4877</th>\n",
       "      <td>4877</td>\n",
       "      <td>2.0</td>\n",
       "      <td>0.8850</td>\n",
       "      <td>camera, quality, network, problem, speaker, jio, sim, bluetooth, speed, picture</td>\n",
       "      <td>Display problem , speaker problem, network problem.....m not satisfied</td>\n",
       "    </tr>\n",
       "    <tr>\n",
       "      <th>14666</th>\n",
       "      <td>14666</td>\n",
       "      <td>2.0</td>\n",
       "      <td>0.9199</td>\n",
       "      <td>camera, quality, network, problem, speaker, jio, sim, bluetooth, speed, picture</td>\n",
       "      <td>I am facing problem with network connection.When we call although the phone is receiving the connection still it replies that the phone is swithched off.There is always a network problem in the phone. Network singles are never too full. Therefore, this phone should be replaced.</td>\n",
       "    </tr>\n",
       "    <tr>\n",
       "      <th>1563</th>\n",
       "      <td>1563</td>\n",
       "      <td>2.0</td>\n",
       "      <td>0.9197</td>\n",
       "      <td>camera, quality, network, problem, speaker, jio, sim, bluetooth, speed, picture</td>\n",
       "      <td>This is a worst phone... I already have a Lenovo k3 note is much better than K8 note... You can't record calls while incoming or outgoing calls... It's not showing caller area while calling or even not in phone book....No smart answer function... It's also not showing Data speed....K3 Note is much better than K8... I never recommend to purchase K8....</td>\n",
       "    </tr>\n",
       "    <tr>\n",
       "      <th>2914</th>\n",
       "      <td>2914</td>\n",
       "      <td>2.0</td>\n",
       "      <td>0.8998</td>\n",
       "      <td>camera, quality, network, problem, speaker, jio, sim, bluetooth, speed, picture</td>\n",
       "      <td>Camera not goodgood split performanceBattery backup goodVery best soundsRear camera is not good as copmare to dual camera.</td>\n",
       "    </tr>\n",
       "    <tr>\n",
       "      <th>2901</th>\n",
       "      <td>2901</td>\n",
       "      <td>2.0</td>\n",
       "      <td>0.9108</td>\n",
       "      <td>camera, quality, network, problem, speaker, jio, sim, bluetooth, speed, picture</td>\n",
       "      <td>I have not got my earsets on boxwhat is the problem for just i need my earsets back as soon as possibleother wise tell me the customar number i will need replay for this as soon as possible</td>\n",
       "    </tr>\n",
       "    <tr>\n",
       "      <th>1476</th>\n",
       "      <td>1476</td>\n",
       "      <td>2.0</td>\n",
       "      <td>0.9106</td>\n",
       "      <td>camera, quality, network, problem, speaker, jio, sim, bluetooth, speed, picture</td>\n",
       "      <td>1) Camera Quality is Very Bad 13Mp or 5Mp Dual Camera Not Improve.2) Overheating ⚠️ Problem3) Hanging ⚠️ Problem4) Display Quality is Very Good 👍5) Available In Amazon.in</td>\n",
       "    </tr>\n",
       "    <tr>\n",
       "      <th>14548</th>\n",
       "      <td>14548</td>\n",
       "      <td>2.0</td>\n",
       "      <td>0.8993</td>\n",
       "      <td>camera, quality, network, problem, speaker, jio, sim, bluetooth, speed, picture</td>\n",
       "      <td>PoorUi is very bad it always crashes4gb ram only for publicityDevelopers not fixing bugsBoot loop bugUi is not customised for hardwarePoor updates</td>\n",
       "    </tr>\n",
       "    <tr>\n",
       "      <th>423</th>\n",
       "      <td>423</td>\n",
       "      <td>2.0</td>\n",
       "      <td>0.9092</td>\n",
       "      <td>camera, quality, network, problem, speaker, jio, sim, bluetooth, speed, picture</td>\n",
       "      <td>This device running smoothly for 2.5 monthsAfter that hanging problem eg then data is book can't open very slowly change and many more problems in this device.</td>\n",
       "    </tr>\n",
       "    <tr>\n",
       "      <th>3640</th>\n",
       "      <td>3640</td>\n",
       "      <td>2.0</td>\n",
       "      <td>0.8853</td>\n",
       "      <td>camera, quality, network, problem, speaker, jio, sim, bluetooth, speed, picture</td>\n",
       "      <td>Front Camera quality is poor in nightSound is superb.Display is sharp and clear.Back camera needs some improvement.</td>\n",
       "    </tr>\n",
       "    <tr>\n",
       "      <th>3124</th>\n",
       "      <td>3124</td>\n",
       "      <td>2.0</td>\n",
       "      <td>0.9270</td>\n",
       "      <td>camera, quality, network, problem, speaker, jio, sim, bluetooth, speed, picture</td>\n",
       "      <td>back camera bekarga undi lanjodukuam camera ra edi nee.......back camera mari worast ga undi</td>\n",
       "    </tr>\n",
       "    <tr>\n",
       "      <th>6073</th>\n",
       "      <td>6073</td>\n",
       "      <td>2.0</td>\n",
       "      <td>0.8845</td>\n",
       "      <td>camera, quality, network, problem, speaker, jio, sim, bluetooth, speed, picture</td>\n",
       "      <td>Big disappointment. Very normal phone except front camera. Bluetooth connectivity is worst. Display quality is very normal.</td>\n",
       "    </tr>\n",
       "    <tr>\n",
       "      <th>466</th>\n",
       "      <td>466</td>\n",
       "      <td>2.0</td>\n",
       "      <td>0.8845</td>\n",
       "      <td>camera, quality, network, problem, speaker, jio, sim, bluetooth, speed, picture</td>\n",
       "      <td>Wrost mobile I ever seen, jio number is not support for call, only for internet, my request is don't buy it.</td>\n",
       "    </tr>\n",
       "    <tr>\n",
       "      <th>7783</th>\n",
       "      <td>7783</td>\n",
       "      <td>2.0</td>\n",
       "      <td>0.9424</td>\n",
       "      <td>camera, quality, network, problem, speaker, jio, sim, bluetooth, speed, picture</td>\n",
       "      <td>(1) Call k Doran slide baar niche aajata h kaan k touch hotehi .(2) light Sencer is not work properly.(3)beatry is not longer time work.</td>\n",
       "    </tr>\n",
       "    <tr>\n",
       "      <th>1125</th>\n",
       "      <td>1125</td>\n",
       "      <td>2.0</td>\n",
       "      <td>0.9267</td>\n",
       "      <td>camera, quality, network, problem, speaker, jio, sim, bluetooth, speed, picture</td>\n",
       "      <td>I face some problemsSensor problemBattery drain too fastApp hangedScreen touch show mark after click in callin Manageri think u sent me a defective pice</td>\n",
       "    </tr>\n",
       "    <tr>\n",
       "      <th>14133</th>\n",
       "      <td>14133</td>\n",
       "      <td>4.0</td>\n",
       "      <td>0.9375</td>\n",
       "      <td>product, amazon, money, service, waste, delivery, value, hai, replacement, customer</td>\n",
       "      <td>Worst product with waste of money start lining on screen in just 6 day from date of deliverywith no return policy amazon claiming only replace policytotally waste of money</td>\n",
       "    </tr>\n",
       "    <tr>\n",
       "      <th>8075</th>\n",
       "      <td>8075</td>\n",
       "      <td>4.0</td>\n",
       "      <td>0.9724</td>\n",
       "      <td>product, amazon, money, service, waste, delivery, value, hai, replacement, customer</td>\n",
       "      <td>Waste waste waste waste waste waste waste waste waste waste waste waste waste waste waste waste waste waste waste waste waste waste waste waste waste waste waste waste</td>\n",
       "    </tr>\n",
       "    <tr>\n",
       "      <th>14210</th>\n",
       "      <td>14210</td>\n",
       "      <td>4.0</td>\n",
       "      <td>0.9701</td>\n",
       "      <td>product, amazon, money, service, waste, delivery, value, hai, replacement, customer</td>\n",
       "      <td>Ek dum bekaarPehLe charger kharab diya fr complaint kri toh 4 din inko replacement m Lg gye uske baad bhi kaharb phone delivered kiyaa itna overheated or Bakwaas phone h ye...Mera pehla online product tha ye Ek dum bekaaar.....I'm suggest you bilkul mt purchase krna</td>\n",
       "    </tr>\n",
       "    <tr>\n",
       "      <th>14171</th>\n",
       "      <td>14171</td>\n",
       "      <td>4.0</td>\n",
       "      <td>0.9665</td>\n",
       "      <td>product, amazon, money, service, waste, delivery, value, hai, replacement, customer</td>\n",
       "      <td>Bakhwas hai ye mobile sale kuchi din chala aab hank hone laga... Betary v 3 ghante se jyasa nhi chalti... Mobile heat v bahat jyada hota hai kb fat jaye pata nhi..</td>\n",
       "    </tr>\n",
       "    <tr>\n",
       "      <th>14175</th>\n",
       "      <td>14175</td>\n",
       "      <td>4.0</td>\n",
       "      <td>0.9617</td>\n",
       "      <td>product, amazon, money, service, waste, delivery, value, hai, replacement, customer</td>\n",
       "      <td>The phone was continuously hanging and after restarting it stopped working completely as blue screen appeared.I have raised return request, however, due to amazing return policy of amazon, I am unable to return this defective product. They were supposed to send a technician to inspect the product before approving for return. The technician who is supposed to visit did not bother to come and his phone is switched off. I tried to call up at the customer service several time and the call is not getting connected to any of the customer rep. I am extremely dissatisfied with the services and policies of Amazon. It is 0 for me.</td>\n",
       "    </tr>\n",
       "    <tr>\n",
       "      <th>1180</th>\n",
       "      <td>1180</td>\n",
       "      <td>4.0</td>\n",
       "      <td>0.9591</td>\n",
       "      <td>product, amazon, money, service, waste, delivery, value, hai, replacement, customer</td>\n",
       "      <td>Sir Mera name biswajit adhikary,sir may 15.10.17 date Mai Lenovo k8 note liye the lekin mobile box me headphone nehi the ,too app ke paas reguest hai app muje headphone poucha dey</td>\n",
       "    </tr>\n",
       "    <tr>\n",
       "      <th>6499</th>\n",
       "      <td>6499</td>\n",
       "      <td>4.0</td>\n",
       "      <td>0.9199</td>\n",
       "      <td>product, amazon, money, service, waste, delivery, value, hai, replacement, customer</td>\n",
       "      <td>I hate amazone amazone se kuch vi Matt Lena...agar letea hai to refund nhi hoga ye Jan le...</td>\n",
       "    </tr>\n",
       "    <tr>\n",
       "      <th>10614</th>\n",
       "      <td>10614</td>\n",
       "      <td>4.0</td>\n",
       "      <td>0.9271</td>\n",
       "      <td>product, amazon, money, service, waste, delivery, value, hai, replacement, customer</td>\n",
       "      <td>Please my request to the people who shop from amazon please do not buy this phone cz it is defective and Thankfully amazon has such a wonderful customer service that they did'nt help me.the phone does not charge and gets heated vry quicky.total waste of money</td>\n",
       "    </tr>\n",
       "    <tr>\n",
       "      <th>2934</th>\n",
       "      <td>2934</td>\n",
       "      <td>4.0</td>\n",
       "      <td>0.9158</td>\n",
       "      <td>product, amazon, money, service, waste, delivery, value, hai, replacement, customer</td>\n",
       "      <td>Please dosto aap log ye wala mobile kabhi mat lena bahut bakwaas mobile hai.bahut heat hota hai. Amazon hamesa kharaab mobile deta hai .Aur kharidne ke baad aap return bhi nahi kar paaoge amazon customer ko fasata hai. Complains karoge to jo check karne aayega vo paisa jaagta hai. Bolega aapse ki agar aap refund chahte ho to 500 rupaye do aapka refund ka process bana deta hu.</td>\n",
       "    </tr>\n",
       "    <tr>\n",
       "      <th>6217</th>\n",
       "      <td>6217</td>\n",
       "      <td>4.0</td>\n",
       "      <td>0.9426</td>\n",
       "      <td>product, amazon, money, service, waste, delivery, value, hai, replacement, customer</td>\n",
       "      <td>Yeh mujhe use karte 1 month hogaya hai aur yeh kafi acha perform kar raha hai.</td>\n",
       "    </tr>\n",
       "    <tr>\n",
       "      <th>1513</th>\n",
       "      <td>1513</td>\n",
       "      <td>4.0</td>\n",
       "      <td>0.9195</td>\n",
       "      <td>product, amazon, money, service, waste, delivery, value, hai, replacement, customer</td>\n",
       "      <td>..first the charging adapter is not working and i have send the request of replacement then replacement is confirmed and second time when phone is delivered instead of mobile accessories there are 3 stones in the boxes... Worst experience.....</td>\n",
       "    </tr>\n",
       "    <tr>\n",
       "      <th>8776</th>\n",
       "      <td>8776</td>\n",
       "      <td>4.0</td>\n",
       "      <td>0.9187</td>\n",
       "      <td>product, amazon, money, service, waste, delivery, value, hai, replacement, customer</td>\n",
       "      <td>please don't buy this phone on 16th day of purchase phone stopped working spoke to Amazon they refused to help went to service center they said mother board is faulty &amp; needs replacement which takes 25days so please avoid .</td>\n",
       "    </tr>\n",
       "    <tr>\n",
       "      <th>14053</th>\n",
       "      <td>14053</td>\n",
       "      <td>4.0</td>\n",
       "      <td>0.9182</td>\n",
       "      <td>product, amazon, money, service, waste, delivery, value, hai, replacement, customer</td>\n",
       "      <td>Good product...But amazon Plays by creating a fake app called Blancco.. Ur product will not br replaced by amazon... They just blabbers over phone call telling The document have to be made for replacement.....</td>\n",
       "    </tr>\n",
       "    <tr>\n",
       "      <th>3493</th>\n",
       "      <td>3493</td>\n",
       "      <td>4.0</td>\n",
       "      <td>0.9572</td>\n",
       "      <td>product, amazon, money, service, waste, delivery, value, hai, replacement, customer</td>\n",
       "      <td>Mi one day delivery magavali hoti tar ti mala milali nahi, ulat mala ase sagnyat aale tumchya shi contact hou shakala nahi</td>\n",
       "    </tr>\n",
       "    <tr>\n",
       "      <th>14639</th>\n",
       "      <td>14639</td>\n",
       "      <td>4.0</td>\n",
       "      <td>0.9800</td>\n",
       "      <td>product, amazon, money, service, waste, delivery, value, hai, replacement, customer</td>\n",
       "      <td>Chor hai amazon wale maine 19 october ko complain kiya tha lenovo k8 note k liye or pickup hua 15 november ko or refund k liye roz bola jaa rha hai k aaj refund ho jayega aaj refund ho jayega... Or aaj jab call lagaya to mere no ko block kr diya gya hai. Maine screenshort bhej diya hai... Chor hai chor hai</td>\n",
       "    </tr>\n",
       "  </tbody>\n",
       "</table>\n",
       "</div>"
      ],
      "text/plain": [
       "       Document_No  Dominant_Topic  Topic_Perc_Contrib  \\\n",
       "6040          6040             2.0              0.8847   \n",
       "4877          4877             2.0              0.8850   \n",
       "14666        14666             2.0              0.9199   \n",
       "1563          1563             2.0              0.9197   \n",
       "2914          2914             2.0              0.8998   \n",
       "2901          2901             2.0              0.9108   \n",
       "1476          1476             2.0              0.9106   \n",
       "14548        14548             2.0              0.8993   \n",
       "423            423             2.0              0.9092   \n",
       "3640          3640             2.0              0.8853   \n",
       "3124          3124             2.0              0.9270   \n",
       "6073          6073             2.0              0.8845   \n",
       "466            466             2.0              0.8845   \n",
       "7783          7783             2.0              0.9424   \n",
       "1125          1125             2.0              0.9267   \n",
       "14133        14133             4.0              0.9375   \n",
       "8075          8075             4.0              0.9724   \n",
       "14210        14210             4.0              0.9701   \n",
       "14171        14171             4.0              0.9665   \n",
       "14175        14175             4.0              0.9617   \n",
       "1180          1180             4.0              0.9591   \n",
       "6499          6499             4.0              0.9199   \n",
       "10614        10614             4.0              0.9271   \n",
       "2934          2934             4.0              0.9158   \n",
       "6217          6217             4.0              0.9426   \n",
       "1513          1513             4.0              0.9195   \n",
       "8776          8776             4.0              0.9187   \n",
       "14053        14053             4.0              0.9182   \n",
       "3493          3493             4.0              0.9572   \n",
       "14639        14639             4.0              0.9800   \n",
       "\n",
       "                                                                                  Keywords  \\\n",
       "6040       camera, quality, network, problem, speaker, jio, sim, bluetooth, speed, picture   \n",
       "4877       camera, quality, network, problem, speaker, jio, sim, bluetooth, speed, picture   \n",
       "14666      camera, quality, network, problem, speaker, jio, sim, bluetooth, speed, picture   \n",
       "1563       camera, quality, network, problem, speaker, jio, sim, bluetooth, speed, picture   \n",
       "2914       camera, quality, network, problem, speaker, jio, sim, bluetooth, speed, picture   \n",
       "2901       camera, quality, network, problem, speaker, jio, sim, bluetooth, speed, picture   \n",
       "1476       camera, quality, network, problem, speaker, jio, sim, bluetooth, speed, picture   \n",
       "14548      camera, quality, network, problem, speaker, jio, sim, bluetooth, speed, picture   \n",
       "423        camera, quality, network, problem, speaker, jio, sim, bluetooth, speed, picture   \n",
       "3640       camera, quality, network, problem, speaker, jio, sim, bluetooth, speed, picture   \n",
       "3124       camera, quality, network, problem, speaker, jio, sim, bluetooth, speed, picture   \n",
       "6073       camera, quality, network, problem, speaker, jio, sim, bluetooth, speed, picture   \n",
       "466        camera, quality, network, problem, speaker, jio, sim, bluetooth, speed, picture   \n",
       "7783       camera, quality, network, problem, speaker, jio, sim, bluetooth, speed, picture   \n",
       "1125       camera, quality, network, problem, speaker, jio, sim, bluetooth, speed, picture   \n",
       "14133  product, amazon, money, service, waste, delivery, value, hai, replacement, customer   \n",
       "8075   product, amazon, money, service, waste, delivery, value, hai, replacement, customer   \n",
       "14210  product, amazon, money, service, waste, delivery, value, hai, replacement, customer   \n",
       "14171  product, amazon, money, service, waste, delivery, value, hai, replacement, customer   \n",
       "14175  product, amazon, money, service, waste, delivery, value, hai, replacement, customer   \n",
       "1180   product, amazon, money, service, waste, delivery, value, hai, replacement, customer   \n",
       "6499   product, amazon, money, service, waste, delivery, value, hai, replacement, customer   \n",
       "10614  product, amazon, money, service, waste, delivery, value, hai, replacement, customer   \n",
       "2934   product, amazon, money, service, waste, delivery, value, hai, replacement, customer   \n",
       "6217   product, amazon, money, service, waste, delivery, value, hai, replacement, customer   \n",
       "1513   product, amazon, money, service, waste, delivery, value, hai, replacement, customer   \n",
       "8776   product, amazon, money, service, waste, delivery, value, hai, replacement, customer   \n",
       "14053  product, amazon, money, service, waste, delivery, value, hai, replacement, customer   \n",
       "3493   product, amazon, money, service, waste, delivery, value, hai, replacement, customer   \n",
       "14639  product, amazon, money, service, waste, delivery, value, hai, replacement, customer   \n",
       "\n",
       "                                                                                                                                                                                                                                                                                                                                                                                                                                                                                                                                                                                                                                                       Text  \n",
       "6040                                                                                                                                                                                                                                                                                                                                                                                                                                                                                                                                                                Not good one compare, very poor Network reception, very slow camera, slove in responce,  \n",
       "4877                                                                                                                                                                                                                                                                                                                                                                                                                                                                                                                                                                                 Display problem , speaker problem, network problem.....m not satisfied  \n",
       "14666                                                                                                                                                                                                                                                                                                                                                                I am facing problem with network connection.When we call although the phone is receiving the connection still it replies that the phone is swithched off.There is always a network problem in the phone. Network singles are never too full. Therefore, this phone should be replaced.  \n",
       "1563                                                                                                                                                                                                                                                                                      This is a worst phone... I already have a Lenovo k3 note is much better than K8 note... You can't record calls while incoming or outgoing calls... It's not showing caller area while calling or even not in phone book....No smart answer function... It's also not showing Data speed....K3 Note is much better than K8... I never recommend to purchase K8....  \n",
       "2914                                                                                                                                                                                                                                                                                                                                                                                                                                                                                                                             Camera not goodgood split performanceBattery backup goodVery best soundsRear camera is not good as copmare to dual camera.  \n",
       "2901                                                                                                                                                                                                                                                                                                                                                                                                                                                          I have not got my earsets on boxwhat is the problem for just i need my earsets back as soon as possibleother wise tell me the customar number i will need replay for this as soon as possible  \n",
       "1476                                                                                                                                                                                                                                                                                                                                                                                                                                                                             1) Camera Quality is Very Bad 13Mp or 5Mp Dual Camera Not Improve.2) Overheating ⚠️ Problem3) Hanging ⚠️ Problem4) Display Quality is Very Good 👍5) Available In Amazon.in  \n",
       "14548                                                                                                                                                                                                                                                                                                                                                                                                                                                                                                    PoorUi is very bad it always crashes4gb ram only for publicityDevelopers not fixing bugsBoot loop bugUi is not customised for hardwarePoor updates  \n",
       "423                                                                                                                                                                                                                                                                                                                                                                                                                                                                                         This device running smoothly for 2.5 monthsAfter that hanging problem eg then data is book can't open very slowly change and many more problems in this device.  \n",
       "3640                                                                                                                                                                                                                                                                                                                                                                                                                                                                                                                                    Front Camera quality is poor in nightSound is superb.Display is sharp and clear.Back camera needs some improvement.  \n",
       "3124                                                                                                                                                                                                                                                                                                                                                                                                                                                                                                                                                           back camera bekarga undi lanjodukuam camera ra edi nee.......back camera mari worast ga undi  \n",
       "6073                                                                                                                                                                                                                                                                                                                                                                                                                                                                                                                            Big disappointment. Very normal phone except front camera. Bluetooth connectivity is worst. Display quality is very normal.  \n",
       "466                                                                                                                                                                                                                                                                                                                                                                                                                                                                                                                                            Wrost mobile I ever seen, jio number is not support for call, only for internet, my request is don't buy it.  \n",
       "7783                                                                                                                                                                                                                                                                                                                                                                                                                                                                                                               (1) Call k Doran slide baar niche aajata h kaan k touch hotehi .(2) light Sencer is not work properly.(3)beatry is not longer time work.  \n",
       "1125                                                                                                                                                                                                                                                                                                                                                                                                                                                                                               I face some problemsSensor problemBattery drain too fastApp hangedScreen touch show mark after click in callin Manageri think u sent me a defective pice  \n",
       "14133                                                                                                                                                                                                                                                                                                                                                                                                                                                                           Worst product with waste of money start lining on screen in just 6 day from date of deliverywith no return policy amazon claiming only replace policytotally waste of money  \n",
       "8075                                                                                                                                                                                                                                                                                                                                                                                                                                                                                Waste waste waste waste waste waste waste waste waste waste waste waste waste waste waste waste waste waste waste waste waste waste waste waste waste waste waste waste  \n",
       "14210                                                                                                                                                                                                                                                                                                                                                                            Ek dum bekaarPehLe charger kharab diya fr complaint kri toh 4 din inko replacement m Lg gye uske baad bhi kaharb phone delivered kiyaa itna overheated or Bakwaas phone h ye...Mera pehla online product tha ye Ek dum bekaaar.....I'm suggest you bilkul mt purchase krna  \n",
       "14171                                                                                                                                                                                                                                                                                                                                                                                                                                                                                   Bakhwas hai ye mobile sale kuchi din chala aab hank hone laga... Betary v 3 ghante se jyasa nhi chalti... Mobile heat v bahat jyada hota hai kb fat jaye pata nhi..  \n",
       "14175  The phone was continuously hanging and after restarting it stopped working completely as blue screen appeared.I have raised return request, however, due to amazing return policy of amazon, I am unable to return this defective product. They were supposed to send a technician to inspect the product before approving for return. The technician who is supposed to visit did not bother to come and his phone is switched off. I tried to call up at the customer service several time and the call is not getting connected to any of the customer rep. I am extremely dissatisfied with the services and policies of Amazon. It is 0 for me.  \n",
       "1180                                                                                                                                                                                                                                                                                                                                                                                                                                                                    Sir Mera name biswajit adhikary,sir may 15.10.17 date Mai Lenovo k8 note liye the lekin mobile box me headphone nehi the ,too app ke paas reguest hai app muje headphone poucha dey  \n",
       "6499                                                                                                                                                                                                                                                                                                                                                                                                                                                                                                                                                           I hate amazone amazone se kuch vi Matt Lena...agar letea hai to refund nhi hoga ye Jan le...  \n",
       "10614                                                                                                                                                                                                                                                                                                                                                                                   Please my request to the people who shop from amazon please do not buy this phone cz it is defective and Thankfully amazon has such a wonderful customer service that they did'nt help me.the phone does not charge and gets heated vry quicky.total waste of money  \n",
       "2934                                                                                                                                                                                                                                                             Please dosto aap log ye wala mobile kabhi mat lena bahut bakwaas mobile hai.bahut heat hota hai. Amazon hamesa kharaab mobile deta hai .Aur kharidne ke baad aap return bhi nahi kar paaoge amazon customer ko fasata hai. Complains karoge to jo check karne aayega vo paisa jaagta hai. Bolega aapse ki agar aap refund chahte ho to 500 rupaye do aapka refund ka process bana deta hu.  \n",
       "6217                                                                                                                                                                                                                                                                                                                                                                                                                                                                                                                                                                         Yeh mujhe use karte 1 month hogaya hai aur yeh kafi acha perform kar raha hai.  \n",
       "1513                                                                                                                                                                                                                                                                                                                                                                                                    ..first the charging adapter is not working and i have send the request of replacement then replacement is confirmed and second time when phone is delivered instead of mobile accessories there are 3 stones in the boxes... Worst experience.....  \n",
       "8776                                                                                                                                                                                                                                                                                                                                                                                                                        please don't buy this phone on 16th day of purchase phone stopped working spoke to Amazon they refused to help went to service center they said mother board is faulty & needs replacement which takes 25days so please avoid .  \n",
       "14053                                                                                                                                                                                                                                                                                                                                                                                                                                     Good product...But amazon Plays by creating a fake app called Blancco.. Ur product will not br replaced by amazon... They just blabbers over phone call telling The document have to be made for replacement.....  \n",
       "3493                                                                                                                                                                                                                                                                                                                                                                                                                                                                                                                             Mi one day delivery magavali hoti tar ti mala milali nahi, ulat mala ase sagnyat aale tumchya shi contact hou shakala nahi  \n",
       "14639                                                                                                                                                                                                                                                                                                                                   Chor hai amazon wale maine 19 october ko complain kiya tha lenovo k8 note k liye or pickup hua 15 november ko or refund k liye roz bola jaa rha hai k aaj refund ho jayega aaj refund ho jayega... Or aaj jab call lagaya to mere no ko block kr diya gya hai. Maine screenshort bhej diya hai... Chor hai chor hai  "
      ]
     },
     "execution_count": 52,
     "metadata": {},
     "output_type": "execute_result"
    }
   ],
   "source": [
    "df_rep_doc = df_dominant_topic_best.sort_values(['Topic_Perc_Contrib'], ascending=False).groupby(['Dominant_Topic']).head(15)\n",
    "df_rep_doc = df_rep_doc.sort_values(['Dominant_Topic'])\n",
    "df_rep_doc.loc[(df_rep_doc['Dominant_Topic']==2.0) | (df_rep_doc['Dominant_Topic']==4.0)]"
   ]
  },
  {
   "cell_type": "markdown",
   "metadata": {},
   "source": [
    "### Assign names to each topic (best) for business usecase"
   ]
  },
  {
   "cell_type": "code",
   "execution_count": 53,
   "metadata": {
    "execution": {
     "iopub.execute_input": "2021-11-26T15:30:10.104976Z",
     "iopub.status.busy": "2021-11-26T15:30:10.104561Z",
     "iopub.status.idle": "2021-11-26T15:30:10.127675Z",
     "shell.execute_reply": "2021-11-26T15:30:10.126570Z",
     "shell.execute_reply.started": "2021-11-26T15:30:10.104918Z"
    }
   },
   "outputs": [
    {
     "data": {
      "text/html": [
       "<div>\n",
       "<style scoped>\n",
       "    .dataframe tbody tr th:only-of-type {\n",
       "        vertical-align: middle;\n",
       "    }\n",
       "\n",
       "    .dataframe tbody tr th {\n",
       "        vertical-align: top;\n",
       "    }\n",
       "\n",
       "    .dataframe thead th {\n",
       "        text-align: right;\n",
       "    }\n",
       "</style>\n",
       "<table border=\"1\" class=\"dataframe\">\n",
       "  <thead>\n",
       "    <tr style=\"text-align: right;\">\n",
       "      <th></th>\n",
       "      <th>Topic Num</th>\n",
       "      <th>Keywords</th>\n",
       "      <th>topic_names</th>\n",
       "    </tr>\n",
       "  </thead>\n",
       "  <tbody>\n",
       "    <tr>\n",
       "      <th>0</th>\n",
       "      <td>0</td>\n",
       "      <td>camera, performance, mode, quality, processor, android, battery, dolby, depth, music, ram, sound, display, device, stock</td>\n",
       "      <td>Camera and Sound</td>\n",
       "    </tr>\n",
       "    <tr>\n",
       "      <th>1</th>\n",
       "      <td>1</td>\n",
       "      <td>price, features, screen, range, option, app, phones, volte, sensor, feature, recording, video, gallery, smartphone, apps</td>\n",
       "      <td>Missing common features</td>\n",
       "    </tr>\n",
       "    <tr>\n",
       "      <th>2</th>\n",
       "      <td>2</td>\n",
       "      <td>camera, quality, network, problem, speaker, jio, sim, bluetooth, speed, picture, calls, time, handset, sound, connectivity</td>\n",
       "      <td>Network and Camera</td>\n",
       "    </tr>\n",
       "    <tr>\n",
       "      <th>3</th>\n",
       "      <td>3</td>\n",
       "      <td>battery, heating, issue, problem, backup, time, charger, issues, hours, turbo, day, life, heat, charging, update</td>\n",
       "      <td>Battery and overheating</td>\n",
       "    </tr>\n",
       "    <tr>\n",
       "      <th>4</th>\n",
       "      <td>4</td>\n",
       "      <td>product, amazon, money, service, waste, delivery, value, hai, replacement, customer, return, time, center, box, days</td>\n",
       "      <td>Defective piece and Amazon return policy</td>\n",
       "    </tr>\n",
       "  </tbody>\n",
       "</table>\n",
       "</div>"
      ],
      "text/plain": [
       "   Topic Num  \\\n",
       "0          0   \n",
       "1          1   \n",
       "2          2   \n",
       "3          3   \n",
       "4          4   \n",
       "\n",
       "                                                                                                                     Keywords  \\\n",
       "0    camera, performance, mode, quality, processor, android, battery, dolby, depth, music, ram, sound, display, device, stock   \n",
       "1    price, features, screen, range, option, app, phones, volte, sensor, feature, recording, video, gallery, smartphone, apps   \n",
       "2  camera, quality, network, problem, speaker, jio, sim, bluetooth, speed, picture, calls, time, handset, sound, connectivity   \n",
       "3            battery, heating, issue, problem, backup, time, charger, issues, hours, turbo, day, life, heat, charging, update   \n",
       "4        product, amazon, money, service, waste, delivery, value, hai, replacement, customer, return, time, center, box, days   \n",
       "\n",
       "                                topic_names  \n",
       "0                          Camera and Sound  \n",
       "1                   Missing common features  \n",
       "2                        Network and Camera  \n",
       "3                   Battery and overheating  \n",
       "4  Defective piece and Amazon return policy  "
      ]
     },
     "execution_count": 53,
     "metadata": {},
     "output_type": "execute_result"
    }
   ],
   "source": [
    "topic_dict = {}\n",
    "for index, topic in lda_model_best.show_topics(num_topics = 5, formatted=False, num_words= 15):\n",
    "    topic_dict[index] = ', '.join(w[0] for w in topic)\n",
    "final_topics_best = pd.DataFrame(topic_dict.items())\n",
    "topic_best_dict = {0:\"Camera and Sound\", \n",
    "                   1:\"Missing common features\", \n",
    "                   2:\"Network and Camera\", \n",
    "                   3:\"Battery and overheating\", \n",
    "                   4:\"Defective piece and Amazon return policy\"}\n",
    "\n",
    "final_topics_best.columns = [\"Topic Num\", \"Keywords\"]\n",
    "final_topics_best['topic_names'] = pd.Series(topic_best_dict).sort_index()\n",
    "final_topics_best"
   ]
  },
  {
   "cell_type": "markdown",
   "metadata": {},
   "source": [
    "### Visualizing topics"
   ]
  },
  {
   "cell_type": "markdown",
   "metadata": {
    "execution": {
     "iopub.execute_input": "2021-11-23T05:03:07.29236Z",
     "iopub.status.busy": "2021-11-23T05:03:07.29137Z",
     "iopub.status.idle": "2021-11-23T05:03:07.302972Z",
     "shell.execute_reply": "2021-11-23T05:03:07.302081Z",
     "shell.execute_reply.started": "2021-11-23T05:03:07.292306Z"
    }
   },
   "source": []
  },
  {
   "cell_type": "code",
   "execution_count": 54,
   "metadata": {
    "execution": {
     "iopub.execute_input": "2021-11-26T15:30:10.128967Z",
     "iopub.status.busy": "2021-11-26T15:30:10.128730Z",
     "iopub.status.idle": "2021-11-26T15:30:10.323689Z",
     "shell.execute_reply": "2021-11-26T15:30:10.322758Z",
     "shell.execute_reply.started": "2021-11-26T15:30:10.128939Z"
    }
   },
   "outputs": [
    {
     "name": "stderr",
     "output_type": "stream",
     "text": [
      "/opt/conda/lib/python3.7/site-packages/past/types/oldstr.py:36: DeprecationWarning: invalid escape sequence \\d\n",
      "  \"\"\"\n"
     ]
    }
   ],
   "source": [
    "import pyLDAvis\n",
    "import pyLDAvis.gensim"
   ]
  },
  {
   "cell_type": "code",
   "execution_count": 55,
   "metadata": {
    "execution": {
     "iopub.execute_input": "2021-11-26T15:30:10.325195Z",
     "iopub.status.busy": "2021-11-26T15:30:10.324938Z",
     "iopub.status.idle": "2021-11-26T15:30:16.199479Z",
     "shell.execute_reply": "2021-11-26T15:30:16.198606Z",
     "shell.execute_reply.started": "2021-11-26T15:30:10.325141Z"
    }
   },
   "outputs": [
    {
     "name": "stderr",
     "output_type": "stream",
     "text": [
      "/opt/conda/lib/python3.7/site-packages/pyLDAvis/_prepare.py:248: FutureWarning: In a future version of pandas all arguments of DataFrame.drop except for the argument 'labels' will be keyword-only\n",
      "  by='saliency', ascending=False).head(R).drop('saliency', 1)\n"
     ]
    },
    {
     "data": {
      "text/html": [
       "\n",
       "<link rel=\"stylesheet\" type=\"text/css\" href=\"https://cdn.jsdelivr.net/gh/bmabey/pyLDAvis@3.2.2/pyLDAvis/js/ldavis.v1.0.0.css\">\n",
       "\n",
       "\n",
       "<div id=\"ldavis_el371397203977573924102124998\"></div>\n",
       "<script type=\"text/javascript\">\n",
       "\n",
       "var ldavis_el371397203977573924102124998_data = {\"mdsDat\": {\"x\": [-0.14870085507317962, -0.061235503971046455, -0.11415295492401556, -0.01881793499688947, 0.34290724896513125], \"y\": [-0.012267353656648288, -0.2639276437111208, 0.0399985238593236, 0.26100875939450485, -0.024812285886059302], \"topics\": [1, 2, 3, 4, 5], \"cluster\": [1, 1, 1, 1, 1], \"Freq\": [26.05560608569836, 15.049575558832966, 14.309462281702121, 26.328339811586282, 18.25701626218027]}, \"tinfo\": {\"Term\": [\"product\", \"battery\", \"camera\", \"price\", \"quality\", \"heating\", \"amazon\", \"problem\", \"network\", \"money\", \"features\", \"service\", \"backup\", \"issue\", \"performance\", \"range\", \"screen\", \"charger\", \"mode\", \"hours\", \"turbo\", \"waste\", \"processor\", \"life\", \"option\", \"speaker\", \"delivery\", \"charging\", \"value\", \"heat\", \"mode\", \"processor\", \"dolby\", \"depth\", \"ram\", \"stock\", \"clarity\", \"signal\", \"killer\", \"user\", \"gaming\", \"atmos\", \"core\", \"selfie\", \"volume\", \"expectations\", \"specifications\", \"speakers\", \"lag\", \"design\", \"deca\", \"key\", \"cell\", \"headphones\", \"flash\", \"storage\", \"interface\", \"build\", \"mediatek\", \"users\", \"android\", \"music\", \"performance\", \"budget\", \"camera\", \"memory\", \"sound\", \"effect\", \"system\", \"display\", \"quality\", \"bit\", \"device\", \"software\", \"battery\", \"features\", \"speed\", \"price\", \"range\", \"volte\", \"sensor\", \"recording\", \"gallery\", \"smartphone\", \"notification\", \"options\", \"cast\", \"buy\", \"image\", \"recorder\", \"finger\", \"message\", \"auto\", \"player\", \"print\", \"facility\", \"applications\", \"segment\", \"pic\", \"party\", \"lte\", \"pics\", \"processing\", \"hell\", \"mirroring\", \"average\", \"drainage\", \"option\", \"features\", \"cost\", \"contact\", \"app\", \"screen\", \"phones\", \"video\", \"feature\", \"google\", \"apps\", \"application\", \"light\", \"touch\", \"redmi\", \"support\", \"network\", \"jio\", \"sim\", \"bluetooth\", \"picture\", \"connectivity\", \"class\", \"connection\", \"bed\", \"color\", \"improvement\", \"process\", \"upto\", \"list\", \"china\", \"result\", \"mp\", \"complain\", \"idea\", \"bekar\", \"camara\", \"graphics\", \"caller\", \"slots\", \"a\", \"gs\", \"lovers\", \"drop\", \"movies\", \"airtel\", \"quality\", \"speaker\", \"calls\", \"camera\", \"photo\", \"problem\", \"voice\", \"speed\", \"internet\", \"number\", \"handset\", \"wifi\", \"data\", \"mark\", \"sound\", \"work\", \"slot\", \"function\", \"time\", \"display\", \"issue\", \"heating\", \"backup\", \"hours\", \"turbo\", \"charging\", \"mah\", \"hrs\", \"drain\", \"drains\", \"gorilla\", \"hour\", \"oreo\", \"condition\", \"mins\", \"min\", \"heats\", \"draining\", \"capacity\", \"life\", \"defect\", \"order\", \"net\", \"percent\", \"concern\", \"charger\", \"max\", \"fone\", \"morning\", \"mail\", \"charges\", \"charge\", \"heat\", \"battery\", \"glass\", \"months\", \"issue\", \"month\", \"issues\", \"use\", \"day\", \"update\", \"usage\", \"problem\", \"time\", \"days\", \"lot\", \"performance\", \"software\", \"screen\", \"device\", \"product\", \"amazon\", \"money\", \"service\", \"waste\", \"delivery\", \"value\", \"hai\", \"replacement\", \"customer\", \"return\", \"center\", \"box\", \"care\", \"policy\", \"products\", \"superb\", \"centre\", \"warranty\", \"set\", \"nhi\", \"ear\", \"nahi\", \"bill\", \"bhi\", \"package\", \"sir\", \"invoice\", \"seller\", \"bahut\", \"piece\", \"refund\", \"thanks\", \"earphone\", \"experience\", \"days\", \"time\", \"screen\"], \"Freq\": [1852.0, 2963.0, 2940.0, 821.0, 1237.0, 994.0, 731.0, 1194.0, 471.0, 526.0, 567.0, 413.0, 511.0, 868.0, 830.0, 323.0, 684.0, 423.0, 366.0, 348.0, 340.0, 238.0, 292.0, 309.0, 249.0, 255.0, 211.0, 263.0, 198.0, 293.0, 365.7848990096039, 291.51578543209257, 232.53459363442815, 222.87198170217488, 190.8453015002773, 155.6213463154402, 151.25073979265807, 150.92830768887873, 138.85083348878712, 136.86185223819402, 118.07538398929626, 117.15430857701746, 108.76425395993944, 95.28976566534341, 92.08849217927767, 85.49620050935587, 85.29528695901294, 84.01226165250722, 73.38219616441097, 70.14323341685537, 68.36795643390903, 64.83017521451958, 63.37950929492137, 55.454615372428684, 143.1946635187239, 53.019315811645114, 48.8886239691372, 42.91764127993043, 42.52252178055632, 42.804425236356145, 256.5404562731047, 191.31737646038093, 595.0179510762008, 148.3767774827257, 1451.6339706831777, 104.80176431804175, 186.89731429443745, 81.62839901564753, 117.70744083308011, 180.29225437071256, 357.1370263021864, 122.18146931312732, 171.90812113242146, 132.60139773748944, 256.0276954205166, 135.72681647436042, 106.0362864338162, 821.1097236665393, 322.7288264376904, 138.3192048794161, 123.40049479078495, 112.6646718185897, 102.20155828058783, 102.12008694693793, 92.02346466240922, 79.52706059801177, 78.9255906146155, 68.66504476827433, 64.24758373552372, 60.28863639330489, 58.92378655290578, 56.99227031959685, 52.702668108084545, 46.511376122333644, 45.71452648378486, 41.120431779901566, 39.30898949074629, 36.96709346191997, 38.036572090932275, 36.73955447953076, 34.934184394501514, 34.21078507124641, 32.34769531255254, 31.300164847000897, 30.583896471155334, 30.560868804738934, 30.324782027310775, 204.30066757874167, 431.090122002246, 64.4692347558779, 66.7997518893655, 191.42755331221792, 399.56269842843096, 149.49146882064912, 104.12984119494762, 112.70198732941546, 61.107377106215715, 101.11626337629855, 50.66235043264053, 74.92175567112658, 75.98929067582675, 64.46379053183671, 54.17950081038734, 470.31347813929455, 162.1503722607283, 154.24646522594497, 146.4342545348808, 104.69408084779658, 75.80598714924328, 65.1160795087533, 57.94478589455082, 43.695755386658796, 38.092547218099845, 31.590836274379996, 27.877159027186543, 27.63344966720065, 26.268362418283782, 24.40724295418677, 24.37117286353909, 24.117576859239275, 24.402981852432305, 23.48044715423232, 23.640965102605396, 22.853759245765552, 22.89098898773031, 20.90776564197434, 19.763252709267597, 18.96192377979164, 18.798142769999753, 18.988883205570545, 18.075217372603007, 18.484623634397195, 17.401214456727715, 838.6792554389466, 193.25795469050507, 95.81646148158158, 1420.526319461707, 69.41898299218535, 470.14285642040346, 59.91807324912831, 124.40112624466255, 74.62882756461748, 42.90111789201672, 88.37933630801247, 53.83195666401805, 65.6882860114063, 61.4999758168477, 77.56810446632353, 50.99786260411448, 42.21235902996738, 37.73319594836869, 89.25130527410126, 64.12215470159923, 70.06821995041128, 994.039740360489, 510.36877371789745, 347.4180002542772, 339.59056680470957, 262.9246212341012, 217.01483516281567, 179.6963006725278, 111.36816280919513, 109.69850572980006, 108.32862497693218, 89.45806976211766, 82.13572632813911, 78.58774816183022, 72.81367404950058, 62.7317622812943, 57.19897011430482, 43.22704353549222, 38.66927575451901, 303.0436224583152, 33.42849244132011, 33.41821449960436, 32.408599664425935, 31.106932848051322, 30.449709774243473, 413.54627725338037, 29.450972124732413, 28.480006254570327, 25.380514518920016, 25.088503395265988, 24.33899448304448, 221.5487875364387, 279.141361052969, 2706.8658455811774, 167.01875010867838, 252.61521013144213, 731.519100344321, 170.2557569819093, 381.67329045839773, 219.8219117391173, 317.5456529479703, 253.48905308417193, 185.73377427968484, 714.7319166013217, 422.71213114835564, 252.2415724481503, 157.7929355007254, 234.5910960777513, 122.38825907957347, 125.80779021279699, 116.37904073268092, 1851.4128786451756, 730.9661296050667, 525.498762920082, 413.00080988331575, 237.8625518758291, 210.99847001872462, 197.6409361827105, 187.65000979320496, 167.9544999725033, 162.04805315145973, 131.81120634095953, 124.05132476281301, 122.2449968222024, 83.4405206359236, 79.93196313800685, 78.826079937894, 75.95999343465019, 71.72063808713253, 69.81431047178953, 68.58596969605843, 66.35168873077306, 63.961619063631744, 50.22861581992765, 49.465812156154236, 42.20058677928336, 34.888345878200184, 33.740216388503875, 33.415256795744355, 32.15305602815336, 31.552132464920245, 89.74172157180979, 70.52800203691974, 87.73544464988892, 52.88104690781899, 100.72650608980989, 105.66393887456402, 128.07206343176037, 63.61116374066831], \"Total\": [1852.0, 2963.0, 2940.0, 821.0, 1237.0, 994.0, 731.0, 1194.0, 471.0, 526.0, 567.0, 413.0, 511.0, 868.0, 830.0, 323.0, 684.0, 423.0, 366.0, 348.0, 340.0, 238.0, 292.0, 309.0, 249.0, 255.0, 211.0, 263.0, 198.0, 293.0, 366.50879516414716, 292.2364349325989, 233.252840394991, 223.5909791992213, 191.57070865611803, 156.3415541285787, 151.97401961270305, 151.65727189872322, 139.5702742129081, 137.58349058266364, 118.7969203549699, 117.87131360327118, 109.48326811749646, 96.01071277282723, 92.80825152051649, 86.21833844744471, 86.01861132700452, 84.73396785612464, 74.10696012834126, 70.86414473158369, 69.08695912453457, 65.5531344974082, 64.12116597351805, 56.17272966524127, 145.11381031277733, 53.74130016761885, 49.61273699533571, 43.64068007727788, 43.24017012297926, 43.53358861520164, 287.30341870047806, 227.1251599807131, 830.1463950018327, 177.91186026463987, 2940.0541802866082, 123.51728979904087, 265.00912795039505, 91.98496973399322, 161.8968679194514, 330.7462249003028, 1237.0376915730933, 187.1578754284978, 376.781000592293, 301.0303812282444, 2963.430242557738, 567.3584956053801, 236.93937860068175, 821.8407499356648, 323.459607551838, 139.05519231716528, 124.135159993617, 113.39563457445502, 102.93365859898961, 102.85278792065745, 92.7548512936626, 80.2582361942933, 79.65357152646483, 69.3993020456146, 64.98503842259909, 61.01584669676209, 59.656714809284495, 57.72631570194318, 53.43385446832883, 47.239864231974124, 46.447113947467955, 41.852285194093724, 40.04087287246514, 37.70074858740674, 38.79684348960835, 37.47861082701477, 35.68651773620842, 34.948469280706384, 33.08227954540146, 32.042799946331755, 31.314665204095935, 31.29755267701402, 31.066328506409636, 249.46788217897992, 567.3584956053801, 70.98918343633531, 73.86128839056293, 246.85923559751686, 684.2082949318175, 237.2785244693418, 179.31712168687656, 207.66531687899064, 87.08687457758502, 218.91189272896463, 65.49745794632706, 157.350369349169, 165.47777099880162, 135.43226602891, 134.05277803295633, 471.04913396759946, 162.88676963185202, 154.97901404274157, 147.16779019252985, 105.43016655648253, 76.54035304566777, 65.85115262583729, 58.67480894390591, 44.42990309675032, 38.85410594047093, 32.33262703158421, 28.622407696797236, 28.382717557421028, 27.007269790239018, 25.138508649307564, 25.10772993312527, 24.852400280612777, 25.15590893466251, 24.228068266712107, 24.396440141023056, 23.58653178550654, 23.6463391776337, 21.64164077061764, 20.514966324800014, 19.697624461739974, 19.559661281556387, 19.75876091638176, 18.819910431368136, 19.26126306897295, 18.136915089432158, 1237.0376915730933, 255.96799892940754, 125.2222917554112, 2940.0541802866082, 89.48558146220228, 1194.7283332597033, 88.72334237338583, 236.93937860068175, 123.41198502347612, 59.37850933564353, 187.1790864525702, 104.42444093468372, 164.88184474441937, 152.2255491133354, 265.00912795039505, 115.38628907421997, 79.19211089297984, 62.1666349094938, 736.2646134033819, 330.7462249003028, 868.1738404588679, 994.7678722195345, 511.09643253927743, 348.1446091715034, 340.3192232076952, 263.65287148451387, 217.74590514592407, 180.4209875023281, 112.0938396636641, 110.42889956873535, 109.05903625745377, 90.18619004944433, 82.86551947165799, 79.32554342755088, 73.54407727183563, 63.46208743035396, 57.929856496774875, 43.95186558575292, 39.39622823097774, 309.26456559557033, 34.16921246498408, 34.16160253760367, 33.13558555141557, 31.835032847324097, 31.19094909073155, 423.8468261608698, 30.199609279176414, 29.22180320039621, 26.115010306793312, 25.828461556526467, 25.066001243604795, 230.18407625885837, 293.4564691973393, 2963.430242557738, 175.91718220081523, 271.8342785226051, 868.1738404588679, 190.55180029072181, 482.3243301287054, 267.82755189556946, 424.9274376883395, 346.58156397161974, 243.40043151781532, 1194.7283332597033, 736.2646134033819, 433.3360777795589, 223.51545888608342, 830.1463950018327, 301.0303812282444, 684.2082949318175, 376.781000592293, 1852.1524922290682, 731.706793630857, 526.2372741694835, 413.73771407999004, 238.6003027014177, 211.73551673253988, 198.3769993162984, 188.38103689697337, 168.69210255894143, 162.7870842464744, 132.54676573970042, 124.79125650876856, 122.98383965400059, 84.18352721733105, 80.67169344077209, 79.56364556266476, 76.70376474760266, 72.45489560741169, 70.54666533789653, 69.33069202852879, 67.08219150594788, 64.69860983013669, 50.95894739640189, 50.19603786827288, 42.933011028170284, 35.62960210667885, 34.47459080359188, 34.146426767871226, 32.890092426709735, 32.282695035047496, 95.5663774601684, 80.30470142953567, 105.3980314745078, 64.82111762394952, 236.8016112933782, 433.3360777795589, 736.2646134033819, 684.2082949318175], \"Category\": [\"Default\", \"Default\", \"Default\", \"Default\", \"Default\", \"Default\", \"Default\", \"Default\", \"Default\", \"Default\", \"Default\", \"Default\", \"Default\", \"Default\", \"Default\", \"Default\", \"Default\", \"Default\", \"Default\", \"Default\", \"Default\", \"Default\", \"Default\", \"Default\", \"Default\", \"Default\", \"Default\", \"Default\", \"Default\", \"Default\", \"Topic1\", \"Topic1\", \"Topic1\", \"Topic1\", \"Topic1\", \"Topic1\", \"Topic1\", \"Topic1\", \"Topic1\", \"Topic1\", \"Topic1\", \"Topic1\", \"Topic1\", \"Topic1\", \"Topic1\", \"Topic1\", \"Topic1\", \"Topic1\", \"Topic1\", \"Topic1\", \"Topic1\", \"Topic1\", \"Topic1\", \"Topic1\", \"Topic1\", \"Topic1\", \"Topic1\", \"Topic1\", \"Topic1\", \"Topic1\", \"Topic1\", \"Topic1\", \"Topic1\", \"Topic1\", \"Topic1\", \"Topic1\", \"Topic1\", \"Topic1\", \"Topic1\", \"Topic1\", \"Topic1\", \"Topic1\", \"Topic1\", \"Topic1\", \"Topic1\", \"Topic1\", \"Topic1\", \"Topic2\", \"Topic2\", \"Topic2\", \"Topic2\", \"Topic2\", \"Topic2\", \"Topic2\", \"Topic2\", \"Topic2\", \"Topic2\", \"Topic2\", \"Topic2\", \"Topic2\", \"Topic2\", \"Topic2\", \"Topic2\", \"Topic2\", \"Topic2\", \"Topic2\", \"Topic2\", \"Topic2\", \"Topic2\", \"Topic2\", \"Topic2\", \"Topic2\", \"Topic2\", \"Topic2\", \"Topic2\", \"Topic2\", \"Topic2\", \"Topic2\", \"Topic2\", \"Topic2\", \"Topic2\", \"Topic2\", \"Topic2\", \"Topic2\", \"Topic2\", \"Topic2\", \"Topic2\", \"Topic2\", \"Topic2\", \"Topic2\", \"Topic2\", \"Topic2\", \"Topic2\", \"Topic3\", \"Topic3\", \"Topic3\", \"Topic3\", \"Topic3\", \"Topic3\", \"Topic3\", \"Topic3\", \"Topic3\", \"Topic3\", \"Topic3\", \"Topic3\", \"Topic3\", \"Topic3\", \"Topic3\", \"Topic3\", \"Topic3\", \"Topic3\", \"Topic3\", \"Topic3\", \"Topic3\", \"Topic3\", \"Topic3\", \"Topic3\", \"Topic3\", \"Topic3\", \"Topic3\", \"Topic3\", \"Topic3\", \"Topic3\", \"Topic3\", \"Topic3\", \"Topic3\", \"Topic3\", \"Topic3\", \"Topic3\", \"Topic3\", \"Topic3\", \"Topic3\", \"Topic3\", \"Topic3\", \"Topic3\", \"Topic3\", \"Topic3\", \"Topic3\", \"Topic3\", \"Topic3\", \"Topic3\", \"Topic3\", \"Topic3\", \"Topic3\", \"Topic4\", \"Topic4\", \"Topic4\", \"Topic4\", \"Topic4\", \"Topic4\", \"Topic4\", \"Topic4\", \"Topic4\", \"Topic4\", \"Topic4\", \"Topic4\", \"Topic4\", \"Topic4\", \"Topic4\", \"Topic4\", \"Topic4\", \"Topic4\", \"Topic4\", \"Topic4\", \"Topic4\", \"Topic4\", \"Topic4\", \"Topic4\", \"Topic4\", \"Topic4\", \"Topic4\", \"Topic4\", \"Topic4\", \"Topic4\", \"Topic4\", \"Topic4\", \"Topic4\", \"Topic4\", \"Topic4\", \"Topic4\", \"Topic4\", \"Topic4\", \"Topic4\", \"Topic4\", \"Topic4\", \"Topic4\", \"Topic4\", \"Topic4\", \"Topic4\", \"Topic4\", \"Topic4\", \"Topic4\", \"Topic4\", \"Topic4\", \"Topic5\", \"Topic5\", \"Topic5\", \"Topic5\", \"Topic5\", \"Topic5\", \"Topic5\", \"Topic5\", \"Topic5\", \"Topic5\", \"Topic5\", \"Topic5\", \"Topic5\", \"Topic5\", \"Topic5\", \"Topic5\", \"Topic5\", \"Topic5\", \"Topic5\", \"Topic5\", \"Topic5\", \"Topic5\", \"Topic5\", \"Topic5\", \"Topic5\", \"Topic5\", \"Topic5\", \"Topic5\", \"Topic5\", \"Topic5\", \"Topic5\", \"Topic5\", \"Topic5\", \"Topic5\", \"Topic5\", \"Topic5\", \"Topic5\", \"Topic5\"], \"logprob\": [30.0, 29.0, 28.0, 27.0, 26.0, 25.0, 24.0, 23.0, 22.0, 21.0, 20.0, 19.0, 18.0, 17.0, 16.0, 15.0, 14.0, 13.0, 12.0, 11.0, 10.0, 9.0, 8.0, 7.0, 6.0, 5.0, 4.0, 3.0, 2.0, 1.0, -3.9656, -4.1926, -4.4186, -4.4611, -4.6162, -4.8202, -4.8487, -4.8508, -4.9343, -4.9487, -5.0963, -5.1042, -5.1785, -5.3107, -5.3449, -5.4192, -5.4215, -5.4367, -5.572, -5.6171, -5.6427, -5.6959, -5.7185, -5.8521, -4.9034, -5.897, -5.9781, -6.1084, -6.1176, -6.111, -4.3204, -4.6137, -3.4791, -4.8679, -2.5872, -5.2156, -4.6371, -5.4655, -5.0995, -4.6731, -3.9895, -5.0621, -4.7207, -4.9803, -4.3224, -4.957, -5.2039, -2.6081, -3.542, -4.3892, -4.5033, -4.5944, -4.6918, -4.6926, -4.7967, -4.9427, -4.9503, -5.0895, -5.156, -5.2196, -5.2425, -5.2759, -5.3541, -5.4791, -5.4964, -5.6023, -5.6473, -5.7087, -5.6802, -5.7149, -5.7653, -5.7862, -5.8422, -5.8751, -5.8983, -5.899, -5.9068, -3.9992, -3.2525, -5.1526, -5.1171, -4.0643, -3.3284, -4.3115, -4.6731, -4.594, -5.2061, -4.7025, -5.3936, -5.0023, -4.9882, -5.1527, -5.3265, -3.1149, -4.1798, -4.2298, -4.2818, -4.6173, -4.9402, -5.0922, -5.2089, -5.4911, -5.6283, -5.8155, -5.9405, -5.9493, -6.0, -6.0735, -6.0749, -6.0854, -6.0736, -6.1122, -6.1054, -6.1392, -6.1376, -6.2282, -6.2845, -6.3259, -6.3346, -6.3245, -6.3738, -6.3514, -6.4118, -2.5365, -4.0043, -4.7059, -2.0096, -5.0282, -3.1153, -5.1754, -4.4448, -4.9558, -5.5094, -4.7867, -5.2825, -5.0834, -5.1493, -4.9172, -5.3366, -5.5256, -5.6378, -4.7769, -5.1076, -5.0189, -2.9763, -3.6429, -4.0275, -4.0503, -4.3062, -4.4981, -4.6868, -5.1652, -5.1803, -5.1929, -5.3843, -5.4697, -5.5139, -5.5902, -5.7392, -5.8315, -6.1116, -6.223, -4.1642, -6.3687, -6.369, -6.3996, -6.4406, -6.462, -3.8533, -6.4953, -6.5289, -6.6441, -6.6557, -6.686, -4.4774, -4.2463, -1.9745, -4.76, -4.3462, -3.2829, -4.7408, -3.9335, -4.4852, -4.1174, -4.3427, -4.6538, -3.3062, -3.8314, -4.3477, -4.8168, -4.4202, -5.0709, -5.0433, -5.1212, -1.9883, -2.9176, -3.2476, -3.4885, -4.0403, -4.1601, -4.2255, -4.2774, -4.3883, -4.4241, -4.6306, -4.6913, -4.7059, -5.0878, -5.1308, -5.1447, -5.1818, -5.2392, -5.2661, -5.2839, -5.317, -5.3537, -5.5954, -5.6107, -5.7695, -5.9598, -5.9933, -6.003, -6.0415, -6.0603, -5.015, -5.256, -5.0376, -5.5439, -4.8996, -4.8517, -4.6594, -5.3592], \"loglift\": [30.0, 29.0, 28.0, 27.0, 26.0, 25.0, 24.0, 23.0, 22.0, 21.0, 20.0, 19.0, 18.0, 17.0, 16.0, 15.0, 14.0, 13.0, 12.0, 11.0, 10.0, 9.0, 8.0, 7.0, 6.0, 5.0, 4.0, 3.0, 2.0, 1.0, 1.343, 1.3425, 1.3419, 1.3417, 1.3411, 1.3403, 1.3402, 1.3401, 1.3398, 1.3397, 1.3388, 1.3388, 1.3383, 1.3374, 1.3372, 1.3365, 1.3365, 1.3364, 1.3351, 1.3347, 1.3345, 1.3338, 1.3333, 1.3321, 1.3316, 1.3314, 1.3302, 1.3282, 1.3282, 1.328, 1.2317, 1.1734, 1.0119, 1.1634, 0.6392, 1.1806, 0.9957, 1.2255, 1.0262, 0.7382, 0.1026, 0.9185, 0.5602, 0.5251, -1.1039, -0.0854, 0.5409, 1.8929, 1.8916, 1.8885, 1.8879, 1.8874, 1.8867, 1.8867, 1.8859, 1.8847, 1.8846, 1.8832, 1.8824, 1.8818, 1.8815, 1.881, 1.88, 1.8783, 1.8779, 1.8762, 1.8754, 1.8742, 1.874, 1.8739, 1.8725, 1.8725, 1.8714, 1.8704, 1.8702, 1.87, 1.8697, 1.6941, 1.6191, 1.7975, 1.7933, 1.6395, 1.3559, 1.4318, 1.3503, 1.2826, 1.5395, 1.1214, 1.637, 1.1518, 1.1156, 1.1515, 0.9879, 1.9427, 1.9397, 1.9395, 1.9393, 1.9372, 1.9346, 1.933, 1.9317, 1.9276, 1.9245, 1.921, 1.9179, 1.9175, 1.9165, 1.9147, 1.9145, 1.9142, 1.9139, 1.9129, 1.9128, 1.9127, 1.9118, 1.9098, 1.9069, 1.9062, 1.9045, 1.9045, 1.9039, 1.9031, 1.9028, 1.5556, 1.6632, 1.6766, 1.2168, 1.6903, 1.0116, 1.5517, 1.3, 1.4412, 1.6192, 1.1938, 1.2817, 1.0239, 1.0379, 0.7156, 1.1277, 1.3151, 1.445, -0.1659, 0.3037, -0.5727, 1.3338, 1.3331, 1.3324, 1.3324, 1.3318, 1.3312, 1.3305, 1.328, 1.3279, 1.3278, 1.3264, 1.3257, 1.3252, 1.3245, 1.3229, 1.3218, 1.3179, 1.3159, 1.3142, 1.3126, 1.3125, 1.3123, 1.3114, 1.3105, 1.3099, 1.3094, 1.3088, 1.306, 1.3055, 1.3051, 1.2963, 1.2845, 1.244, 1.2826, 1.2612, 1.1633, 1.2219, 1.1005, 1.137, 1.0432, 1.0217, 1.0641, 0.8208, 0.7796, 0.7934, 0.9863, 0.0708, 0.4345, -0.359, 0.1597, 1.7002, 1.6996, 1.6992, 1.6988, 1.6975, 1.6971, 1.6969, 1.6967, 1.6962, 1.6961, 1.6951, 1.6947, 1.6946, 1.6918, 1.6914, 1.6913, 1.6909, 1.6904, 1.6902, 1.6898, 1.6897, 1.6892, 1.6862, 1.686, 1.6834, 1.6796, 1.6791, 1.679, 1.678, 1.6777, 1.6377, 1.5708, 1.5172, 1.497, 0.8458, 0.2894, -0.0484, -0.6749]}, \"token.table\": {\"Topic\": [3, 3, 5, 1, 4, 1, 2, 5, 2, 3, 2, 1, 2, 4, 1, 2, 2, 4, 5, 1, 4, 3, 3, 5, 5, 1, 4, 3, 5, 1, 2, 1, 2, 3, 1, 3, 3, 1, 2, 3, 4, 4, 5, 2, 1, 5, 5, 4, 5, 4, 5, 4, 4, 3, 1, 3, 3, 3, 4, 4, 3, 3, 2, 5, 1, 2, 5, 5, 1, 3, 4, 1, 4, 5, 1, 3, 4, 5, 1, 4, 5, 1, 1, 1, 2, 3, 4, 5, 1, 3, 4, 1, 4, 2, 4, 4, 3, 5, 1, 5, 1, 2, 1, 1, 3, 4, 5, 2, 1, 2, 1, 2, 2, 1, 5, 4, 1, 3, 2, 1, 4, 5, 1, 2, 3, 4, 3, 3, 5, 3, 4, 5, 1, 4, 5, 4, 4, 2, 4, 4, 4, 3, 2, 3, 1, 3, 4, 5, 1, 3, 4, 1, 2, 4, 3, 1, 1, 1, 1, 4, 1, 2, 3, 1, 4, 3, 2, 4, 4, 1, 3, 4, 4, 1, 1, 2, 2, 4, 4, 2, 1, 5, 4, 5, 4, 5, 4, 3, 3, 1, 2, 5, 4, 3, 5, 2, 1, 3, 1, 2, 2, 4, 4, 5, 2, 4, 1, 4, 1, 2, 4, 1, 3, 2, 2, 3, 1, 5, 2, 5, 2, 2, 3, 4, 5, 3, 2, 1, 5, 5, 1, 2, 3, 1, 2, 2, 2, 1, 2, 4, 1, 5, 5, 3, 5, 1, 2, 4, 5, 2, 1, 5, 2, 5, 5, 1, 3, 5, 1, 3, 3, 2, 1, 2, 4, 1, 3, 1, 3, 1, 1, 1, 2, 3, 1, 1, 5, 1, 2, 3, 5, 1, 4, 1, 5, 1, 3, 4, 5, 1, 2, 3, 4, 4, 1, 4, 3, 1, 4, 1, 4, 1, 1, 5, 1, 2, 2, 3, 2, 1, 5, 5, 2, 3, 4, 1, 2, 3, 4], \"Freq\": [0.9645833200295286, 0.9373148584626387, 0.9990340480134813, 0.8945246846085384, 0.10441922388426518, 0.1701374465425205, 0.7737202926100337, 0.052661590596494445, 0.7786561738288037, 0.21374875360006373, 0.9740047407113117, 0.41112430612177486, 0.4613728324255474, 0.12790533968232998, 0.9926079248916846, 0.9918805320588283, 0.9904927813339043, 0.9978547442919332, 0.9912431401795733, 0.0863863762755712, 0.9134684397577002, 0.9903240145310656, 0.9837500824410675, 0.9782682135301879, 0.9761726638382976, 0.6518560852471803, 0.3419572906214716, 0.992064906383373, 0.9920002525797821, 0.8318725900558476, 0.16300206156499716, 0.985319200430805, 0.9942463103540703, 0.9703515654187929, 0.2315881588930178, 0.766636663921714, 0.9751327668331911, 0.49386844968226173, 0.01700648931412747, 0.48332442630750266, 0.005782206366803339, 0.9899424831063858, 0.9859411068120773, 0.9917948245892818, 0.9825148848044796, 0.9936593593901912, 0.9937216718953473, 0.9644455151204517, 0.034754793337673937, 0.9767679606095895, 0.02359342900023163, 0.9574722256954818, 0.9975237459738715, 0.9547105731214917, 0.9935908807624798, 0.9870745979091134, 0.9780176143602552, 0.9540502019758159, 0.9618174782925909, 0.9958961084477385, 0.9884991710062314, 0.9929402854289766, 0.9071057581031908, 0.08123335147192753, 0.995585918051169, 0.9015457975706487, 0.08451991852224831, 0.995164946591938, 0.030324745624664848, 0.400286642245576, 0.5701052177436992, 0.20238749577539913, 0.7483630657741503, 0.04942020245678351, 0.09461478538802161, 0.0784610415412862, 0.5815347784824743, 0.2446138353934217, 0.9842667974056399, 0.9657816970121198, 0.9965262477269273, 0.9973568736925887, 0.9878056140399794, 0.45649860191893715, 0.061043417698462527, 0.08758403408909841, 0.3078711501313762, 0.08492997245003482, 0.544223898713455, 0.19350183065367288, 0.2600180849408729, 0.9989160243683942, 0.9902417504213777, 0.9656757474192796, 0.9783429992545876, 0.9961160568437216, 0.956433882384395, 0.9892020890097816, 0.169697783734846, 0.8176347761769853, 0.8914499862002644, 0.10871341295125175, 0.9858691495407632, 0.36317320448235, 0.038006498143501745, 0.17314071376484128, 0.4265173680548529, 0.9796358743580864, 0.45265141725507807, 0.5441447888279131, 0.23970734738868402, 0.7596607847391383, 0.9889917704757304, 0.9854334311240175, 0.0068911428749931294, 0.9581886445536104, 0.386059178447422, 0.6112603658750848, 0.99092951118519, 0.9932917423062091, 0.9493103397334095, 0.04547594441836692, 0.21817294617770497, 0.7004499850968423, 0.06889671984559104, 0.9902893304966154, 0.9726664168699293, 0.9713869645542321, 0.9979773075716651, 0.4701379928056148, 0.3846583577500485, 0.13890440696529527, 0.979122793707372, 0.9507372618607436, 0.04770724611487602, 0.999228089043707, 0.9839485793163213, 0.9674560291835191, 0.9868473205399406, 0.9967122593848938, 0.9976666378554065, 0.9493121674748045, 0.9848420737063605, 0.9897123413059111, 0.9876496030567047, 0.607720554739745, 0.38894115503343674, 0.966426157100868, 0.07602164097125538, 0.08062901315133146, 0.8431491089539233, 0.14927714714451004, 0.058052223889531684, 0.7919981973500394, 0.9945559136947939, 0.9915620434987733, 0.995914071129228, 0.985062669870358, 0.01940086472061686, 0.9797436683911516, 0.5211300128443775, 0.4766433044308332, 0.9627037535425714, 0.29080762612096467, 0.7068862296478834, 0.9615987601857827, 0.980762546200694, 0.9965744240038673, 0.9679244714318989, 0.30218317666078476, 0.4007211690501711, 0.28904477767553327, 0.9602773245148049, 0.9944456711826944, 0.8500834188544132, 0.14572858608932798, 0.9874179446044444, 0.9927186852959875, 0.9926020246358574, 0.989951506680813, 0.9986117791145522, 0.9976488283323598, 0.8921458613386687, 0.10495833662807867, 0.9307141151404168, 0.06989552643347004, 0.957303853466094, 0.9345181536404713, 0.9657014907619313, 0.8409460229602886, 0.15410005656340367, 0.9811819622383017, 0.9657291237647357, 0.9977727716878222, 0.9838676781176429, 0.9918618672432267, 0.2694577580174377, 0.7241677246718639, 0.18038394204074293, 0.817740537251368, 0.9967824337222145, 0.9659968370533839, 0.9895551312877002, 0.9823292411519569, 0.9872297607501027, 0.9737700020185691, 0.7167410514367004, 0.2830826001472682, 0.35401433900459645, 0.6279540060914865, 0.016857825666885547, 0.22349969317065654, 0.7710739414387651, 0.9794611257531355, 0.9728609206575467, 0.9959198911418576, 0.05231965606401661, 0.941753809152299, 0.9949224191078058, 0.9916737406626374, 0.9989769916669007, 0.9903736979659566, 0.39339487221973674, 0.5984624119938547, 0.007533093297824746, 0.9782545303878513, 0.9672852185437777, 0.9991909464244133, 0.9993777552151328, 0.992915790136579, 0.2885926616722703, 0.03314369503799183, 0.6782331740701255, 0.997020898131444, 0.9985790882660229, 0.9833511005458849, 0.9965110246444695, 0.43564212377134404, 0.47256094781976304, 0.08860517771620557, 0.11207313942754844, 0.8841325443728821, 0.9958972438635674, 0.9558809204943768, 0.9958749220575162, 0.13884660666013543, 0.5846172912005703, 0.18415444672817963, 0.09353876659209125, 0.9814128733867948, 0.9894729166815093, 0.9729373692490174, 0.9908554514798599, 0.9982169522988, 0.9952302217264367, 0.9956660706704381, 0.9936829250799624, 0.9862336058955504, 0.4545907363001142, 0.5303558590167999, 0.9748980175425643, 0.9917086552742226, 0.4418158707348479, 0.15280849664513535, 0.40527470849361985, 0.705636071656381, 0.29432948443421236, 0.24221777823523458, 0.7540005032161334, 0.9913379737229951, 0.9881582449275749, 0.4473718156349339, 0.025322932960467958, 0.5233406145163377, 0.9978153336745149, 0.9862061363363607, 0.9908248995350042, 0.14173522010359926, 0.4028264150312821, 0.14919496853010447, 0.29838993706020894, 0.7288590663700089, 0.27177795695152873, 0.1612933350098832, 0.8349302047570424, 0.13038790436530714, 0.12088045300533684, 0.5745217036096346, 0.17385053915374288, 0.35654335711608826, 0.45927618882750354, 0.18129323243190928, 0.00604310774773031, 0.9990619889035761, 0.268335103963047, 0.7299868957274289, 0.9865158240521982, 0.2341820006010465, 0.7641728440665727, 0.1754860531239374, 0.8214240784524729, 0.9957590072748368, 0.9877430592750327, 0.9980995815160139, 0.4182534232897456, 0.5799780802951139, 0.31558775008908035, 0.6762594644766007, 0.9924117014288936, 0.9912911674632959, 0.992251010940373, 0.9974840656335257, 0.22025494983867078, 0.5171203170125314, 0.2585601585062657, 0.2946623924973457, 0.10399849146965143, 0.4419935887460186, 0.16466427816028142], \"Term\": [\"a\", \"airtel\", \"amazon\", \"android\", \"android\", \"app\", \"app\", \"app\", \"application\", \"application\", \"applications\", \"apps\", \"apps\", \"apps\", \"atmos\", \"auto\", \"average\", \"backup\", \"bahut\", \"battery\", \"battery\", \"bed\", \"bekar\", \"bhi\", \"bill\", \"bit\", \"bit\", \"bluetooth\", \"box\", \"budget\", \"budget\", \"build\", \"buy\", \"caller\", \"calls\", \"calls\", \"camara\", \"camera\", \"camera\", \"camera\", \"camera\", \"capacity\", \"care\", \"cast\", \"cell\", \"center\", \"centre\", \"charge\", \"charge\", \"charger\", \"charger\", \"charges\", \"charging\", \"china\", \"clarity\", \"class\", \"color\", \"complain\", \"concern\", \"condition\", \"connection\", \"connectivity\", \"contact\", \"contact\", \"core\", \"cost\", \"cost\", \"customer\", \"data\", \"data\", \"data\", \"day\", \"day\", \"day\", \"days\", \"days\", \"days\", \"days\", \"deca\", \"defect\", \"delivery\", \"depth\", \"design\", \"device\", \"device\", \"device\", \"device\", \"device\", \"display\", \"display\", \"display\", \"dolby\", \"drain\", \"drainage\", \"draining\", \"drains\", \"drop\", \"ear\", \"earphone\", \"earphone\", \"effect\", \"effect\", \"expectations\", \"experience\", \"experience\", \"experience\", \"experience\", \"facility\", \"feature\", \"feature\", \"features\", \"features\", \"finger\", \"flash\", \"flash\", \"fone\", \"function\", \"function\", \"gallery\", \"gaming\", \"glass\", \"glass\", \"google\", \"google\", \"google\", \"gorilla\", \"graphics\", \"gs\", \"hai\", \"handset\", \"handset\", \"handset\", \"headphones\", \"heat\", \"heat\", \"heating\", \"heats\", \"hell\", \"hour\", \"hours\", \"hrs\", \"idea\", \"image\", \"improvement\", \"interface\", \"internet\", \"internet\", \"invoice\", \"issue\", \"issue\", \"issue\", \"issues\", \"issues\", \"issues\", \"jio\", \"key\", \"killer\", \"lag\", \"life\", \"life\", \"light\", \"light\", \"list\", \"lot\", \"lot\", \"lovers\", \"lte\", \"mah\", \"mail\", \"mark\", \"mark\", \"mark\", \"max\", \"mediatek\", \"memory\", \"memory\", \"message\", \"min\", \"mins\", \"mirroring\", \"mode\", \"money\", \"month\", \"month\", \"months\", \"months\", \"morning\", \"movies\", \"mp\", \"music\", \"music\", \"nahi\", \"net\", \"network\", \"nhi\", \"notification\", \"number\", \"number\", \"option\", \"option\", \"options\", \"order\", \"oreo\", \"package\", \"party\", \"percent\", \"performance\", \"performance\", \"phones\", \"phones\", \"phones\", \"photo\", \"photo\", \"pic\", \"pics\", \"picture\", \"piece\", \"piece\", \"player\", \"policy\", \"price\", \"print\", \"problem\", \"problem\", \"problem\", \"process\", \"processing\", \"processor\", \"product\", \"products\", \"quality\", \"quality\", \"quality\", \"ram\", \"range\", \"recorder\", \"recording\", \"redmi\", \"redmi\", \"redmi\", \"refund\", \"refund\", \"replacement\", \"result\", \"return\", \"screen\", \"screen\", \"screen\", \"screen\", \"segment\", \"selfie\", \"seller\", \"sensor\", \"service\", \"set\", \"signal\", \"sim\", \"sir\", \"slot\", \"slot\", \"slots\", \"smartphone\", \"software\", \"software\", \"software\", \"sound\", \"sound\", \"speaker\", \"speaker\", \"speakers\", \"specifications\", \"speed\", \"speed\", \"speed\", \"stock\", \"storage\", \"superb\", \"support\", \"support\", \"support\", \"support\", \"system\", \"system\", \"thanks\", \"thanks\", \"time\", \"time\", \"time\", \"time\", \"touch\", \"touch\", \"touch\", \"touch\", \"turbo\", \"update\", \"update\", \"upto\", \"usage\", \"usage\", \"use\", \"use\", \"user\", \"users\", \"value\", \"video\", \"video\", \"voice\", \"voice\", \"volte\", \"volume\", \"warranty\", \"waste\", \"wifi\", \"wifi\", \"wifi\", \"work\", \"work\", \"work\", \"work\"]}, \"R\": 30, \"lambda.step\": 0.01, \"plot.opts\": {\"xlab\": \"PC1\", \"ylab\": \"PC2\"}, \"topic.order\": [1, 2, 3, 4, 5]};\n",
       "\n",
       "function LDAvis_load_lib(url, callback){\n",
       "  var s = document.createElement('script');\n",
       "  s.src = url;\n",
       "  s.async = true;\n",
       "  s.onreadystatechange = s.onload = callback;\n",
       "  s.onerror = function(){console.warn(\"failed to load library \" + url);};\n",
       "  document.getElementsByTagName(\"head\")[0].appendChild(s);\n",
       "}\n",
       "\n",
       "if(typeof(LDAvis) !== \"undefined\"){\n",
       "   // already loaded: just create the visualization\n",
       "   !function(LDAvis){\n",
       "       new LDAvis(\"#\" + \"ldavis_el371397203977573924102124998\", ldavis_el371397203977573924102124998_data);\n",
       "   }(LDAvis);\n",
       "}else if(typeof define === \"function\" && define.amd){\n",
       "   // require.js is available: use it to load d3/LDAvis\n",
       "   require.config({paths: {d3: \"https://d3js.org/d3.v5\"}});\n",
       "   require([\"d3\"], function(d3){\n",
       "      window.d3 = d3;\n",
       "      LDAvis_load_lib(\"https://cdn.jsdelivr.net/gh/bmabey/pyLDAvis@3.2.2/pyLDAvis/js/ldavis.v3.0.0.js\", function(){\n",
       "        new LDAvis(\"#\" + \"ldavis_el371397203977573924102124998\", ldavis_el371397203977573924102124998_data);\n",
       "      });\n",
       "    });\n",
       "}else{\n",
       "    // require.js not available: dynamically load d3 & LDAvis\n",
       "    LDAvis_load_lib(\"https://d3js.org/d3.v5.js\", function(){\n",
       "         LDAvis_load_lib(\"https://cdn.jsdelivr.net/gh/bmabey/pyLDAvis@3.2.2/pyLDAvis/js/ldavis.v3.0.0.js\", function(){\n",
       "                 new LDAvis(\"#\" + \"ldavis_el371397203977573924102124998\", ldavis_el371397203977573924102124998_data);\n",
       "            })\n",
       "         });\n",
       "}\n",
       "</script>"
      ],
      "text/plain": [
       "PreparedData(topic_coordinates=              x         y  topics  cluster       Freq\n",
       "topic                                                \n",
       "0     -0.148701 -0.012267       1        1  26.055606\n",
       "1     -0.061236 -0.263928       2        1  15.049576\n",
       "2     -0.114153  0.039999       3        1  14.309462\n",
       "3     -0.018818  0.261009       4        1  26.328340\n",
       "4      0.342907 -0.024812       5        1  18.257016, topic_info=           Term         Freq        Total Category  logprob  loglift\n",
       "54      product  1852.000000  1852.000000  Default  30.0000  30.0000\n",
       "4       battery  2963.000000  2963.000000  Default  29.0000  29.0000\n",
       "62       camera  2940.000000  2940.000000  Default  28.0000  28.0000\n",
       "72        price   821.000000   821.000000  Default  27.0000  27.0000\n",
       "100     quality  1237.000000  1237.000000  Default  26.0000  26.0000\n",
       "..          ...          ...          ...      ...      ...      ...\n",
       "279    earphone    52.881047    64.821118   Topic5  -5.5439   1.4970\n",
       "238  experience   100.726506   236.801611   Topic5  -4.8996   0.8458\n",
       "92         days   105.663939   433.336078   Topic5  -4.8517   0.2894\n",
       "46         time   128.072063   736.264613   Topic5  -4.6594  -0.0484\n",
       "44       screen    63.611164   684.208295   Topic5  -5.3592  -0.6749\n",
       "\n",
       "[262 rows x 6 columns], token_table=      Topic      Freq     Term\n",
       "term                          \n",
       "1660      3  0.964583        a\n",
       "511       3  0.937315   airtel\n",
       "2         5  0.999034   amazon\n",
       "163       1  0.894525  android\n",
       "163       4  0.104419  android\n",
       "...     ...       ...      ...\n",
       "68        4  0.258560     wifi\n",
       "214       1  0.294662     work\n",
       "214       2  0.103998     work\n",
       "214       3  0.441994     work\n",
       "214       4  0.164664     work\n",
       "\n",
       "[319 rows x 3 columns], R=30, lambda_step=0.01, plot_opts={'xlab': 'PC1', 'ylab': 'PC2'}, topic_order=[1, 2, 3, 4, 5])"
      ]
     },
     "execution_count": 55,
     "metadata": {},
     "output_type": "execute_result"
    }
   ],
   "source": [
    "%matplotlib inline\n",
    "pyLDAvis.enable_notebook()\n",
    "vis = pyLDAvis.gensim.prepare(lda_model_best, corpus, id2word, sort_topics=False)\n",
    "pyLDAvis.save_html(vis, 'lda.html')\n",
    "vis"
   ]
  },
  {
   "cell_type": "markdown",
   "metadata": {},
   "source": [
    "### Assign topics to documents"
   ]
  },
  {
   "cell_type": "code",
   "execution_count": 56,
   "metadata": {
    "execution": {
     "iopub.execute_input": "2021-11-26T15:30:16.201756Z",
     "iopub.status.busy": "2021-11-26T15:30:16.201125Z",
     "iopub.status.idle": "2021-11-26T15:30:16.233739Z",
     "shell.execute_reply": "2021-11-26T15:30:16.233001Z",
     "shell.execute_reply.started": "2021-11-26T15:30:16.201714Z"
    }
   },
   "outputs": [
    {
     "data": {
      "text/html": [
       "<div>\n",
       "<style scoped>\n",
       "    .dataframe tbody tr th:only-of-type {\n",
       "        vertical-align: middle;\n",
       "    }\n",
       "\n",
       "    .dataframe tbody tr th {\n",
       "        vertical-align: top;\n",
       "    }\n",
       "\n",
       "    .dataframe thead th {\n",
       "        text-align: right;\n",
       "    }\n",
       "</style>\n",
       "<table border=\"1\" class=\"dataframe\">\n",
       "  <thead>\n",
       "    <tr style=\"text-align: right;\">\n",
       "      <th></th>\n",
       "      <th>Document_No</th>\n",
       "      <th>Dominant_Topic</th>\n",
       "      <th>Topic_Perc_Contrib</th>\n",
       "      <th>Keywords</th>\n",
       "      <th>Text</th>\n",
       "      <th>topic_name</th>\n",
       "      <th>sentiment</th>\n",
       "    </tr>\n",
       "  </thead>\n",
       "  <tbody>\n",
       "    <tr>\n",
       "      <th>0</th>\n",
       "      <td>0</td>\n",
       "      <td>0.0</td>\n",
       "      <td>0.7329</td>\n",
       "      <td>camera, performance, mode, quality, processor, android, battery, dolby, depth, music</td>\n",
       "      <td>Good but need updates and improvements</td>\n",
       "      <td>Camera and Sound</td>\n",
       "      <td>1</td>\n",
       "    </tr>\n",
       "    <tr>\n",
       "      <th>1</th>\n",
       "      <td>1</td>\n",
       "      <td>2.0</td>\n",
       "      <td>0.4419</td>\n",
       "      <td>camera, quality, network, problem, speaker, jio, sim, bluetooth, speed, picture</td>\n",
       "      <td>Worst mobile i have bought ever, Battery is draining like hell, backup is only 6 to 7 hours with internet uses, even if I put mobile idle its getting discharged.This is biggest lie from Amazon &amp; Lenove which is not at all expected, they are making full by saying that battery is 4000MAH &amp; booster charger is fake, it takes at least 4 to 5 hours to be fully charged.Don't know how Lenovo will survive by making full of us.Please don;t go for this else you will regret like me.</td>\n",
       "      <td>Network and Camera</td>\n",
       "      <td>0</td>\n",
       "    </tr>\n",
       "    <tr>\n",
       "      <th>2</th>\n",
       "      <td>2</td>\n",
       "      <td>1.0</td>\n",
       "      <td>0.4005</td>\n",
       "      <td>price, features, screen, range, option, app, phones, volte, sensor, feature</td>\n",
       "      <td>when I will get my 10% cash back.... its already 15 January..</td>\n",
       "      <td>Missing common features</td>\n",
       "      <td>1</td>\n",
       "    </tr>\n",
       "    <tr>\n",
       "      <th>3</th>\n",
       "      <td>3</td>\n",
       "      <td>0.0</td>\n",
       "      <td>0.2000</td>\n",
       "      <td>camera, performance, mode, quality, processor, android, battery, dolby, depth, music</td>\n",
       "      <td>Good</td>\n",
       "      <td>Camera and Sound</td>\n",
       "      <td>1</td>\n",
       "    </tr>\n",
       "    <tr>\n",
       "      <th>4</th>\n",
       "      <td>4</td>\n",
       "      <td>4.0</td>\n",
       "      <td>0.5590</td>\n",
       "      <td>product, amazon, money, service, waste, delivery, value, hai, replacement, customer</td>\n",
       "      <td>The worst phone everThey have changed the last phone but the problem is still same and the amazon is not returning the phone .Highly disappointing of amazon</td>\n",
       "      <td>Defective piece and Amazon return policy</td>\n",
       "      <td>0</td>\n",
       "    </tr>\n",
       "    <tr>\n",
       "      <th>...</th>\n",
       "      <td>...</td>\n",
       "      <td>...</td>\n",
       "      <td>...</td>\n",
       "      <td>...</td>\n",
       "      <td>...</td>\n",
       "      <td>...</td>\n",
       "      <td>...</td>\n",
       "    </tr>\n",
       "    <tr>\n",
       "      <th>14670</th>\n",
       "      <td>14670</td>\n",
       "      <td>0.0</td>\n",
       "      <td>0.2000</td>\n",
       "      <td>camera, performance, mode, quality, processor, android, battery, dolby, depth, music</td>\n",
       "      <td>I really like the phone, Everything is working fine whater I Use on the phone.</td>\n",
       "      <td>Camera and Sound</td>\n",
       "      <td>1</td>\n",
       "    </tr>\n",
       "    <tr>\n",
       "      <th>14671</th>\n",
       "      <td>14671</td>\n",
       "      <td>0.0</td>\n",
       "      <td>0.6978</td>\n",
       "      <td>camera, performance, mode, quality, processor, android, battery, dolby, depth, music</td>\n",
       "      <td>The Lenovo K8 Note is awesome. It takes best pictures with dual camera. Very Slim and metallic body which is a bit difficult to hold on hand, back cover is must. Features are awesome with Android. Battery is a bit concern if you are regular user.</td>\n",
       "      <td>Camera and Sound</td>\n",
       "      <td>1</td>\n",
       "    </tr>\n",
       "    <tr>\n",
       "      <th>14672</th>\n",
       "      <td>14672</td>\n",
       "      <td>1.0</td>\n",
       "      <td>0.7333</td>\n",
       "      <td>price, features, screen, range, option, app, phones, volte, sensor, feature</td>\n",
       "      <td>Awesome Gaget.. @ this price</td>\n",
       "      <td>Missing common features</td>\n",
       "      <td>1</td>\n",
       "    </tr>\n",
       "    <tr>\n",
       "      <th>14673</th>\n",
       "      <td>14673</td>\n",
       "      <td>2.0</td>\n",
       "      <td>0.5459</td>\n",
       "      <td>camera, quality, network, problem, speaker, jio, sim, bluetooth, speed, picture</td>\n",
       "      <td>This phone is nice processing will be successful but dual camera is not be successfully in dual mod</td>\n",
       "      <td>Network and Camera</td>\n",
       "      <td>1</td>\n",
       "    </tr>\n",
       "    <tr>\n",
       "      <th>14674</th>\n",
       "      <td>14674</td>\n",
       "      <td>4.0</td>\n",
       "      <td>0.7333</td>\n",
       "      <td>product, amazon, money, service, waste, delivery, value, hai, replacement, customer</td>\n",
       "      <td>Good product but the pakeging was not enough.</td>\n",
       "      <td>Defective piece and Amazon return policy</td>\n",
       "      <td>1</td>\n",
       "    </tr>\n",
       "  </tbody>\n",
       "</table>\n",
       "<p>14675 rows × 7 columns</p>\n",
       "</div>"
      ],
      "text/plain": [
       "       Document_No  Dominant_Topic  Topic_Perc_Contrib  \\\n",
       "0                0             0.0              0.7329   \n",
       "1                1             2.0              0.4419   \n",
       "2                2             1.0              0.4005   \n",
       "3                3             0.0              0.2000   \n",
       "4                4             4.0              0.5590   \n",
       "...            ...             ...                 ...   \n",
       "14670        14670             0.0              0.2000   \n",
       "14671        14671             0.0              0.6978   \n",
       "14672        14672             1.0              0.7333   \n",
       "14673        14673             2.0              0.5459   \n",
       "14674        14674             4.0              0.7333   \n",
       "\n",
       "                                                                                   Keywords  \\\n",
       "0      camera, performance, mode, quality, processor, android, battery, dolby, depth, music   \n",
       "1           camera, quality, network, problem, speaker, jio, sim, bluetooth, speed, picture   \n",
       "2               price, features, screen, range, option, app, phones, volte, sensor, feature   \n",
       "3      camera, performance, mode, quality, processor, android, battery, dolby, depth, music   \n",
       "4       product, amazon, money, service, waste, delivery, value, hai, replacement, customer   \n",
       "...                                                                                     ...   \n",
       "14670  camera, performance, mode, quality, processor, android, battery, dolby, depth, music   \n",
       "14671  camera, performance, mode, quality, processor, android, battery, dolby, depth, music   \n",
       "14672           price, features, screen, range, option, app, phones, volte, sensor, feature   \n",
       "14673       camera, quality, network, problem, speaker, jio, sim, bluetooth, speed, picture   \n",
       "14674   product, amazon, money, service, waste, delivery, value, hai, replacement, customer   \n",
       "\n",
       "                                                                                                                                                                                                                                                                                                                                                                                                                                                                                              Text  \\\n",
       "0                                                                                                                                                                                                                                                                                                                                                                                                                                                           Good but need updates and improvements   \n",
       "1      Worst mobile i have bought ever, Battery is draining like hell, backup is only 6 to 7 hours with internet uses, even if I put mobile idle its getting discharged.This is biggest lie from Amazon & Lenove which is not at all expected, they are making full by saying that battery is 4000MAH & booster charger is fake, it takes at least 4 to 5 hours to be fully charged.Don't know how Lenovo will survive by making full of us.Please don;t go for this else you will regret like me.   \n",
       "2                                                                                                                                                                                                                                                                                                                                                                                                                                    when I will get my 10% cash back.... its already 15 January..   \n",
       "3                                                                                                                                                                                                                                                                                                                                                                                                                                                                                             Good   \n",
       "4                                                                                                                                                                                                                                                                                                                                     The worst phone everThey have changed the last phone but the problem is still same and the amazon is not returning the phone .Highly disappointing of amazon   \n",
       "...                                                                                                                                                                                                                                                                                                                                                                                                                                                                                            ...   \n",
       "14670                                                                                                                                                                                                                                                                                                                                                                                                               I really like the phone, Everything is working fine whater I Use on the phone.   \n",
       "14671                                                                                                                                                                                                                                       The Lenovo K8 Note is awesome. It takes best pictures with dual camera. Very Slim and metallic body which is a bit difficult to hold on hand, back cover is must. Features are awesome with Android. Battery is a bit concern if you are regular user.   \n",
       "14672                                                                                                                                                                                                                                                                                                                                                                                                                                                                 Awesome Gaget.. @ this price   \n",
       "14673                                                                                                                                                                                                                                                                                                                                                                                          This phone is nice processing will be successful but dual camera is not be successfully in dual mod   \n",
       "14674                                                                                                                                                                                                                                                                                                                                                                                                                                                Good product but the pakeging was not enough.   \n",
       "\n",
       "                                     topic_name  sentiment  \n",
       "0                              Camera and Sound          1  \n",
       "1                            Network and Camera          0  \n",
       "2                       Missing common features          1  \n",
       "3                              Camera and Sound          1  \n",
       "4      Defective piece and Amazon return policy          0  \n",
       "...                                         ...        ...  \n",
       "14670                          Camera and Sound          1  \n",
       "14671                          Camera and Sound          1  \n",
       "14672                   Missing common features          1  \n",
       "14673                        Network and Camera          1  \n",
       "14674  Defective piece and Amazon return policy          1  \n",
       "\n",
       "[14675 rows x 7 columns]"
      ]
     },
     "execution_count": 56,
     "metadata": {},
     "output_type": "execute_result"
    }
   ],
   "source": [
    "df_dominant_topic_best['topic_name'] = df_dominant_topic_best['Dominant_Topic'].apply(lambda x: topic_best_dict[int(x)])\n",
    "df_dominant_topic_best['sentiment'] = data['sentiment']\n",
    "df_dominant_topic_best"
   ]
  },
  {
   "cell_type": "markdown",
   "metadata": {},
   "source": [
    "### What's the distribution of these topics sentiment wise?"
   ]
  },
  {
   "cell_type": "code",
   "execution_count": 60,
   "metadata": {
    "execution": {
     "iopub.execute_input": "2021-11-26T15:31:21.495093Z",
     "iopub.status.busy": "2021-11-26T15:31:21.494734Z",
     "iopub.status.idle": "2021-11-26T15:31:21.943887Z",
     "shell.execute_reply": "2021-11-26T15:31:21.942375Z",
     "shell.execute_reply.started": "2021-11-26T15:31:21.495059Z"
    }
   },
   "outputs": [
    {
     "data": {
      "image/png": "[encoded data removed]",
      "text/plain": [
       "<Figure size 1152x720 with 1 Axes>"
      ]
     },
     "metadata": {
      "needs_background": "light"
     },
     "output_type": "display_data"
    }
   ],
   "source": [
    "plt.rcParams['figure.figsize'] = (16,10)\n",
    "df_dominant_topic_best.groupby(['sentiment','topic_name']).count()['Dominant_Topic'].unstack().plot(kind='bar',stacked = True)\n",
    "plt.savefig(\"topic_sentiment_wise.png\")"
   ]
  },
  {
   "cell_type": "markdown",
   "metadata": {},
   "source": [
    "It can be seen that most of the people who rated negatively are talking about either battery and overheating problem or they are talking about camera quality and sound. But a large number of people who rated positively are also talking about camera and sound. It seems like, there is some subjectivity in judging the quality of camera and sound, but it remains the most talked about topic, regardless of whether people rated positively or negatively. There are people who faced problems regarding battery backup, charging and overheating, although the problem is not universal in all customers."
   ]
  },
  {
   "cell_type": "markdown",
   "metadata": {},
   "source": [
    "### What's the sentiment distribution for each topic?"
   ]
  },
  {
   "cell_type": "code",
   "execution_count": 61,
   "metadata": {
    "execution": {
     "iopub.execute_input": "2021-11-26T15:31:27.713460Z",
     "iopub.status.busy": "2021-11-26T15:31:27.713125Z",
     "iopub.status.idle": "2021-11-26T15:31:28.127880Z",
     "shell.execute_reply": "2021-11-26T15:31:28.126793Z",
     "shell.execute_reply.started": "2021-11-26T15:31:27.713427Z"
    }
   },
   "outputs": [
    {
     "data": {
      "image/png": "[encoded data removed]",
      "text/plain": [
       "<Figure size 1152x720 with 1 Axes>"
      ]
     },
     "metadata": {
      "needs_background": "light"
     },
     "output_type": "display_data"
    }
   ],
   "source": [
    "df_dominant_topic_best.groupby(['topic_name','sentiment']).count()['Dominant_Topic'].unstack().plot(kind='bar',stacked = True)\n",
    "plt.savefig(\"each_topic_sentiment.png\")"
   ]
  },
  {
   "cell_type": "markdown",
   "metadata": {},
   "source": [
    "### Frequency distribution of different topics"
   ]
  },
  {
   "cell_type": "code",
   "execution_count": 62,
   "metadata": {
    "execution": {
     "iopub.execute_input": "2021-11-26T15:31:32.203447Z",
     "iopub.status.busy": "2021-11-26T15:31:32.203080Z",
     "iopub.status.idle": "2021-11-26T15:31:32.519223Z",
     "shell.execute_reply": "2021-11-26T15:31:32.518051Z",
     "shell.execute_reply.started": "2021-11-26T15:31:32.203407Z"
    }
   },
   "outputs": [
    {
     "data": {
      "image/png": "[encoded data removed]",
      "text/plain": [
       "<Figure size 1152x720 with 1 Axes>"
      ]
     },
     "metadata": {
      "needs_background": "light"
     },
     "output_type": "display_data"
    }
   ],
   "source": [
    "plt.bar(df_dominant_topic_best['topic_name'].value_counts().index,df_dominant_topic_best['Dominant_Topic'].value_counts().values)\n",
    "plt.savefig(\"topic_freq_distr.png\")"
   ]
  },
  {
   "cell_type": "code",
   "execution_count": null,
   "metadata": {},
   "outputs": [],
   "source": []
  }
 ],
 "metadata": {
  "kernelspec": {
   "display_name": "Python 3",
   "language": "python",
   "name": "python3"
  },
  "language_info": {
   "codemirror_mode": {
    "name": "ipython",
    "version": 3
   },
   "file_extension": ".py",
   "mimetype": "text/x-python",
   "name": "python",
   "nbconvert_exporter": "python",
   "pygments_lexer": "ipython3",
   "version": "3.8.8"
  }
 },
 "nbformat": 4,
 "nbformat_minor": 4
}
