{
 "cells": [
  {
   "cell_type": "code",
   "execution_count": 1,
   "id": "0dc4b882",
   "metadata": {
    "execution": {
     "iopub.execute_input": "2022-03-29T04:44:33.684051Z",
     "iopub.status.busy": "2022-03-29T04:44:33.682847Z",
     "iopub.status.idle": "2022-03-29T04:44:44.663116Z",
     "shell.execute_reply": "2022-03-29T04:44:44.661934Z",
     "shell.execute_reply.started": "2022-03-28T06:13:34.558951Z"
    },
    "papermill": {
     "duration": 11.04966,
     "end_time": "2022-03-29T04:44:44.663311",
     "exception": false,
     "start_time": "2022-03-29T04:44:33.613651",
     "status": "completed"
    },
    "tags": []
   },
   "outputs": [
    {
     "name": "stdout",
     "output_type": "stream",
     "text": [
      "Collecting livelossplot\r\n",
      "  Downloading livelossplot-0.5.4-py3-none-any.whl (22 kB)\r\n",
      "Requirement already satisfied: bokeh in /opt/conda/lib/python3.7/site-packages (from livelossplot) (2.4.2)\r\n",
      "Requirement already satisfied: ipython in /opt/conda/lib/python3.7/site-packages (from livelossplot) (7.30.1)\r\n",
      "Requirement already satisfied: matplotlib in /opt/conda/lib/python3.7/site-packages (from livelossplot) (3.5.1)\r\n",
      "Requirement already satisfied: Jinja2>=2.9 in /opt/conda/lib/python3.7/site-packages (from bokeh->livelossplot) (3.0.3)\r\n",
      "Requirement already satisfied: PyYAML>=3.10 in /opt/conda/lib/python3.7/site-packages (from bokeh->livelossplot) (6.0)\r\n",
      "Requirement already satisfied: pillow>=7.1.0 in /opt/conda/lib/python3.7/site-packages (from bokeh->livelossplot) (8.2.0)\r\n",
      "Requirement already satisfied: packaging>=16.8 in /opt/conda/lib/python3.7/site-packages (from bokeh->livelossplot) (21.3)\r\n",
      "Requirement already satisfied: typing-extensions>=3.10.0 in /opt/conda/lib/python3.7/site-packages (from bokeh->livelossplot) (4.1.1)\r\n",
      "Requirement already satisfied: numpy>=1.11.3 in /opt/conda/lib/python3.7/site-packages (from bokeh->livelossplot) (1.20.3)\r\n",
      "Requirement already satisfied: tornado>=5.1 in /opt/conda/lib/python3.7/site-packages (from bokeh->livelossplot) (6.1)\r\n",
      "Requirement already satisfied: pickleshare in /opt/conda/lib/python3.7/site-packages (from ipython->livelossplot) (0.7.5)\r\n",
      "Requirement already satisfied: prompt-toolkit!=3.0.0,!=3.0.1,<3.1.0,>=2.0.0 in /opt/conda/lib/python3.7/site-packages (from ipython->livelossplot) (3.0.24)\r\n",
      "Requirement already satisfied: backcall in /opt/conda/lib/python3.7/site-packages (from ipython->livelossplot) (0.2.0)\r\n",
      "Requirement already satisfied: matplotlib-inline in /opt/conda/lib/python3.7/site-packages (from ipython->livelossplot) (0.1.3)\r\n",
      "Requirement already satisfied: decorator in /opt/conda/lib/python3.7/site-packages (from ipython->livelossplot) (5.1.0)\r\n",
      "Requirement already satisfied: traitlets>=4.2 in /opt/conda/lib/python3.7/site-packages (from ipython->livelossplot) (5.1.1)\r\n",
      "Requirement already satisfied: setuptools>=18.5 in /opt/conda/lib/python3.7/site-packages (from ipython->livelossplot) (59.5.0)\r\n",
      "Requirement already satisfied: pexpect>4.3 in /opt/conda/lib/python3.7/site-packages (from ipython->livelossplot) (4.8.0)\r\n",
      "Requirement already satisfied: jedi>=0.16 in /opt/conda/lib/python3.7/site-packages (from ipython->livelossplot) (0.18.1)\r\n",
      "Requirement already satisfied: pygments in /opt/conda/lib/python3.7/site-packages (from ipython->livelossplot) (2.10.0)\r\n",
      "Requirement already satisfied: fonttools>=4.22.0 in /opt/conda/lib/python3.7/site-packages (from matplotlib->livelossplot) (4.28.4)\r\n",
      "Requirement already satisfied: kiwisolver>=1.0.1 in /opt/conda/lib/python3.7/site-packages (from matplotlib->livelossplot) (1.3.2)\r\n",
      "Requirement already satisfied: python-dateutil>=2.7 in /opt/conda/lib/python3.7/site-packages (from matplotlib->livelossplot) (2.8.2)\r\n",
      "Requirement already satisfied: cycler>=0.10 in /opt/conda/lib/python3.7/site-packages (from matplotlib->livelossplot) (0.11.0)\r\n",
      "Requirement already satisfied: pyparsing>=2.2.1 in /opt/conda/lib/python3.7/site-packages (from matplotlib->livelossplot) (3.0.6)\r\n",
      "Requirement already satisfied: parso<0.9.0,>=0.8.0 in /opt/conda/lib/python3.7/site-packages (from jedi>=0.16->ipython->livelossplot) (0.8.3)\r\n",
      "Requirement already satisfied: MarkupSafe>=2.0 in /opt/conda/lib/python3.7/site-packages (from Jinja2>=2.9->bokeh->livelossplot) (2.1.1)\r\n",
      "Requirement already satisfied: ptyprocess>=0.5 in /opt/conda/lib/python3.7/site-packages (from pexpect>4.3->ipython->livelossplot) (0.7.0)\r\n",
      "Requirement already satisfied: wcwidth in /opt/conda/lib/python3.7/site-packages (from prompt-toolkit!=3.0.0,!=3.0.1,<3.1.0,>=2.0.0->ipython->livelossplot) (0.2.5)\r\n",
      "Requirement already satisfied: six>=1.5 in /opt/conda/lib/python3.7/site-packages (from python-dateutil>=2.7->matplotlib->livelossplot) (1.16.0)\r\n",
      "Installing collected packages: livelossplot\r\n",
      "Successfully installed livelossplot-0.5.4\r\n",
      "\u001b[33mWARNING: Running pip as the 'root' user can result in broken permissions and conflicting behaviour with the system package manager. It is recommended to use a virtual environment instead: https://pip.pypa.io/warnings/venv\u001b[0m\r\n"
     ]
    }
   ],
   "source": [
    "!pip install livelossplot"
   ]
  },
  {
   "cell_type": "code",
   "execution_count": 2,
   "id": "2cef18b1",
   "metadata": {
    "_cell_guid": "dfae689b-ae28-4a33-9fac-603f900798e5",
    "_uuid": "afcc36d6-ca07-4768-b29a-46200a4c5f0d",
    "collapsed": false,
    "execution": {
     "iopub.execute_input": "2022-03-29T04:44:44.813954Z",
     "iopub.status.busy": "2022-03-29T04:44:44.813201Z",
     "iopub.status.idle": "2022-03-29T04:44:44.847516Z",
     "shell.execute_reply": "2022-03-29T04:44:44.846862Z",
     "shell.execute_reply.started": "2022-03-28T06:13:43.335161Z"
    },
    "jupyter": {
     "outputs_hidden": false
    },
    "papermill": {
     "duration": 0.112819,
     "end_time": "2022-03-29T04:44:44.847674",
     "exception": false,
     "start_time": "2022-03-29T04:44:44.734855",
     "status": "completed"
    },
    "tags": []
   },
   "outputs": [
    {
     "name": "stdout",
     "output_type": "stream",
     "text": [
      "/kaggle/input/twitter-hate-speech-preprocessing-and-eda/__results__.html\n",
      "/kaggle/input/twitter-hate-speech-preprocessing-and-eda/twittervalidation.csv\n",
      "/kaggle/input/twitter-hate-speech-preprocessing-and-eda/__notebook__.ipynb\n",
      "/kaggle/input/twitter-hate-speech-preprocessing-and-eda/twittertrain.csv\n",
      "/kaggle/input/twitter-hate-speech-preprocessing-and-eda/__output__.json\n",
      "/kaggle/input/twitter-hate-speech-preprocessing-and-eda/twittertest.csv\n",
      "/kaggle/input/twitter-hate-speech-preprocessing-and-eda/custom.css\n",
      "/kaggle/input/twitter-hate-speech-preprocessing-and-eda/__results___files/__results___9_0.png\n",
      "/kaggle/input/twitter-hate-speech-preprocessing-and-eda/__results___files/__results___36_0.png\n",
      "/kaggle/input/twitter-hate-speech-preprocessing-and-eda/__results___files/__results___12_1.png\n",
      "/kaggle/input/twitter-hate-speech-preprocessing-and-eda/__results___files/__results___13_1.png\n",
      "/kaggle/input/twitter-hate-speech-preprocessing-and-eda/__results___files/__results___8_1.png\n",
      "/kaggle/input/glove-twitter/glove.twitter.27B.200d.txt\n",
      "/kaggle/input/glove-twitter/glove.twitter.27B.25d.txt\n",
      "/kaggle/input/glove-twitter/glove.twitter.27B.50d.txt\n",
      "/kaggle/input/glove-twitter/glove.twitter.27B.100d.txt\n"
     ]
    }
   ],
   "source": [
    "import numpy as np # linear algebra\n",
    "import pandas as pd # data processing, CSV file I/O (e.g. pd.read_csv)\n",
    "import matplotlib.pyplot as plt \n",
    "\n",
    "import os\n",
    "for dirname, _, filenames in os.walk('/kaggle/input'):\n",
    "    for filename in filenames:\n",
    "        print(os.path.join(dirname, filename))"
   ]
  },
  {
   "cell_type": "markdown",
   "id": "f806d26a",
   "metadata": {
    "papermill": {
     "duration": 0.067865,
     "end_time": "2022-03-29T04:44:44.984316",
     "exception": false,
     "start_time": "2022-03-29T04:44:44.916451",
     "status": "completed"
    },
    "tags": []
   },
   "source": [
    "### Vectorize\n",
    "1. Using Tfidf\n",
    "2. Using tensorflow tokenize\n",
    "\n",
    "3.Build a baseline model using Logistic Regression, handle class imbalance\n",
    "4. Build a model with GloVe embeddings, trainable = False, LSTM, Conv1d\n",
    "#Build a model with trained embeddings, LSTM, Conv1d\n",
    "#Explore Conv1d-LSTM combined architecture\n",
    "\n",
    "#Handle out of vocabulary tokens\n"
   ]
  },
  {
   "cell_type": "code",
   "execution_count": 3,
   "id": "bca00446",
   "metadata": {
    "execution": {
     "iopub.execute_input": "2022-03-29T04:44:45.135066Z",
     "iopub.status.busy": "2022-03-29T04:44:45.134232Z",
     "iopub.status.idle": "2022-03-29T04:44:45.240553Z",
     "shell.execute_reply": "2022-03-29T04:44:45.241105Z",
     "shell.execute_reply.started": "2022-03-28T06:13:43.349279Z"
    },
    "papermill": {
     "duration": 0.186722,
     "end_time": "2022-03-29T04:44:45.241305",
     "exception": false,
     "start_time": "2022-03-29T04:44:45.054583",
     "status": "completed"
    },
    "tags": []
   },
   "outputs": [],
   "source": [
    "traindata = pd.read_csv(\"../input/twitter-hate-speech-preprocessing-and-eda/twittertrain.csv\")\n",
    "valdata = pd.read_csv(\"../input/twitter-hate-speech-preprocessing-and-eda/twittervalidation.csv\")\n",
    "testdata = pd.read_csv(\"../input/twitter-hate-speech-preprocessing-and-eda/twittertest.csv\")"
   ]
  },
  {
   "cell_type": "code",
   "execution_count": 4,
   "id": "9a5eecc4",
   "metadata": {
    "execution": {
     "iopub.execute_input": "2022-03-29T04:44:45.383987Z",
     "iopub.status.busy": "2022-03-29T04:44:45.383307Z",
     "iopub.status.idle": "2022-03-29T04:44:45.400821Z",
     "shell.execute_reply": "2022-03-29T04:44:45.400182Z",
     "shell.execute_reply.started": "2022-03-28T06:13:43.403796Z"
    },
    "papermill": {
     "duration": 0.09037,
     "end_time": "2022-03-29T04:44:45.400966",
     "exception": false,
     "start_time": "2022-03-29T04:44:45.310596",
     "status": "completed"
    },
    "tags": []
   },
   "outputs": [
    {
     "name": "stdout",
     "output_type": "stream",
     "text": [
      "tokenized    51\n",
      "Sentiment     0\n",
      "dtype: int64\n",
      "tokenized    8\n",
      "Sentiment    0\n",
      "dtype: int64\n",
      "tokenized    10\n",
      "Sentiment     0\n",
      "dtype: int64\n"
     ]
    }
   ],
   "source": [
    "print(traindata.isna().sum())\n",
    "print(valdata.isna().sum())\n",
    "print(testdata.isna().sum())"
   ]
  },
  {
   "cell_type": "code",
   "execution_count": 5,
   "id": "3ab5d7e7",
   "metadata": {
    "execution": {
     "iopub.execute_input": "2022-03-29T04:44:45.552639Z",
     "iopub.status.busy": "2022-03-29T04:44:45.551916Z",
     "iopub.status.idle": "2022-03-29T04:44:45.567674Z",
     "shell.execute_reply": "2022-03-29T04:44:45.568173Z",
     "shell.execute_reply.started": "2022-03-28T06:13:43.419887Z"
    },
    "papermill": {
     "duration": 0.098524,
     "end_time": "2022-03-29T04:44:45.568363",
     "exception": false,
     "start_time": "2022-03-29T04:44:45.469839",
     "status": "completed"
    },
    "tags": []
   },
   "outputs": [],
   "source": [
    "traindata.dropna(inplace=True)\n",
    "valdata.dropna(inplace=True)\n",
    "testdata.dropna(inplace=True)"
   ]
  },
  {
   "cell_type": "code",
   "execution_count": 6,
   "id": "fe930df6",
   "metadata": {
    "execution": {
     "iopub.execute_input": "2022-03-29T04:44:45.723259Z",
     "iopub.status.busy": "2022-03-29T04:44:45.722532Z",
     "iopub.status.idle": "2022-03-29T04:44:45.730327Z",
     "shell.execute_reply": "2022-03-29T04:44:45.730914Z",
     "shell.execute_reply.started": "2022-03-28T06:13:43.436702Z"
    },
    "papermill": {
     "duration": 0.090435,
     "end_time": "2022-03-29T04:44:45.731128",
     "exception": false,
     "start_time": "2022-03-29T04:44:45.640693",
     "status": "completed"
    },
    "tags": []
   },
   "outputs": [],
   "source": [
    "X_train = traindata.drop(columns=['Sentiment'])\n",
    "y_train = traindata['Sentiment']\n",
    "X_val = valdata.drop(columns=['Sentiment'])\n",
    "y_val = valdata['Sentiment']\n",
    "X_test = testdata.drop(columns=['Sentiment'])\n",
    "y_test = testdata['Sentiment']"
   ]
  },
  {
   "cell_type": "code",
   "execution_count": 7,
   "id": "210a907e",
   "metadata": {
    "execution": {
     "iopub.execute_input": "2022-03-29T04:44:45.885947Z",
     "iopub.status.busy": "2022-03-29T04:44:45.885199Z",
     "iopub.status.idle": "2022-03-29T04:44:45.897076Z",
     "shell.execute_reply": "2022-03-29T04:44:45.897631Z",
     "shell.execute_reply.started": "2022-03-28T06:13:43.447439Z"
    },
    "papermill": {
     "duration": 0.089545,
     "end_time": "2022-03-29T04:44:45.897824",
     "exception": false,
     "start_time": "2022-03-29T04:44:45.808279",
     "status": "completed"
    },
    "tags": []
   },
   "outputs": [
    {
     "data": {
      "text/html": [
       "<div>\n",
       "<style scoped>\n",
       "    .dataframe tbody tr th:only-of-type {\n",
       "        vertical-align: middle;\n",
       "    }\n",
       "\n",
       "    .dataframe tbody tr th {\n",
       "        vertical-align: top;\n",
       "    }\n",
       "\n",
       "    .dataframe thead th {\n",
       "        text-align: right;\n",
       "    }\n",
       "</style>\n",
       "<table border=\"1\" class=\"dataframe\">\n",
       "  <thead>\n",
       "    <tr style=\"text-align: right;\">\n",
       "      <th></th>\n",
       "      <th>tokenized</th>\n",
       "    </tr>\n",
       "  </thead>\n",
       "  <tbody>\n",
       "    <tr>\n",
       "      <th>0</th>\n",
       "      <td>disgust idiot medium go straight islam regard ...</td>\n",
       "    </tr>\n",
       "    <tr>\n",
       "      <th>1</th>\n",
       "      <td>dunstaplesummerselfie watch next c min dunstap...</td>\n",
       "    </tr>\n",
       "    <tr>\n",
       "      <th>2</th>\n",
       "      <td>quietly hum win way next meeting may drop thug...</td>\n",
       "    </tr>\n",
       "    <tr>\n",
       "      <th>3</th>\n",
       "      <td>late post imoy fall :-) cbafamily summerouting...</td>\n",
       "    </tr>\n",
       "    <tr>\n",
       "      <th>4</th>\n",
       "      <td>happy enjoy music understand lyric musicisthef...</td>\n",
       "    </tr>\n",
       "  </tbody>\n",
       "</table>\n",
       "</div>"
      ],
      "text/plain": [
       "                                           tokenized\n",
       "0  disgust idiot medium go straight islam regard ...\n",
       "1  dunstaplesummerselfie watch next c min dunstap...\n",
       "2  quietly hum win way next meeting may drop thug...\n",
       "3  late post imoy fall :-) cbafamily summerouting...\n",
       "4  happy enjoy music understand lyric musicisthef..."
      ]
     },
     "execution_count": 7,
     "metadata": {},
     "output_type": "execute_result"
    }
   ],
   "source": [
    "X_train.head()"
   ]
  },
  {
   "cell_type": "code",
   "execution_count": 8,
   "id": "be7ba19a",
   "metadata": {
    "execution": {
     "iopub.execute_input": "2022-03-29T04:44:46.040000Z",
     "iopub.status.busy": "2022-03-29T04:44:46.039328Z",
     "iopub.status.idle": "2022-03-29T04:44:46.043907Z",
     "shell.execute_reply": "2022-03-29T04:44:46.044449Z",
     "shell.execute_reply.started": "2022-03-28T06:13:43.460475Z"
    },
    "papermill": {
     "duration": 0.077172,
     "end_time": "2022-03-29T04:44:46.044628",
     "exception": false,
     "start_time": "2022-03-29T04:44:45.967456",
     "status": "completed"
    },
    "tags": []
   },
   "outputs": [
    {
     "data": {
      "text/plain": [
       "(19125, 1)"
      ]
     },
     "execution_count": 8,
     "metadata": {},
     "output_type": "execute_result"
    }
   ],
   "source": [
    "X_train.shape"
   ]
  },
  {
   "cell_type": "code",
   "execution_count": 9,
   "id": "c5c5a82b",
   "metadata": {
    "execution": {
     "iopub.execute_input": "2022-03-29T04:44:46.187423Z",
     "iopub.status.busy": "2022-03-29T04:44:46.186765Z",
     "iopub.status.idle": "2022-03-29T04:44:46.208212Z",
     "shell.execute_reply": "2022-03-29T04:44:46.207636Z",
     "shell.execute_reply.started": "2022-03-28T06:13:43.468323Z"
    },
    "papermill": {
     "duration": 0.093975,
     "end_time": "2022-03-29T04:44:46.208359",
     "exception": false,
     "start_time": "2022-03-29T04:44:46.114384",
     "status": "completed"
    },
    "tags": []
   },
   "outputs": [
    {
     "data": {
      "text/plain": [
       "count    6385.000000\n",
       "mean       10.360846\n",
       "std         8.614741\n",
       "min         1.000000\n",
       "25%         6.000000\n",
       "50%         9.000000\n",
       "75%        12.000000\n",
       "max       207.000000\n",
       "Name: tokenized, dtype: float64"
      ]
     },
     "execution_count": 9,
     "metadata": {},
     "output_type": "execute_result"
    }
   ],
   "source": [
    "wordcounts = X_val['tokenized'].apply(lambda x: len(x.split()))\n",
    "wordcounts.describe()"
   ]
  },
  {
   "cell_type": "code",
   "execution_count": 10,
   "id": "1a8f10cb",
   "metadata": {
    "execution": {
     "iopub.execute_input": "2022-03-29T04:44:46.359555Z",
     "iopub.status.busy": "2022-03-29T04:44:46.358811Z",
     "iopub.status.idle": "2022-03-29T04:44:46.602828Z",
     "shell.execute_reply": "2022-03-29T04:44:46.603404Z",
     "shell.execute_reply.started": "2022-03-28T06:13:43.491301Z"
    },
    "papermill": {
     "duration": 0.324304,
     "end_time": "2022-03-29T04:44:46.603592",
     "exception": false,
     "start_time": "2022-03-29T04:44:46.279288",
     "status": "completed"
    },
    "tags": []
   },
   "outputs": [
    {
     "data": {
      "text/plain": [
       "(array([5.962e+03, 3.690e+02, 3.900e+01, 6.000e+00, 5.000e+00, 1.000e+00,\n",
       "        0.000e+00, 2.000e+00, 0.000e+00, 1.000e+00]),\n",
       " array([  1. ,  21.6,  42.2,  62.8,  83.4, 104. , 124.6, 145.2, 165.8,\n",
       "        186.4, 207. ]),\n",
       " <BarContainer object of 10 artists>)"
      ]
     },
     "execution_count": 10,
     "metadata": {},
     "output_type": "execute_result"
    },
    {
     "data": {
      "image/png": "[encoded data removed]",
      "text/plain": [
       "<Figure size 432x288 with 1 Axes>"
      ]
     },
     "metadata": {
      "needs_background": "light"
     },
     "output_type": "display_data"
    }
   ],
   "source": [
    "plt.hist(wordcounts)"
   ]
  },
  {
   "cell_type": "code",
   "execution_count": 11,
   "id": "98924bc9",
   "metadata": {
    "execution": {
     "iopub.execute_input": "2022-03-29T04:44:46.751961Z",
     "iopub.status.busy": "2022-03-29T04:44:46.751166Z",
     "iopub.status.idle": "2022-03-29T04:44:47.973264Z",
     "shell.execute_reply": "2022-03-29T04:44:47.973745Z",
     "shell.execute_reply.started": "2022-03-28T06:13:43.738775Z"
    },
    "papermill": {
     "duration": 1.297436,
     "end_time": "2022-03-29T04:44:47.973934",
     "exception": false,
     "start_time": "2022-03-29T04:44:46.676498",
     "status": "completed"
    },
    "tags": []
   },
   "outputs": [],
   "source": [
    "from sklearn.feature_extraction.text import TfidfVectorizer\n",
    "from sklearn.linear_model import LogisticRegression\n",
    "from sklearn.metrics import f1_score, recall_score\n",
    "from sklearn.metrics import confusion_matrix, classification_report\n",
    "from sklearn.model_selection import GridSearchCV, StratifiedKFold"
   ]
  },
  {
   "cell_type": "code",
   "execution_count": 12,
   "id": "9ee87f40",
   "metadata": {
    "execution": {
     "iopub.execute_input": "2022-03-29T04:44:48.122823Z",
     "iopub.status.busy": "2022-03-29T04:44:48.119621Z",
     "iopub.status.idle": "2022-03-29T04:44:48.124437Z",
     "shell.execute_reply": "2022-03-29T04:44:48.125060Z",
     "shell.execute_reply.started": "2022-03-28T06:13:43.753751Z"
    },
    "papermill": {
     "duration": 0.079801,
     "end_time": "2022-03-29T04:44:48.125250",
     "exception": false,
     "start_time": "2022-03-29T04:44:48.045449",
     "status": "completed"
    },
    "tags": []
   },
   "outputs": [],
   "source": [
    "def evaluate(model, Xeval, ytrue):\n",
    "    ypred = model.predict(Xeval)\n",
    "    print(f\"F1 Score: {f1_score(ytrue,ypred)}\")\n",
    "    mat = confusion_matrix(ytrue, ypred)\n",
    "    print(f\"True positives: {mat[1,1]}, True Negatives: {mat[0,0]}, False Positives: {mat[0,1]}, False Negatives: {mat[1,0]} \")\n",
    "    print(\"Recall = \",recall_score(ytrue,ypred))\n",
    "    "
   ]
  },
  {
   "cell_type": "code",
   "execution_count": 13,
   "id": "dd336121",
   "metadata": {
    "execution": {
     "iopub.execute_input": "2022-03-29T04:44:48.270708Z",
     "iopub.status.busy": "2022-03-29T04:44:48.270071Z",
     "iopub.status.idle": "2022-03-29T04:44:48.720384Z",
     "shell.execute_reply": "2022-03-29T04:44:48.720938Z",
     "shell.execute_reply.started": "2022-03-28T06:13:43.767594Z"
    },
    "papermill": {
     "duration": 0.524821,
     "end_time": "2022-03-29T04:44:48.721136",
     "exception": false,
     "start_time": "2022-03-29T04:44:48.196315",
     "status": "completed"
    },
    "tags": []
   },
   "outputs": [],
   "source": [
    "tfidf = TfidfVectorizer()\n",
    "X_train_tfidf = tfidf.fit_transform(X_train['tokenized'])\n",
    "X_val_tfidf = tfidf.transform(X_val['tokenized'])\n",
    "X_test_tfidf = tfidf.transform(X_test['tokenized'])"
   ]
  },
  {
   "cell_type": "code",
   "execution_count": 14,
   "id": "33754a96",
   "metadata": {
    "execution": {
     "iopub.execute_input": "2022-03-29T04:44:48.870866Z",
     "iopub.status.busy": "2022-03-29T04:44:48.870252Z",
     "iopub.status.idle": "2022-03-29T04:44:49.562341Z",
     "shell.execute_reply": "2022-03-29T04:44:49.563763Z",
     "shell.execute_reply.started": "2022-03-28T06:13:44.310857Z"
    },
    "papermill": {
     "duration": 0.770127,
     "end_time": "2022-03-29T04:44:49.564068",
     "exception": false,
     "start_time": "2022-03-29T04:44:48.793941",
     "status": "completed"
    },
    "tags": []
   },
   "outputs": [
    {
     "data": {
      "text/plain": [
       "LogisticRegression()"
      ]
     },
     "execution_count": 14,
     "metadata": {},
     "output_type": "execute_result"
    }
   ],
   "source": [
    "logReg = LogisticRegression()\n",
    "logReg.fit(X_train_tfidf,y_train)"
   ]
  },
  {
   "cell_type": "code",
   "execution_count": 15,
   "id": "69e43700",
   "metadata": {
    "execution": {
     "iopub.execute_input": "2022-03-29T04:44:49.789486Z",
     "iopub.status.busy": "2022-03-29T04:44:49.788275Z",
     "iopub.status.idle": "2022-03-29T04:44:49.818132Z",
     "shell.execute_reply": "2022-03-29T04:44:49.818642Z",
     "shell.execute_reply.started": "2022-03-28T06:13:44.721871Z"
    },
    "papermill": {
     "duration": 0.10762,
     "end_time": "2022-03-29T04:44:49.818828",
     "exception": false,
     "start_time": "2022-03-29T04:44:49.711208",
     "status": "completed"
    },
    "tags": []
   },
   "outputs": [
    {
     "name": "stdout",
     "output_type": "stream",
     "text": [
      "ordinary logistic regression\n",
      "\n",
      "***Training Data Performance*** \n",
      "\n",
      "F1 Score: 0.4883720930232558\n",
      "True positives: 441, True Negatives: 17760, False Positives: 23, False Negatives: 901 \n",
      "Recall =  0.3286140089418778\n",
      "\n",
      "***Validation Data Performance*** \n",
      "\n",
      "F1 Score: 0.41580756013745707\n",
      "True positives: 121, True Negatives: 5924, False Positives: 12, False Negatives: 328 \n",
      "Recall =  0.26948775055679286\n"
     ]
    }
   ],
   "source": [
    "print(\"ordinary logistic regression\\n\")\n",
    "print(\"***Training Data Performance*** \\n\")\n",
    "evaluate(logReg, X_train_tfidf,y_train)\n",
    "print(\"\\n***Validation Data Performance*** \\n\")\n",
    "evaluate(logReg, X_val_tfidf,y_val)"
   ]
  },
  {
   "cell_type": "markdown",
   "id": "92dcdbda",
   "metadata": {
    "papermill": {
     "duration": 0.071618,
     "end_time": "2022-03-29T04:44:49.964126",
     "exception": false,
     "start_time": "2022-03-29T04:44:49.892508",
     "status": "completed"
    },
    "tags": []
   },
   "source": [
    "The model has high variance, also it's performing poor on positive classes prediction"
   ]
  },
  {
   "cell_type": "markdown",
   "id": "858dcc30",
   "metadata": {
    "papermill": {
     "duration": 0.071957,
     "end_time": "2022-03-29T04:44:50.108637",
     "exception": false,
     "start_time": "2022-03-29T04:44:50.036680",
     "status": "completed"
    },
    "tags": []
   },
   "source": []
  },
  {
   "cell_type": "code",
   "execution_count": 16,
   "id": "29adee3b",
   "metadata": {
    "execution": {
     "iopub.execute_input": "2022-03-29T04:44:50.258946Z",
     "iopub.status.busy": "2022-03-29T04:44:50.257907Z",
     "iopub.status.idle": "2022-03-29T04:44:50.378806Z",
     "shell.execute_reply": "2022-03-29T04:44:50.379295Z",
     "shell.execute_reply.started": "2022-03-28T06:13:44.806921Z"
    },
    "papermill": {
     "duration": 0.199184,
     "end_time": "2022-03-29T04:44:50.379478",
     "exception": false,
     "start_time": "2022-03-29T04:44:50.180294",
     "status": "completed"
    },
    "tags": []
   },
   "outputs": [
    {
     "data": {
      "text/plain": [
       "LogisticRegression(class_weight='balanced', penalty='l1', solver='liblinear')"
      ]
     },
     "execution_count": 16,
     "metadata": {},
     "output_type": "execute_result"
    }
   ],
   "source": [
    "logReg1 = LogisticRegression(penalty='l1', class_weight='balanced', solver='liblinear')\n",
    "logReg1.fit(X_train_tfidf,y_train)"
   ]
  },
  {
   "cell_type": "code",
   "execution_count": 17,
   "id": "c4ba73b4",
   "metadata": {
    "execution": {
     "iopub.execute_input": "2022-03-29T04:44:50.528865Z",
     "iopub.status.busy": "2022-03-29T04:44:50.527867Z",
     "iopub.status.idle": "2022-03-29T04:44:50.559542Z",
     "shell.execute_reply": "2022-03-29T04:44:50.560031Z",
     "shell.execute_reply.started": "2022-03-28T06:13:44.930294Z"
    },
    "papermill": {
     "duration": 0.107455,
     "end_time": "2022-03-29T04:44:50.560213",
     "exception": false,
     "start_time": "2022-03-29T04:44:50.452758",
     "status": "completed"
    },
    "tags": []
   },
   "outputs": [
    {
     "name": "stdout",
     "output_type": "stream",
     "text": [
      "ordinary logistic regression with penalty and balanced class weights\n",
      "\n",
      "***Training Data Performance*** \n",
      "\n",
      "F1 Score: 0.7637614678899082\n",
      "True positives: 1332, True Negatives: 16969, False Positives: 814, False Negatives: 10 \n",
      "Recall =  0.992548435171386\n",
      "\n",
      "***Validation Data Performance*** \n",
      "\n",
      "F1 Score: 0.604014598540146\n",
      "True positives: 331, True Negatives: 5620, False Positives: 316, False Negatives: 118 \n",
      "Recall =  0.7371937639198218\n"
     ]
    }
   ],
   "source": [
    "print(\"ordinary logistic regression with penalty and balanced class weights\\n\")\n",
    "print(\"***Training Data Performance*** \\n\")\n",
    "evaluate(logReg1, X_train_tfidf,y_train)\n",
    "print(\"\\n***Validation Data Performance*** \\n\")\n",
    "evaluate(logReg1, X_val_tfidf,y_val)"
   ]
  },
  {
   "cell_type": "code",
   "execution_count": 18,
   "id": "5bfe1790",
   "metadata": {
    "execution": {
     "iopub.execute_input": "2022-03-29T04:44:50.709196Z",
     "iopub.status.busy": "2022-03-29T04:44:50.708199Z",
     "iopub.status.idle": "2022-03-29T04:44:50.782842Z",
     "shell.execute_reply": "2022-03-29T04:44:50.783342Z",
     "shell.execute_reply.started": "2022-03-28T06:13:44.961056Z"
    },
    "papermill": {
     "duration": 0.150872,
     "end_time": "2022-03-29T04:44:50.783523",
     "exception": false,
     "start_time": "2022-03-29T04:44:50.632651",
     "status": "completed"
    },
    "tags": []
   },
   "outputs": [
    {
     "name": "stdout",
     "output_type": "stream",
     "text": [
      "ordinary logistic regression with penalty and balanced class weights\n",
      "\n",
      "***Training Data Performance*** \n",
      "\n",
      "F1 Score: 0.48832156436719176\n",
      "True positives: 899, True Negatives: 16342, False Positives: 1441, False Negatives: 443 \n",
      "Recall =  0.6698956780923994\n",
      "\n",
      "***Validation Data Performance*** \n",
      "\n",
      "F1 Score: 0.4757929883138565\n",
      "True positives: 285, True Negatives: 5472, False Positives: 464, False Negatives: 164 \n",
      "Recall =  0.6347438752783965\n"
     ]
    }
   ],
   "source": [
    "logReg2 = LogisticRegression(penalty='l1', class_weight='balanced', solver='liblinear', C=0.1)\n",
    "logReg2.fit(X_train_tfidf,y_train)\n",
    "print(\"ordinary logistic regression with penalty and balanced class weights\\n\")\n",
    "print(\"***Training Data Performance*** \\n\")\n",
    "evaluate(logReg2, X_train_tfidf,y_train)\n",
    "print(\"\\n***Validation Data Performance*** \\n\")\n",
    "evaluate(logReg2, X_val_tfidf,y_val)"
   ]
  },
  {
   "cell_type": "code",
   "execution_count": 19,
   "id": "81c69a69",
   "metadata": {
    "execution": {
     "iopub.execute_input": "2022-03-29T04:44:50.934215Z",
     "iopub.status.busy": "2022-03-29T04:44:50.933489Z",
     "iopub.status.idle": "2022-03-29T04:44:51.024932Z",
     "shell.execute_reply": "2022-03-29T04:44:51.025761Z",
     "shell.execute_reply.started": "2022-03-28T06:13:45.030379Z"
    },
    "papermill": {
     "duration": 0.168724,
     "end_time": "2022-03-29T04:44:51.026040",
     "exception": false,
     "start_time": "2022-03-29T04:44:50.857316",
     "status": "completed"
    },
    "tags": []
   },
   "outputs": [
    {
     "name": "stdout",
     "output_type": "stream",
     "text": [
      "ordinary logistic regression with penalty and balanced class weights\n",
      "\n",
      "***Training Data Performance*** \n",
      "\n",
      "F1 Score: 0.4741330301307562\n",
      "True positives: 834, True Negatives: 16441, False Positives: 1342, False Negatives: 508 \n",
      "Recall =  0.6214605067064084\n",
      "\n",
      "***Validation Data Performance*** \n",
      "\n",
      "F1 Score: 0.48347826086956525\n",
      "True positives: 278, True Negatives: 5513, False Positives: 423, False Negatives: 171 \n",
      "Recall =  0.6191536748329621\n"
     ]
    }
   ],
   "source": [
    "logReg3 = LogisticRegression(penalty='l1', class_weight='balanced', solver='liblinear', C=0.08)\n",
    "logReg3.fit(X_train_tfidf,y_train)\n",
    "print(\"ordinary logistic regression with penalty and balanced class weights\\n\")\n",
    "print(\"***Training Data Performance*** \\n\")\n",
    "evaluate(logReg3, X_train_tfidf,y_train)\n",
    "print(\"\\n***Validation Data Performance*** \\n\")\n",
    "evaluate(logReg3, X_val_tfidf,y_val)"
   ]
  },
  {
   "cell_type": "code",
   "execution_count": 20,
   "id": "055326fb",
   "metadata": {
    "execution": {
     "iopub.execute_input": "2022-03-29T04:44:51.209931Z",
     "iopub.status.busy": "2022-03-29T04:44:51.209248Z",
     "iopub.status.idle": "2022-03-29T04:44:51.356084Z",
     "shell.execute_reply": "2022-03-29T04:44:51.354922Z",
     "shell.execute_reply.started": "2022-03-28T06:13:45.092752Z"
    },
    "papermill": {
     "duration": 0.236525,
     "end_time": "2022-03-29T04:44:51.356244",
     "exception": false,
     "start_time": "2022-03-29T04:44:51.119719",
     "status": "completed"
    },
    "tags": []
   },
   "outputs": [
    {
     "name": "stdout",
     "output_type": "stream",
     "text": [
      "ordinary logistic regression with penalty and balanced class weights\n",
      "\n",
      "***Training Data Performance*** \n",
      "\n",
      "F1 Score: 0.6584910690482537\n",
      "True positives: 1235, True Negatives: 16609, False Positives: 1174, False Negatives: 107 \n",
      "Recall =  0.9202682563338301\n",
      "\n",
      "***Validation Data Performance*** \n",
      "\n",
      "F1 Score: 0.5544388609715243\n",
      "True positives: 331, True Negatives: 5522, False Positives: 414, False Negatives: 118 \n",
      "Recall =  0.7371937639198218\n"
     ]
    }
   ],
   "source": [
    "logReg4 = LogisticRegression(penalty='l1', class_weight='balanced', solver='liblinear', C=0.5)\n",
    "logReg4.fit(X_train_tfidf,y_train)\n",
    "print(\"ordinary logistic regression with penalty and balanced class weights\\n\")\n",
    "print(\"***Training Data Performance*** \\n\")\n",
    "evaluate(logReg4, X_train_tfidf,y_train)\n",
    "print(\"\\n***Validation Data Performance*** \\n\")\n",
    "evaluate(logReg4, X_val_tfidf,y_val)"
   ]
  },
  {
   "cell_type": "code",
   "execution_count": 21,
   "id": "4616d9ca",
   "metadata": {
    "execution": {
     "iopub.execute_input": "2022-03-29T04:44:51.510999Z",
     "iopub.status.busy": "2022-03-29T04:44:51.510225Z",
     "iopub.status.idle": "2022-03-29T04:44:57.830576Z",
     "shell.execute_reply": "2022-03-29T04:44:57.829833Z",
     "shell.execute_reply.started": "2022-03-28T07:10:16.516763Z"
    },
    "papermill": {
     "duration": 6.399492,
     "end_time": "2022-03-29T04:44:57.830733",
     "exception": false,
     "start_time": "2022-03-29T04:44:51.431241",
     "status": "completed"
    },
    "tags": []
   },
   "outputs": [],
   "source": [
    "import tensorflow as tf\n",
    "import keras\n",
    "from keras.preprocessing.text import Tokenizer\n",
    "from keras.preprocessing.sequence import pad_sequences\n",
    "from keras.models import Sequential, load_model, Model\n",
    "from keras.layers import Dense, Conv1D, Embedding, LSTM, Dropout, GlobalMaxPooling1D, Flatten, Input\n",
    "from tensorflow.keras.optimizers import Adam\n",
    "from tensorflow.keras.metrics import Recall\n",
    "from keras.callbacks import LearningRateScheduler, EarlyStopping, ModelCheckpoint\n",
    "from livelossplot import PlotLossesKeras"
   ]
  },
  {
   "cell_type": "code",
   "execution_count": 22,
   "id": "8e369fa3",
   "metadata": {
    "execution": {
     "iopub.execute_input": "2022-03-29T04:44:57.983773Z",
     "iopub.status.busy": "2022-03-29T04:44:57.982946Z",
     "iopub.status.idle": "2022-03-29T04:44:58.001946Z",
     "shell.execute_reply": "2022-03-29T04:44:58.002508Z"
    },
    "papermill": {
     "duration": 0.098139,
     "end_time": "2022-03-29T04:44:58.002682",
     "exception": false,
     "start_time": "2022-03-29T04:44:57.904543",
     "status": "completed"
    },
    "tags": []
   },
   "outputs": [],
   "source": [
    "keras.backend.clear_session()\n",
    "tf.random.set_seed(42)\n",
    "np.random.seed(42)"
   ]
  },
  {
   "cell_type": "code",
   "execution_count": 23,
   "id": "38e52c08",
   "metadata": {
    "execution": {
     "iopub.execute_input": "2022-03-29T04:44:58.156791Z",
     "iopub.status.busy": "2022-03-29T04:44:58.156053Z",
     "iopub.status.idle": "2022-03-29T04:44:59.220810Z",
     "shell.execute_reply": "2022-03-29T04:44:59.220146Z",
     "shell.execute_reply.started": "2022-03-28T06:13:45.213258Z"
    },
    "papermill": {
     "duration": 1.143115,
     "end_time": "2022-03-29T04:44:59.220957",
     "exception": false,
     "start_time": "2022-03-29T04:44:58.077842",
     "status": "completed"
    },
    "tags": []
   },
   "outputs": [],
   "source": [
    "max_length = 50\n",
    "padding_type = 'post'\n",
    "trunc_type = 'post'\n",
    "\n",
    "tokenizer = Tokenizer(oov_token='<OOV>')\n",
    "tokenizer.fit_on_texts(X_train['tokenized'])\n",
    "training_sequences = tokenizer.texts_to_sequences(X_train['tokenized'])\n",
    "validation_sequences = tokenizer.texts_to_sequences(X_val['tokenized'])\n",
    "testing_sequences = tokenizer.texts_to_sequences(X_test['tokenized'])\n",
    "padded_train = pad_sequences(training_sequences,maxlen=max_length, padding=padding_type, \n",
    "                       truncating=trunc_type)\n",
    "\n",
    "padded_val = pad_sequences(validation_sequences,maxlen=max_length, padding=padding_type, \n",
    "                       truncating=trunc_type)\n",
    "padded_test = pad_sequences(testing_sequences,maxlen=max_length, padding=padding_type, \n",
    "                       truncating=trunc_type)\n",
    "word_indices = tokenizer.word_index\n",
    "vocab_size = len(word_indices.items())"
   ]
  },
  {
   "cell_type": "code",
   "execution_count": 24,
   "id": "3b448e06",
   "metadata": {
    "execution": {
     "iopub.execute_input": "2022-03-29T04:44:59.375329Z",
     "iopub.status.busy": "2022-03-29T04:44:59.374677Z",
     "iopub.status.idle": "2022-03-29T04:44:59.379371Z",
     "shell.execute_reply": "2022-03-29T04:44:59.379847Z",
     "shell.execute_reply.started": "2022-03-28T06:13:46.056558Z"
    },
    "papermill": {
     "duration": 0.083157,
     "end_time": "2022-03-29T04:44:59.380059",
     "exception": false,
     "start_time": "2022-03-29T04:44:59.296902",
     "status": "completed"
    },
    "tags": []
   },
   "outputs": [],
   "source": [
    "padded_train = np.expand_dims(padded_train, -1)\n",
    "padded_val = np.expand_dims(padded_val,-1)\n",
    "padded_test = np.expand_dims(padded_test,-1)\n",
    "train_labels = y_train.values\n",
    "val_labels = y_val.values\n",
    "test_labels = y_test.values"
   ]
  },
  {
   "cell_type": "code",
   "execution_count": null,
   "id": "6b1170b6",
   "metadata": {
    "papermill": {
     "duration": 0.074817,
     "end_time": "2022-03-29T04:44:59.530366",
     "exception": false,
     "start_time": "2022-03-29T04:44:59.455549",
     "status": "completed"
    },
    "tags": []
   },
   "outputs": [],
   "source": []
  },
  {
   "cell_type": "code",
   "execution_count": 25,
   "id": "2561a15e",
   "metadata": {
    "execution": {
     "iopub.execute_input": "2022-03-29T04:44:59.685499Z",
     "iopub.status.busy": "2022-03-29T04:44:59.684776Z",
     "iopub.status.idle": "2022-03-29T04:44:59.693554Z",
     "shell.execute_reply": "2022-03-29T04:44:59.692956Z",
     "shell.execute_reply.started": "2022-03-28T06:46:54.51397Z"
    },
    "papermill": {
     "duration": 0.089156,
     "end_time": "2022-03-29T04:44:59.693713",
     "exception": false,
     "start_time": "2022-03-29T04:44:59.604557",
     "status": "completed"
    },
    "tags": []
   },
   "outputs": [],
   "source": [
    "from sklearn.utils import class_weight\n",
    "class_weights = class_weight.compute_class_weight(class_weight='balanced',\n",
    "                                                  classes =np.unique(train_labels),y = train_labels)\n",
    "class_weight_dict = dict(enumerate(class_weights))"
   ]
  },
  {
   "cell_type": "code",
   "execution_count": 26,
   "id": "9c56d619",
   "metadata": {
    "execution": {
     "iopub.execute_input": "2022-03-29T04:44:59.855884Z",
     "iopub.status.busy": "2022-03-29T04:44:59.855181Z",
     "iopub.status.idle": "2022-03-29T04:44:59.856873Z",
     "shell.execute_reply": "2022-03-29T04:44:59.857551Z",
     "shell.execute_reply.started": "2022-03-28T06:13:46.072385Z"
    },
    "papermill": {
     "duration": 0.086429,
     "end_time": "2022-03-29T04:44:59.857732",
     "exception": false,
     "start_time": "2022-03-29T04:44:59.771303",
     "status": "completed"
    },
    "tags": []
   },
   "outputs": [],
   "source": [
    "def evaluate_model(model,testX,testY):\n",
    "    ypred = np.round(model.predict(testX))\n",
    "    return recall_score(testY,ypred)"
   ]
  },
  {
   "cell_type": "code",
   "execution_count": 27,
   "id": "afa83829",
   "metadata": {
    "execution": {
     "iopub.execute_input": "2022-03-29T04:45:00.012813Z",
     "iopub.status.busy": "2022-03-29T04:45:00.012146Z",
     "iopub.status.idle": "2022-03-29T04:46:23.393115Z",
     "shell.execute_reply": "2022-03-29T04:46:23.393828Z",
     "shell.execute_reply.started": "2022-03-28T06:47:02.134001Z"
    },
    "papermill": {
     "duration": 83.460505,
     "end_time": "2022-03-29T04:46:23.394092",
     "exception": false,
     "start_time": "2022-03-29T04:44:59.933587",
     "status": "completed"
    },
    "tags": []
   },
   "outputs": [
    {
     "data": {
      "image/png": "[encoded data removed]",
      "text/plain": [
       "<Figure size 864x576 with 2 Axes>"
      ]
     },
     "metadata": {
      "needs_background": "light"
     },
     "output_type": "display_data"
    },
    {
     "name": "stdout",
     "output_type": "stream",
     "text": [
      "Loss\n",
      "\ttraining         \t (min:    0.003, max:    0.521, cur:    0.003)\n",
      "\tvalidation       \t (min:    0.202, max:    0.373, cur:    0.341)\n",
      "recall\n",
      "\ttraining         \t (min:    0.738, max:    1.000, cur:    0.999)\n",
      "\tvalidation       \t (min:    0.619, max:    0.811, cur:    0.630)\n"
     ]
    }
   ],
   "source": [
    "model1 = Sequential()\n",
    "model1.add(Embedding(input_dim = vocab_size+1, input_length=max_length,output_dim=8))\n",
    "model1.add(Flatten())\n",
    "model1.add(Dense(10, activation = 'relu'))\n",
    "model1.add(Dense(1,activation='sigmoid'))\n",
    "model1.compile(loss='binary_crossentropy',optimizer=Adam(learning_rate=1e-3),metrics=Recall(name='recall'))\n",
    "print(model1.summary())\n",
    "model_checkpoint1 = ModelCheckpoint(\"basic_checkpoint.h5\", save_best_only=True, \n",
    "                                    monitor='val_recall', mode='max')\n",
    "num_epochs = 15\n",
    "history = model1.fit(padded_train, train_labels,epochs=num_epochs,validation_data=(padded_val, val_labels),\n",
    "                        callbacks=[PlotLossesKeras(),model_checkpoint1], class_weight=class_weight_dict)"
   ]
  },
  {
   "cell_type": "code",
   "execution_count": 28,
   "id": "98ca3f51",
   "metadata": {
    "execution": {
     "iopub.execute_input": "2022-03-29T04:46:23.557497Z",
     "iopub.status.busy": "2022-03-29T04:46:23.553162Z",
     "iopub.status.idle": "2022-03-29T04:46:23.620639Z",
     "shell.execute_reply": "2022-03-29T04:46:23.619998Z",
     "shell.execute_reply.started": "2022-03-28T06:48:24.633996Z"
    },
    "papermill": {
     "duration": 0.149459,
     "end_time": "2022-03-29T04:46:23.620779",
     "exception": false,
     "start_time": "2022-03-29T04:46:23.471320",
     "status": "completed"
    },
    "tags": []
   },
   "outputs": [],
   "source": [
    "\n",
    "model11 = load_model('./basic_checkpoint.h5')"
   ]
  },
  {
   "cell_type": "code",
   "execution_count": 29,
   "id": "aba7cdb5",
   "metadata": {
    "execution": {
     "iopub.execute_input": "2022-03-29T04:46:23.779766Z",
     "iopub.status.busy": "2022-03-29T04:46:23.779116Z",
     "iopub.status.idle": "2022-03-29T04:46:24.098109Z",
     "shell.execute_reply": "2022-03-29T04:46:24.097552Z",
     "shell.execute_reply.started": "2022-03-28T06:48:48.294549Z"
    },
    "papermill": {
     "duration": 0.401313,
     "end_time": "2022-03-29T04:46:24.098263",
     "exception": false,
     "start_time": "2022-03-29T04:46:23.696950",
     "status": "completed"
    },
    "tags": []
   },
   "outputs": [
    {
     "data": {
      "text/plain": [
       "0.8191964285714286"
      ]
     },
     "execution_count": 29,
     "metadata": {},
     "output_type": "execute_result"
    }
   ],
   "source": [
    "evaluate_model(model11,padded_test, test_labels)"
   ]
  },
  {
   "cell_type": "markdown",
   "id": "c30088f4",
   "metadata": {
    "papermill": {
     "duration": 0.076,
     "end_time": "2022-03-29T04:46:24.251090",
     "exception": false,
     "start_time": "2022-03-29T04:46:24.175090",
     "status": "completed"
    },
    "tags": []
   },
   "source": [
    "That's a great improvement from baseline model. "
   ]
  },
  {
   "cell_type": "markdown",
   "id": "239f7c5c",
   "metadata": {
    "papermill": {
     "duration": 0.076041,
     "end_time": "2022-03-29T04:46:24.403365",
     "exception": false,
     "start_time": "2022-03-29T04:46:24.327324",
     "status": "completed"
    },
    "tags": []
   },
   "source": [
    "# Using Glove-Twitter Embeddings"
   ]
  },
  {
   "cell_type": "code",
   "execution_count": 30,
   "id": "49fd1e91",
   "metadata": {
    "execution": {
     "iopub.execute_input": "2022-03-29T04:46:24.565479Z",
     "iopub.status.busy": "2022-03-29T04:46:24.564755Z",
     "iopub.status.idle": "2022-03-29T04:46:24.567065Z",
     "shell.execute_reply": "2022-03-29T04:46:24.567534Z",
     "shell.execute_reply.started": "2022-03-28T07:00:48.303255Z"
    },
    "papermill": {
     "duration": 0.087615,
     "end_time": "2022-03-29T04:46:24.567720",
     "exception": false,
     "start_time": "2022-03-29T04:46:24.480105",
     "status": "completed"
    },
    "tags": []
   },
   "outputs": [],
   "source": [
    "def get_glove_embedding_matrix(path_to_file, word_indices):\n",
    "    \n",
    "    word_to_vec_map = {}\n",
    "    with open(path_to_file,'r') as f:\n",
    "        for line in f:\n",
    "            word_line = line.split()\n",
    "            curr_word = word_line[0]\n",
    "            vector = np.array(word_line[1:], dtype=np.float64)\n",
    "            word_to_vec_map[curr_word] = vector\n",
    "            \n",
    "    embed_dim = len(vector)\n",
    "    embed_matrix = np.zeros((len(word_indices)+1, embed_dim))\n",
    "    \n",
    "    for token,index in word_indices.items():\n",
    "        if token in word_to_vec_map:\n",
    "            embed_matrix[index,:] = word_to_vec_map[token]\n",
    "   \n",
    "    return embed_matrix"
   ]
  },
  {
   "cell_type": "code",
   "execution_count": 31,
   "id": "e08717e6",
   "metadata": {
    "execution": {
     "iopub.execute_input": "2022-03-29T04:46:24.724735Z",
     "iopub.status.busy": "2022-03-29T04:46:24.724112Z",
     "iopub.status.idle": "2022-03-29T04:46:24.728513Z",
     "shell.execute_reply": "2022-03-29T04:46:24.729055Z",
     "shell.execute_reply.started": "2022-03-28T07:00:39.926942Z"
    },
    "papermill": {
     "duration": 0.084377,
     "end_time": "2022-03-29T04:46:24.729234",
     "exception": false,
     "start_time": "2022-03-29T04:46:24.644857",
     "status": "completed"
    },
    "tags": []
   },
   "outputs": [
    {
     "data": {
      "text/plain": [
       "12638"
      ]
     },
     "execution_count": 31,
     "metadata": {},
     "output_type": "execute_result"
    }
   ],
   "source": [
    "len(word_indices)"
   ]
  },
  {
   "cell_type": "code",
   "execution_count": 32,
   "id": "dc127d28",
   "metadata": {
    "execution": {
     "iopub.execute_input": "2022-03-29T04:46:24.888388Z",
     "iopub.status.busy": "2022-03-29T04:46:24.887704Z",
     "iopub.status.idle": "2022-03-29T04:49:06.304827Z",
     "shell.execute_reply": "2022-03-29T04:49:06.304090Z",
     "shell.execute_reply.started": "2022-03-28T07:00:53.136855Z"
    },
    "papermill": {
     "duration": 161.499164,
     "end_time": "2022-03-29T04:49:06.305003",
     "exception": false,
     "start_time": "2022-03-29T04:46:24.805839",
     "status": "completed"
    },
    "tags": []
   },
   "outputs": [],
   "source": [
    "embedding_matrix_25d = get_glove_embedding_matrix('../input/glove-twitter/glove.twitter.27B.25d.txt',word_indices)\n",
    "embedding_matrix_50d = get_glove_embedding_matrix('../input/glove-twitter/glove.twitter.27B.50d.txt',word_indices)\n",
    "embedding_matrix_100d = get_glove_embedding_matrix('../input/glove-twitter/glove.twitter.27B.100d.txt',word_indices)\n",
    "embedding_matrix_200d = get_glove_embedding_matrix('../input/glove-twitter/glove.twitter.27B.200d.txt',word_indices)"
   ]
  },
  {
   "cell_type": "code",
   "execution_count": 33,
   "id": "67ef525a",
   "metadata": {
    "execution": {
     "iopub.execute_input": "2022-03-29T04:49:06.475461Z",
     "iopub.status.busy": "2022-03-29T04:49:06.474725Z",
     "iopub.status.idle": "2022-03-29T04:49:06.477753Z",
     "shell.execute_reply": "2022-03-29T04:49:06.477226Z",
     "shell.execute_reply.started": "2022-03-28T07:29:15.878247Z"
    },
    "papermill": {
     "duration": 0.09058,
     "end_time": "2022-03-29T04:49:06.477899",
     "exception": false,
     "start_time": "2022-03-29T04:49:06.387319",
     "status": "completed"
    },
    "tags": []
   },
   "outputs": [],
   "source": [
    "def get_basic_glove_model(vocab_size, embed_len, embedding_matrix, max_len):\n",
    "    input_layer = Input(max_len)\n",
    "    embedding_layer = Embedding(input_dim=vocab_size,output_dim=embed_len,\n",
    "                                weights = [embedding_matrix], trainable=False)(input_layer)\n",
    "    flatten = Flatten()(embedding_layer)\n",
    "    dense1 = Dense(10*0.4*embed_len, activation='relu')(flatten)\n",
    "    output = Dense(1, activation='sigmoid')(dense1)\n",
    "    model = Model(input_layer,output)\n",
    "    model.compile(loss='binary_crossentropy',optimizer=Adam(learning_rate=1e-3),metrics=Recall(name='recall'))\n",
    "    return model"
   ]
  },
  {
   "cell_type": "code",
   "execution_count": 34,
   "id": "033dbec1",
   "metadata": {
    "execution": {
     "iopub.execute_input": "2022-03-29T04:49:06.641257Z",
     "iopub.status.busy": "2022-03-29T04:49:06.640534Z",
     "iopub.status.idle": "2022-03-29T04:49:06.643528Z",
     "shell.execute_reply": "2022-03-29T04:49:06.642986Z",
     "shell.execute_reply.started": "2022-03-28T07:32:25.67313Z"
    },
    "papermill": {
     "duration": 0.088861,
     "end_time": "2022-03-29T04:49:06.643677",
     "exception": false,
     "start_time": "2022-03-29T04:49:06.554816",
     "status": "completed"
    },
    "tags": []
   },
   "outputs": [],
   "source": [
    "def fit_basic_glove_model(model,embed_len,trainX,trainY,valX,valY,num_epochs, class_weights):\n",
    "    \n",
    "    model_checkpoint = ModelCheckpoint(f\"basic_checkpoint_{embed_len}.h5\", \n",
    "                                       save_best_only=True, monitor='val_recall',mode='max')\n",
    "    history = model.fit(trainX, trainY ,epochs=num_epochs,validation_data=(valX, valY),\n",
    "                    callbacks=[PlotLossesKeras(),model_checkpoint], class_weight=class_weights)\n",
    "    return model"
   ]
  },
  {
   "cell_type": "code",
   "execution_count": 35,
   "id": "f1c4e2b2",
   "metadata": {
    "execution": {
     "iopub.execute_input": "2022-03-29T04:49:06.811297Z",
     "iopub.status.busy": "2022-03-29T04:49:06.810470Z",
     "iopub.status.idle": "2022-03-29T04:49:33.457945Z",
     "shell.execute_reply": "2022-03-29T04:49:33.458712Z",
     "shell.execute_reply.started": "2022-03-28T07:32:39.672094Z"
    },
    "papermill": {
     "duration": 26.737767,
     "end_time": "2022-03-29T04:49:33.458952",
     "exception": false,
     "start_time": "2022-03-29T04:49:06.721185",
     "status": "completed"
    },
    "tags": []
   },
   "outputs": [
    {
     "data": {
      "image/png": "[encoded data removed]",
      "text/plain": [
       "<Figure size 864x576 with 2 Axes>"
      ]
     },
     "metadata": {
      "needs_background": "light"
     },
     "output_type": "display_data"
    },
    {
     "name": "stdout",
     "output_type": "stream",
     "text": [
      "Loss\n",
      "\ttraining         \t (min:    0.071, max:    0.456, cur:    0.071)\n",
      "\tvalidation       \t (min:    0.248, max:    0.449, cur:    0.270)\n",
      "recall\n",
      "\ttraining         \t (min:    0.796, max:    0.993, cur:    0.993)\n",
      "\tvalidation       \t (min:    0.633, max:    0.826, cur:    0.633)\n"
     ]
    }
   ],
   "source": [
    "model_1_25d = fit_basic_glove_model(get_basic_glove_model(len(word_indices)+1,25,\n",
    "                                                          embedding_matrix_25d,max_length),\n",
    "                      25,padded_train,train_labels,padded_val,val_labels,10,class_weight_dict)"
   ]
  },
  {
   "cell_type": "code",
   "execution_count": 36,
   "id": "1b00d3a0",
   "metadata": {
    "execution": {
     "iopub.execute_input": "2022-03-29T04:49:33.632100Z",
     "iopub.status.busy": "2022-03-29T04:49:33.626417Z",
     "iopub.status.idle": "2022-03-29T04:49:34.005830Z",
     "shell.execute_reply": "2022-03-29T04:49:34.005130Z",
     "shell.execute_reply.started": "2022-03-28T07:33:25.392084Z"
    },
    "papermill": {
     "duration": 0.465653,
     "end_time": "2022-03-29T04:49:34.005972",
     "exception": false,
     "start_time": "2022-03-29T04:49:33.540319",
     "status": "completed"
    },
    "tags": []
   },
   "outputs": [
    {
     "data": {
      "text/plain": [
       "0.8080357142857143"
      ]
     },
     "execution_count": 36,
     "metadata": {},
     "output_type": "execute_result"
    }
   ],
   "source": [
    "model12 = load_model('basic_checkpoint_25.h5')\n",
    "evaluate_model(model12,padded_test, test_labels)"
   ]
  },
  {
   "cell_type": "code",
   "execution_count": 37,
   "id": "2cc9e681",
   "metadata": {
    "execution": {
     "iopub.execute_input": "2022-03-29T04:49:34.179597Z",
     "iopub.status.busy": "2022-03-29T04:49:34.178560Z",
     "iopub.status.idle": "2022-03-29T04:50:28.496879Z",
     "shell.execute_reply": "2022-03-29T04:50:28.497768Z",
     "shell.execute_reply.started": "2022-03-28T07:35:52.272374Z"
    },
    "papermill": {
     "duration": 54.411559,
     "end_time": "2022-03-29T04:50:28.498334",
     "exception": false,
     "start_time": "2022-03-29T04:49:34.086775",
     "status": "completed"
    },
    "tags": []
   },
   "outputs": [
    {
     "data": {
      "image/png": "[encoded data removed]",
      "text/plain": [
       "<Figure size 864x576 with 2 Axes>"
      ]
     },
     "metadata": {
      "needs_background": "light"
     },
     "output_type": "display_data"
    },
    {
     "name": "stdout",
     "output_type": "stream",
     "text": [
      "Loss\n",
      "\ttraining         \t (min:    0.005, max:    0.433, cur:    0.085)\n",
      "\tvalidation       \t (min:    0.245, max:    0.429, cur:    0.295)\n",
      "recall\n",
      "\ttraining         \t (min:    0.804, max:    1.000, cur:    0.974)\n",
      "\tvalidation       \t (min:    0.521, max:    0.833, cur:    0.584)\n"
     ]
    }
   ],
   "source": [
    "model_1_50d = fit_basic_glove_model(get_basic_glove_model(len(word_indices)+1,50,\n",
    "                                                          embedding_matrix_50d,max_length),\n",
    "                      50,padded_train,train_labels,padded_val,val_labels,15,class_weight_dict)"
   ]
  },
  {
   "cell_type": "code",
   "execution_count": 38,
   "id": "7cd72e61",
   "metadata": {
    "execution": {
     "iopub.execute_input": "2022-03-29T04:50:28.679344Z",
     "iopub.status.busy": "2022-03-29T04:50:28.678108Z",
     "iopub.status.idle": "2022-03-29T04:50:29.213315Z",
     "shell.execute_reply": "2022-03-29T04:50:29.212702Z",
     "shell.execute_reply.started": "2022-03-28T07:37:05.27393Z"
    },
    "papermill": {
     "duration": 0.626213,
     "end_time": "2022-03-29T04:50:29.213470",
     "exception": false,
     "start_time": "2022-03-29T04:50:28.587257",
     "status": "completed"
    },
    "tags": []
   },
   "outputs": [
    {
     "data": {
      "text/plain": [
       "0.8191964285714286"
      ]
     },
     "execution_count": 38,
     "metadata": {},
     "output_type": "execute_result"
    }
   ],
   "source": [
    "model13 = load_model('basic_checkpoint_50.h5')\n",
    "evaluate_model(model13,padded_test, test_labels)"
   ]
  },
  {
   "cell_type": "code",
   "execution_count": 39,
   "id": "5a14d0da",
   "metadata": {
    "execution": {
     "iopub.execute_input": "2022-03-29T04:50:29.397210Z",
     "iopub.status.busy": "2022-03-29T04:50:29.390159Z",
     "iopub.status.idle": "2022-03-29T04:52:03.176464Z",
     "shell.execute_reply": "2022-03-29T04:52:03.177229Z",
     "shell.execute_reply.started": "2022-03-28T07:38:08.092771Z"
    },
    "papermill": {
     "duration": 93.879188,
     "end_time": "2022-03-29T04:52:03.177490",
     "exception": false,
     "start_time": "2022-03-29T04:50:29.298302",
     "status": "completed"
    },
    "tags": []
   },
   "outputs": [
    {
     "data": {
      "image/png": "[encoded data removed]",
      "text/plain": [
       "<Figure size 864x576 with 2 Axes>"
      ]
     },
     "metadata": {
      "needs_background": "light"
     },
     "output_type": "display_data"
    },
    {
     "name": "stdout",
     "output_type": "stream",
     "text": [
      "Loss\n",
      "\ttraining         \t (min:    0.003, max:    0.411, cur:    0.057)\n",
      "\tvalidation       \t (min:    0.226, max:    0.393, cur:    0.314)\n",
      "recall\n",
      "\ttraining         \t (min:    0.832, max:    1.000, cur:    0.984)\n",
      "\tvalidation       \t (min:    0.517, max:    0.846, cur:    0.617)\n"
     ]
    }
   ],
   "source": [
    "model_1_100d = fit_basic_glove_model(get_basic_glove_model(len(word_indices)+1,100,\n",
    "                                                          embedding_matrix_100d,max_length),\n",
    "                      100,padded_train,train_labels,padded_val,val_labels,15,class_weight_dict)"
   ]
  },
  {
   "cell_type": "code",
   "execution_count": 40,
   "id": "c0204cdd",
   "metadata": {
    "execution": {
     "iopub.execute_input": "2022-03-29T04:52:03.350152Z",
     "iopub.status.busy": "2022-03-29T04:52:03.349174Z",
     "iopub.status.idle": "2022-03-29T04:52:04.191623Z",
     "shell.execute_reply": "2022-03-29T04:52:04.191072Z",
     "shell.execute_reply.started": "2022-03-28T07:39:19.472985Z"
    },
    "papermill": {
     "duration": 0.930112,
     "end_time": "2022-03-29T04:52:04.191776",
     "exception": false,
     "start_time": "2022-03-29T04:52:03.261664",
     "status": "completed"
    },
    "tags": []
   },
   "outputs": [
    {
     "data": {
      "text/plain": [
       "0.8705357142857143"
      ]
     },
     "execution_count": 40,
     "metadata": {},
     "output_type": "execute_result"
    }
   ],
   "source": [
    "model14 = load_model('basic_checkpoint_100.h5')\n",
    "evaluate_model(model14,padded_test, test_labels)"
   ]
  },
  {
   "cell_type": "code",
   "execution_count": 41,
   "id": "dd26688f",
   "metadata": {
    "execution": {
     "iopub.execute_input": "2022-03-29T04:52:04.368816Z",
     "iopub.status.busy": "2022-03-29T04:52:04.367799Z",
     "iopub.status.idle": "2022-03-29T04:56:15.806833Z",
     "shell.execute_reply": "2022-03-29T04:56:15.805990Z",
     "shell.execute_reply.started": "2022-03-28T07:45:16.392393Z"
    },
    "papermill": {
     "duration": 251.529248,
     "end_time": "2022-03-29T04:56:15.807079",
     "exception": false,
     "start_time": "2022-03-29T04:52:04.277831",
     "status": "completed"
    },
    "tags": []
   },
   "outputs": [
    {
     "data": {
      "image/png": "[encoded data removed]",
      "text/plain": [
       "<Figure size 864x576 with 2 Axes>"
      ]
     },
     "metadata": {
      "needs_background": "light"
     },
     "output_type": "display_data"
    },
    {
     "name": "stdout",
     "output_type": "stream",
     "text": [
      "Loss\n",
      "\ttraining         \t (min:    0.003, max:    0.408, cur:    0.004)\n",
      "\tvalidation       \t (min:    0.244, max:    0.448, cur:    0.329)\n",
      "recall\n",
      "\ttraining         \t (min:    0.833, max:    1.000, cur:    0.999)\n",
      "\tvalidation       \t (min:    0.548, max:    0.851, cur:    0.581)\n"
     ]
    }
   ],
   "source": [
    "model_1_200d = fit_basic_glove_model(get_basic_glove_model(len(word_indices)+1,200,\n",
    "                                                          embedding_matrix_200d,max_length),\n",
    "                      200,padded_train,train_labels,padded_val,val_labels,15,class_weight_dict)"
   ]
  },
  {
   "cell_type": "code",
   "execution_count": 42,
   "id": "73386060",
   "metadata": {
    "execution": {
     "iopub.execute_input": "2022-03-29T04:56:15.987826Z",
     "iopub.status.busy": "2022-03-29T04:56:15.987124Z",
     "iopub.status.idle": "2022-03-29T04:56:17.786226Z",
     "shell.execute_reply": "2022-03-29T04:56:17.785547Z",
     "shell.execute_reply.started": "2022-03-28T07:46:13.357811Z"
    },
    "papermill": {
     "duration": 1.889459,
     "end_time": "2022-03-29T04:56:17.786374",
     "exception": false,
     "start_time": "2022-03-29T04:56:15.896915",
     "status": "completed"
    },
    "tags": []
   },
   "outputs": [
    {
     "data": {
      "text/plain": [
       "0.8392857142857143"
      ]
     },
     "execution_count": 42,
     "metadata": {},
     "output_type": "execute_result"
    }
   ],
   "source": [
    "model15 = load_model('basic_checkpoint_200.h5')\n",
    "evaluate_model(model15,padded_test, test_labels)"
   ]
  },
  {
   "cell_type": "markdown",
   "id": "92807cfa",
   "metadata": {
    "papermill": {
     "duration": 0.086887,
     "end_time": "2022-03-29T04:56:17.966790",
     "exception": false,
     "start_time": "2022-03-29T04:56:17.879903",
     "status": "completed"
    },
    "tags": []
   },
   "source": [
    "# Using Convolutional Neural Networks"
   ]
  },
  {
   "cell_type": "markdown",
   "id": "f24b1958",
   "metadata": {
    "papermill": {
     "duration": 0.087769,
     "end_time": "2022-03-29T04:56:18.142726",
     "exception": false,
     "start_time": "2022-03-29T04:56:18.054957",
     "status": "completed"
    },
    "tags": []
   },
   "source": []
  },
  {
   "cell_type": "code",
   "execution_count": 43,
   "id": "8db88842",
   "metadata": {
    "execution": {
     "iopub.execute_input": "2022-03-29T04:56:18.325837Z",
     "iopub.status.busy": "2022-03-29T04:56:18.324983Z",
     "iopub.status.idle": "2022-03-29T04:56:18.395071Z",
     "shell.execute_reply": "2022-03-29T04:56:18.394438Z",
     "shell.execute_reply.started": "2022-03-28T08:05:36.372382Z"
    },
    "papermill": {
     "duration": 0.165741,
     "end_time": "2022-03-29T04:56:18.395225",
     "exception": false,
     "start_time": "2022-03-29T04:56:18.229484",
     "status": "completed"
    },
    "tags": []
   },
   "outputs": [
    {
     "name": "stdout",
     "output_type": "stream",
     "text": [
      "Model: \"sequential_1\"\n",
      "_________________________________________________________________\n",
      "Layer (type)                 Output Shape              Param #   \n",
      "=================================================================\n",
      "embedding_5 (Embedding)      (None, 50, 8)             101104    \n",
      "_________________________________________________________________\n",
      "conv1d (Conv1D)              (None, 46, 16)            656       \n",
      "_________________________________________________________________\n",
      "global_max_pooling1d (Global (None, 16)                0         \n",
      "_________________________________________________________________\n",
      "dense_10 (Dense)             (None, 10)                170       \n",
      "_________________________________________________________________\n",
      "dense_11 (Dense)             (None, 1)                 11        \n",
      "=================================================================\n",
      "Total params: 101,941\n",
      "Trainable params: 101,941\n",
      "Non-trainable params: 0\n",
      "_________________________________________________________________\n"
     ]
    }
   ],
   "source": [
    "model2 = tf.keras.Sequential([\n",
    "    tf.keras.layers.Embedding(input_dim = vocab_size, output_dim=8, input_length=max_length),\n",
    "    tf.keras.layers.Conv1D(16, 5, activation='relu'),\n",
    "    tf.keras.layers.GlobalMaxPooling1D(),\n",
    "    tf.keras.layers.Dense(10,activation='relu', kernel_regularizer='l1'),\n",
    "    tf.keras.layers.Dense(1, activation='sigmoid')\n",
    "])\n",
    "model2.compile(loss='binary_crossentropy',optimizer=Adam(learning_rate=1e-3),metrics=Recall(name='recall'))\n",
    "model2.summary()"
   ]
  },
  {
   "cell_type": "code",
   "execution_count": 44,
   "id": "6ac3df68",
   "metadata": {
    "execution": {
     "iopub.execute_input": "2022-03-29T04:56:18.585235Z",
     "iopub.status.busy": "2022-03-29T04:56:18.584502Z",
     "iopub.status.idle": "2022-03-29T04:56:21.070989Z",
     "shell.execute_reply": "2022-03-29T04:56:21.070294Z",
     "shell.execute_reply.started": "2022-03-28T08:05:41.112139Z"
    },
    "papermill": {
     "duration": 2.588143,
     "end_time": "2022-03-29T04:56:21.071549",
     "exception": true,
     "start_time": "2022-03-29T04:56:18.483406",
     "status": "failed"
    },
    "tags": []
   },
   "outputs": [
    {
     "name": "stdout",
     "output_type": "stream",
     "text": [
      "Epoch 1/20\n",
      "212/598 [=========>....................] - ETA: 1s - loss: 0.9009 - recall: 0.9723"
     ]
    },
    {
     "ename": "InvalidArgumentError",
     "evalue": " indices[7,4] = 12638 is not in [0, 12638)\n\t [[node sequential_1/embedding_5/embedding_lookup (defined at tmp/ipykernel_19/3680944847.py:5) ]] [Op:__inference_train_function_122283]\n\nErrors may have originated from an input operation.\nInput Source operations connected to node sequential_1/embedding_5/embedding_lookup:\n sequential_1/embedding_5/embedding_lookup/121855 (defined at opt/conda/lib/python3.7/contextlib.py:112)\n\nFunction call stack:\ntrain_function\n",
     "output_type": "error",
     "traceback": [
      "\u001b[0;31m---------------------------------------------------------------------------\u001b[0m",
      "\u001b[0;31mInvalidArgumentError\u001b[0m                      Traceback (most recent call last)",
      "\u001b[0;32m/tmp/ipykernel_19/3680944847.py\u001b[0m in \u001b[0;36m<module>\u001b[0;34m\u001b[0m\n\u001b[1;32m      3\u001b[0m model2.fit(padded_train, train_labels, epochs=num_epochs, \n\u001b[1;32m      4\u001b[0m            \u001b[0mvalidation_data\u001b[0m\u001b[0;34m=\u001b[0m\u001b[0;34m(\u001b[0m\u001b[0mpadded_val\u001b[0m\u001b[0;34m,\u001b[0m \u001b[0mval_labels\u001b[0m\u001b[0;34m)\u001b[0m\u001b[0;34m,\u001b[0m \u001b[0mcallbacks\u001b[0m\u001b[0;34m=\u001b[0m\u001b[0;34m[\u001b[0m\u001b[0mPlotLossesKeras\u001b[0m\u001b[0;34m(\u001b[0m\u001b[0;34m)\u001b[0m\u001b[0;34m,\u001b[0m \u001b[0mmodel_checkpoint2\u001b[0m\u001b[0;34m]\u001b[0m\u001b[0;34m,\u001b[0m\u001b[0;34m\u001b[0m\u001b[0;34m\u001b[0m\u001b[0m\n\u001b[0;32m----> 5\u001b[0;31m            class_weight=class_weight_dict)\n\u001b[0m",
      "\u001b[0;32m/opt/conda/lib/python3.7/site-packages/keras/engine/training.py\u001b[0m in \u001b[0;36mfit\u001b[0;34m(self, x, y, batch_size, epochs, verbose, callbacks, validation_split, validation_data, shuffle, class_weight, sample_weight, initial_epoch, steps_per_epoch, validation_steps, validation_batch_size, validation_freq, max_queue_size, workers, use_multiprocessing)\u001b[0m\n\u001b[1;32m   1182\u001b[0m                 _r=1):\n\u001b[1;32m   1183\u001b[0m               \u001b[0mcallbacks\u001b[0m\u001b[0;34m.\u001b[0m\u001b[0mon_train_batch_begin\u001b[0m\u001b[0;34m(\u001b[0m\u001b[0mstep\u001b[0m\u001b[0;34m)\u001b[0m\u001b[0;34m\u001b[0m\u001b[0;34m\u001b[0m\u001b[0m\n\u001b[0;32m-> 1184\u001b[0;31m               \u001b[0mtmp_logs\u001b[0m \u001b[0;34m=\u001b[0m \u001b[0mself\u001b[0m\u001b[0;34m.\u001b[0m\u001b[0mtrain_function\u001b[0m\u001b[0;34m(\u001b[0m\u001b[0miterator\u001b[0m\u001b[0;34m)\u001b[0m\u001b[0;34m\u001b[0m\u001b[0;34m\u001b[0m\u001b[0m\n\u001b[0m\u001b[1;32m   1185\u001b[0m               \u001b[0;32mif\u001b[0m \u001b[0mdata_handler\u001b[0m\u001b[0;34m.\u001b[0m\u001b[0mshould_sync\u001b[0m\u001b[0;34m:\u001b[0m\u001b[0;34m\u001b[0m\u001b[0;34m\u001b[0m\u001b[0m\n\u001b[1;32m   1186\u001b[0m                 \u001b[0mcontext\u001b[0m\u001b[0;34m.\u001b[0m\u001b[0masync_wait\u001b[0m\u001b[0;34m(\u001b[0m\u001b[0;34m)\u001b[0m\u001b[0;34m\u001b[0m\u001b[0;34m\u001b[0m\u001b[0m\n",
      "\u001b[0;32m/opt/conda/lib/python3.7/site-packages/tensorflow/python/eager/def_function.py\u001b[0m in \u001b[0;36m__call__\u001b[0;34m(self, *args, **kwds)\u001b[0m\n\u001b[1;32m    883\u001b[0m \u001b[0;34m\u001b[0m\u001b[0m\n\u001b[1;32m    884\u001b[0m       \u001b[0;32mwith\u001b[0m \u001b[0mOptionalXlaContext\u001b[0m\u001b[0;34m(\u001b[0m\u001b[0mself\u001b[0m\u001b[0;34m.\u001b[0m\u001b[0m_jit_compile\u001b[0m\u001b[0;34m)\u001b[0m\u001b[0;34m:\u001b[0m\u001b[0;34m\u001b[0m\u001b[0;34m\u001b[0m\u001b[0m\n\u001b[0;32m--> 885\u001b[0;31m         \u001b[0mresult\u001b[0m \u001b[0;34m=\u001b[0m \u001b[0mself\u001b[0m\u001b[0;34m.\u001b[0m\u001b[0m_call\u001b[0m\u001b[0;34m(\u001b[0m\u001b[0;34m*\u001b[0m\u001b[0margs\u001b[0m\u001b[0;34m,\u001b[0m \u001b[0;34m**\u001b[0m\u001b[0mkwds\u001b[0m\u001b[0;34m)\u001b[0m\u001b[0;34m\u001b[0m\u001b[0;34m\u001b[0m\u001b[0m\n\u001b[0m\u001b[1;32m    886\u001b[0m \u001b[0;34m\u001b[0m\u001b[0m\n\u001b[1;32m    887\u001b[0m       \u001b[0mnew_tracing_count\u001b[0m \u001b[0;34m=\u001b[0m \u001b[0mself\u001b[0m\u001b[0;34m.\u001b[0m\u001b[0mexperimental_get_tracing_count\u001b[0m\u001b[0;34m(\u001b[0m\u001b[0;34m)\u001b[0m\u001b[0;34m\u001b[0m\u001b[0;34m\u001b[0m\u001b[0m\n",
      "\u001b[0;32m/opt/conda/lib/python3.7/site-packages/tensorflow/python/eager/def_function.py\u001b[0m in \u001b[0;36m_call\u001b[0;34m(self, *args, **kwds)\u001b[0m\n\u001b[1;32m    915\u001b[0m       \u001b[0;31m# In this case we have created variables on the first call, so we run the\u001b[0m\u001b[0;34m\u001b[0m\u001b[0;34m\u001b[0m\u001b[0;34m\u001b[0m\u001b[0m\n\u001b[1;32m    916\u001b[0m       \u001b[0;31m# defunned version which is guaranteed to never create variables.\u001b[0m\u001b[0;34m\u001b[0m\u001b[0;34m\u001b[0m\u001b[0;34m\u001b[0m\u001b[0m\n\u001b[0;32m--> 917\u001b[0;31m       \u001b[0;32mreturn\u001b[0m \u001b[0mself\u001b[0m\u001b[0;34m.\u001b[0m\u001b[0m_stateless_fn\u001b[0m\u001b[0;34m(\u001b[0m\u001b[0;34m*\u001b[0m\u001b[0margs\u001b[0m\u001b[0;34m,\u001b[0m \u001b[0;34m**\u001b[0m\u001b[0mkwds\u001b[0m\u001b[0;34m)\u001b[0m  \u001b[0;31m# pylint: disable=not-callable\u001b[0m\u001b[0;34m\u001b[0m\u001b[0;34m\u001b[0m\u001b[0m\n\u001b[0m\u001b[1;32m    918\u001b[0m     \u001b[0;32melif\u001b[0m \u001b[0mself\u001b[0m\u001b[0;34m.\u001b[0m\u001b[0m_stateful_fn\u001b[0m \u001b[0;32mis\u001b[0m \u001b[0;32mnot\u001b[0m \u001b[0;32mNone\u001b[0m\u001b[0;34m:\u001b[0m\u001b[0;34m\u001b[0m\u001b[0;34m\u001b[0m\u001b[0m\n\u001b[1;32m    919\u001b[0m       \u001b[0;31m# Release the lock early so that multiple threads can perform the call\u001b[0m\u001b[0;34m\u001b[0m\u001b[0;34m\u001b[0m\u001b[0;34m\u001b[0m\u001b[0m\n",
      "\u001b[0;32m/opt/conda/lib/python3.7/site-packages/tensorflow/python/eager/function.py\u001b[0m in \u001b[0;36m__call__\u001b[0;34m(self, *args, **kwargs)\u001b[0m\n\u001b[1;32m   3038\u001b[0m        filtered_flat_args) = self._maybe_define_function(args, kwargs)\n\u001b[1;32m   3039\u001b[0m     return graph_function._call_flat(\n\u001b[0;32m-> 3040\u001b[0;31m         filtered_flat_args, captured_inputs=graph_function.captured_inputs)  # pylint: disable=protected-access\n\u001b[0m\u001b[1;32m   3041\u001b[0m \u001b[0;34m\u001b[0m\u001b[0m\n\u001b[1;32m   3042\u001b[0m   \u001b[0;34m@\u001b[0m\u001b[0mproperty\u001b[0m\u001b[0;34m\u001b[0m\u001b[0;34m\u001b[0m\u001b[0m\n",
      "\u001b[0;32m/opt/conda/lib/python3.7/site-packages/tensorflow/python/eager/function.py\u001b[0m in \u001b[0;36m_call_flat\u001b[0;34m(self, args, captured_inputs, cancellation_manager)\u001b[0m\n\u001b[1;32m   1962\u001b[0m       \u001b[0;31m# No tape is watching; skip to running the function.\u001b[0m\u001b[0;34m\u001b[0m\u001b[0;34m\u001b[0m\u001b[0;34m\u001b[0m\u001b[0m\n\u001b[1;32m   1963\u001b[0m       return self._build_call_outputs(self._inference_function.call(\n\u001b[0;32m-> 1964\u001b[0;31m           ctx, args, cancellation_manager=cancellation_manager))\n\u001b[0m\u001b[1;32m   1965\u001b[0m     forward_backward = self._select_forward_and_backward_functions(\n\u001b[1;32m   1966\u001b[0m         \u001b[0margs\u001b[0m\u001b[0;34m,\u001b[0m\u001b[0;34m\u001b[0m\u001b[0;34m\u001b[0m\u001b[0m\n",
      "\u001b[0;32m/opt/conda/lib/python3.7/site-packages/tensorflow/python/eager/function.py\u001b[0m in \u001b[0;36mcall\u001b[0;34m(self, ctx, args, cancellation_manager)\u001b[0m\n\u001b[1;32m    594\u001b[0m               \u001b[0minputs\u001b[0m\u001b[0;34m=\u001b[0m\u001b[0margs\u001b[0m\u001b[0;34m,\u001b[0m\u001b[0;34m\u001b[0m\u001b[0;34m\u001b[0m\u001b[0m\n\u001b[1;32m    595\u001b[0m               \u001b[0mattrs\u001b[0m\u001b[0;34m=\u001b[0m\u001b[0mattrs\u001b[0m\u001b[0;34m,\u001b[0m\u001b[0;34m\u001b[0m\u001b[0;34m\u001b[0m\u001b[0m\n\u001b[0;32m--> 596\u001b[0;31m               ctx=ctx)\n\u001b[0m\u001b[1;32m    597\u001b[0m         \u001b[0;32melse\u001b[0m\u001b[0;34m:\u001b[0m\u001b[0;34m\u001b[0m\u001b[0;34m\u001b[0m\u001b[0m\n\u001b[1;32m    598\u001b[0m           outputs = execute.execute_with_cancellation(\n",
      "\u001b[0;32m/opt/conda/lib/python3.7/site-packages/tensorflow/python/eager/execute.py\u001b[0m in \u001b[0;36mquick_execute\u001b[0;34m(op_name, num_outputs, inputs, attrs, ctx, name)\u001b[0m\n\u001b[1;32m     58\u001b[0m     \u001b[0mctx\u001b[0m\u001b[0;34m.\u001b[0m\u001b[0mensure_initialized\u001b[0m\u001b[0;34m(\u001b[0m\u001b[0;34m)\u001b[0m\u001b[0;34m\u001b[0m\u001b[0;34m\u001b[0m\u001b[0m\n\u001b[1;32m     59\u001b[0m     tensors = pywrap_tfe.TFE_Py_Execute(ctx._handle, device_name, op_name,\n\u001b[0;32m---> 60\u001b[0;31m                                         inputs, attrs, num_outputs)\n\u001b[0m\u001b[1;32m     61\u001b[0m   \u001b[0;32mexcept\u001b[0m \u001b[0mcore\u001b[0m\u001b[0;34m.\u001b[0m\u001b[0m_NotOkStatusException\u001b[0m \u001b[0;32mas\u001b[0m \u001b[0me\u001b[0m\u001b[0;34m:\u001b[0m\u001b[0;34m\u001b[0m\u001b[0;34m\u001b[0m\u001b[0m\n\u001b[1;32m     62\u001b[0m     \u001b[0;32mif\u001b[0m \u001b[0mname\u001b[0m \u001b[0;32mis\u001b[0m \u001b[0;32mnot\u001b[0m \u001b[0;32mNone\u001b[0m\u001b[0;34m:\u001b[0m\u001b[0;34m\u001b[0m\u001b[0;34m\u001b[0m\u001b[0m\n",
      "\u001b[0;31mInvalidArgumentError\u001b[0m:  indices[7,4] = 12638 is not in [0, 12638)\n\t [[node sequential_1/embedding_5/embedding_lookup (defined at tmp/ipykernel_19/3680944847.py:5) ]] [Op:__inference_train_function_122283]\n\nErrors may have originated from an input operation.\nInput Source operations connected to node sequential_1/embedding_5/embedding_lookup:\n sequential_1/embedding_5/embedding_lookup/121855 (defined at opt/conda/lib/python3.7/contextlib.py:112)\n\nFunction call stack:\ntrain_function\n"
     ]
    }
   ],
   "source": [
    "model_checkpoint2 = ModelCheckpoint(\"cnn_checkpoint.h5\", save_best_only=True, monitor=\"val_recall\", mode='max')\n",
    "num_epochs=20\n",
    "model2.fit(padded_train, train_labels, epochs=num_epochs, \n",
    "           validation_data=(padded_val, val_labels), callbacks=[PlotLossesKeras(), model_checkpoint2], \n",
    "           class_weight=class_weight_dict)"
   ]
  },
  {
   "cell_type": "code",
   "execution_count": null,
   "id": "41d13f86",
   "metadata": {
    "execution": {
     "iopub.execute_input": "2022-03-28T08:06:53.532022Z",
     "iopub.status.busy": "2022-03-28T08:06:53.531769Z",
     "iopub.status.idle": "2022-03-28T08:06:53.990354Z",
     "shell.execute_reply": "2022-03-28T08:06:53.989676Z",
     "shell.execute_reply.started": "2022-03-28T08:06:53.531994Z"
    },
    "papermill": {
     "duration": null,
     "end_time": null,
     "exception": null,
     "start_time": null,
     "status": "pending"
    },
    "tags": []
   },
   "outputs": [],
   "source": [
    "model21 = load_model('cnn_checkpoint.h5')\n",
    "evaluate_model(model21,padded_test, test_labels)"
   ]
  },
  {
   "cell_type": "code",
   "execution_count": null,
   "id": "a30e0405",
   "metadata": {
    "execution": {
     "iopub.execute_input": "2022-03-28T08:42:26.262951Z",
     "iopub.status.busy": "2022-03-28T08:42:26.26269Z",
     "iopub.status.idle": "2022-03-28T08:42:26.26731Z",
     "shell.execute_reply": "2022-03-28T08:42:26.266417Z",
     "shell.execute_reply.started": "2022-03-28T08:42:26.262923Z"
    },
    "papermill": {
     "duration": null,
     "end_time": null,
     "exception": null,
     "start_time": null,
     "status": "pending"
    },
    "tags": []
   },
   "outputs": [],
   "source": [
    "from tensorflow.keras import regularizers"
   ]
  },
  {
   "cell_type": "code",
   "execution_count": null,
   "id": "93aaf687",
   "metadata": {
    "execution": {
     "iopub.execute_input": "2022-03-28T08:49:43.282538Z",
     "iopub.status.busy": "2022-03-28T08:49:43.282107Z",
     "iopub.status.idle": "2022-03-28T08:49:43.341741Z",
     "shell.execute_reply": "2022-03-28T08:49:43.341012Z",
     "shell.execute_reply.started": "2022-03-28T08:49:43.282502Z"
    },
    "papermill": {
     "duration": null,
     "end_time": null,
     "exception": null,
     "start_time": null,
     "status": "pending"
    },
    "tags": []
   },
   "outputs": [],
   "source": [
    "embed_len = 25\n",
    "embedding_matrix = embedding_matrix_25d\n",
    "model2_100d = tf.keras.Sequential([\n",
    "    tf.keras.layers.Embedding(input_dim = vocab_size+1, output_dim=embed_len, input_length=max_length, \n",
    "                              weights=[embedding_matrix], trainable=False),\n",
    "    tf.keras.layers.Conv1D(16, 5, activation='relu',kernel_regularizer=regularizers.l1_l2(l1=1,l2=1)),\n",
    "    tf.keras.layers.GlobalMaxPooling1D(),\n",
    "    tf.keras.layers.Dense(10,activation='relu'),\n",
    "    tf.keras.layers.Dropout(0.2),\n",
    "    tf.keras.layers.Dense(1, activation='sigmoid')\n",
    "])\n",
    "model2.compile(loss='binary_crossentropy',optimizer=Adam(learning_rate=1e-3),metrics=Recall(name='recall'))\n",
    "model2.summary()"
   ]
  },
  {
   "cell_type": "code",
   "execution_count": null,
   "id": "2b33e813",
   "metadata": {
    "execution": {
     "iopub.execute_input": "2022-03-28T08:49:47.10219Z",
     "iopub.status.busy": "2022-03-28T08:49:47.101929Z",
     "iopub.status.idle": "2022-03-28T08:50:56.577306Z",
     "shell.execute_reply": "2022-03-28T08:50:56.576543Z",
     "shell.execute_reply.started": "2022-03-28T08:49:47.102156Z"
    },
    "papermill": {
     "duration": null,
     "end_time": null,
     "exception": null,
     "start_time": null,
     "status": "pending"
    },
    "tags": []
   },
   "outputs": [],
   "source": [
    "model_checkpoint22 = ModelCheckpoint(\"cnn_checkpoint_25.h5\", save_best_only=True, monitor=\"val_recall\", \n",
    "                                     mode='max')\n",
    "num_epochs=20\n",
    "model2.fit(padded_train, train_labels, epochs=num_epochs, \n",
    "           validation_data=(padded_val, val_labels), callbacks=[PlotLossesKeras(), model_checkpoint22], \n",
    "           class_weight=class_weight_dict)"
   ]
  },
  {
   "cell_type": "markdown",
   "id": "6ec4eba4",
   "metadata": {
    "papermill": {
     "duration": null,
     "end_time": null,
     "exception": null,
     "start_time": null,
     "status": "pending"
    },
    "tags": []
   },
   "source": [
    "# Using LSTM "
   ]
  },
  {
   "cell_type": "code",
   "execution_count": null,
   "id": "7207e705",
   "metadata": {
    "execution": {
     "iopub.execute_input": "2022-03-28T09:01:42.652402Z",
     "iopub.status.busy": "2022-03-28T09:01:42.652134Z",
     "iopub.status.idle": "2022-03-28T09:01:43.464586Z",
     "shell.execute_reply": "2022-03-28T09:01:43.463861Z",
     "shell.execute_reply.started": "2022-03-28T09:01:42.652372Z"
    },
    "papermill": {
     "duration": null,
     "end_time": null,
     "exception": null,
     "start_time": null,
     "status": "pending"
    },
    "tags": []
   },
   "outputs": [],
   "source": [
    "embedding_dim = 8\n",
    "\n",
    "model3 = tf.keras.Sequential([\n",
    "    tf.keras.layers.Embedding(vocab_size+1, embedding_dim, input_length=max_length),\n",
    "    tf.keras.layers.Bidirectional(tf.keras.layers.LSTM(embedding_dim, \n",
    "                                                       return_sequences=True)),\n",
    "    tf.keras.layers.Bidirectional(tf.keras.layers.LSTM(embedding_dim)),\n",
    "    tf.keras.layers.Dense(1, activation='sigmoid')\n",
    "])\n",
    "\n",
    "learning_rate = 1e-7\n",
    "model3.compile(loss='binary_crossentropy',\n",
    "                                 optimizer=tf.keras.optimizers.Adam(learning_rate),\n",
    "                                 metrics=Recall(name='recall'))\n",
    "model3.summary()"
   ]
  },
  {
   "cell_type": "code",
   "execution_count": null,
   "id": "be9fa566",
   "metadata": {
    "execution": {
     "iopub.execute_input": "2022-03-28T09:01:52.772092Z",
     "iopub.status.busy": "2022-03-28T09:01:52.771245Z",
     "iopub.status.idle": "2022-03-28T09:10:52.327402Z",
     "shell.execute_reply": "2022-03-28T09:10:52.326671Z",
     "shell.execute_reply.started": "2022-03-28T09:01:52.772054Z"
    },
    "papermill": {
     "duration": null,
     "end_time": null,
     "exception": null,
     "start_time": null,
     "status": "pending"
    },
    "tags": []
   },
   "outputs": [],
   "source": [
    "lr_schedule = LearningRateScheduler(lambda epoch: 1e-7 * 10**(epoch / 10))\n",
    "history_lstm = model3.fit(padded_train, train_labels, epochs=60, callbacks=[lr_schedule],\n",
    "                          class_weight=class_weight_dict)\n",
    "plt.semilogx(history_lstm.history[\"lr\"], history_lstm.history[\"loss\"])\n",
    "plt.axis([1e-7, 1e-1, 0, 1])"
   ]
  },
  {
   "cell_type": "markdown",
   "id": "55cb20ef",
   "metadata": {
    "papermill": {
     "duration": null,
     "end_time": null,
     "exception": null,
     "start_time": null,
     "status": "pending"
    },
    "tags": []
   },
   "source": [
    "Minimum loss is at between 1e-4 to 1e-2, so we can choose 1e-3 as learning rate"
   ]
  },
  {
   "cell_type": "code",
   "execution_count": null,
   "id": "eb5c56c8",
   "metadata": {
    "execution": {
     "iopub.execute_input": "2022-03-28T09:19:58.697741Z",
     "iopub.status.busy": "2022-03-28T09:19:58.697206Z",
     "iopub.status.idle": "2022-03-28T09:23:26.229926Z",
     "shell.execute_reply": "2022-03-28T09:23:26.229143Z",
     "shell.execute_reply.started": "2022-03-28T09:19:58.697703Z"
    },
    "papermill": {
     "duration": null,
     "end_time": null,
     "exception": null,
     "start_time": null,
     "status": "pending"
    },
    "tags": []
   },
   "outputs": [],
   "source": [
    "embedding_dim = 8\n",
    "\n",
    "model3 = tf.keras.Sequential([\n",
    "    tf.keras.layers.Embedding(vocab_size+1, embedding_dim, input_length=max_length),\n",
    "    tf.keras.layers.Bidirectional(tf.keras.layers.LSTM(embedding_dim, \n",
    "                                                       return_sequences=True)),\n",
    "    tf.keras.layers.Bidirectional(tf.keras.layers.LSTM(embedding_dim)),\n",
    "    tf.keras.layers.Dense(1, activation='sigmoid')\n",
    "])\n",
    "\n",
    "learning_rate = 1e-3\n",
    "model3.compile(loss='binary_crossentropy',\n",
    "                                 optimizer=tf.keras.optimizers.Adam(learning_rate),\n",
    "                                 metrics=Recall(name='recall'))\n",
    "model_checkpoint3 = ModelCheckpoint(\"lstm_checkpoint.h5\", save_best_only=True, monitor=\"val_recall\", \n",
    "                                     mode='max')\n",
    "model3.fit(padded_train, train_labels, epochs=15, validation_data=(padded_val, val_labels),\n",
    "           callbacks=[PlotLossesKeras(),model_checkpoint3],class_weight=class_weight_dict)"
   ]
  },
  {
   "cell_type": "code",
   "execution_count": null,
   "id": "b8103039",
   "metadata": {
    "execution": {
     "iopub.execute_input": "2022-03-28T09:23:26.232418Z",
     "iopub.status.busy": "2022-03-28T09:23:26.231607Z",
     "iopub.status.idle": "2022-03-28T09:23:29.387989Z",
     "shell.execute_reply": "2022-03-28T09:23:29.387167Z",
     "shell.execute_reply.started": "2022-03-28T09:23:26.232378Z"
    },
    "papermill": {
     "duration": null,
     "end_time": null,
     "exception": null,
     "start_time": null,
     "status": "pending"
    },
    "tags": []
   },
   "outputs": [],
   "source": [
    "model31 = load_model('lstm_checkpoint.h5')\n",
    "evaluate_model(model31,padded_test, test_labels)"
   ]
  },
  {
   "cell_type": "markdown",
   "id": "c5099d36",
   "metadata": {
    "papermill": {
     "duration": null,
     "end_time": null,
     "exception": null,
     "start_time": null,
     "status": "pending"
    },
    "tags": []
   },
   "source": [
    "# Using CNN and LSTM"
   ]
  },
  {
   "cell_type": "code",
   "execution_count": null,
   "id": "37ac38a2",
   "metadata": {
    "execution": {
     "iopub.execute_input": "2022-03-28T09:49:53.004186Z",
     "iopub.status.busy": "2022-03-28T09:49:53.003861Z",
     "iopub.status.idle": "2022-03-28T09:49:54.144225Z",
     "shell.execute_reply": "2022-03-28T09:49:54.143498Z",
     "shell.execute_reply.started": "2022-03-28T09:49:53.004143Z"
    },
    "papermill": {
     "duration": null,
     "end_time": null,
     "exception": null,
     "start_time": null,
     "status": "pending"
    },
    "tags": []
   },
   "outputs": [],
   "source": [
    "embedding_dim = 8\n",
    "\n",
    "model4 = tf.keras.Sequential([\n",
    "    tf.keras.layers.Embedding(vocab_size+1, embedding_dim, input_length=max_length),\n",
    "    tf.keras.layers.Conv1D(16,5, activation='relu'),\n",
    "    tf.keras.layers.MaxPooling1D(pool_size=2),\n",
    "    tf.keras.layers.Bidirectional(tf.keras.layers.LSTM(16, return_sequences=True)),\n",
    "    tf.keras.layers.Dropout(0.15),\n",
    "    tf.keras.layers.Bidirectional(tf.keras.layers.LSTM(16)),\n",
    "    tf.keras.layers.Dense(1, activation='sigmoid')\n",
    "])\n",
    "\n",
    "learning_rate = 1e-4\n",
    "model4.compile(loss='binary_crossentropy',\n",
    "                                 optimizer=tf.keras.optimizers.Adam(learning_rate),\n",
    "                                 metrics=Recall(name='recall'))\n",
    "model4.summary()"
   ]
  },
  {
   "cell_type": "code",
   "execution_count": null,
   "id": "61dd1953",
   "metadata": {
    "execution": {
     "iopub.execute_input": "2022-03-28T09:50:06.593423Z",
     "iopub.status.busy": "2022-03-28T09:50:06.593144Z",
     "iopub.status.idle": "2022-03-28T09:53:32.938779Z",
     "shell.execute_reply": "2022-03-28T09:53:32.937872Z",
     "shell.execute_reply.started": "2022-03-28T09:50:06.593393Z"
    },
    "papermill": {
     "duration": null,
     "end_time": null,
     "exception": null,
     "start_time": null,
     "status": "pending"
    },
    "tags": []
   },
   "outputs": [],
   "source": [
    "model_checkpoint4 = ModelCheckpoint(\"lstm_cnn_checkpoint.h5\", save_best_only=True, monitor=\"val_recall\", \n",
    "                                     mode='max')\n",
    "model4.fit(padded_train, train_labels, epochs=15, validation_data=(padded_val, val_labels),\n",
    "           callbacks=[PlotLossesKeras(),model_checkpoint4],class_weight=class_weight_dict)"
   ]
  },
  {
   "cell_type": "code",
   "execution_count": null,
   "id": "9b88aaa8",
   "metadata": {
    "execution": {
     "iopub.execute_input": "2022-03-28T09:54:23.204354Z",
     "iopub.status.busy": "2022-03-28T09:54:23.204073Z",
     "iopub.status.idle": "2022-03-28T09:54:26.103004Z",
     "shell.execute_reply": "2022-03-28T09:54:26.102242Z",
     "shell.execute_reply.started": "2022-03-28T09:54:23.204307Z"
    },
    "papermill": {
     "duration": null,
     "end_time": null,
     "exception": null,
     "start_time": null,
     "status": "pending"
    },
    "tags": []
   },
   "outputs": [],
   "source": [
    "model41 = load_model('lstm_cnn_checkpoint.h5')\n",
    "evaluate_model(model41,padded_test, test_labels)"
   ]
  },
  {
   "cell_type": "code",
   "execution_count": null,
   "id": "35531343",
   "metadata": {
    "execution": {
     "iopub.execute_input": "2022-03-28T09:55:51.943825Z",
     "iopub.status.busy": "2022-03-28T09:55:51.943193Z",
     "iopub.status.idle": "2022-03-28T09:55:52.978247Z",
     "shell.execute_reply": "2022-03-28T09:55:52.977504Z",
     "shell.execute_reply.started": "2022-03-28T09:55:51.943784Z"
    },
    "papermill": {
     "duration": null,
     "end_time": null,
     "exception": null,
     "start_time": null,
     "status": "pending"
    },
    "tags": []
   },
   "outputs": [],
   "source": [
    "ypred_test = np.round(model41.predict(padded_test))\n",
    "f1_score(test_labels,ypred_test)"
   ]
  },
  {
   "cell_type": "code",
   "execution_count": null,
   "id": "68461778",
   "metadata": {
    "execution": {
     "iopub.execute_input": "2022-03-28T09:56:53.273885Z",
     "iopub.status.busy": "2022-03-28T09:56:53.273178Z",
     "iopub.status.idle": "2022-03-28T09:56:53.283216Z",
     "shell.execute_reply": "2022-03-28T09:56:53.282377Z",
     "shell.execute_reply.started": "2022-03-28T09:56:53.273846Z"
    },
    "papermill": {
     "duration": null,
     "end_time": null,
     "exception": null,
     "start_time": null,
     "status": "pending"
    },
    "tags": []
   },
   "outputs": [],
   "source": [
    "confusion_matrix(test_labels,ypred_test)"
   ]
  },
  {
   "cell_type": "code",
   "execution_count": null,
   "id": "eedda84d",
   "metadata": {
    "papermill": {
     "duration": null,
     "end_time": null,
     "exception": null,
     "start_time": null,
     "status": "pending"
    },
    "tags": []
   },
   "outputs": [],
   "source": []
  }
 ],
 "metadata": {
  "kernelspec": {
   "display_name": "Python 3",
   "language": "python",
   "name": "python3"
  },
  "language_info": {
   "codemirror_mode": {
    "name": "ipython",
    "version": 3
   },
   "file_extension": ".py",
   "mimetype": "text/x-python",
   "name": "python",
   "nbconvert_exporter": "python",
   "pygments_lexer": "ipython3",
   "version": "3.7.12"
  },
  "papermill": {
   "default_parameters": {},
   "duration": 721.158776,
   "end_time": "2022-03-29T04:56:24.347553",
   "environment_variables": {},
   "exception": true,
   "input_path": "__notebook__.ipynb",
   "output_path": "__notebook__.ipynb",
   "parameters": {},
   "start_time": "2022-03-29T04:44:23.188777",
   "version": "2.3.3"
  }
 },
 "nbformat": 4,
 "nbformat_minor": 5
}
