{
 "cells": [
  {
   "cell_type": "code",
   "execution_count": 1,
   "id": "756bd5a3",
   "metadata": {
    "execution": {
     "iopub.execute_input": "2022-03-29T06:20:56.185352Z",
     "iopub.status.busy": "2022-03-29T06:20:56.184435Z",
     "iopub.status.idle": "2022-03-29T06:21:07.360146Z",
     "shell.execute_reply": "2022-03-29T06:21:07.359301Z",
     "shell.execute_reply.started": "2022-03-28T06:13:34.558951Z"
    },
    "papermill": {
     "duration": 11.251797,
     "end_time": "2022-03-29T06:21:07.360328",
     "exception": false,
     "start_time": "2022-03-29T06:20:56.108531",
     "status": "completed"
    },
    "tags": []
   },
   "outputs": [
    {
     "name": "stdout",
     "output_type": "stream",
     "text": [
      "Collecting livelossplot\r\n",
      "  Downloading livelossplot-0.5.4-py3-none-any.whl (22 kB)\r\n",
      "Requirement already satisfied: ipython in /opt/conda/lib/python3.7/site-packages (from livelossplot) (7.30.1)\r\n",
      "Requirement already satisfied: matplotlib in /opt/conda/lib/python3.7/site-packages (from livelossplot) (3.5.1)\r\n",
      "Requirement already satisfied: bokeh in /opt/conda/lib/python3.7/site-packages (from livelossplot) (2.4.2)\r\n",
      "Requirement already satisfied: packaging>=16.8 in /opt/conda/lib/python3.7/site-packages (from bokeh->livelossplot) (21.3)\r\n",
      "Requirement already satisfied: Jinja2>=2.9 in /opt/conda/lib/python3.7/site-packages (from bokeh->livelossplot) (3.0.3)\r\n",
      "Requirement already satisfied: numpy>=1.11.3 in /opt/conda/lib/python3.7/site-packages (from bokeh->livelossplot) (1.20.3)\r\n",
      "Requirement already satisfied: PyYAML>=3.10 in /opt/conda/lib/python3.7/site-packages (from bokeh->livelossplot) (6.0)\r\n",
      "Requirement already satisfied: tornado>=5.1 in /opt/conda/lib/python3.7/site-packages (from bokeh->livelossplot) (6.1)\r\n",
      "Requirement already satisfied: typing-extensions>=3.10.0 in /opt/conda/lib/python3.7/site-packages (from bokeh->livelossplot) (4.1.1)\r\n",
      "Requirement already satisfied: pillow>=7.1.0 in /opt/conda/lib/python3.7/site-packages (from bokeh->livelossplot) (8.2.0)\r\n",
      "Requirement already satisfied: pexpect>4.3 in /opt/conda/lib/python3.7/site-packages (from ipython->livelossplot) (4.8.0)\r\n",
      "Requirement already satisfied: setuptools>=18.5 in /opt/conda/lib/python3.7/site-packages (from ipython->livelossplot) (59.5.0)\r\n",
      "Requirement already satisfied: prompt-toolkit!=3.0.0,!=3.0.1,<3.1.0,>=2.0.0 in /opt/conda/lib/python3.7/site-packages (from ipython->livelossplot) (3.0.24)\r\n",
      "Requirement already satisfied: matplotlib-inline in /opt/conda/lib/python3.7/site-packages (from ipython->livelossplot) (0.1.3)\r\n",
      "Requirement already satisfied: decorator in /opt/conda/lib/python3.7/site-packages (from ipython->livelossplot) (5.1.0)\r\n",
      "Requirement already satisfied: pygments in /opt/conda/lib/python3.7/site-packages (from ipython->livelossplot) (2.10.0)\r\n",
      "Requirement already satisfied: traitlets>=4.2 in /opt/conda/lib/python3.7/site-packages (from ipython->livelossplot) (5.1.1)\r\n",
      "Requirement already satisfied: backcall in /opt/conda/lib/python3.7/site-packages (from ipython->livelossplot) (0.2.0)\r\n",
      "Requirement already satisfied: pickleshare in /opt/conda/lib/python3.7/site-packages (from ipython->livelossplot) (0.7.5)\r\n",
      "Requirement already satisfied: jedi>=0.16 in /opt/conda/lib/python3.7/site-packages (from ipython->livelossplot) (0.18.1)\r\n",
      "Requirement already satisfied: python-dateutil>=2.7 in /opt/conda/lib/python3.7/site-packages (from matplotlib->livelossplot) (2.8.2)\r\n",
      "Requirement already satisfied: cycler>=0.10 in /opt/conda/lib/python3.7/site-packages (from matplotlib->livelossplot) (0.11.0)\r\n",
      "Requirement already satisfied: kiwisolver>=1.0.1 in /opt/conda/lib/python3.7/site-packages (from matplotlib->livelossplot) (1.3.2)\r\n",
      "Requirement already satisfied: pyparsing>=2.2.1 in /opt/conda/lib/python3.7/site-packages (from matplotlib->livelossplot) (3.0.6)\r\n",
      "Requirement already satisfied: fonttools>=4.22.0 in /opt/conda/lib/python3.7/site-packages (from matplotlib->livelossplot) (4.28.4)\r\n",
      "Requirement already satisfied: parso<0.9.0,>=0.8.0 in /opt/conda/lib/python3.7/site-packages (from jedi>=0.16->ipython->livelossplot) (0.8.3)\r\n",
      "Requirement already satisfied: MarkupSafe>=2.0 in /opt/conda/lib/python3.7/site-packages (from Jinja2>=2.9->bokeh->livelossplot) (2.1.1)\r\n",
      "Requirement already satisfied: ptyprocess>=0.5 in /opt/conda/lib/python3.7/site-packages (from pexpect>4.3->ipython->livelossplot) (0.7.0)\r\n",
      "Requirement already satisfied: wcwidth in /opt/conda/lib/python3.7/site-packages (from prompt-toolkit!=3.0.0,!=3.0.1,<3.1.0,>=2.0.0->ipython->livelossplot) (0.2.5)\r\n",
      "Requirement already satisfied: six>=1.5 in /opt/conda/lib/python3.7/site-packages (from python-dateutil>=2.7->matplotlib->livelossplot) (1.16.0)\r\n",
      "Installing collected packages: livelossplot\r\n",
      "Successfully installed livelossplot-0.5.4\r\n",
      "\u001b[33mWARNING: Running pip as the 'root' user can result in broken permissions and conflicting behaviour with the system package manager. It is recommended to use a virtual environment instead: https://pip.pypa.io/warnings/venv\u001b[0m\r\n"
     ]
    }
   ],
   "source": [
    "!pip install livelossplot"
   ]
  },
  {
   "cell_type": "code",
   "execution_count": 2,
   "id": "383ab3bc",
   "metadata": {
    "_cell_guid": "dfae689b-ae28-4a33-9fac-603f900798e5",
    "_uuid": "afcc36d6-ca07-4768-b29a-46200a4c5f0d",
    "collapsed": false,
    "execution": {
     "iopub.execute_input": "2022-03-29T06:21:07.506367Z",
     "iopub.status.busy": "2022-03-29T06:21:07.505611Z",
     "iopub.status.idle": "2022-03-29T06:21:07.530095Z",
     "shell.execute_reply": "2022-03-29T06:21:07.529017Z",
     "shell.execute_reply.started": "2022-03-28T06:13:43.335161Z"
    },
    "jupyter": {
     "outputs_hidden": false
    },
    "papermill": {
     "duration": 0.098284,
     "end_time": "2022-03-29T06:21:07.530302",
     "exception": false,
     "start_time": "2022-03-29T06:21:07.432018",
     "status": "completed"
    },
    "tags": []
   },
   "outputs": [
    {
     "name": "stdout",
     "output_type": "stream",
     "text": [
      "/kaggle/input/glove-twitter/glove.twitter.27B.200d.txt\n",
      "/kaggle/input/glove-twitter/glove.twitter.27B.25d.txt\n",
      "/kaggle/input/glove-twitter/glove.twitter.27B.50d.txt\n",
      "/kaggle/input/glove-twitter/glove.twitter.27B.100d.txt\n",
      "/kaggle/input/twitter-hate-speech-preprocessing-and-eda/__results__.html\n",
      "/kaggle/input/twitter-hate-speech-preprocessing-and-eda/twittervalidation.csv\n",
      "/kaggle/input/twitter-hate-speech-preprocessing-and-eda/__notebook__.ipynb\n",
      "/kaggle/input/twitter-hate-speech-preprocessing-and-eda/twittertrain.csv\n",
      "/kaggle/input/twitter-hate-speech-preprocessing-and-eda/__output__.json\n",
      "/kaggle/input/twitter-hate-speech-preprocessing-and-eda/twittertest.csv\n",
      "/kaggle/input/twitter-hate-speech-preprocessing-and-eda/custom.css\n",
      "/kaggle/input/twitter-hate-speech-preprocessing-and-eda/__results___files/__results___9_0.png\n",
      "/kaggle/input/twitter-hate-speech-preprocessing-and-eda/__results___files/__results___36_0.png\n",
      "/kaggle/input/twitter-hate-speech-preprocessing-and-eda/__results___files/__results___12_1.png\n",
      "/kaggle/input/twitter-hate-speech-preprocessing-and-eda/__results___files/__results___13_1.png\n",
      "/kaggle/input/twitter-hate-speech-preprocessing-and-eda/__results___files/__results___8_1.png\n"
     ]
    }
   ],
   "source": [
    "import numpy as np # linear algebra\n",
    "import pandas as pd # data processing, CSV file I/O (e.g. pd.read_csv)\n",
    "import matplotlib.pyplot as plt \n",
    "\n",
    "import os\n",
    "for dirname, _, filenames in os.walk('/kaggle/input'):\n",
    "    for filename in filenames:\n",
    "        print(os.path.join(dirname, filename))"
   ]
  },
  {
   "cell_type": "markdown",
   "id": "0c30fe0f",
   "metadata": {
    "papermill": {
     "duration": 0.076424,
     "end_time": "2022-03-29T06:21:07.680543",
     "exception": false,
     "start_time": "2022-03-29T06:21:07.604119",
     "status": "completed"
    },
    "tags": []
   },
   "source": [
    "### Vectorize\n",
    "1. Using Tfidf\n",
    "2. Using tensorflow tokenize\n",
    "\n",
    "3.Build a baseline model using Logistic Regression, handle class imbalance\n",
    "4. Build a model with GloVe embeddings, trainable = False, LSTM, Conv1d\n",
    "#Build a model with trained embeddings, LSTM, Conv1d\n",
    "#Explore Conv1d-LSTM combined architecture\n",
    "\n",
    "#Handle out of vocabulary tokens\n"
   ]
  },
  {
   "cell_type": "code",
   "execution_count": 3,
   "id": "4608d6aa",
   "metadata": {
    "execution": {
     "iopub.execute_input": "2022-03-29T06:21:07.841998Z",
     "iopub.status.busy": "2022-03-29T06:21:07.841288Z",
     "iopub.status.idle": "2022-03-29T06:21:07.938993Z",
     "shell.execute_reply": "2022-03-29T06:21:07.939666Z",
     "shell.execute_reply.started": "2022-03-28T06:13:43.349279Z"
    },
    "papermill": {
     "duration": 0.17686,
     "end_time": "2022-03-29T06:21:07.939918",
     "exception": false,
     "start_time": "2022-03-29T06:21:07.763058",
     "status": "completed"
    },
    "tags": []
   },
   "outputs": [],
   "source": [
    "traindata = pd.read_csv(\"../input/twitter-hate-speech-preprocessing-and-eda/twittertrain.csv\")\n",
    "valdata = pd.read_csv(\"../input/twitter-hate-speech-preprocessing-and-eda/twittervalidation.csv\")\n",
    "testdata = pd.read_csv(\"../input/twitter-hate-speech-preprocessing-and-eda/twittertest.csv\")"
   ]
  },
  {
   "cell_type": "code",
   "execution_count": 4,
   "id": "04db82db",
   "metadata": {
    "execution": {
     "iopub.execute_input": "2022-03-29T06:21:08.084728Z",
     "iopub.status.busy": "2022-03-29T06:21:08.083831Z",
     "iopub.status.idle": "2022-03-29T06:21:08.099513Z",
     "shell.execute_reply": "2022-03-29T06:21:08.100542Z",
     "shell.execute_reply.started": "2022-03-28T06:13:43.403796Z"
    },
    "papermill": {
     "duration": 0.089905,
     "end_time": "2022-03-29T06:21:08.100851",
     "exception": false,
     "start_time": "2022-03-29T06:21:08.010946",
     "status": "completed"
    },
    "tags": []
   },
   "outputs": [
    {
     "name": "stdout",
     "output_type": "stream",
     "text": [
      "tokenized    51\n",
      "Sentiment     0\n",
      "dtype: int64\n",
      "tokenized    8\n",
      "Sentiment    0\n",
      "dtype: int64\n",
      "tokenized    10\n",
      "Sentiment     0\n",
      "dtype: int64\n"
     ]
    }
   ],
   "source": [
    "print(traindata.isna().sum())\n",
    "print(valdata.isna().sum())\n",
    "print(testdata.isna().sum())"
   ]
  },
  {
   "cell_type": "code",
   "execution_count": 5,
   "id": "5a204d4d",
   "metadata": {
    "execution": {
     "iopub.execute_input": "2022-03-29T06:21:08.253582Z",
     "iopub.status.busy": "2022-03-29T06:21:08.249360Z",
     "iopub.status.idle": "2022-03-29T06:21:08.274415Z",
     "shell.execute_reply": "2022-03-29T06:21:08.273719Z",
     "shell.execute_reply.started": "2022-03-28T06:13:43.419887Z"
    },
    "papermill": {
     "duration": 0.099159,
     "end_time": "2022-03-29T06:21:08.274561",
     "exception": false,
     "start_time": "2022-03-29T06:21:08.175402",
     "status": "completed"
    },
    "tags": []
   },
   "outputs": [],
   "source": [
    "traindata.dropna(inplace=True)\n",
    "valdata.dropna(inplace=True)\n",
    "testdata.dropna(inplace=True)"
   ]
  },
  {
   "cell_type": "code",
   "execution_count": 6,
   "id": "d6e97212",
   "metadata": {
    "execution": {
     "iopub.execute_input": "2022-03-29T06:21:08.421215Z",
     "iopub.status.busy": "2022-03-29T06:21:08.420476Z",
     "iopub.status.idle": "2022-03-29T06:21:08.434111Z",
     "shell.execute_reply": "2022-03-29T06:21:08.434659Z",
     "shell.execute_reply.started": "2022-03-28T06:13:43.436702Z"
    },
    "papermill": {
     "duration": 0.088774,
     "end_time": "2022-03-29T06:21:08.434831",
     "exception": false,
     "start_time": "2022-03-29T06:21:08.346057",
     "status": "completed"
    },
    "tags": []
   },
   "outputs": [],
   "source": [
    "X_train = traindata.drop(columns=['Sentiment'])\n",
    "y_train = traindata['Sentiment']\n",
    "X_val = valdata.drop(columns=['Sentiment'])\n",
    "y_val = valdata['Sentiment']\n",
    "X_test = testdata.drop(columns=['Sentiment'])\n",
    "y_test = testdata['Sentiment']"
   ]
  },
  {
   "cell_type": "code",
   "execution_count": 7,
   "id": "71d33118",
   "metadata": {
    "execution": {
     "iopub.execute_input": "2022-03-29T06:21:08.579927Z",
     "iopub.status.busy": "2022-03-29T06:21:08.579245Z",
     "iopub.status.idle": "2022-03-29T06:21:08.590095Z",
     "shell.execute_reply": "2022-03-29T06:21:08.590605Z",
     "shell.execute_reply.started": "2022-03-28T06:13:43.447439Z"
    },
    "papermill": {
     "duration": 0.088187,
     "end_time": "2022-03-29T06:21:08.590772",
     "exception": false,
     "start_time": "2022-03-29T06:21:08.502585",
     "status": "completed"
    },
    "tags": []
   },
   "outputs": [
    {
     "data": {
      "text/html": [
       "<div>\n",
       "<style scoped>\n",
       "    .dataframe tbody tr th:only-of-type {\n",
       "        vertical-align: middle;\n",
       "    }\n",
       "\n",
       "    .dataframe tbody tr th {\n",
       "        vertical-align: top;\n",
       "    }\n",
       "\n",
       "    .dataframe thead th {\n",
       "        text-align: right;\n",
       "    }\n",
       "</style>\n",
       "<table border=\"1\" class=\"dataframe\">\n",
       "  <thead>\n",
       "    <tr style=\"text-align: right;\">\n",
       "      <th></th>\n",
       "      <th>tokenized</th>\n",
       "    </tr>\n",
       "  </thead>\n",
       "  <tbody>\n",
       "    <tr>\n",
       "      <th>0</th>\n",
       "      <td>disgust idiot medium go straight islam regard ...</td>\n",
       "    </tr>\n",
       "    <tr>\n",
       "      <th>1</th>\n",
       "      <td>dunstaplesummerselfie watch next c min dunstap...</td>\n",
       "    </tr>\n",
       "    <tr>\n",
       "      <th>2</th>\n",
       "      <td>quietly hum win way next meeting may drop thug...</td>\n",
       "    </tr>\n",
       "    <tr>\n",
       "      <th>3</th>\n",
       "      <td>late post imoy fall :-) cbafamily summerouting...</td>\n",
       "    </tr>\n",
       "    <tr>\n",
       "      <th>4</th>\n",
       "      <td>happy enjoy music understand lyric musicisthef...</td>\n",
       "    </tr>\n",
       "  </tbody>\n",
       "</table>\n",
       "</div>"
      ],
      "text/plain": [
       "                                           tokenized\n",
       "0  disgust idiot medium go straight islam regard ...\n",
       "1  dunstaplesummerselfie watch next c min dunstap...\n",
       "2  quietly hum win way next meeting may drop thug...\n",
       "3  late post imoy fall :-) cbafamily summerouting...\n",
       "4  happy enjoy music understand lyric musicisthef..."
      ]
     },
     "execution_count": 7,
     "metadata": {},
     "output_type": "execute_result"
    }
   ],
   "source": [
    "X_train.head()"
   ]
  },
  {
   "cell_type": "code",
   "execution_count": 8,
   "id": "ca54e1fa",
   "metadata": {
    "execution": {
     "iopub.execute_input": "2022-03-29T06:21:08.740663Z",
     "iopub.status.busy": "2022-03-29T06:21:08.739882Z",
     "iopub.status.idle": "2022-03-29T06:21:08.743300Z",
     "shell.execute_reply": "2022-03-29T06:21:08.743819Z",
     "shell.execute_reply.started": "2022-03-28T06:13:43.460475Z"
    },
    "papermill": {
     "duration": 0.082182,
     "end_time": "2022-03-29T06:21:08.744027",
     "exception": false,
     "start_time": "2022-03-29T06:21:08.661845",
     "status": "completed"
    },
    "tags": []
   },
   "outputs": [
    {
     "data": {
      "text/plain": [
       "(19125, 1)"
      ]
     },
     "execution_count": 8,
     "metadata": {},
     "output_type": "execute_result"
    }
   ],
   "source": [
    "X_train.shape"
   ]
  },
  {
   "cell_type": "code",
   "execution_count": 9,
   "id": "8c5b2b8b",
   "metadata": {
    "execution": {
     "iopub.execute_input": "2022-03-29T06:21:08.897935Z",
     "iopub.status.busy": "2022-03-29T06:21:08.893924Z",
     "iopub.status.idle": "2022-03-29T06:21:08.907140Z",
     "shell.execute_reply": "2022-03-29T06:21:08.907646Z",
     "shell.execute_reply.started": "2022-03-28T06:13:43.468323Z"
    },
    "papermill": {
     "duration": 0.092743,
     "end_time": "2022-03-29T06:21:08.907813",
     "exception": false,
     "start_time": "2022-03-29T06:21:08.815070",
     "status": "completed"
    },
    "tags": []
   },
   "outputs": [
    {
     "data": {
      "text/plain": [
       "count    6385.000000\n",
       "mean       10.360846\n",
       "std         8.614741\n",
       "min         1.000000\n",
       "25%         6.000000\n",
       "50%         9.000000\n",
       "75%        12.000000\n",
       "max       207.000000\n",
       "Name: tokenized, dtype: float64"
      ]
     },
     "execution_count": 9,
     "metadata": {},
     "output_type": "execute_result"
    }
   ],
   "source": [
    "wordcounts = X_val['tokenized'].apply(lambda x: len(x.split()))\n",
    "wordcounts.describe()"
   ]
  },
  {
   "cell_type": "code",
   "execution_count": 10,
   "id": "cc0e89d2",
   "metadata": {
    "execution": {
     "iopub.execute_input": "2022-03-29T06:21:09.054578Z",
     "iopub.status.busy": "2022-03-29T06:21:09.053722Z",
     "iopub.status.idle": "2022-03-29T06:21:09.294440Z",
     "shell.execute_reply": "2022-03-29T06:21:09.293917Z",
     "shell.execute_reply.started": "2022-03-28T06:13:43.491301Z"
    },
    "papermill": {
     "duration": 0.318592,
     "end_time": "2022-03-29T06:21:09.294576",
     "exception": false,
     "start_time": "2022-03-29T06:21:08.975984",
     "status": "completed"
    },
    "tags": []
   },
   "outputs": [
    {
     "data": {
      "text/plain": [
       "(array([5.962e+03, 3.690e+02, 3.900e+01, 6.000e+00, 5.000e+00, 1.000e+00,\n",
       "        0.000e+00, 2.000e+00, 0.000e+00, 1.000e+00]),\n",
       " array([  1. ,  21.6,  42.2,  62.8,  83.4, 104. , 124.6, 145.2, 165.8,\n",
       "        186.4, 207. ]),\n",
       " <BarContainer object of 10 artists>)"
      ]
     },
     "execution_count": 10,
     "metadata": {},
     "output_type": "execute_result"
    },
    {
     "data": {
      "image/png": "[encoded data removed]",
      "text/plain": [
       "<Figure size 432x288 with 1 Axes>"
      ]
     },
     "metadata": {
      "needs_background": "light"
     },
     "output_type": "display_data"
    }
   ],
   "source": [
    "plt.hist(wordcounts)"
   ]
  },
  {
   "cell_type": "code",
   "execution_count": 11,
   "id": "b8896d39",
   "metadata": {
    "execution": {
     "iopub.execute_input": "2022-03-29T06:21:09.438646Z",
     "iopub.status.busy": "2022-03-29T06:21:09.438002Z",
     "iopub.status.idle": "2022-03-29T06:21:10.554108Z",
     "shell.execute_reply": "2022-03-29T06:21:10.553517Z",
     "shell.execute_reply.started": "2022-03-28T06:13:43.738775Z"
    },
    "papermill": {
     "duration": 1.190337,
     "end_time": "2022-03-29T06:21:10.554263",
     "exception": false,
     "start_time": "2022-03-29T06:21:09.363926",
     "status": "completed"
    },
    "tags": []
   },
   "outputs": [],
   "source": [
    "from sklearn.feature_extraction.text import TfidfVectorizer\n",
    "from sklearn.linear_model import LogisticRegression\n",
    "from sklearn.metrics import f1_score, recall_score\n",
    "from sklearn.metrics import confusion_matrix, classification_report\n",
    "from sklearn.model_selection import GridSearchCV, StratifiedKFold"
   ]
  },
  {
   "cell_type": "code",
   "execution_count": 12,
   "id": "6a3fb328",
   "metadata": {
    "execution": {
     "iopub.execute_input": "2022-03-29T06:21:10.700465Z",
     "iopub.status.busy": "2022-03-29T06:21:10.699604Z",
     "iopub.status.idle": "2022-03-29T06:21:10.702191Z",
     "shell.execute_reply": "2022-03-29T06:21:10.701619Z",
     "shell.execute_reply.started": "2022-03-28T06:13:43.753751Z"
    },
    "papermill": {
     "duration": 0.078245,
     "end_time": "2022-03-29T06:21:10.702335",
     "exception": false,
     "start_time": "2022-03-29T06:21:10.624090",
     "status": "completed"
    },
    "tags": []
   },
   "outputs": [],
   "source": [
    "def evaluate(model, Xeval, ytrue):\n",
    "    ypred = model.predict(Xeval)\n",
    "    print(f\"F1 Score: {f1_score(ytrue,ypred)}\")\n",
    "    mat = confusion_matrix(ytrue, ypred)\n",
    "    print(f\"True positives: {mat[1,1]}, True Negatives: {mat[0,0]}, False Positives: {mat[0,1]}, False Negatives: {mat[1,0]} \")\n",
    "    print(\"Recall = \",recall_score(ytrue,ypred))\n",
    "    "
   ]
  },
  {
   "cell_type": "code",
   "execution_count": 13,
   "id": "1eeb013d",
   "metadata": {
    "execution": {
     "iopub.execute_input": "2022-03-29T06:21:10.869171Z",
     "iopub.status.busy": "2022-03-29T06:21:10.868175Z",
     "iopub.status.idle": "2022-03-29T06:21:11.280004Z",
     "shell.execute_reply": "2022-03-29T06:21:11.280483Z",
     "shell.execute_reply.started": "2022-03-28T06:13:43.767594Z"
    },
    "papermill": {
     "duration": 0.507436,
     "end_time": "2022-03-29T06:21:11.280670",
     "exception": false,
     "start_time": "2022-03-29T06:21:10.773234",
     "status": "completed"
    },
    "tags": []
   },
   "outputs": [],
   "source": [
    "tfidf = TfidfVectorizer()\n",
    "X_train_tfidf = tfidf.fit_transform(X_train['tokenized'])\n",
    "X_val_tfidf = tfidf.transform(X_val['tokenized'])\n",
    "X_test_tfidf = tfidf.transform(X_test['tokenized'])"
   ]
  },
  {
   "cell_type": "code",
   "execution_count": 14,
   "id": "396a9d57",
   "metadata": {
    "execution": {
     "iopub.execute_input": "2022-03-29T06:21:11.422799Z",
     "iopub.status.busy": "2022-03-29T06:21:11.422198Z",
     "iopub.status.idle": "2022-03-29T06:21:12.041351Z",
     "shell.execute_reply": "2022-03-29T06:21:12.042429Z",
     "shell.execute_reply.started": "2022-03-28T06:13:44.310857Z"
    },
    "papermill": {
     "duration": 0.691851,
     "end_time": "2022-03-29T06:21:12.042707",
     "exception": false,
     "start_time": "2022-03-29T06:21:11.350856",
     "status": "completed"
    },
    "tags": []
   },
   "outputs": [
    {
     "data": {
      "text/plain": [
       "LogisticRegression()"
      ]
     },
     "execution_count": 14,
     "metadata": {},
     "output_type": "execute_result"
    }
   ],
   "source": [
    "logReg = LogisticRegression()\n",
    "logReg.fit(X_train_tfidf,y_train)"
   ]
  },
  {
   "cell_type": "code",
   "execution_count": 15,
   "id": "e14fe471",
   "metadata": {
    "execution": {
     "iopub.execute_input": "2022-03-29T06:21:12.263359Z",
     "iopub.status.busy": "2022-03-29T06:21:12.262648Z",
     "iopub.status.idle": "2022-03-29T06:21:12.287648Z",
     "shell.execute_reply": "2022-03-29T06:21:12.288437Z",
     "shell.execute_reply.started": "2022-03-28T06:13:44.721871Z"
    },
    "papermill": {
     "duration": 0.101552,
     "end_time": "2022-03-29T06:21:12.288660",
     "exception": false,
     "start_time": "2022-03-29T06:21:12.187108",
     "status": "completed"
    },
    "tags": []
   },
   "outputs": [
    {
     "name": "stdout",
     "output_type": "stream",
     "text": [
      "ordinary logistic regression\n",
      "\n",
      "***Training Data Performance*** \n",
      "\n",
      "F1 Score: 0.4883720930232558\n",
      "True positives: 441, True Negatives: 17760, False Positives: 23, False Negatives: 901 \n",
      "Recall =  0.3286140089418778\n",
      "\n",
      "***Validation Data Performance*** \n",
      "\n",
      "F1 Score: 0.41580756013745707\n",
      "True positives: 121, True Negatives: 5924, False Positives: 12, False Negatives: 328 \n",
      "Recall =  0.26948775055679286\n"
     ]
    }
   ],
   "source": [
    "print(\"ordinary logistic regression\\n\")\n",
    "print(\"***Training Data Performance*** \\n\")\n",
    "evaluate(logReg, X_train_tfidf,y_train)\n",
    "print(\"\\n***Validation Data Performance*** \\n\")\n",
    "evaluate(logReg, X_val_tfidf,y_val)"
   ]
  },
  {
   "cell_type": "markdown",
   "id": "56d54ed5",
   "metadata": {
    "papermill": {
     "duration": 0.07031,
     "end_time": "2022-03-29T06:21:12.430992",
     "exception": false,
     "start_time": "2022-03-29T06:21:12.360682",
     "status": "completed"
    },
    "tags": []
   },
   "source": [
    "The model has high variance, also it's performing poor on positive classes prediction"
   ]
  },
  {
   "cell_type": "markdown",
   "id": "6d9f1801",
   "metadata": {
    "papermill": {
     "duration": 0.071184,
     "end_time": "2022-03-29T06:21:12.573143",
     "exception": false,
     "start_time": "2022-03-29T06:21:12.501959",
     "status": "completed"
    },
    "tags": []
   },
   "source": []
  },
  {
   "cell_type": "code",
   "execution_count": 16,
   "id": "3e0be411",
   "metadata": {
    "execution": {
     "iopub.execute_input": "2022-03-29T06:21:12.724970Z",
     "iopub.status.busy": "2022-03-29T06:21:12.724344Z",
     "iopub.status.idle": "2022-03-29T06:21:12.857359Z",
     "shell.execute_reply": "2022-03-29T06:21:12.856838Z",
     "shell.execute_reply.started": "2022-03-28T06:13:44.806921Z"
    },
    "papermill": {
     "duration": 0.208206,
     "end_time": "2022-03-29T06:21:12.857498",
     "exception": false,
     "start_time": "2022-03-29T06:21:12.649292",
     "status": "completed"
    },
    "tags": []
   },
   "outputs": [
    {
     "data": {
      "text/plain": [
       "LogisticRegression(class_weight='balanced', penalty='l1', solver='liblinear')"
      ]
     },
     "execution_count": 16,
     "metadata": {},
     "output_type": "execute_result"
    }
   ],
   "source": [
    "logReg1 = LogisticRegression(penalty='l1', class_weight='balanced', solver='liblinear')\n",
    "logReg1.fit(X_train_tfidf,y_train)"
   ]
  },
  {
   "cell_type": "code",
   "execution_count": 17,
   "id": "f376b28f",
   "metadata": {
    "execution": {
     "iopub.execute_input": "2022-03-29T06:21:13.007138Z",
     "iopub.status.busy": "2022-03-29T06:21:13.006411Z",
     "iopub.status.idle": "2022-03-29T06:21:13.033683Z",
     "shell.execute_reply": "2022-03-29T06:21:13.034337Z",
     "shell.execute_reply.started": "2022-03-28T06:13:44.930294Z"
    },
    "papermill": {
     "duration": 0.104983,
     "end_time": "2022-03-29T06:21:13.034508",
     "exception": false,
     "start_time": "2022-03-29T06:21:12.929525",
     "status": "completed"
    },
    "tags": []
   },
   "outputs": [
    {
     "name": "stdout",
     "output_type": "stream",
     "text": [
      "ordinary logistic regression with penalty and balanced class weights\n",
      "\n",
      "***Training Data Performance*** \n",
      "\n",
      "F1 Score: 0.7637614678899082\n",
      "True positives: 1332, True Negatives: 16969, False Positives: 814, False Negatives: 10 \n",
      "Recall =  0.992548435171386\n",
      "\n",
      "***Validation Data Performance*** \n",
      "\n",
      "F1 Score: 0.6034639927073839\n",
      "True positives: 331, True Negatives: 5619, False Positives: 317, False Negatives: 118 \n",
      "Recall =  0.7371937639198218\n"
     ]
    }
   ],
   "source": [
    "print(\"ordinary logistic regression with penalty and balanced class weights\\n\")\n",
    "print(\"***Training Data Performance*** \\n\")\n",
    "evaluate(logReg1, X_train_tfidf,y_train)\n",
    "print(\"\\n***Validation Data Performance*** \\n\")\n",
    "evaluate(logReg1, X_val_tfidf,y_val)"
   ]
  },
  {
   "cell_type": "code",
   "execution_count": 18,
   "id": "e02c7e79",
   "metadata": {
    "execution": {
     "iopub.execute_input": "2022-03-29T06:21:13.185731Z",
     "iopub.status.busy": "2022-03-29T06:21:13.184665Z",
     "iopub.status.idle": "2022-03-29T06:21:13.250257Z",
     "shell.execute_reply": "2022-03-29T06:21:13.250945Z",
     "shell.execute_reply.started": "2022-03-28T06:13:44.961056Z"
    },
    "papermill": {
     "duration": 0.145106,
     "end_time": "2022-03-29T06:21:13.251180",
     "exception": false,
     "start_time": "2022-03-29T06:21:13.106074",
     "status": "completed"
    },
    "tags": []
   },
   "outputs": [
    {
     "name": "stdout",
     "output_type": "stream",
     "text": [
      "ordinary logistic regression with penalty and balanced class weights\n",
      "\n",
      "***Training Data Performance*** \n",
      "\n",
      "F1 Score: 0.48832156436719176\n",
      "True positives: 899, True Negatives: 16342, False Positives: 1441, False Negatives: 443 \n",
      "Recall =  0.6698956780923994\n",
      "\n",
      "***Validation Data Performance*** \n",
      "\n",
      "F1 Score: 0.4757929883138565\n",
      "True positives: 285, True Negatives: 5472, False Positives: 464, False Negatives: 164 \n",
      "Recall =  0.6347438752783965\n"
     ]
    }
   ],
   "source": [
    "logReg2 = LogisticRegression(penalty='l1', class_weight='balanced', solver='liblinear', C=0.1)\n",
    "logReg2.fit(X_train_tfidf,y_train)\n",
    "print(\"ordinary logistic regression with penalty and balanced class weights\\n\")\n",
    "print(\"***Training Data Performance*** \\n\")\n",
    "evaluate(logReg2, X_train_tfidf,y_train)\n",
    "print(\"\\n***Validation Data Performance*** \\n\")\n",
    "evaluate(logReg2, X_val_tfidf,y_val)"
   ]
  },
  {
   "cell_type": "code",
   "execution_count": 19,
   "id": "516a2a33",
   "metadata": {
    "execution": {
     "iopub.execute_input": "2022-03-29T06:21:13.403860Z",
     "iopub.status.busy": "2022-03-29T06:21:13.402829Z",
     "iopub.status.idle": "2022-03-29T06:21:13.469576Z",
     "shell.execute_reply": "2022-03-29T06:21:13.470145Z",
     "shell.execute_reply.started": "2022-03-28T06:13:45.030379Z"
    },
    "papermill": {
     "duration": 0.146765,
     "end_time": "2022-03-29T06:21:13.470334",
     "exception": false,
     "start_time": "2022-03-29T06:21:13.323569",
     "status": "completed"
    },
    "tags": []
   },
   "outputs": [
    {
     "name": "stdout",
     "output_type": "stream",
     "text": [
      "ordinary logistic regression with penalty and balanced class weights\n",
      "\n",
      "***Training Data Performance*** \n",
      "\n",
      "F1 Score: 0.4741330301307562\n",
      "True positives: 834, True Negatives: 16441, False Positives: 1342, False Negatives: 508 \n",
      "Recall =  0.6214605067064084\n",
      "\n",
      "***Validation Data Performance*** \n",
      "\n",
      "F1 Score: 0.48347826086956525\n",
      "True positives: 278, True Negatives: 5513, False Positives: 423, False Negatives: 171 \n",
      "Recall =  0.6191536748329621\n"
     ]
    }
   ],
   "source": [
    "logReg3 = LogisticRegression(penalty='l1', class_weight='balanced', solver='liblinear', C=0.08)\n",
    "logReg3.fit(X_train_tfidf,y_train)\n",
    "print(\"ordinary logistic regression with penalty and balanced class weights\\n\")\n",
    "print(\"***Training Data Performance*** \\n\")\n",
    "evaluate(logReg3, X_train_tfidf,y_train)\n",
    "print(\"\\n***Validation Data Performance*** \\n\")\n",
    "evaluate(logReg3, X_val_tfidf,y_val)"
   ]
  },
  {
   "cell_type": "code",
   "execution_count": 20,
   "id": "7ccaecb5",
   "metadata": {
    "execution": {
     "iopub.execute_input": "2022-03-29T06:21:13.620763Z",
     "iopub.status.busy": "2022-03-29T06:21:13.620122Z",
     "iopub.status.idle": "2022-03-29T06:21:13.716400Z",
     "shell.execute_reply": "2022-03-29T06:21:13.717148Z",
     "shell.execute_reply.started": "2022-03-28T06:13:45.092752Z"
    },
    "papermill": {
     "duration": 0.174868,
     "end_time": "2022-03-29T06:21:13.717386",
     "exception": false,
     "start_time": "2022-03-29T06:21:13.542518",
     "status": "completed"
    },
    "tags": []
   },
   "outputs": [
    {
     "name": "stdout",
     "output_type": "stream",
     "text": [
      "ordinary logistic regression with penalty and balanced class weights\n",
      "\n",
      "***Training Data Performance*** \n",
      "\n",
      "F1 Score: 0.6584910690482537\n",
      "True positives: 1235, True Negatives: 16609, False Positives: 1174, False Negatives: 107 \n",
      "Recall =  0.9202682563338301\n",
      "\n",
      "***Validation Data Performance*** \n",
      "\n",
      "F1 Score: 0.5544388609715243\n",
      "True positives: 331, True Negatives: 5522, False Positives: 414, False Negatives: 118 \n",
      "Recall =  0.7371937639198218\n"
     ]
    }
   ],
   "source": [
    "logReg4 = LogisticRegression(penalty='l1', class_weight='balanced', solver='liblinear', C=0.5)\n",
    "logReg4.fit(X_train_tfidf,y_train)\n",
    "print(\"ordinary logistic regression with penalty and balanced class weights\\n\")\n",
    "print(\"***Training Data Performance*** \\n\")\n",
    "evaluate(logReg4, X_train_tfidf,y_train)\n",
    "print(\"\\n***Validation Data Performance*** \\n\")\n",
    "evaluate(logReg4, X_val_tfidf,y_val)"
   ]
  },
  {
   "cell_type": "code",
   "execution_count": 21,
   "id": "2fd4d8f9",
   "metadata": {
    "execution": {
     "iopub.execute_input": "2022-03-29T06:21:13.869158Z",
     "iopub.status.busy": "2022-03-29T06:21:13.868482Z",
     "iopub.status.idle": "2022-03-29T06:21:19.660157Z",
     "shell.execute_reply": "2022-03-29T06:21:19.660735Z",
     "shell.execute_reply.started": "2022-03-28T07:10:16.516763Z"
    },
    "papermill": {
     "duration": 5.870824,
     "end_time": "2022-03-29T06:21:19.660936",
     "exception": false,
     "start_time": "2022-03-29T06:21:13.790112",
     "status": "completed"
    },
    "tags": []
   },
   "outputs": [],
   "source": [
    "import tensorflow as tf\n",
    "import keras\n",
    "from keras.preprocessing.text import Tokenizer\n",
    "from keras.preprocessing.sequence import pad_sequences\n",
    "from keras.models import Sequential, load_model, Model\n",
    "from keras.layers import Dense, Conv1D, Embedding, LSTM, Dropout, GlobalMaxPooling1D, Flatten, Input\n",
    "from tensorflow.keras.optimizers import Adam\n",
    "from tensorflow.keras.metrics import Recall\n",
    "from keras.callbacks import LearningRateScheduler, EarlyStopping, ModelCheckpoint\n",
    "from livelossplot import PlotLossesKeras"
   ]
  },
  {
   "cell_type": "code",
   "execution_count": 22,
   "id": "6513bafb",
   "metadata": {
    "execution": {
     "iopub.execute_input": "2022-03-29T06:21:19.811915Z",
     "iopub.status.busy": "2022-03-29T06:21:19.809955Z",
     "iopub.status.idle": "2022-03-29T06:21:19.829859Z",
     "shell.execute_reply": "2022-03-29T06:21:19.829315Z"
    },
    "papermill": {
     "duration": 0.095705,
     "end_time": "2022-03-29T06:21:19.830028",
     "exception": false,
     "start_time": "2022-03-29T06:21:19.734323",
     "status": "completed"
    },
    "tags": []
   },
   "outputs": [],
   "source": [
    "keras.backend.clear_session()\n",
    "tf.random.set_seed(42)\n",
    "np.random.seed(42)"
   ]
  },
  {
   "cell_type": "code",
   "execution_count": 23,
   "id": "1ccf8056",
   "metadata": {
    "execution": {
     "iopub.execute_input": "2022-03-29T06:21:20.005339Z",
     "iopub.status.busy": "2022-03-29T06:21:20.004657Z",
     "iopub.status.idle": "2022-03-29T06:21:20.976047Z",
     "shell.execute_reply": "2022-03-29T06:21:20.976569Z",
     "shell.execute_reply.started": "2022-03-28T06:13:45.213258Z"
    },
    "papermill": {
     "duration": 1.073434,
     "end_time": "2022-03-29T06:21:20.976796",
     "exception": false,
     "start_time": "2022-03-29T06:21:19.903362",
     "status": "completed"
    },
    "tags": []
   },
   "outputs": [],
   "source": [
    "max_length = 50\n",
    "padding_type = 'post'\n",
    "trunc_type = 'post'\n",
    "\n",
    "tokenizer = Tokenizer(oov_token='<OOV>')\n",
    "tokenizer.fit_on_texts(X_train['tokenized'])\n",
    "training_sequences = tokenizer.texts_to_sequences(X_train['tokenized'])\n",
    "validation_sequences = tokenizer.texts_to_sequences(X_val['tokenized'])\n",
    "testing_sequences = tokenizer.texts_to_sequences(X_test['tokenized'])\n",
    "padded_train = pad_sequences(training_sequences,maxlen=max_length, padding=padding_type, \n",
    "                       truncating=trunc_type)\n",
    "\n",
    "padded_val = pad_sequences(validation_sequences,maxlen=max_length, padding=padding_type, \n",
    "                       truncating=trunc_type)\n",
    "padded_test = pad_sequences(testing_sequences,maxlen=max_length, padding=padding_type, \n",
    "                       truncating=trunc_type)\n",
    "word_indices = tokenizer.word_index\n",
    "vocab_size = len(word_indices.items())"
   ]
  },
  {
   "cell_type": "code",
   "execution_count": 24,
   "id": "86d746f4",
   "metadata": {
    "execution": {
     "iopub.execute_input": "2022-03-29T06:21:21.125958Z",
     "iopub.status.busy": "2022-03-29T06:21:21.125311Z",
     "iopub.status.idle": "2022-03-29T06:21:21.129726Z",
     "shell.execute_reply": "2022-03-29T06:21:21.130213Z",
     "shell.execute_reply.started": "2022-03-28T06:13:46.056558Z"
    },
    "papermill": {
     "duration": 0.080847,
     "end_time": "2022-03-29T06:21:21.130379",
     "exception": false,
     "start_time": "2022-03-29T06:21:21.049532",
     "status": "completed"
    },
    "tags": []
   },
   "outputs": [],
   "source": [
    "padded_train = np.expand_dims(padded_train, -1)\n",
    "padded_val = np.expand_dims(padded_val,-1)\n",
    "padded_test = np.expand_dims(padded_test,-1)\n",
    "train_labels = y_train.values\n",
    "val_labels = y_val.values\n",
    "test_labels = y_test.values"
   ]
  },
  {
   "cell_type": "code",
   "execution_count": null,
   "id": "cc825494",
   "metadata": {
    "papermill": {
     "duration": 0.072226,
     "end_time": "2022-03-29T06:21:21.274423",
     "exception": false,
     "start_time": "2022-03-29T06:21:21.202197",
     "status": "completed"
    },
    "tags": []
   },
   "outputs": [],
   "source": []
  },
  {
   "cell_type": "code",
   "execution_count": 25,
   "id": "c237e807",
   "metadata": {
    "execution": {
     "iopub.execute_input": "2022-03-29T06:21:21.424244Z",
     "iopub.status.busy": "2022-03-29T06:21:21.423610Z",
     "iopub.status.idle": "2022-03-29T06:21:21.430596Z",
     "shell.execute_reply": "2022-03-29T06:21:21.431138Z",
     "shell.execute_reply.started": "2022-03-28T06:46:54.51397Z"
    },
    "papermill": {
     "duration": 0.084503,
     "end_time": "2022-03-29T06:21:21.431440",
     "exception": false,
     "start_time": "2022-03-29T06:21:21.346937",
     "status": "completed"
    },
    "tags": []
   },
   "outputs": [],
   "source": [
    "from sklearn.utils import class_weight\n",
    "class_weights = class_weight.compute_class_weight(class_weight='balanced',\n",
    "                                                  classes =np.unique(train_labels),y = train_labels)\n",
    "class_weight_dict = dict(enumerate(class_weights))"
   ]
  },
  {
   "cell_type": "code",
   "execution_count": 26,
   "id": "c1c31950",
   "metadata": {
    "execution": {
     "iopub.execute_input": "2022-03-29T06:21:21.582108Z",
     "iopub.status.busy": "2022-03-29T06:21:21.581141Z",
     "iopub.status.idle": "2022-03-29T06:21:21.583418Z",
     "shell.execute_reply": "2022-03-29T06:21:21.584023Z",
     "shell.execute_reply.started": "2022-03-28T06:13:46.072385Z"
    },
    "papermill": {
     "duration": 0.080038,
     "end_time": "2022-03-29T06:21:21.584193",
     "exception": false,
     "start_time": "2022-03-29T06:21:21.504155",
     "status": "completed"
    },
    "tags": []
   },
   "outputs": [],
   "source": [
    "def evaluate_model(model,testX,testY):\n",
    "    ypred = np.round(model.predict(testX))\n",
    "    return recall_score(testY,ypred)"
   ]
  },
  {
   "cell_type": "code",
   "execution_count": 27,
   "id": "e1f0ab4c",
   "metadata": {
    "execution": {
     "iopub.execute_input": "2022-03-29T06:21:21.732762Z",
     "iopub.status.busy": "2022-03-29T06:21:21.731815Z",
     "iopub.status.idle": "2022-03-29T06:21:59.814230Z",
     "shell.execute_reply": "2022-03-29T06:21:59.815029Z",
     "shell.execute_reply.started": "2022-03-28T06:47:02.134001Z"
    },
    "papermill": {
     "duration": 38.158864,
     "end_time": "2022-03-29T06:21:59.815260",
     "exception": false,
     "start_time": "2022-03-29T06:21:21.656396",
     "status": "completed"
    },
    "tags": []
   },
   "outputs": [
    {
     "data": {
      "image/png": "[encoded data removed]",
      "text/plain": [
       "<Figure size 864x576 with 2 Axes>"
      ]
     },
     "metadata": {
      "needs_background": "light"
     },
     "output_type": "display_data"
    },
    {
     "name": "stdout",
     "output_type": "stream",
     "text": [
      "Loss\n",
      "\ttraining         \t (min:    0.003, max:    0.521, cur:    0.003)\n",
      "\tvalidation       \t (min:    0.202, max:    0.373, cur:    0.341)\n",
      "recall\n",
      "\ttraining         \t (min:    0.738, max:    1.000, cur:    0.999)\n",
      "\tvalidation       \t (min:    0.619, max:    0.811, cur:    0.630)\n"
     ]
    }
   ],
   "source": [
    "model1 = Sequential()\n",
    "model1.add(Embedding(input_dim = vocab_size+1, input_length=max_length,output_dim=8))\n",
    "model1.add(Flatten())\n",
    "model1.add(Dense(10, activation = 'relu'))\n",
    "model1.add(Dense(1,activation='sigmoid'))\n",
    "model1.compile(loss='binary_crossentropy',optimizer=Adam(learning_rate=1e-3),metrics=Recall(name='recall'))\n",
    "print(model1.summary())\n",
    "model_checkpoint1 = ModelCheckpoint(\"basic_checkpoint.h5\", save_best_only=True, \n",
    "                                    monitor='val_recall', mode='max')\n",
    "num_epochs = 15\n",
    "history = model1.fit(padded_train, train_labels,epochs=num_epochs,validation_data=(padded_val, val_labels),\n",
    "                        callbacks=[PlotLossesKeras(),model_checkpoint1], class_weight=class_weight_dict)"
   ]
  },
  {
   "cell_type": "code",
   "execution_count": 28,
   "id": "1b339cc7",
   "metadata": {
    "execution": {
     "iopub.execute_input": "2022-03-29T06:21:59.969820Z",
     "iopub.status.busy": "2022-03-29T06:21:59.969177Z",
     "iopub.status.idle": "2022-03-29T06:22:00.034187Z",
     "shell.execute_reply": "2022-03-29T06:22:00.033562Z",
     "shell.execute_reply.started": "2022-03-28T06:48:24.633996Z"
    },
    "papermill": {
     "duration": 0.14346,
     "end_time": "2022-03-29T06:22:00.034352",
     "exception": false,
     "start_time": "2022-03-29T06:21:59.890892",
     "status": "completed"
    },
    "tags": []
   },
   "outputs": [],
   "source": [
    "\n",
    "model11 = load_model('./basic_checkpoint.h5')"
   ]
  },
  {
   "cell_type": "code",
   "execution_count": 29,
   "id": "8539f5d7",
   "metadata": {
    "execution": {
     "iopub.execute_input": "2022-03-29T06:22:00.187682Z",
     "iopub.status.busy": "2022-03-29T06:22:00.187045Z",
     "iopub.status.idle": "2022-03-29T06:22:00.486107Z",
     "shell.execute_reply": "2022-03-29T06:22:00.486745Z",
     "shell.execute_reply.started": "2022-03-28T06:48:48.294549Z"
    },
    "papermill": {
     "duration": 0.377642,
     "end_time": "2022-03-29T06:22:00.486938",
     "exception": false,
     "start_time": "2022-03-29T06:22:00.109296",
     "status": "completed"
    },
    "tags": []
   },
   "outputs": [
    {
     "data": {
      "text/plain": [
       "0.8191964285714286"
      ]
     },
     "execution_count": 29,
     "metadata": {},
     "output_type": "execute_result"
    }
   ],
   "source": [
    "evaluate_model(model11,padded_test, test_labels)"
   ]
  },
  {
   "cell_type": "markdown",
   "id": "2d8affd9",
   "metadata": {
    "papermill": {
     "duration": 0.074006,
     "end_time": "2022-03-29T06:22:00.635492",
     "exception": false,
     "start_time": "2022-03-29T06:22:00.561486",
     "status": "completed"
    },
    "tags": []
   },
   "source": [
    "That's a great improvement from baseline model. "
   ]
  },
  {
   "cell_type": "markdown",
   "id": "d51f6787",
   "metadata": {
    "papermill": {
     "duration": 0.075551,
     "end_time": "2022-03-29T06:22:00.785235",
     "exception": false,
     "start_time": "2022-03-29T06:22:00.709684",
     "status": "completed"
    },
    "tags": []
   },
   "source": [
    "# Using Glove-Twitter Embeddings"
   ]
  },
  {
   "cell_type": "code",
   "execution_count": 30,
   "id": "404fa71a",
   "metadata": {
    "execution": {
     "iopub.execute_input": "2022-03-29T06:22:00.944087Z",
     "iopub.status.busy": "2022-03-29T06:22:00.943011Z",
     "iopub.status.idle": "2022-03-29T06:22:00.944897Z",
     "shell.execute_reply": "2022-03-29T06:22:00.945409Z",
     "shell.execute_reply.started": "2022-03-28T07:00:48.303255Z"
    },
    "papermill": {
     "duration": 0.085662,
     "end_time": "2022-03-29T06:22:00.945573",
     "exception": false,
     "start_time": "2022-03-29T06:22:00.859911",
     "status": "completed"
    },
    "tags": []
   },
   "outputs": [],
   "source": [
    "def get_glove_embedding_matrix(path_to_file, word_indices):\n",
    "    \n",
    "    word_to_vec_map = {}\n",
    "    with open(path_to_file,'r') as f:\n",
    "        for line in f:\n",
    "            word_line = line.split()\n",
    "            curr_word = word_line[0]\n",
    "            vector = np.array(word_line[1:], dtype=np.float64)\n",
    "            word_to_vec_map[curr_word] = vector\n",
    "            \n",
    "    embed_dim = len(vector)\n",
    "    embed_matrix = np.zeros((len(word_indices)+1, embed_dim))\n",
    "    \n",
    "    for token,index in word_indices.items():\n",
    "        if token in word_to_vec_map:\n",
    "            embed_matrix[index,:] = word_to_vec_map[token]\n",
    "   \n",
    "    return embed_matrix"
   ]
  },
  {
   "cell_type": "code",
   "execution_count": 31,
   "id": "8e956a22",
   "metadata": {
    "execution": {
     "iopub.execute_input": "2022-03-29T06:22:01.098555Z",
     "iopub.status.busy": "2022-03-29T06:22:01.097909Z",
     "iopub.status.idle": "2022-03-29T06:22:01.103928Z",
     "shell.execute_reply": "2022-03-29T06:22:01.103299Z",
     "shell.execute_reply.started": "2022-03-28T07:00:39.926942Z"
    },
    "papermill": {
     "duration": 0.083418,
     "end_time": "2022-03-29T06:22:01.104067",
     "exception": false,
     "start_time": "2022-03-29T06:22:01.020649",
     "status": "completed"
    },
    "tags": []
   },
   "outputs": [
    {
     "data": {
      "text/plain": [
       "12638"
      ]
     },
     "execution_count": 31,
     "metadata": {},
     "output_type": "execute_result"
    }
   ],
   "source": [
    "len(word_indices)"
   ]
  },
  {
   "cell_type": "code",
   "execution_count": 32,
   "id": "d2fc1ab7",
   "metadata": {
    "execution": {
     "iopub.execute_input": "2022-03-29T06:22:01.258679Z",
     "iopub.status.busy": "2022-03-29T06:22:01.258038Z",
     "iopub.status.idle": "2022-03-29T06:24:37.011183Z",
     "shell.execute_reply": "2022-03-29T06:24:37.010563Z",
     "shell.execute_reply.started": "2022-03-28T07:00:53.136855Z"
    },
    "papermill": {
     "duration": 155.83127,
     "end_time": "2022-03-29T06:24:37.011333",
     "exception": false,
     "start_time": "2022-03-29T06:22:01.180063",
     "status": "completed"
    },
    "tags": []
   },
   "outputs": [],
   "source": [
    "embedding_matrix_25d = get_glove_embedding_matrix('../input/glove-twitter/glove.twitter.27B.25d.txt',word_indices)\n",
    "embedding_matrix_50d = get_glove_embedding_matrix('../input/glove-twitter/glove.twitter.27B.50d.txt',word_indices)\n",
    "embedding_matrix_100d = get_glove_embedding_matrix('../input/glove-twitter/glove.twitter.27B.100d.txt',word_indices)\n",
    "embedding_matrix_200d = get_glove_embedding_matrix('../input/glove-twitter/glove.twitter.27B.200d.txt',word_indices)"
   ]
  },
  {
   "cell_type": "code",
   "execution_count": 33,
   "id": "b4b512b6",
   "metadata": {
    "execution": {
     "iopub.execute_input": "2022-03-29T06:24:37.168243Z",
     "iopub.status.busy": "2022-03-29T06:24:37.167597Z",
     "iopub.status.idle": "2022-03-29T06:24:37.170222Z",
     "shell.execute_reply": "2022-03-29T06:24:37.169725Z",
     "shell.execute_reply.started": "2022-03-28T07:29:15.878247Z"
    },
    "papermill": {
     "duration": 0.0843,
     "end_time": "2022-03-29T06:24:37.170359",
     "exception": false,
     "start_time": "2022-03-29T06:24:37.086059",
     "status": "completed"
    },
    "tags": []
   },
   "outputs": [],
   "source": [
    "def get_basic_glove_model(vocab_size, embed_len, embedding_matrix, max_len):\n",
    "    input_layer = Input(max_len)\n",
    "    embedding_layer = Embedding(input_dim=vocab_size,output_dim=embed_len,\n",
    "                                weights = [embedding_matrix], trainable=False)(input_layer)\n",
    "    flatten = Flatten()(embedding_layer)\n",
    "    dense1 = Dense(10*0.4*embed_len, activation='relu')(flatten)\n",
    "    output = Dense(1, activation='sigmoid')(dense1)\n",
    "    model = Model(input_layer,output)\n",
    "    model.compile(loss='binary_crossentropy',optimizer=Adam(learning_rate=1e-3),metrics=Recall(name='recall'))\n",
    "    return model"
   ]
  },
  {
   "cell_type": "code",
   "execution_count": 34,
   "id": "577e3554",
   "metadata": {
    "execution": {
     "iopub.execute_input": "2022-03-29T06:24:37.327045Z",
     "iopub.status.busy": "2022-03-29T06:24:37.326416Z",
     "iopub.status.idle": "2022-03-29T06:24:37.329463Z",
     "shell.execute_reply": "2022-03-29T06:24:37.328952Z",
     "shell.execute_reply.started": "2022-03-28T07:32:25.67313Z"
    },
    "papermill": {
     "duration": 0.083386,
     "end_time": "2022-03-29T06:24:37.329590",
     "exception": false,
     "start_time": "2022-03-29T06:24:37.246204",
     "status": "completed"
    },
    "tags": []
   },
   "outputs": [],
   "source": [
    "def fit_basic_glove_model(model,embed_len,trainX,trainY,valX,valY,num_epochs, class_weights):\n",
    "    \n",
    "    model_checkpoint = ModelCheckpoint(f\"basic_checkpoint_{embed_len}.h5\", \n",
    "                                       save_best_only=True, monitor='val_recall',mode='max')\n",
    "    history = model.fit(trainX, trainY ,epochs=num_epochs,validation_data=(valX, valY),\n",
    "                    callbacks=[PlotLossesKeras(),model_checkpoint], class_weight=class_weights)\n",
    "    return model"
   ]
  },
  {
   "cell_type": "code",
   "execution_count": 35,
   "id": "2101fb8a",
   "metadata": {
    "execution": {
     "iopub.execute_input": "2022-03-29T06:24:37.489340Z",
     "iopub.status.busy": "2022-03-29T06:24:37.488499Z",
     "iopub.status.idle": "2022-03-29T06:24:59.208102Z",
     "shell.execute_reply": "2022-03-29T06:24:59.207204Z",
     "shell.execute_reply.started": "2022-03-28T07:32:39.672094Z"
    },
    "papermill": {
     "duration": 21.803026,
     "end_time": "2022-03-29T06:24:59.208290",
     "exception": false,
     "start_time": "2022-03-29T06:24:37.405264",
     "status": "completed"
    },
    "tags": []
   },
   "outputs": [
    {
     "data": {
      "image/png": "[encoded data removed]",
      "text/plain": [
       "<Figure size 864x576 with 2 Axes>"
      ]
     },
     "metadata": {
      "needs_background": "light"
     },
     "output_type": "display_data"
    },
    {
     "name": "stdout",
     "output_type": "stream",
     "text": [
      "Loss\n",
      "\ttraining         \t (min:    0.071, max:    0.456, cur:    0.071)\n",
      "\tvalidation       \t (min:    0.248, max:    0.449, cur:    0.270)\n",
      "recall\n",
      "\ttraining         \t (min:    0.796, max:    0.993, cur:    0.993)\n",
      "\tvalidation       \t (min:    0.633, max:    0.826, cur:    0.633)\n"
     ]
    }
   ],
   "source": [
    "model_1_25d = fit_basic_glove_model(get_basic_glove_model(len(word_indices)+1,25,\n",
    "                                                          embedding_matrix_25d,max_length),\n",
    "                      25,padded_train,train_labels,padded_val,val_labels,10,class_weight_dict)"
   ]
  },
  {
   "cell_type": "code",
   "execution_count": 36,
   "id": "5e991d0d",
   "metadata": {
    "execution": {
     "iopub.execute_input": "2022-03-29T06:24:59.370117Z",
     "iopub.status.busy": "2022-03-29T06:24:59.369456Z",
     "iopub.status.idle": "2022-03-29T06:24:59.712347Z",
     "shell.execute_reply": "2022-03-29T06:24:59.712806Z",
     "shell.execute_reply.started": "2022-03-28T07:33:25.392084Z"
    },
    "papermill": {
     "duration": 0.425297,
     "end_time": "2022-03-29T06:24:59.713029",
     "exception": false,
     "start_time": "2022-03-29T06:24:59.287732",
     "status": "completed"
    },
    "tags": []
   },
   "outputs": [
    {
     "data": {
      "text/plain": [
       "0.8080357142857143"
      ]
     },
     "execution_count": 36,
     "metadata": {},
     "output_type": "execute_result"
    }
   ],
   "source": [
    "model12 = load_model('basic_checkpoint_25.h5')\n",
    "evaluate_model(model12,padded_test, test_labels)"
   ]
  },
  {
   "cell_type": "code",
   "execution_count": 37,
   "id": "a056be23",
   "metadata": {
    "execution": {
     "iopub.execute_input": "2022-03-29T06:24:59.875373Z",
     "iopub.status.busy": "2022-03-29T06:24:59.873795Z",
     "iopub.status.idle": "2022-03-29T06:25:41.820817Z",
     "shell.execute_reply": "2022-03-29T06:25:41.821434Z",
     "shell.execute_reply.started": "2022-03-28T07:35:52.272374Z"
    },
    "papermill": {
     "duration": 42.031499,
     "end_time": "2022-03-29T06:25:41.821630",
     "exception": false,
     "start_time": "2022-03-29T06:24:59.790131",
     "status": "completed"
    },
    "tags": []
   },
   "outputs": [
    {
     "data": {
      "image/png": "[encoded data removed]",
      "text/plain": [
       "<Figure size 864x576 with 2 Axes>"
      ]
     },
     "metadata": {
      "needs_background": "light"
     },
     "output_type": "display_data"
    },
    {
     "name": "stdout",
     "output_type": "stream",
     "text": [
      "Loss\n",
      "\ttraining         \t (min:    0.005, max:    0.433, cur:    0.085)\n",
      "\tvalidation       \t (min:    0.245, max:    0.429, cur:    0.295)\n",
      "recall\n",
      "\ttraining         \t (min:    0.804, max:    1.000, cur:    0.974)\n",
      "\tvalidation       \t (min:    0.521, max:    0.833, cur:    0.584)\n"
     ]
    }
   ],
   "source": [
    "model_1_50d = fit_basic_glove_model(get_basic_glove_model(len(word_indices)+1,50,\n",
    "                                                          embedding_matrix_50d,max_length),\n",
    "                      50,padded_train,train_labels,padded_val,val_labels,15,class_weight_dict)"
   ]
  },
  {
   "cell_type": "code",
   "execution_count": 38,
   "id": "addb683c",
   "metadata": {
    "execution": {
     "iopub.execute_input": "2022-03-29T06:25:41.986850Z",
     "iopub.status.busy": "2022-03-29T06:25:41.986183Z",
     "iopub.status.idle": "2022-03-29T06:25:42.414268Z",
     "shell.execute_reply": "2022-03-29T06:25:42.414768Z",
     "shell.execute_reply.started": "2022-03-28T07:37:05.27393Z"
    },
    "papermill": {
     "duration": 0.513547,
     "end_time": "2022-03-29T06:25:42.414988",
     "exception": false,
     "start_time": "2022-03-29T06:25:41.901441",
     "status": "completed"
    },
    "tags": []
   },
   "outputs": [
    {
     "data": {
      "text/plain": [
       "0.8191964285714286"
      ]
     },
     "execution_count": 38,
     "metadata": {},
     "output_type": "execute_result"
    }
   ],
   "source": [
    "model13 = load_model('basic_checkpoint_50.h5')\n",
    "evaluate_model(model13,padded_test, test_labels)"
   ]
  },
  {
   "cell_type": "code",
   "execution_count": 39,
   "id": "e5430fc3",
   "metadata": {
    "execution": {
     "iopub.execute_input": "2022-03-29T06:25:42.585109Z",
     "iopub.status.busy": "2022-03-29T06:25:42.582811Z",
     "iopub.status.idle": "2022-03-29T06:27:06.560680Z",
     "shell.execute_reply": "2022-03-29T06:27:06.560180Z",
     "shell.execute_reply.started": "2022-03-28T07:38:08.092771Z"
    },
    "papermill": {
     "duration": 84.064542,
     "end_time": "2022-03-29T06:27:06.560821",
     "exception": false,
     "start_time": "2022-03-29T06:25:42.496279",
     "status": "completed"
    },
    "tags": []
   },
   "outputs": [
    {
     "data": {
      "image/png": "[encoded data removed]",
      "text/plain": [
       "<Figure size 864x576 with 2 Axes>"
      ]
     },
     "metadata": {
      "needs_background": "light"
     },
     "output_type": "display_data"
    },
    {
     "name": "stdout",
     "output_type": "stream",
     "text": [
      "Loss\n",
      "\ttraining         \t (min:    0.003, max:    0.411, cur:    0.057)\n",
      "\tvalidation       \t (min:    0.226, max:    0.393, cur:    0.314)\n",
      "recall\n",
      "\ttraining         \t (min:    0.832, max:    1.000, cur:    0.984)\n",
      "\tvalidation       \t (min:    0.517, max:    0.846, cur:    0.617)\n"
     ]
    }
   ],
   "source": [
    "model_1_100d = fit_basic_glove_model(get_basic_glove_model(len(word_indices)+1,100,\n",
    "                                                          embedding_matrix_100d,max_length),\n",
    "                      100,padded_train,train_labels,padded_val,val_labels,15,class_weight_dict)"
   ]
  },
  {
   "cell_type": "code",
   "execution_count": 40,
   "id": "3d097be9",
   "metadata": {
    "execution": {
     "iopub.execute_input": "2022-03-29T06:27:06.738223Z",
     "iopub.status.busy": "2022-03-29T06:27:06.737179Z",
     "iopub.status.idle": "2022-03-29T06:27:07.352337Z",
     "shell.execute_reply": "2022-03-29T06:27:07.352836Z",
     "shell.execute_reply.started": "2022-03-28T07:39:19.472985Z"
    },
    "papermill": {
     "duration": 0.710018,
     "end_time": "2022-03-29T06:27:07.353030",
     "exception": false,
     "start_time": "2022-03-29T06:27:06.643012",
     "status": "completed"
    },
    "tags": []
   },
   "outputs": [
    {
     "data": {
      "text/plain": [
       "0.8705357142857143"
      ]
     },
     "execution_count": 40,
     "metadata": {},
     "output_type": "execute_result"
    }
   ],
   "source": [
    "model14 = load_model('basic_checkpoint_100.h5')\n",
    "evaluate_model(model14,padded_test, test_labels)"
   ]
  },
  {
   "cell_type": "code",
   "execution_count": 41,
   "id": "74fe102b",
   "metadata": {
    "execution": {
     "iopub.execute_input": "2022-03-29T06:27:07.521915Z",
     "iopub.status.busy": "2022-03-29T06:27:07.521222Z",
     "iopub.status.idle": "2022-03-29T06:31:06.888582Z",
     "shell.execute_reply": "2022-03-29T06:31:06.889138Z",
     "shell.execute_reply.started": "2022-03-28T07:45:16.392393Z"
    },
    "papermill": {
     "duration": 239.45354,
     "end_time": "2022-03-29T06:31:06.889522",
     "exception": false,
     "start_time": "2022-03-29T06:27:07.435982",
     "status": "completed"
    },
    "tags": []
   },
   "outputs": [
    {
     "data": {
      "image/png": "[encoded data removed]",
      "text/plain": [
       "<Figure size 864x576 with 2 Axes>"
      ]
     },
     "metadata": {
      "needs_background": "light"
     },
     "output_type": "display_data"
    },
    {
     "name": "stdout",
     "output_type": "stream",
     "text": [
      "Loss\n",
      "\ttraining         \t (min:    0.003, max:    0.408, cur:    0.004)\n",
      "\tvalidation       \t (min:    0.244, max:    0.448, cur:    0.329)\n",
      "recall\n",
      "\ttraining         \t (min:    0.833, max:    1.000, cur:    0.999)\n",
      "\tvalidation       \t (min:    0.548, max:    0.851, cur:    0.581)\n"
     ]
    }
   ],
   "source": [
    "model_1_200d = fit_basic_glove_model(get_basic_glove_model(len(word_indices)+1,200,\n",
    "                                                          embedding_matrix_200d,max_length),\n",
    "                      200,padded_train,train_labels,padded_val,val_labels,15,class_weight_dict)"
   ]
  },
  {
   "cell_type": "code",
   "execution_count": 42,
   "id": "50db65da",
   "metadata": {
    "execution": {
     "iopub.execute_input": "2022-03-29T06:31:07.065443Z",
     "iopub.status.busy": "2022-03-29T06:31:07.064435Z",
     "iopub.status.idle": "2022-03-29T06:31:08.663824Z",
     "shell.execute_reply": "2022-03-29T06:31:08.664572Z",
     "shell.execute_reply.started": "2022-03-28T07:46:13.357811Z"
    },
    "papermill": {
     "duration": 1.689124,
     "end_time": "2022-03-29T06:31:08.664748",
     "exception": false,
     "start_time": "2022-03-29T06:31:06.975624",
     "status": "completed"
    },
    "tags": []
   },
   "outputs": [
    {
     "data": {
      "text/plain": [
       "0.8392857142857143"
      ]
     },
     "execution_count": 42,
     "metadata": {},
     "output_type": "execute_result"
    }
   ],
   "source": [
    "model15 = load_model('basic_checkpoint_200.h5')\n",
    "evaluate_model(model15,padded_test, test_labels)"
   ]
  },
  {
   "cell_type": "markdown",
   "id": "49e9b382",
   "metadata": {
    "papermill": {
     "duration": 0.086455,
     "end_time": "2022-03-29T06:31:08.836947",
     "exception": false,
     "start_time": "2022-03-29T06:31:08.750492",
     "status": "completed"
    },
    "tags": []
   },
   "source": [
    "# Using Convolutional Neural Networks"
   ]
  },
  {
   "cell_type": "markdown",
   "id": "0d341f17",
   "metadata": {
    "papermill": {
     "duration": 0.086462,
     "end_time": "2022-03-29T06:31:09.012382",
     "exception": false,
     "start_time": "2022-03-29T06:31:08.925920",
     "status": "completed"
    },
    "tags": []
   },
   "source": []
  },
  {
   "cell_type": "code",
   "execution_count": 43,
   "id": "a6ec3fe9",
   "metadata": {
    "execution": {
     "iopub.execute_input": "2022-03-29T06:31:09.189695Z",
     "iopub.status.busy": "2022-03-29T06:31:09.188653Z",
     "iopub.status.idle": "2022-03-29T06:31:09.260768Z",
     "shell.execute_reply": "2022-03-29T06:31:09.261436Z",
     "shell.execute_reply.started": "2022-03-28T08:05:36.372382Z"
    },
    "papermill": {
     "duration": 0.161463,
     "end_time": "2022-03-29T06:31:09.261671",
     "exception": false,
     "start_time": "2022-03-29T06:31:09.100208",
     "status": "completed"
    },
    "tags": []
   },
   "outputs": [
    {
     "name": "stdout",
     "output_type": "stream",
     "text": [
      "Model: \"sequential_1\"\n",
      "_________________________________________________________________\n",
      "Layer (type)                 Output Shape              Param #   \n",
      "=================================================================\n",
      "embedding_5 (Embedding)      (None, 50, 8)             101112    \n",
      "_________________________________________________________________\n",
      "conv1d (Conv1D)              (None, 46, 16)            656       \n",
      "_________________________________________________________________\n",
      "global_max_pooling1d (Global (None, 16)                0         \n",
      "_________________________________________________________________\n",
      "dense_10 (Dense)             (None, 10)                170       \n",
      "_________________________________________________________________\n",
      "dense_11 (Dense)             (None, 1)                 11        \n",
      "=================================================================\n",
      "Total params: 101,949\n",
      "Trainable params: 101,949\n",
      "Non-trainable params: 0\n",
      "_________________________________________________________________\n"
     ]
    }
   ],
   "source": [
    "model2 = tf.keras.Sequential([\n",
    "    tf.keras.layers.Embedding(input_dim = vocab_size+1, output_dim=8, input_length=max_length),\n",
    "    tf.keras.layers.Conv1D(16, 5, activation='relu'),\n",
    "    tf.keras.layers.GlobalMaxPooling1D(),\n",
    "    tf.keras.layers.Dense(10,activation='relu', kernel_regularizer='l1'),\n",
    "    tf.keras.layers.Dense(1, activation='sigmoid')\n",
    "])\n",
    "model2.compile(loss='binary_crossentropy',optimizer=Adam(learning_rate=1e-3),metrics=Recall(name='recall'))\n",
    "model2.summary()"
   ]
  },
  {
   "cell_type": "code",
   "execution_count": 44,
   "id": "6edce7d3",
   "metadata": {
    "execution": {
     "iopub.execute_input": "2022-03-29T06:31:09.439562Z",
     "iopub.status.busy": "2022-03-29T06:31:09.438496Z",
     "iopub.status.idle": "2022-03-29T06:32:08.646164Z",
     "shell.execute_reply": "2022-03-29T06:32:08.646660Z",
     "shell.execute_reply.started": "2022-03-28T08:05:41.112139Z"
    },
    "papermill": {
     "duration": 59.297624,
     "end_time": "2022-03-29T06:32:08.646845",
     "exception": false,
     "start_time": "2022-03-29T06:31:09.349221",
     "status": "completed"
    },
    "tags": []
   },
   "outputs": [
    {
     "data": {
      "image/png": "[encoded data removed]",
      "text/plain": [
       "<Figure size 864x576 with 2 Axes>"
      ]
     },
     "metadata": {
      "needs_background": "light"
     },
     "output_type": "display_data"
    },
    {
     "name": "stdout",
     "output_type": "stream",
     "text": [
      "Loss\n",
      "\ttraining         \t (min:    0.018, max:    0.701, cur:    0.018)\n",
      "\tvalidation       \t (min:    0.253, max:    0.480, cur:    0.269)\n",
      "recall\n",
      "\ttraining         \t (min:    0.902, max:    0.999, cur:    0.999)\n",
      "\tvalidation       \t (min:    0.621, max:    0.873, cur:    0.621)\n"
     ]
    },
    {
     "data": {
      "text/plain": [
       "<keras.callbacks.History at 0x7ff43eecd910>"
      ]
     },
     "execution_count": 44,
     "metadata": {},
     "output_type": "execute_result"
    }
   ],
   "source": [
    "model_checkpoint2 = ModelCheckpoint(\"cnn_checkpoint.h5\", save_best_only=True, monitor=\"val_recall\", mode='max')\n",
    "num_epochs=20\n",
    "model2.fit(padded_train, train_labels, epochs=num_epochs, \n",
    "           validation_data=(padded_val, val_labels), callbacks=[PlotLossesKeras(), model_checkpoint2], \n",
    "           class_weight=class_weight_dict)"
   ]
  },
  {
   "cell_type": "code",
   "execution_count": 45,
   "id": "4efe29c6",
   "metadata": {
    "execution": {
     "iopub.execute_input": "2022-03-29T06:32:08.831424Z",
     "iopub.status.busy": "2022-03-29T06:32:08.829852Z",
     "iopub.status.idle": "2022-03-29T06:32:09.242693Z",
     "shell.execute_reply": "2022-03-29T06:32:09.243287Z",
     "shell.execute_reply.started": "2022-03-28T08:06:53.531994Z"
    },
    "papermill": {
     "duration": 0.505354,
     "end_time": "2022-03-29T06:32:09.243466",
     "exception": false,
     "start_time": "2022-03-29T06:32:08.738112",
     "status": "completed"
    },
    "tags": []
   },
   "outputs": [
    {
     "data": {
      "text/plain": [
       "0.8861607142857143"
      ]
     },
     "execution_count": 45,
     "metadata": {},
     "output_type": "execute_result"
    }
   ],
   "source": [
    "model21 = load_model('cnn_checkpoint.h5')\n",
    "evaluate_model(model21,padded_test, test_labels)"
   ]
  },
  {
   "cell_type": "code",
   "execution_count": 46,
   "id": "5759fd95",
   "metadata": {
    "execution": {
     "iopub.execute_input": "2022-03-29T06:32:09.423596Z",
     "iopub.status.busy": "2022-03-29T06:32:09.422836Z",
     "iopub.status.idle": "2022-03-29T06:32:09.425947Z",
     "shell.execute_reply": "2022-03-29T06:32:09.426426Z",
     "shell.execute_reply.started": "2022-03-28T08:42:26.262923Z"
    },
    "papermill": {
     "duration": 0.094855,
     "end_time": "2022-03-29T06:32:09.426604",
     "exception": false,
     "start_time": "2022-03-29T06:32:09.331749",
     "status": "completed"
    },
    "tags": []
   },
   "outputs": [],
   "source": [
    "from tensorflow.keras import regularizers"
   ]
  },
  {
   "cell_type": "code",
   "execution_count": 47,
   "id": "6930fc12",
   "metadata": {
    "execution": {
     "iopub.execute_input": "2022-03-29T06:32:09.608895Z",
     "iopub.status.busy": "2022-03-29T06:32:09.608188Z",
     "iopub.status.idle": "2022-03-29T06:32:09.677436Z",
     "shell.execute_reply": "2022-03-29T06:32:09.676797Z",
     "shell.execute_reply.started": "2022-03-28T08:49:43.282502Z"
    },
    "papermill": {
     "duration": 0.161952,
     "end_time": "2022-03-29T06:32:09.677589",
     "exception": false,
     "start_time": "2022-03-29T06:32:09.515637",
     "status": "completed"
    },
    "tags": []
   },
   "outputs": [
    {
     "name": "stdout",
     "output_type": "stream",
     "text": [
      "Model: \"sequential_1\"\n",
      "_________________________________________________________________\n",
      "Layer (type)                 Output Shape              Param #   \n",
      "=================================================================\n",
      "embedding_5 (Embedding)      (None, 50, 8)             101112    \n",
      "_________________________________________________________________\n",
      "conv1d (Conv1D)              (None, 46, 16)            656       \n",
      "_________________________________________________________________\n",
      "global_max_pooling1d (Global (None, 16)                0         \n",
      "_________________________________________________________________\n",
      "dense_10 (Dense)             (None, 10)                170       \n",
      "_________________________________________________________________\n",
      "dense_11 (Dense)             (None, 1)                 11        \n",
      "=================================================================\n",
      "Total params: 101,949\n",
      "Trainable params: 101,949\n",
      "Non-trainable params: 0\n",
      "_________________________________________________________________\n"
     ]
    }
   ],
   "source": [
    "embed_len = 25\n",
    "embedding_matrix = embedding_matrix_25d\n",
    "model2_100d = tf.keras.Sequential([\n",
    "    tf.keras.layers.Embedding(input_dim = vocab_size+1, output_dim=embed_len, input_length=max_length, \n",
    "                              weights=[embedding_matrix], trainable=False),\n",
    "    tf.keras.layers.Conv1D(16, 5, activation='relu',kernel_regularizer=regularizers.l1_l2(l1=1,l2=1)),\n",
    "    tf.keras.layers.GlobalMaxPooling1D(),\n",
    "    tf.keras.layers.Dense(10,activation='relu'),\n",
    "    tf.keras.layers.Dropout(0.2),\n",
    "    tf.keras.layers.Dense(1, activation='sigmoid')\n",
    "])\n",
    "model2.compile(loss='binary_crossentropy',optimizer=Adam(learning_rate=1e-3),metrics=Recall(name='recall'))\n",
    "model2.summary()"
   ]
  },
  {
   "cell_type": "code",
   "execution_count": 48,
   "id": "839d3005",
   "metadata": {
    "execution": {
     "iopub.execute_input": "2022-03-29T06:32:09.859993Z",
     "iopub.status.busy": "2022-03-29T06:32:09.859235Z",
     "iopub.status.idle": "2022-03-29T06:33:07.952807Z",
     "shell.execute_reply": "2022-03-29T06:33:07.952213Z",
     "shell.execute_reply.started": "2022-03-28T08:49:47.102156Z"
    },
    "papermill": {
     "duration": 58.185999,
     "end_time": "2022-03-29T06:33:07.952967",
     "exception": false,
     "start_time": "2022-03-29T06:32:09.766968",
     "status": "completed"
    },
    "tags": []
   },
   "outputs": [
    {
     "data": {
      "image/png": "[encoded data removed]",
      "text/plain": [
       "<Figure size 864x576 with 2 Axes>"
      ]
     },
     "metadata": {
      "needs_background": "light"
     },
     "output_type": "display_data"
    },
    {
     "name": "stdout",
     "output_type": "stream",
     "text": [
      "Loss\n",
      "\ttraining         \t (min:    0.006, max:    0.017, cur:    0.006)\n",
      "\tvalidation       \t (min:    0.279, max:    0.343, cur:    0.343)\n",
      "recall\n",
      "\ttraining         \t (min:    0.999, max:    1.000, cur:    0.999)\n",
      "\tvalidation       \t (min:    0.563, max:    0.644, cur:    0.563)\n"
     ]
    },
    {
     "data": {
      "text/plain": [
       "<keras.callbacks.History at 0x7ff43c7badd0>"
      ]
     },
     "execution_count": 48,
     "metadata": {},
     "output_type": "execute_result"
    }
   ],
   "source": [
    "model_checkpoint22 = ModelCheckpoint(\"cnn_checkpoint_25.h5\", save_best_only=True, monitor=\"val_recall\", \n",
    "                                     mode='max')\n",
    "num_epochs=20\n",
    "model2.fit(padded_train, train_labels, epochs=num_epochs, \n",
    "           validation_data=(padded_val, val_labels), callbacks=[PlotLossesKeras(), model_checkpoint22], \n",
    "           class_weight=class_weight_dict)"
   ]
  },
  {
   "cell_type": "markdown",
   "id": "3a787149",
   "metadata": {
    "papermill": {
     "duration": 0.090434,
     "end_time": "2022-03-29T06:33:08.134427",
     "exception": false,
     "start_time": "2022-03-29T06:33:08.043993",
     "status": "completed"
    },
    "tags": []
   },
   "source": [
    "# Using LSTM "
   ]
  },
  {
   "cell_type": "code",
   "execution_count": 49,
   "id": "bc40eb11",
   "metadata": {
    "execution": {
     "iopub.execute_input": "2022-03-29T06:33:08.320187Z",
     "iopub.status.busy": "2022-03-29T06:33:08.319571Z",
     "iopub.status.idle": "2022-03-29T06:33:09.625712Z",
     "shell.execute_reply": "2022-03-29T06:33:09.626474Z",
     "shell.execute_reply.started": "2022-03-28T09:01:42.652372Z"
    },
    "papermill": {
     "duration": 1.400975,
     "end_time": "2022-03-29T06:33:09.626813",
     "exception": false,
     "start_time": "2022-03-29T06:33:08.225838",
     "status": "completed"
    },
    "tags": []
   },
   "outputs": [
    {
     "name": "stdout",
     "output_type": "stream",
     "text": [
      "Model: \"sequential_3\"\n",
      "_________________________________________________________________\n",
      "Layer (type)                 Output Shape              Param #   \n",
      "=================================================================\n",
      "embedding_7 (Embedding)      (None, 50, 8)             101112    \n",
      "_________________________________________________________________\n",
      "bidirectional (Bidirectional (None, 50, 16)            1088      \n",
      "_________________________________________________________________\n",
      "bidirectional_1 (Bidirection (None, 16)                1600      \n",
      "_________________________________________________________________\n",
      "dense_14 (Dense)             (None, 1)                 17        \n",
      "=================================================================\n",
      "Total params: 103,817\n",
      "Trainable params: 103,817\n",
      "Non-trainable params: 0\n",
      "_________________________________________________________________\n"
     ]
    }
   ],
   "source": [
    "embedding_dim = 8\n",
    "\n",
    "model3 = tf.keras.Sequential([\n",
    "    tf.keras.layers.Embedding(vocab_size+1, embedding_dim, input_length=max_length),\n",
    "    tf.keras.layers.Bidirectional(tf.keras.layers.LSTM(embedding_dim, \n",
    "                                                       return_sequences=True)),\n",
    "    tf.keras.layers.Bidirectional(tf.keras.layers.LSTM(embedding_dim)),\n",
    "    tf.keras.layers.Dense(1, activation='sigmoid')\n",
    "])\n",
    "\n",
    "learning_rate = 1e-7\n",
    "model3.compile(loss='binary_crossentropy',\n",
    "                                 optimizer=tf.keras.optimizers.Adam(learning_rate),\n",
    "                                 metrics=Recall(name='recall'))\n",
    "model3.summary()"
   ]
  },
  {
   "cell_type": "code",
   "execution_count": 50,
   "id": "91e408f9",
   "metadata": {
    "execution": {
     "iopub.execute_input": "2022-03-29T06:33:09.813844Z",
     "iopub.status.busy": "2022-03-29T06:33:09.813139Z",
     "iopub.status.idle": "2022-03-29T07:10:06.082267Z",
     "shell.execute_reply": "2022-03-29T07:10:05.889247Z",
     "shell.execute_reply.started": "2022-03-28T09:01:52.772054Z"
    },
    "papermill": {
     "duration": 2216.363603,
     "end_time": "2022-03-29T07:10:06.082489",
     "exception": false,
     "start_time": "2022-03-29T06:33:09.718886",
     "status": "completed"
    },
    "tags": []
   },
   "outputs": [
    {
     "name": "stdout",
     "output_type": "stream",
     "text": [
      "Epoch 1/60\n",
      "598/598 [==============================] - 45s 61ms/step - loss: 0.6933 - recall: 0.0000e+00\n",
      "Epoch 2/60\n",
      "598/598 [==============================] - 37s 61ms/step - loss: 0.6933 - recall: 0.0000e+00\n",
      "Epoch 3/60\n",
      "598/598 [==============================] - 37s 61ms/step - loss: 0.6933 - recall: 0.0000e+00\n",
      "Epoch 4/60\n",
      "598/598 [==============================] - 36s 61ms/step - loss: 0.6933 - recall: 0.0000e+00\n",
      "Epoch 5/60\n",
      "598/598 [==============================] - 37s 62ms/step - loss: 0.6933 - recall: 0.0000e+00\n",
      "Epoch 6/60\n",
      "598/598 [==============================] - 37s 61ms/step - loss: 0.6933 - recall: 0.0000e+00\n",
      "Epoch 7/60\n",
      "598/598 [==============================] - 36s 61ms/step - loss: 0.6933 - recall: 0.0000e+00\n",
      "Epoch 8/60\n",
      "598/598 [==============================] - 36s 61ms/step - loss: 0.6933 - recall: 0.0000e+00\n",
      "Epoch 9/60\n",
      "598/598 [==============================] - 37s 62ms/step - loss: 0.6933 - recall: 0.0000e+00\n",
      "Epoch 10/60\n",
      "598/598 [==============================] - 36s 61ms/step - loss: 0.6932 - recall: 0.0000e+00\n",
      "Epoch 11/60\n",
      "598/598 [==============================] - 37s 61ms/step - loss: 0.6932 - recall: 0.0000e+00\n",
      "Epoch 12/60\n",
      "598/598 [==============================] - 37s 61ms/step - loss: 0.6932 - recall: 0.0000e+00\n",
      "Epoch 13/60\n",
      "598/598 [==============================] - 36s 61ms/step - loss: 0.6932 - recall: 0.0000e+00\n",
      "Epoch 14/60\n",
      "598/598 [==============================] - 37s 61ms/step - loss: 0.6932 - recall: 0.0000e+00\n",
      "Epoch 15/60\n",
      "598/598 [==============================] - 37s 61ms/step - loss: 0.6931 - recall: 0.0000e+00\n",
      "Epoch 16/60\n",
      "598/598 [==============================] - 37s 61ms/step - loss: 0.6931 - recall: 0.0000e+00\n",
      "Epoch 17/60\n",
      "598/598 [==============================] - 36s 60ms/step - loss: 0.6930 - recall: 0.0000e+00\n",
      "Epoch 18/60\n",
      "598/598 [==============================] - 37s 61ms/step - loss: 0.6929 - recall: 0.0000e+00\n",
      "Epoch 19/60\n",
      "598/598 [==============================] - 37s 61ms/step - loss: 0.6928 - recall: 7.4516e-04\n",
      "Epoch 20/60\n",
      "598/598 [==============================] - 37s 61ms/step - loss: 0.6926 - recall: 0.0045\n",
      "Epoch 21/60\n",
      "598/598 [==============================] - 37s 61ms/step - loss: 0.6924 - recall: 0.1930\n",
      "Epoch 22/60\n",
      "598/598 [==============================] - 37s 62ms/step - loss: 0.6918 - recall: 0.6058\n",
      "Epoch 23/60\n",
      "598/598 [==============================] - 36s 61ms/step - loss: 0.6907 - recall: 0.3167\n",
      "Epoch 24/60\n",
      "598/598 [==============================] - 37s 61ms/step - loss: 0.6876 - recall: 0.7347\n",
      "Epoch 25/60\n",
      "598/598 [==============================] - 36s 61ms/step - loss: 0.6452 - recall: 0.6371\n",
      "Epoch 26/60\n",
      "598/598 [==============================] - 37s 61ms/step - loss: 0.5267 - recall: 0.8368\n",
      "Epoch 27/60\n",
      "598/598 [==============================] - 37s 62ms/step - loss: 0.4542 - recall: 0.8927\n",
      "Epoch 28/60\n",
      "598/598 [==============================] - 37s 62ms/step - loss: 0.3953 - recall: 0.8942\n",
      "Epoch 29/60\n",
      "598/598 [==============================] - 37s 63ms/step - loss: 0.3484 - recall: 0.8979\n",
      "Epoch 30/60\n",
      "598/598 [==============================] - 37s 61ms/step - loss: 0.3133 - recall: 0.9091\n",
      "Epoch 31/60\n",
      "598/598 [==============================] - 37s 62ms/step - loss: 0.2743 - recall: 0.8882\n",
      "Epoch 32/60\n",
      "598/598 [==============================] - 37s 62ms/step - loss: 0.2429 - recall: 0.9173\n",
      "Epoch 33/60\n",
      "598/598 [==============================] - 37s 62ms/step - loss: 0.2233 - recall: 0.9188\n",
      "Epoch 34/60\n",
      "598/598 [==============================] - 36s 61ms/step - loss: 0.2476 - recall: 0.9367\n",
      "Epoch 35/60\n",
      "598/598 [==============================] - 37s 61ms/step - loss: 0.1810 - recall: 0.9285\n",
      "Epoch 36/60\n",
      "598/598 [==============================] - 37s 62ms/step - loss: 0.2040 - recall: 0.9396\n",
      "Epoch 37/60\n",
      "598/598 [==============================] - 37s 62ms/step - loss: 0.1996 - recall: 0.9262\n",
      "Epoch 38/60\n",
      "598/598 [==============================] - 37s 62ms/step - loss: 0.1623 - recall: 0.9754\n",
      "Epoch 39/60\n",
      "598/598 [==============================] - 37s 62ms/step - loss: 0.0812 - recall: 0.9821\n",
      "Epoch 40/60\n",
      "598/598 [==============================] - 36s 61ms/step - loss: 0.0628 - recall: 0.9881\n",
      "Epoch 41/60\n",
      "598/598 [==============================] - 37s 61ms/step - loss: 0.0801 - recall: 0.9747\n",
      "Epoch 42/60\n",
      "598/598 [==============================] - 36s 61ms/step - loss: 0.0602 - recall: 0.9836\n",
      "Epoch 43/60\n",
      "598/598 [==============================] - 37s 62ms/step - loss: 0.0650 - recall: 0.9769\n",
      "Epoch 44/60\n",
      "598/598 [==============================] - 37s 61ms/step - loss: 0.0771 - recall: 0.9821\n",
      "Epoch 45/60\n",
      "598/598 [==============================] - 38s 63ms/step - loss: 0.0692 - recall: 0.9784\n",
      "Epoch 46/60\n",
      "598/598 [==============================] - 37s 62ms/step - loss: 0.0476 - recall: 0.9858\n",
      "Epoch 47/60\n",
      "598/598 [==============================] - 37s 63ms/step - loss: 0.0437 - recall: 0.9903\n",
      "Epoch 48/60\n",
      "598/598 [==============================] - 37s 62ms/step - loss: 0.0560 - recall: 0.9821\n",
      "Epoch 49/60\n",
      "598/598 [==============================] - 37s 61ms/step - loss: 0.0506 - recall: 0.9844\n",
      "Epoch 50/60\n",
      "598/598 [==============================] - 37s 62ms/step - loss: 0.0496 - recall: 0.9888\n",
      "Epoch 51/60\n",
      "598/598 [==============================] - 37s 62ms/step - loss: 0.0496 - recall: 0.9844\n",
      "Epoch 52/60\n",
      "598/598 [==============================] - 36s 61ms/step - loss: 0.0412 - recall: 0.9881\n",
      "Epoch 53/60\n",
      "598/598 [==============================] - 37s 62ms/step - loss: 0.0515 - recall: 0.9836\n",
      "Epoch 54/60\n",
      "598/598 [==============================] - 37s 62ms/step - loss: 0.0599 - recall: 0.9814\n",
      "Epoch 55/60\n",
      "598/598 [==============================] - 37s 62ms/step - loss: 0.0547 - recall: 0.9806\n",
      "Epoch 56/60\n",
      "598/598 [==============================] - 37s 62ms/step - loss: 0.0536 - recall: 0.9806\n",
      "Epoch 57/60\n",
      "598/598 [==============================] - 37s 62ms/step - loss: 0.0991 - recall: 0.9635\n",
      "Epoch 58/60\n",
      "598/598 [==============================] - 37s 62ms/step - loss: 0.1271 - recall: 0.9493\n",
      "Epoch 59/60\n",
      "598/598 [==============================] - 37s 61ms/step - loss: 0.1772 - recall: 0.9240\n",
      "Epoch 60/60\n",
      "598/598 [==============================] - 37s 62ms/step - loss: 0.2151 - recall: 0.9136\n"
     ]
    },
    {
     "data": {
      "text/plain": [
       "(1e-07, 0.1, 0.0, 1.0)"
      ]
     },
     "execution_count": 50,
     "metadata": {},
     "output_type": "execute_result"
    },
    {
     "data": {
      "image/png": "[encoded data removed]",
      "text/plain": [
       "<Figure size 432x288 with 1 Axes>"
      ]
     },
     "metadata": {
      "needs_background": "light"
     },
     "output_type": "display_data"
    }
   ],
   "source": [
    "lr_schedule = LearningRateScheduler(lambda epoch: 1e-7 * 10**(epoch / 10))\n",
    "history_lstm = model3.fit(padded_train, train_labels, epochs=60, callbacks=[lr_schedule],\n",
    "                          class_weight=class_weight_dict)\n",
    "plt.semilogx(history_lstm.history[\"lr\"], history_lstm.history[\"loss\"])\n",
    "plt.axis([1e-7, 1e-1, 0, 1])"
   ]
  },
  {
   "cell_type": "markdown",
   "id": "3923e854",
   "metadata": {
    "papermill": {
     "duration": 13.26986,
     "end_time": "2022-03-29T07:10:32.702655",
     "exception": false,
     "start_time": "2022-03-29T07:10:19.432795",
     "status": "completed"
    },
    "tags": []
   },
   "source": [
    "Minimum loss is at between 1e-4 to 1e-2, so we can choose 1e-3 as learning rate"
   ]
  },
  {
   "cell_type": "code",
   "execution_count": 51,
   "id": "d7a1ac26",
   "metadata": {
    "execution": {
     "iopub.execute_input": "2022-03-29T07:10:59.352402Z",
     "iopub.status.busy": "2022-03-29T07:10:59.351716Z",
     "iopub.status.idle": "2022-03-29T07:21:06.291575Z",
     "shell.execute_reply": "2022-03-29T07:21:06.290998Z",
     "shell.execute_reply.started": "2022-03-28T09:19:58.697703Z"
    },
    "papermill": {
     "duration": 620.32042,
     "end_time": "2022-03-29T07:21:06.291729",
     "exception": false,
     "start_time": "2022-03-29T07:10:45.971309",
     "status": "completed"
    },
    "tags": []
   },
   "outputs": [
    {
     "data": {
      "image/png": "[encoded data removed]",
      "text/plain": [
       "<Figure size 864x576 with 2 Axes>"
      ]
     },
     "metadata": {
      "needs_background": "light"
     },
     "output_type": "display_data"
    },
    {
     "name": "stdout",
     "output_type": "stream",
     "text": [
      "Loss\n",
      "\ttraining         \t (min:    0.015, max:    0.454, cur:    0.015)\n",
      "\tvalidation       \t (min:    0.271, max:    0.453, cur:    0.401)\n",
      "recall\n",
      "\ttraining         \t (min:    0.784, max:    0.997, cur:    0.997)\n",
      "\tvalidation       \t (min:    0.684, max:    0.840, cur:    0.684)\n"
     ]
    },
    {
     "data": {
      "text/plain": [
       "<keras.callbacks.History at 0x7ff4800b4f90>"
      ]
     },
     "execution_count": 51,
     "metadata": {},
     "output_type": "execute_result"
    }
   ],
   "source": [
    "embedding_dim = 8\n",
    "\n",
    "model3 = tf.keras.Sequential([\n",
    "    tf.keras.layers.Embedding(vocab_size+1, embedding_dim, input_length=max_length),\n",
    "    tf.keras.layers.Bidirectional(tf.keras.layers.LSTM(embedding_dim, \n",
    "                                                       return_sequences=True)),\n",
    "    tf.keras.layers.Bidirectional(tf.keras.layers.LSTM(embedding_dim)),\n",
    "    tf.keras.layers.Dense(1, activation='sigmoid')\n",
    "])\n",
    "\n",
    "learning_rate = 1e-3\n",
    "model3.compile(loss='binary_crossentropy',\n",
    "                                 optimizer=tf.keras.optimizers.Adam(learning_rate),\n",
    "                                 metrics=Recall(name='recall'))\n",
    "model_checkpoint3 = ModelCheckpoint(\"lstm_checkpoint.h5\", save_best_only=True, monitor=\"val_recall\", \n",
    "                                     mode='max')\n",
    "model3.fit(padded_train, train_labels, epochs=15, validation_data=(padded_val, val_labels),\n",
    "           callbacks=[PlotLossesKeras(),model_checkpoint3],class_weight=class_weight_dict)"
   ]
  },
  {
   "cell_type": "code",
   "execution_count": 52,
   "id": "109fbfea",
   "metadata": {
    "execution": {
     "iopub.execute_input": "2022-03-29T07:21:32.971304Z",
     "iopub.status.busy": "2022-03-29T07:21:32.970596Z",
     "iopub.status.idle": "2022-03-29T07:21:38.097569Z",
     "shell.execute_reply": "2022-03-29T07:21:38.098064Z",
     "shell.execute_reply.started": "2022-03-28T09:23:26.232378Z"
    },
    "papermill": {
     "duration": 18.397783,
     "end_time": "2022-03-29T07:21:38.098247",
     "exception": false,
     "start_time": "2022-03-29T07:21:19.700464",
     "status": "completed"
    },
    "tags": []
   },
   "outputs": [
    {
     "data": {
      "text/plain": [
       "0.8504464285714286"
      ]
     },
     "execution_count": 52,
     "metadata": {},
     "output_type": "execute_result"
    }
   ],
   "source": [
    "model31 = load_model('lstm_checkpoint.h5')\n",
    "evaluate_model(model31,padded_test, test_labels)"
   ]
  },
  {
   "cell_type": "markdown",
   "id": "7d9638cc",
   "metadata": {
    "papermill": {
     "duration": 13.29866,
     "end_time": "2022-03-29T07:22:04.691885",
     "exception": false,
     "start_time": "2022-03-29T07:21:51.393225",
     "status": "completed"
    },
    "tags": []
   },
   "source": [
    "# Using CNN and LSTM"
   ]
  },
  {
   "cell_type": "code",
   "execution_count": 53,
   "id": "4ae7f728",
   "metadata": {
    "execution": {
     "iopub.execute_input": "2022-03-29T07:22:31.398925Z",
     "iopub.status.busy": "2022-03-29T07:22:31.397888Z",
     "iopub.status.idle": "2022-03-29T07:22:32.391118Z",
     "shell.execute_reply": "2022-03-29T07:22:32.391660Z",
     "shell.execute_reply.started": "2022-03-28T09:49:53.004143Z"
    },
    "papermill": {
     "duration": 14.394057,
     "end_time": "2022-03-29T07:22:32.391833",
     "exception": false,
     "start_time": "2022-03-29T07:22:17.997776",
     "status": "completed"
    },
    "tags": []
   },
   "outputs": [
    {
     "name": "stdout",
     "output_type": "stream",
     "text": [
      "Model: \"sequential_5\"\n",
      "_________________________________________________________________\n",
      "Layer (type)                 Output Shape              Param #   \n",
      "=================================================================\n",
      "embedding_9 (Embedding)      (None, 50, 8)             101112    \n",
      "_________________________________________________________________\n",
      "conv1d_2 (Conv1D)            (None, 46, 16)            656       \n",
      "_________________________________________________________________\n",
      "max_pooling1d (MaxPooling1D) (None, 23, 16)            0         \n",
      "_________________________________________________________________\n",
      "bidirectional_4 (Bidirection (None, 23, 32)            4224      \n",
      "_________________________________________________________________\n",
      "dropout_1 (Dropout)          (None, 23, 32)            0         \n",
      "_________________________________________________________________\n",
      "bidirectional_5 (Bidirection (None, 32)                6272      \n",
      "_________________________________________________________________\n",
      "dense_16 (Dense)             (None, 1)                 33        \n",
      "=================================================================\n",
      "Total params: 112,297\n",
      "Trainable params: 112,297\n",
      "Non-trainable params: 0\n",
      "_________________________________________________________________\n"
     ]
    }
   ],
   "source": [
    "embedding_dim = 8\n",
    "\n",
    "model4 = tf.keras.Sequential([\n",
    "    tf.keras.layers.Embedding(vocab_size+1, embedding_dim, input_length=max_length),\n",
    "    tf.keras.layers.Conv1D(16,5, activation='relu'),\n",
    "    tf.keras.layers.MaxPooling1D(pool_size=2),\n",
    "    tf.keras.layers.Bidirectional(tf.keras.layers.LSTM(16, return_sequences=True)),\n",
    "    tf.keras.layers.Dropout(0.15),\n",
    "    tf.keras.layers.Bidirectional(tf.keras.layers.LSTM(16)),\n",
    "    tf.keras.layers.Dense(1, activation='sigmoid')\n",
    "])\n",
    "\n",
    "learning_rate = 1e-4\n",
    "model4.compile(loss='binary_crossentropy',\n",
    "                                 optimizer=tf.keras.optimizers.Adam(learning_rate),\n",
    "                                 metrics=Recall(name='recall'))\n",
    "model4.summary()"
   ]
  },
  {
   "cell_type": "code",
   "execution_count": 54,
   "id": "66182f8e",
   "metadata": {
    "execution": {
     "iopub.execute_input": "2022-03-29T07:22:59.081604Z",
     "iopub.status.busy": "2022-03-29T07:22:59.080500Z",
     "iopub.status.idle": "2022-03-29T07:30:11.168032Z",
     "shell.execute_reply": "2022-03-29T07:30:11.168526Z",
     "shell.execute_reply.started": "2022-03-28T09:50:06.593393Z"
    },
    "papermill": {
     "duration": 445.362079,
     "end_time": "2022-03-29T07:30:11.168709",
     "exception": false,
     "start_time": "2022-03-29T07:22:45.806630",
     "status": "completed"
    },
    "tags": []
   },
   "outputs": [
    {
     "data": {
      "image/png": "[encoded data removed]",
      "text/plain": [
       "<Figure size 864x576 with 2 Axes>"
      ]
     },
     "metadata": {
      "needs_background": "light"
     },
     "output_type": "display_data"
    },
    {
     "name": "stdout",
     "output_type": "stream",
     "text": [
      "Loss\n",
      "\ttraining         \t (min:    0.033, max:    0.690, cur:    0.033)\n",
      "\tvalidation       \t (min:    0.233, max:    0.672, cur:    0.280)\n",
      "recall\n",
      "\ttraining         \t (min:    0.833, max:    0.992, cur:    0.990)\n",
      "\tvalidation       \t (min:    0.644, max:    0.875, cur:    0.644)\n"
     ]
    },
    {
     "data": {
      "text/plain": [
       "<keras.callbacks.History at 0x7ff42f563e90>"
      ]
     },
     "execution_count": 54,
     "metadata": {},
     "output_type": "execute_result"
    }
   ],
   "source": [
    "model_checkpoint4 = ModelCheckpoint(\"lstm_cnn_checkpoint.h5\", save_best_only=True, monitor=\"val_recall\", \n",
    "                                     mode='max')\n",
    "model4.fit(padded_train, train_labels, epochs=15, validation_data=(padded_val, val_labels),\n",
    "           callbacks=[PlotLossesKeras(),model_checkpoint4],class_weight=class_weight_dict)"
   ]
  },
  {
   "cell_type": "code",
   "execution_count": 55,
   "id": "19bf265d",
   "metadata": {
    "execution": {
     "iopub.execute_input": "2022-03-29T07:30:37.811337Z",
     "iopub.status.busy": "2022-03-29T07:30:37.810585Z",
     "iopub.status.idle": "2022-03-29T07:30:42.413494Z",
     "shell.execute_reply": "2022-03-29T07:30:42.414188Z",
     "shell.execute_reply.started": "2022-03-28T09:54:23.204307Z"
    },
    "papermill": {
     "duration": 17.899623,
     "end_time": "2022-03-29T07:30:42.414366",
     "exception": false,
     "start_time": "2022-03-29T07:30:24.514743",
     "status": "completed"
    },
    "tags": []
   },
   "outputs": [
    {
     "data": {
      "text/plain": [
       "0.8727678571428571"
      ]
     },
     "execution_count": 55,
     "metadata": {},
     "output_type": "execute_result"
    }
   ],
   "source": [
    "model41 = load_model('lstm_cnn_checkpoint.h5')\n",
    "evaluate_model(model41,padded_test, test_labels)"
   ]
  },
  {
   "cell_type": "code",
   "execution_count": 56,
   "id": "e492ef38",
   "metadata": {
    "execution": {
     "iopub.execute_input": "2022-03-29T07:31:09.011724Z",
     "iopub.status.busy": "2022-03-29T07:31:09.010722Z",
     "iopub.status.idle": "2022-03-29T07:31:10.760426Z",
     "shell.execute_reply": "2022-03-29T07:31:10.760883Z",
     "shell.execute_reply.started": "2022-03-28T09:55:51.943784Z"
    },
    "papermill": {
     "duration": 15.031964,
     "end_time": "2022-03-29T07:31:10.761067",
     "exception": false,
     "start_time": "2022-03-29T07:30:55.729103",
     "status": "completed"
    },
    "tags": []
   },
   "outputs": [
    {
     "data": {
      "text/plain": [
       "0.19232661091982292"
      ]
     },
     "execution_count": 56,
     "metadata": {},
     "output_type": "execute_result"
    }
   ],
   "source": [
    "ypred_test = np.round(model41.predict(padded_test))\n",
    "f1_score(test_labels,ypred_test)"
   ]
  },
  {
   "cell_type": "code",
   "execution_count": 57,
   "id": "e5bd3645",
   "metadata": {
    "execution": {
     "iopub.execute_input": "2022-03-29T07:31:37.411943Z",
     "iopub.status.busy": "2022-03-29T07:31:37.411244Z",
     "iopub.status.idle": "2022-03-29T07:31:37.416993Z",
     "shell.execute_reply": "2022-03-29T07:31:37.417503Z",
     "shell.execute_reply.started": "2022-03-28T09:56:53.273846Z"
    },
    "papermill": {
     "duration": 13.346964,
     "end_time": "2022-03-29T07:31:37.417673",
     "exception": false,
     "start_time": "2022-03-29T07:31:24.070709",
     "status": "completed"
    },
    "tags": []
   },
   "outputs": [
    {
     "data": {
      "text/plain": [
       "array([[2708, 3227],\n",
       "       [  57,  391]])"
      ]
     },
     "execution_count": 57,
     "metadata": {},
     "output_type": "execute_result"
    }
   ],
   "source": [
    "confusion_matrix(test_labels,ypred_test)"
   ]
  },
  {
   "cell_type": "code",
   "execution_count": null,
   "id": "0f46c681",
   "metadata": {
    "papermill": {
     "duration": 13.372281,
     "end_time": "2022-03-29T07:32:04.010407",
     "exception": false,
     "start_time": "2022-03-29T07:31:50.638126",
     "status": "completed"
    },
    "tags": []
   },
   "outputs": [],
   "source": []
  }
 ],
 "metadata": {
  "kernelspec": {
   "display_name": "Python 3",
   "language": "python",
   "name": "python3"
  },
  "language_info": {
   "codemirror_mode": {
    "name": "ipython",
    "version": 3
   },
   "file_extension": ".py",
   "mimetype": "text/x-python",
   "name": "python",
   "nbconvert_exporter": "python",
   "pygments_lexer": "ipython3",
   "version": "3.7.12"
  },
  "papermill": {
   "default_parameters": {},
   "duration": 4294.027078,
   "end_time": "2022-03-29T07:32:20.539458",
   "environment_variables": {},
   "exception": null,
   "input_path": "__notebook__.ipynb",
   "output_path": "__notebook__.ipynb",
   "parameters": {},
   "start_time": "2022-03-29T06:20:46.512380",
   "version": "2.3.3"
  }
 },
 "nbformat": 4,
 "nbformat_minor": 5
}
