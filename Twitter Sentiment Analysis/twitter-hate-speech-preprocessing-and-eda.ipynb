{
 "cells": [
  {
   "cell_type": "code",
   "execution_count": 1,
   "id": "cc6be606",
   "metadata": {
    "_cell_guid": "b1076dfc-b9ad-4769-8c92-a6c4dae69d19",
    "_uuid": "8f2839f25d086af736a60e9eeb907d3b93b6e0e5",
    "execution": {
     "iopub.execute_input": "2022-03-26T11:57:30.709012Z",
     "iopub.status.busy": "2022-03-26T11:57:30.708409Z",
     "iopub.status.idle": "2022-03-26T11:57:31.822277Z",
     "shell.execute_reply": "2022-03-26T11:57:31.822735Z",
     "shell.execute_reply.started": "2022-03-26T11:38:37.865319Z"
    },
    "papermill": {
     "duration": 1.155238,
     "end_time": "2022-03-26T11:57:31.823015",
     "exception": false,
     "start_time": "2022-03-26T11:57:30.667777",
     "status": "completed"
    },
    "tags": []
   },
   "outputs": [
    {
     "name": "stdout",
     "output_type": "stream",
     "text": [
      "/kaggle/input/twitter-hatespeech/TwitterHate.csv\n",
      "/kaggle/input/domain-generation-algorithm/words.txt\n",
      "/kaggle/input/domain-generation-algorithm/dga_project_dga_domain_list_clean.txt\n",
      "/kaggle/input/domain-generation-algorithm/dga_project_top-1m.csv\n",
      "/kaggle/input/domain-generation-algorithm/top-1m.csv\n"
     ]
    }
   ],
   "source": [
    "import contractions\n",
    "\n",
    "import numpy as np # linear algebra\n",
    "import pandas as pd # data processing, CSV file I/O (e.g. pd.read_csv)\n",
    "import matplotlib.pyplot as plt\n",
    "import seaborn as sns\n",
    "import wordcloud\n",
    "\n",
    "import os\n",
    "for dirname, _, filenames in os.walk('/kaggle/input'):\n",
    "    for filename in filenames:\n",
    "        print(os.path.join(dirname, filename))"
   ]
  },
  {
   "cell_type": "code",
   "execution_count": 2,
   "id": "c09bf65f",
   "metadata": {
    "execution": {
     "iopub.execute_input": "2022-03-26T11:57:31.891079Z",
     "iopub.status.busy": "2022-03-26T11:57:31.890521Z",
     "iopub.status.idle": "2022-03-26T11:57:31.894185Z",
     "shell.execute_reply": "2022-03-26T11:57:31.894715Z",
     "shell.execute_reply.started": "2022-03-26T11:38:38.968852Z"
    },
    "papermill": {
     "duration": 0.038378,
     "end_time": "2022-03-26T11:57:31.894867",
     "exception": false,
     "start_time": "2022-03-26T11:57:31.856489",
     "status": "completed"
    },
    "tags": []
   },
   "outputs": [],
   "source": [
    "pd.set_option('display.max_colwidth', None)"
   ]
  },
  {
   "cell_type": "code",
   "execution_count": 3,
   "id": "643607f2",
   "metadata": {
    "execution": {
     "iopub.execute_input": "2022-03-26T11:57:31.960343Z",
     "iopub.status.busy": "2022-03-26T11:57:31.959744Z",
     "iopub.status.idle": "2022-03-26T11:57:32.097603Z",
     "shell.execute_reply": "2022-03-26T11:57:32.098039Z",
     "shell.execute_reply.started": "2022-03-26T11:38:38.976483Z"
    },
    "papermill": {
     "duration": 0.172226,
     "end_time": "2022-03-26T11:57:32.098212",
     "exception": false,
     "start_time": "2022-03-26T11:57:31.925986",
     "status": "completed"
    },
    "tags": []
   },
   "outputs": [
    {
     "data": {
      "text/html": [
       "<div>\n",
       "<style scoped>\n",
       "    .dataframe tbody tr th:only-of-type {\n",
       "        vertical-align: middle;\n",
       "    }\n",
       "\n",
       "    .dataframe tbody tr th {\n",
       "        vertical-align: top;\n",
       "    }\n",
       "\n",
       "    .dataframe thead th {\n",
       "        text-align: right;\n",
       "    }\n",
       "</style>\n",
       "<table border=\"1\" class=\"dataframe\">\n",
       "  <thead>\n",
       "    <tr style=\"text-align: right;\">\n",
       "      <th></th>\n",
       "      <th>id</th>\n",
       "      <th>label</th>\n",
       "      <th>tweet</th>\n",
       "    </tr>\n",
       "  </thead>\n",
       "  <tbody>\n",
       "    <tr>\n",
       "      <th>0</th>\n",
       "      <td>1</td>\n",
       "      <td>0</td>\n",
       "      <td>@user when a father is dysfunctional and is so selfish he drags his kids into his dysfunction.   #run</td>\n",
       "    </tr>\n",
       "    <tr>\n",
       "      <th>1</th>\n",
       "      <td>2</td>\n",
       "      <td>0</td>\n",
       "      <td>@user @user thanks for #lyft credit i can't use cause they don't offer wheelchair vans in pdx.    #disapointed #getthanked</td>\n",
       "    </tr>\n",
       "    <tr>\n",
       "      <th>2</th>\n",
       "      <td>3</td>\n",
       "      <td>0</td>\n",
       "      <td>bihday your majesty</td>\n",
       "    </tr>\n",
       "    <tr>\n",
       "      <th>3</th>\n",
       "      <td>4</td>\n",
       "      <td>0</td>\n",
       "      <td>#model   i love u take with u all the time in urð±!!! ðððð",
       "ð¦ð¦ð¦</td>\n",
       "    </tr>\n",
       "    <tr>\n",
       "      <th>4</th>\n",
       "      <td>5</td>\n",
       "      <td>0</td>\n",
       "      <td>factsguide: society now    #motivation</td>\n",
       "    </tr>\n",
       "  </tbody>\n",
       "</table>\n",
       "</div>"
      ],
      "text/plain": [
       "   id  label  \\\n",
       "0   1      0   \n",
       "1   2      0   \n",
       "2   3      0   \n",
       "3   4      0   \n",
       "4   5      0   \n",
       "\n",
       "                                                                                                                        tweet  \n",
       "0                       @user when a father is dysfunctional and is so selfish he drags his kids into his dysfunction.   #run  \n",
       "1  @user @user thanks for #lyft credit i can't use cause they don't offer wheelchair vans in pdx.    #disapointed #getthanked  \n",
       "2                                                                                                         bihday your majesty  \n",
       "3                                      #model   i love u take with u all the time in urð±!!! ðððð\n",
       "ð¦ð¦ð¦    \n",
       "4                                                                                      factsguide: society now    #motivation  "
      ]
     },
     "execution_count": 3,
     "metadata": {},
     "output_type": "execute_result"
    }
   ],
   "source": [
    "#read data\n",
    "data = pd.read_csv(\"../input/twitter-hatespeech/TwitterHate.csv\")\n",
    "data.head(5)"
   ]
  },
  {
   "cell_type": "code",
   "execution_count": 4,
   "id": "e43815e8",
   "metadata": {
    "execution": {
     "iopub.execute_input": "2022-03-26T11:57:32.167024Z",
     "iopub.status.busy": "2022-03-26T11:57:32.166367Z",
     "iopub.status.idle": "2022-03-26T11:57:32.179930Z",
     "shell.execute_reply": "2022-03-26T11:57:32.180485Z",
     "shell.execute_reply.started": "2022-03-26T11:38:39.122504Z"
    },
    "papermill": {
     "duration": 0.050288,
     "end_time": "2022-03-26T11:57:32.180658",
     "exception": false,
     "start_time": "2022-03-26T11:57:32.130370",
     "status": "completed"
    },
    "tags": []
   },
   "outputs": [
    {
     "data": {
      "text/html": [
       "<div>\n",
       "<style scoped>\n",
       "    .dataframe tbody tr th:only-of-type {\n",
       "        vertical-align: middle;\n",
       "    }\n",
       "\n",
       "    .dataframe tbody tr th {\n",
       "        vertical-align: top;\n",
       "    }\n",
       "\n",
       "    .dataframe thead th {\n",
       "        text-align: right;\n",
       "    }\n",
       "</style>\n",
       "<table border=\"1\" class=\"dataframe\">\n",
       "  <thead>\n",
       "    <tr style=\"text-align: right;\">\n",
       "      <th></th>\n",
       "      <th>id</th>\n",
       "      <th>label</th>\n",
       "      <th>tweet</th>\n",
       "    </tr>\n",
       "  </thead>\n",
       "  <tbody>\n",
       "    <tr>\n",
       "      <th>9416</th>\n",
       "      <td>9417</td>\n",
       "      <td>1</td>\n",
       "      <td>â¡ï¸ âcharles paladino's racist comments spark calls for resignationâ</td>\n",
       "    </tr>\n",
       "    <tr>\n",
       "      <th>11443</th>\n",
       "      <td>11444</td>\n",
       "      <td>1</td>\n",
       "      <td>@user #netanyahuspeech stirs anti-jewish hate &amp;amp;  on twitter from progressives</td>\n",
       "    </tr>\n",
       "    <tr>\n",
       "      <th>19457</th>\n",
       "      <td>19458</td>\n",
       "      <td>1</td>\n",
       "      <td>#cnn calls #michigan middle school 'build the wall' chant '' #tcot</td>\n",
       "    </tr>\n",
       "    <tr>\n",
       "      <th>31594</th>\n",
       "      <td>31595</td>\n",
       "      <td>1</td>\n",
       "      <td>@user you might be a libtard if... #libtard  #sjw #liberal #politics</td>\n",
       "    </tr>\n",
       "    <tr>\n",
       "      <th>22249</th>\n",
       "      <td>22250</td>\n",
       "      <td>1</td>\n",
       "      <td>apparently taragon is not a \"christmassy herb\"</td>\n",
       "    </tr>\n",
       "  </tbody>\n",
       "</table>\n",
       "</div>"
      ],
      "text/plain": [
       "          id  label  \\\n",
       "9416    9417      1   \n",
       "11443  11444      1   \n",
       "19457  19458      1   \n",
       "31594  31595      1   \n",
       "22249  22250      1   \n",
       "\n",
       "                                                                                    tweet  \n",
       "9416        â¡ï¸ âcharles paladino's racist comments spark calls for resignationâ    \n",
       "11443  @user #netanyahuspeech stirs anti-jewish hate &amp;  on twitter from progressives   \n",
       "19457                #cnn calls #michigan middle school 'build the wall' chant '' #tcot    \n",
       "31594               @user you might be a libtard if... #libtard  #sjw #liberal #politics   \n",
       "22249                                    apparently taragon is not a \"christmassy herb\"    "
      ]
     },
     "execution_count": 4,
     "metadata": {},
     "output_type": "execute_result"
    }
   ],
   "source": [
    "data[data.label==1].sample(5)"
   ]
  },
  {
   "cell_type": "code",
   "execution_count": 5,
   "id": "b2a966ed",
   "metadata": {
    "execution": {
     "iopub.execute_input": "2022-03-26T11:57:32.248755Z",
     "iopub.status.busy": "2022-03-26T11:57:32.248126Z",
     "iopub.status.idle": "2022-03-26T11:57:32.264363Z",
     "shell.execute_reply": "2022-03-26T11:57:32.263875Z",
     "shell.execute_reply.started": "2022-03-26T11:38:39.140630Z"
    },
    "papermill": {
     "duration": 0.051703,
     "end_time": "2022-03-26T11:57:32.264546",
     "exception": false,
     "start_time": "2022-03-26T11:57:32.212843",
     "status": "completed"
    },
    "tags": []
   },
   "outputs": [
    {
     "data": {
      "text/html": [
       "<div>\n",
       "<style scoped>\n",
       "    .dataframe tbody tr th:only-of-type {\n",
       "        vertical-align: middle;\n",
       "    }\n",
       "\n",
       "    .dataframe tbody tr th {\n",
       "        vertical-align: top;\n",
       "    }\n",
       "\n",
       "    .dataframe thead th {\n",
       "        text-align: right;\n",
       "    }\n",
       "</style>\n",
       "<table border=\"1\" class=\"dataframe\">\n",
       "  <thead>\n",
       "    <tr style=\"text-align: right;\">\n",
       "      <th></th>\n",
       "      <th>Sentiment</th>\n",
       "      <th>tweet</th>\n",
       "    </tr>\n",
       "  </thead>\n",
       "  <tbody>\n",
       "    <tr>\n",
       "      <th>0</th>\n",
       "      <td>0</td>\n",
       "      <td>@user when a father is dysfunctional and is so selfish he drags his kids into his dysfunction.   #run</td>\n",
       "    </tr>\n",
       "    <tr>\n",
       "      <th>1</th>\n",
       "      <td>0</td>\n",
       "      <td>@user @user thanks for #lyft credit i can't use cause they don't offer wheelchair vans in pdx.    #disapointed #getthanked</td>\n",
       "    </tr>\n",
       "    <tr>\n",
       "      <th>2</th>\n",
       "      <td>0</td>\n",
       "      <td>bihday your majesty</td>\n",
       "    </tr>\n",
       "    <tr>\n",
       "      <th>3</th>\n",
       "      <td>0</td>\n",
       "      <td>#model   i love u take with u all the time in urð±!!! ðððð",
       "ð¦ð¦ð¦</td>\n",
       "    </tr>\n",
       "    <tr>\n",
       "      <th>4</th>\n",
       "      <td>0</td>\n",
       "      <td>factsguide: society now    #motivation</td>\n",
       "    </tr>\n",
       "  </tbody>\n",
       "</table>\n",
       "</div>"
      ],
      "text/plain": [
       "   Sentiment  \\\n",
       "0          0   \n",
       "1          0   \n",
       "2          0   \n",
       "3          0   \n",
       "4          0   \n",
       "\n",
       "                                                                                                                        tweet  \n",
       "0                       @user when a father is dysfunctional and is so selfish he drags his kids into his dysfunction.   #run  \n",
       "1  @user @user thanks for #lyft credit i can't use cause they don't offer wheelchair vans in pdx.    #disapointed #getthanked  \n",
       "2                                                                                                         bihday your majesty  \n",
       "3                                      #model   i love u take with u all the time in urð±!!! ðððð\n",
       "ð¦ð¦ð¦    \n",
       "4                                                                                      factsguide: society now    #motivation  "
      ]
     },
     "execution_count": 5,
     "metadata": {},
     "output_type": "execute_result"
    }
   ],
   "source": [
    "data.drop(columns=['id'], inplace = True)\n",
    "data.rename(columns={'label':'Sentiment'},inplace=True)\n",
    "data.head()"
   ]
  },
  {
   "cell_type": "markdown",
   "id": "2a22fe1a",
   "metadata": {
    "execution": {
     "iopub.execute_input": "2022-03-26T09:01:02.428767Z",
     "iopub.status.busy": "2022-03-26T09:01:02.427788Z",
     "iopub.status.idle": "2022-03-26T09:01:02.438074Z",
     "shell.execute_reply": "2022-03-26T09:01:02.437197Z",
     "shell.execute_reply.started": "2022-03-26T09:01:02.428724Z"
    },
    "papermill": {
     "duration": 0.032693,
     "end_time": "2022-03-26T11:57:32.329874",
     "exception": false,
     "start_time": "2022-03-26T11:57:32.297181",
     "status": "completed"
    },
    "tags": []
   },
   "source": [
    "### Exploratory Data Analysis\n",
    "1. Number of positive, negative tweets\n",
    "2. Pie chart for positive and negative tweet percentage\n",
    "3. Average length of positive negative tweets\n",
    "4. distribution of length of tweets for positive and negative\n",
    "5. Word cloud for positive, negative tweets\n",
    "\n",
    "### Cleaning\n",
    "1. Normalize casings\n",
    "2. Remove urls\n",
    "3. Remove punctuations\n",
    "4. Remove non-alphabetic characters except emojis\n",
    "5. Remove hashtags but keep text\n",
    "6. Remove handles with usernames\n",
    "7. Remove stopwords\n",
    "\n",
    "### Slang words handling\n",
    "1. Create a dictionary of words with frequency\n",
    "2. Lookup words in a english dictionary and mark present or not present\n",
    "3. For non-present words, look up their frequencies\n",
    "4. If less frequent remove\n",
    "\n",
    "### Train-Val-Test Split\n",
    "1. Divide the data into train-val-test\n",
    "2. find less frequent non english tokens from training set\n",
    "3. remove less frequent non english tokens from validation and test set\n",
    "4. save all 3 files"
   ]
  },
  {
   "cell_type": "markdown",
   "id": "6ee3f25d",
   "metadata": {
    "papermill": {
     "duration": 0.032267,
     "end_time": "2022-03-26T11:57:32.395342",
     "exception": false,
     "start_time": "2022-03-26T11:57:32.363075",
     "status": "completed"
    },
    "tags": []
   },
   "source": [
    "## Exploratory Data Analysis"
   ]
  },
  {
   "cell_type": "code",
   "execution_count": 6,
   "id": "c496c519",
   "metadata": {
    "execution": {
     "iopub.execute_input": "2022-03-26T11:57:32.464143Z",
     "iopub.status.busy": "2022-03-26T11:57:32.463561Z",
     "iopub.status.idle": "2022-03-26T11:57:32.475951Z",
     "shell.execute_reply": "2022-03-26T11:57:32.476508Z",
     "shell.execute_reply.started": "2022-03-26T11:38:39.161152Z"
    },
    "papermill": {
     "duration": 0.048217,
     "end_time": "2022-03-26T11:57:32.476684",
     "exception": false,
     "start_time": "2022-03-26T11:57:32.428467",
     "status": "completed"
    },
    "tags": []
   },
   "outputs": [
    {
     "data": {
      "text/html": [
       "<div>\n",
       "<style scoped>\n",
       "    .dataframe tbody tr th:only-of-type {\n",
       "        vertical-align: middle;\n",
       "    }\n",
       "\n",
       "    .dataframe tbody tr th {\n",
       "        vertical-align: top;\n",
       "    }\n",
       "\n",
       "    .dataframe thead th {\n",
       "        text-align: right;\n",
       "    }\n",
       "</style>\n",
       "<table border=\"1\" class=\"dataframe\">\n",
       "  <thead>\n",
       "    <tr style=\"text-align: right;\">\n",
       "      <th></th>\n",
       "      <th>Sentiment</th>\n",
       "    </tr>\n",
       "  </thead>\n",
       "  <tbody>\n",
       "    <tr>\n",
       "      <th>Positive</th>\n",
       "      <td>29720</td>\n",
       "    </tr>\n",
       "    <tr>\n",
       "      <th>Negative</th>\n",
       "      <td>2242</td>\n",
       "    </tr>\n",
       "  </tbody>\n",
       "</table>\n",
       "</div>"
      ],
      "text/plain": [
       "          Sentiment\n",
       "Positive      29720\n",
       "Negative       2242"
      ]
     },
     "execution_count": 6,
     "metadata": {},
     "output_type": "execute_result"
    }
   ],
   "source": [
    "pos_neg = pd.DataFrame(data['Sentiment'].value_counts())\n",
    "pos_neg.rename(index={0:'Positive', 1:'Negative'}, inplace=True)\n",
    "pos_neg"
   ]
  },
  {
   "cell_type": "code",
   "execution_count": 7,
   "id": "2f324d26",
   "metadata": {
    "execution": {
     "iopub.execute_input": "2022-03-26T11:57:32.545316Z",
     "iopub.status.busy": "2022-03-26T11:57:32.544690Z",
     "iopub.status.idle": "2022-03-26T11:57:32.766573Z",
     "shell.execute_reply": "2022-03-26T11:57:32.767008Z",
     "shell.execute_reply.started": "2022-03-26T11:38:39.178123Z"
    },
    "papermill": {
     "duration": 0.25764,
     "end_time": "2022-03-26T11:57:32.767202",
     "exception": false,
     "start_time": "2022-03-26T11:57:32.509562",
     "status": "completed"
    },
    "tags": []
   },
   "outputs": [
    {
     "data": {
      "text/plain": [
       "[Text(0.5, 0, 'Sentiment'), Text(0, 0.5, 'Count')]"
      ]
     },
     "execution_count": 7,
     "metadata": {},
     "output_type": "execute_result"
    },
    {
     "data": {
      "image/png": "[encoded data removed]",
      "text/plain": [
       "<Figure size 432x288 with 1 Axes>"
      ]
     },
     "metadata": {},
     "output_type": "display_data"
    }
   ],
   "source": [
    "sns.set_theme(style=\"whitegrid\")\n",
    "sns.set(rc={'figure.figsize':(6,4)})\n",
    "ax = sns.barplot(x = pos_neg.index, y = pos_neg.Sentiment)\n",
    "ax.set(xlabel = \"Sentiment\", ylabel = \"Count\")"
   ]
  },
  {
   "cell_type": "code",
   "execution_count": 8,
   "id": "4541590c",
   "metadata": {
    "execution": {
     "iopub.execute_input": "2022-03-26T11:57:32.861682Z",
     "iopub.status.busy": "2022-03-26T11:57:32.860686Z",
     "iopub.status.idle": "2022-03-26T11:57:32.947997Z",
     "shell.execute_reply": "2022-03-26T11:57:32.948429Z",
     "shell.execute_reply.started": "2022-03-26T11:38:39.414380Z"
    },
    "papermill": {
     "duration": 0.146793,
     "end_time": "2022-03-26T11:57:32.948765",
     "exception": false,
     "start_time": "2022-03-26T11:57:32.801972",
     "status": "completed"
    },
    "tags": []
   },
   "outputs": [
    {
     "data": {
      "image/png": "[encoded data removed]",
      "text/plain": [
       "<Figure size 432x288 with 1 Axes>"
      ]
     },
     "metadata": {},
     "output_type": "display_data"
    }
   ],
   "source": [
    "colors = sns.color_palette('pastel')[0:2]\n",
    "plt.pie(x=pos_neg.Sentiment, labels=pos_neg.index,colors=colors, autopct='%.2f')\n",
    "plt.show()"
   ]
  },
  {
   "cell_type": "code",
   "execution_count": 9,
   "id": "cf323472",
   "metadata": {
    "execution": {
     "iopub.execute_input": "2022-03-26T11:57:33.024176Z",
     "iopub.status.busy": "2022-03-26T11:57:33.023280Z",
     "iopub.status.idle": "2022-03-26T11:57:33.040310Z",
     "shell.execute_reply": "2022-03-26T11:57:33.040813Z",
     "shell.execute_reply.started": "2022-03-26T11:38:39.520659Z"
    },
    "papermill": {
     "duration": 0.056449,
     "end_time": "2022-03-26T11:57:33.040981",
     "exception": false,
     "start_time": "2022-03-26T11:57:32.984532",
     "status": "completed"
    },
    "tags": []
   },
   "outputs": [],
   "source": [
    "data['length'] = data['tweet'].apply(lambda x: len(x))"
   ]
  },
  {
   "cell_type": "code",
   "execution_count": 10,
   "id": "4ed51784",
   "metadata": {
    "execution": {
     "iopub.execute_input": "2022-03-26T11:57:33.115225Z",
     "iopub.status.busy": "2022-03-26T11:57:33.114349Z",
     "iopub.status.idle": "2022-03-26T11:57:33.128560Z",
     "shell.execute_reply": "2022-03-26T11:57:33.127960Z",
     "shell.execute_reply.started": "2022-03-26T11:38:39.657108Z"
    },
    "papermill": {
     "duration": 0.051958,
     "end_time": "2022-03-26T11:57:33.128696",
     "exception": false,
     "start_time": "2022-03-26T11:57:33.076738",
     "status": "completed"
    },
    "tags": []
   },
   "outputs": [
    {
     "data": {
      "text/plain": [
       "Sentiment\n",
       "0    84.328634\n",
       "1    90.187779\n",
       "Name: length, dtype: float64"
      ]
     },
     "execution_count": 10,
     "metadata": {},
     "output_type": "execute_result"
    }
   ],
   "source": [
    "data.groupby('Sentiment').mean()['length']"
   ]
  },
  {
   "cell_type": "code",
   "execution_count": 11,
   "id": "1d265636",
   "metadata": {
    "execution": {
     "iopub.execute_input": "2022-03-26T11:57:33.201994Z",
     "iopub.status.busy": "2022-03-26T11:57:33.201382Z",
     "iopub.status.idle": "2022-03-26T11:57:33.486198Z",
     "shell.execute_reply": "2022-03-26T11:57:33.485644Z",
     "shell.execute_reply.started": "2022-03-26T11:38:39.856666Z"
    },
    "papermill": {
     "duration": 0.322775,
     "end_time": "2022-03-26T11:57:33.486378",
     "exception": false,
     "start_time": "2022-03-26T11:57:33.163603",
     "status": "completed"
    },
    "tags": []
   },
   "outputs": [
    {
     "data": {
      "text/plain": [
       "<AxesSubplot:xlabel='length', ylabel='Count'>"
      ]
     },
     "execution_count": 11,
     "metadata": {},
     "output_type": "execute_result"
    },
    {
     "data": {
      "image/png": "[encoded data removed]",
      "text/plain": [
       "<Figure size 432x288 with 1 Axes>"
      ]
     },
     "metadata": {},
     "output_type": "display_data"
    }
   ],
   "source": [
    "sns.histplot(data=data, x=data.length[data.Sentiment==0], bins=40)"
   ]
  },
  {
   "cell_type": "code",
   "execution_count": 12,
   "id": "d59c8d57",
   "metadata": {
    "execution": {
     "iopub.execute_input": "2022-03-26T11:57:33.565636Z",
     "iopub.status.busy": "2022-03-26T11:57:33.564636Z",
     "iopub.status.idle": "2022-03-26T11:57:33.852892Z",
     "shell.execute_reply": "2022-03-26T11:57:33.852362Z",
     "shell.execute_reply.started": "2022-03-26T11:38:40.232057Z"
    },
    "papermill": {
     "duration": 0.329154,
     "end_time": "2022-03-26T11:57:33.853028",
     "exception": false,
     "start_time": "2022-03-26T11:57:33.523874",
     "status": "completed"
    },
    "tags": []
   },
   "outputs": [
    {
     "data": {
      "text/plain": [
       "<AxesSubplot:xlabel='length', ylabel='Count'>"
      ]
     },
     "execution_count": 12,
     "metadata": {},
     "output_type": "execute_result"
    },
    {
     "data": {
      "image/png": "[encoded data removed]",
      "text/plain": [
       "<Figure size 432x288 with 1 Axes>"
      ]
     },
     "metadata": {},
     "output_type": "display_data"
    }
   ],
   "source": [
    "sns.histplot(data=data, x=data.length[data.Sentiment==1], bins=40)"
   ]
  },
  {
   "cell_type": "code",
   "execution_count": 13,
   "id": "3552b245",
   "metadata": {
    "execution": {
     "iopub.execute_input": "2022-03-26T11:57:33.931998Z",
     "iopub.status.busy": "2022-03-26T11:57:33.929961Z",
     "iopub.status.idle": "2022-03-26T11:57:34.732962Z",
     "shell.execute_reply": "2022-03-26T11:57:34.732363Z",
     "shell.execute_reply.started": "2022-03-26T11:38:40.581333Z"
    },
    "papermill": {
     "duration": 0.842635,
     "end_time": "2022-03-26T11:57:34.733104",
     "exception": false,
     "start_time": "2022-03-26T11:57:33.890469",
     "status": "completed"
    },
    "tags": []
   },
   "outputs": [],
   "source": [
    "import re\n",
    "import nltk\n",
    "from nltk.corpus import stopwords\n",
    "from nltk import pos_tag\n",
    "from nltk.corpus import wordnet\n",
    "from nltk.stem.wordnet import WordNetLemmatizer\n",
    "from nltk import TweetTokenizer"
   ]
  },
  {
   "cell_type": "markdown",
   "id": "30cf2fcc",
   "metadata": {
    "papermill": {
     "duration": 0.037879,
     "end_time": "2022-03-26T11:57:34.808347",
     "exception": false,
     "start_time": "2022-03-26T11:57:34.770468",
     "status": "completed"
    },
    "tags": []
   },
   "source": [
    "### Text cleaning strategy\n",
    "\n",
    "Lowercase\n",
    "\n",
    "Remove links\n",
    "\n",
    "Remove certain punctuations: .?!,[]{}_\"\n",
    "\n",
    "Remove special chars : #$%^&*|\\/<>@¦\n",
    "\n",
    "remove numbers = r'[0-9]+\n",
    "\n",
    "tweettokenize\n",
    "\n",
    "    emoji chars:;-() - remove individual instances, not through regex\n",
    "    \n",
    "    single characters = r'/b[a-z0-9]/b OR if token is one of these : - ) ( ;\n",
    "\n",
    "Expand contractions\n",
    "\n",
    "Remove stopwords\n",
    "\n",
    "Lemmatization\n",
    "\n",
    "Remove less frequent non-english tokens\n"
   ]
  },
  {
   "cell_type": "code",
   "execution_count": 14,
   "id": "f0627cec",
   "metadata": {
    "execution": {
     "iopub.execute_input": "2022-03-26T11:57:34.888527Z",
     "iopub.status.busy": "2022-03-26T11:57:34.887533Z",
     "iopub.status.idle": "2022-03-26T11:57:34.908103Z",
     "shell.execute_reply": "2022-03-26T11:57:34.908628Z",
     "shell.execute_reply.started": "2022-03-26T11:38:41.410768Z"
    },
    "papermill": {
     "duration": 0.063309,
     "end_time": "2022-03-26T11:57:34.908799",
     "exception": false,
     "start_time": "2022-03-26T11:57:34.845490",
     "status": "completed"
    },
    "tags": []
   },
   "outputs": [],
   "source": [
    "#normalize casings\n",
    "data['tweet'] = data['tweet'].apply(lambda x: x.lower())"
   ]
  },
  {
   "cell_type": "code",
   "execution_count": 15,
   "id": "3b931c12",
   "metadata": {
    "execution": {
     "iopub.execute_input": "2022-03-26T11:57:34.990013Z",
     "iopub.status.busy": "2022-03-26T11:57:34.989032Z",
     "iopub.status.idle": "2022-03-26T11:57:34.991074Z",
     "shell.execute_reply": "2022-03-26T11:57:34.991528Z",
     "shell.execute_reply.started": "2022-03-26T11:38:41.442079Z"
    },
    "papermill": {
     "duration": 0.045842,
     "end_time": "2022-03-26T11:57:34.991691",
     "exception": false,
     "start_time": "2022-03-26T11:57:34.945849",
     "status": "completed"
    },
    "tags": []
   },
   "outputs": [],
   "source": [
    "def cleanTweetsRegex(x):\n",
    "    #remove urls\n",
    "    pattern_link = r'(http|ftp|https):\\/\\/([\\w_-]+(?:(?:\\.[\\w_-]+)+))([\\w.,@?^=%&:\\/~+#-]*[\\w@?^=%&\\/~+#-])'\n",
    "    x = re.sub(pattern_link, '', x)\n",
    "    \n",
    "    pattern_punct = r'[.\\?!,\\[\\]{}_\"]'\n",
    "    x = re.sub(pattern_punct, '', x)\n",
    "    \n",
    "    pattern_special = r'[#$%^&\\*|\\\\/<>¦]'\n",
    "    x = re.sub(pattern_special, '', x)\n",
    "    \n",
    "    pattern_nums = r'[0-9]+'\n",
    "    x = re.sub(pattern_nums, '', x)\n",
    "    \n",
    "    return x"
   ]
  },
  {
   "cell_type": "code",
   "execution_count": 16,
   "id": "52f44812",
   "metadata": {
    "execution": {
     "iopub.execute_input": "2022-03-26T11:57:35.068904Z",
     "iopub.status.busy": "2022-03-26T11:57:35.067988Z",
     "iopub.status.idle": "2022-03-26T11:57:35.360103Z",
     "shell.execute_reply": "2022-03-26T11:57:35.359602Z",
     "shell.execute_reply.started": "2022-03-26T11:38:41.449401Z"
    },
    "papermill": {
     "duration": 0.331853,
     "end_time": "2022-03-26T11:57:35.360291",
     "exception": false,
     "start_time": "2022-03-26T11:57:35.028438",
     "status": "completed"
    },
    "tags": []
   },
   "outputs": [],
   "source": [
    "data['cleaned_tweets'] = data['tweet'].apply(lambda x: cleanTweetsRegex(x))"
   ]
  },
  {
   "cell_type": "code",
   "execution_count": 17,
   "id": "73d3a6c8",
   "metadata": {
    "execution": {
     "iopub.execute_input": "2022-03-26T11:57:35.439876Z",
     "iopub.status.busy": "2022-03-26T11:57:35.438927Z",
     "iopub.status.idle": "2022-03-26T11:57:35.451431Z",
     "shell.execute_reply": "2022-03-26T11:57:35.451920Z",
     "shell.execute_reply.started": "2022-03-26T11:38:41.998548Z"
    },
    "papermill": {
     "duration": 0.052739,
     "end_time": "2022-03-26T11:57:35.452083",
     "exception": false,
     "start_time": "2022-03-26T11:57:35.399344",
     "status": "completed"
    },
    "tags": []
   },
   "outputs": [
    {
     "data": {
      "text/html": [
       "<div>\n",
       "<style scoped>\n",
       "    .dataframe tbody tr th:only-of-type {\n",
       "        vertical-align: middle;\n",
       "    }\n",
       "\n",
       "    .dataframe tbody tr th {\n",
       "        vertical-align: top;\n",
       "    }\n",
       "\n",
       "    .dataframe thead th {\n",
       "        text-align: right;\n",
       "    }\n",
       "</style>\n",
       "<table border=\"1\" class=\"dataframe\">\n",
       "  <thead>\n",
       "    <tr style=\"text-align: right;\">\n",
       "      <th></th>\n",
       "      <th>cleaned_tweets</th>\n",
       "    </tr>\n",
       "  </thead>\n",
       "  <tbody>\n",
       "    <tr>\n",
       "      <th>0</th>\n",
       "      <td>@user when a father is dysfunctional and is so selfish he drags his kids into his dysfunction   run</td>\n",
       "    </tr>\n",
       "    <tr>\n",
       "      <th>1</th>\n",
       "      <td>@user @user thanks for lyft credit i can't use cause they don't offer wheelchair vans in pdx    disapointed getthanked</td>\n",
       "    </tr>\n",
       "    <tr>\n",
       "      <th>2</th>\n",
       "      <td>bihday your majesty</td>\n",
       "    </tr>\n",
       "    <tr>\n",
       "      <th>3</th>\n",
       "      <td>model   i love u take with u all the time in urð± ðððð",
       "ððð</td>\n",
       "    </tr>\n",
       "    <tr>\n",
       "      <th>4</th>\n",
       "      <td>factsguide: society now    motivation</td>\n",
       "    </tr>\n",
       "  </tbody>\n",
       "</table>\n",
       "</div>"
      ],
      "text/plain": [
       "                                                                                                           cleaned_tweets\n",
       "0                     @user when a father is dysfunctional and is so selfish he drags his kids into his dysfunction   run\n",
       "1  @user @user thanks for lyft credit i can't use cause they don't offer wheelchair vans in pdx    disapointed getthanked\n",
       "2                                                                                                     bihday your majesty\n",
       "3                                         model   i love u take with u all the time in urð± ðððð\n",
       "ððð  \n",
       "4                                                                                   factsguide: society now    motivation"
      ]
     },
     "execution_count": 17,
     "metadata": {},
     "output_type": "execute_result"
    }
   ],
   "source": [
    "data[['cleaned_tweets']].head(5)"
   ]
  },
  {
   "cell_type": "code",
   "execution_count": 18,
   "id": "0e9bdf94",
   "metadata": {
    "execution": {
     "iopub.execute_input": "2022-03-26T11:57:35.530617Z",
     "iopub.status.busy": "2022-03-26T11:57:35.529628Z",
     "iopub.status.idle": "2022-03-26T11:57:35.534799Z",
     "shell.execute_reply": "2022-03-26T11:57:35.535360Z",
     "shell.execute_reply.started": "2022-03-26T11:38:42.015606Z"
    },
    "papermill": {
     "duration": 0.046066,
     "end_time": "2022-03-26T11:57:35.535526",
     "exception": false,
     "start_time": "2022-03-26T11:57:35.489460",
     "status": "completed"
    },
    "tags": []
   },
   "outputs": [],
   "source": [
    "tweetTokenizer = TweetTokenizer(strip_handles=True, reduce_len=True)\n",
    "\n",
    "def tokenizeTweets(tweet, tokenizer=tweetTokenizer):\n",
    "    single_char_emoji = [':',';','(',')','-']\n",
    "    return ' '.join([word for word in tokenizer.tokenize(tweet) if word not in single_char_emoji])\n",
    "    "
   ]
  },
  {
   "cell_type": "code",
   "execution_count": 19,
   "id": "85ab3ef8",
   "metadata": {
    "execution": {
     "iopub.execute_input": "2022-03-26T11:57:35.613813Z",
     "iopub.status.busy": "2022-03-26T11:57:35.612909Z",
     "iopub.status.idle": "2022-03-26T11:57:35.618888Z",
     "shell.execute_reply": "2022-03-26T11:57:35.619443Z",
     "shell.execute_reply.started": "2022-03-26T11:38:42.022969Z"
    },
    "papermill": {
     "duration": 0.046819,
     "end_time": "2022-03-26T11:57:35.619610",
     "exception": false,
     "start_time": "2022-03-26T11:57:35.572791",
     "status": "completed"
    },
    "tags": []
   },
   "outputs": [],
   "source": [
    "lem = WordNetLemmatizer()\n",
    "\n",
    "def nltk_tag_to_wordnet_tag(nltk_tag):\n",
    "    if nltk_tag.startswith('J'):\n",
    "        return wordnet.ADJ\n",
    "    elif nltk_tag.startswith('V'):\n",
    "        return wordnet.VERB\n",
    "    elif nltk_tag.startswith('N'):\n",
    "        return wordnet.NOUN\n",
    "    elif nltk_tag.startswith('R'):\n",
    "        return wordnet.ADV\n",
    "    else:\n",
    "        return None\n",
    "    \n",
    "def lemmatize_token(word):\n",
    "    lst = []\n",
    "    lst.append(word)\n",
    "    wordtpl = pos_tag(lst)\n",
    "    tag = nltk_tag_to_wordnet_tag(wordtpl[0][1])\n",
    "    if(tag!=None):\n",
    "        return lem.lemmatize(word,tag)\n",
    "    else:\n",
    "        return word"
   ]
  },
  {
   "cell_type": "code",
   "execution_count": 20,
   "id": "de8d1743",
   "metadata": {
    "execution": {
     "iopub.execute_input": "2022-03-26T11:57:35.697916Z",
     "iopub.status.busy": "2022-03-26T11:57:35.696992Z",
     "iopub.status.idle": "2022-03-26T11:57:35.708105Z",
     "shell.execute_reply": "2022-03-26T11:57:35.708624Z",
     "shell.execute_reply.started": "2022-03-26T11:38:42.033893Z"
    },
    "papermill": {
     "duration": 0.052099,
     "end_time": "2022-03-26T11:57:35.708793",
     "exception": false,
     "start_time": "2022-03-26T11:57:35.656694",
     "status": "completed"
    },
    "tags": []
   },
   "outputs": [],
   "source": [
    "stop = set(stopwords.words('english'))\n",
    "def normalize_text(x):\n",
    "    x = tokenizeTweets(x)\n",
    "    x = contractions.expand_contractions(x)\n",
    "    return ' '.join([lemmatize_token(word) for word in x.split() if word not in stop])"
   ]
  },
  {
   "cell_type": "code",
   "execution_count": 21,
   "id": "d09dcd60",
   "metadata": {
    "execution": {
     "iopub.execute_input": "2022-03-26T11:57:35.789609Z",
     "iopub.status.busy": "2022-03-26T11:57:35.788637Z",
     "iopub.status.idle": "2022-03-26T11:58:39.509394Z",
     "shell.execute_reply": "2022-03-26T11:58:39.508803Z",
     "shell.execute_reply.started": "2022-03-26T11:38:42.052060Z"
    },
    "papermill": {
     "duration": 63.762511,
     "end_time": "2022-03-26T11:58:39.509563",
     "exception": false,
     "start_time": "2022-03-26T11:57:35.747052",
     "status": "completed"
    },
    "tags": []
   },
   "outputs": [],
   "source": [
    "data['tokenized'] = data['cleaned_tweets'].apply(lambda x: normalize_text(x))"
   ]
  },
  {
   "cell_type": "code",
   "execution_count": 22,
   "id": "772e1a71",
   "metadata": {
    "execution": {
     "iopub.execute_input": "2022-03-26T11:58:39.592794Z",
     "iopub.status.busy": "2022-03-26T11:58:39.592203Z",
     "iopub.status.idle": "2022-03-26T11:58:39.605645Z",
     "shell.execute_reply": "2022-03-26T11:58:39.606107Z",
     "shell.execute_reply.started": "2022-03-26T11:40:02.483724Z"
    },
    "papermill": {
     "duration": 0.056655,
     "end_time": "2022-03-26T11:58:39.606332",
     "exception": false,
     "start_time": "2022-03-26T11:58:39.549677",
     "status": "completed"
    },
    "tags": []
   },
   "outputs": [
    {
     "data": {
      "text/html": [
       "<div>\n",
       "<style scoped>\n",
       "    .dataframe tbody tr th:only-of-type {\n",
       "        vertical-align: middle;\n",
       "    }\n",
       "\n",
       "    .dataframe tbody tr th {\n",
       "        vertical-align: top;\n",
       "    }\n",
       "\n",
       "    .dataframe thead th {\n",
       "        text-align: right;\n",
       "    }\n",
       "</style>\n",
       "<table border=\"1\" class=\"dataframe\">\n",
       "  <thead>\n",
       "    <tr style=\"text-align: right;\">\n",
       "      <th></th>\n",
       "      <th>tokenized</th>\n",
       "    </tr>\n",
       "  </thead>\n",
       "  <tbody>\n",
       "    <tr>\n",
       "      <th>0</th>\n",
       "      <td>father dysfunctional selfish drag kid dysfunction run</td>\n",
       "    </tr>\n",
       "    <tr>\n",
       "      <th>1</th>\n",
       "      <td>thanks lyft credit cannot use cause offer wheelchair van pdx disapointed getthanked</td>\n",
       "    </tr>\n",
       "    <tr>\n",
       "      <th>2</th>\n",
       "      <td>bihday majesty</td>\n",
       "    </tr>\n",
       "    <tr>\n",
       "      <th>3</th>\n",
       "      <td>model love u take u time urð   ± ð    ð    ð    ð   ð   ð   ð  </td>\n",
       "    </tr>\n",
       "    <tr>\n",
       "      <th>4</th>\n",
       "      <td>factsguide society motivation</td>\n",
       "    </tr>\n",
       "  </tbody>\n",
       "</table>\n",
       "</div>"
      ],
      "text/plain": [
       "                                                                             tokenized\n",
       "0                                father dysfunctional selfish drag kid dysfunction run\n",
       "1  thanks lyft credit cannot use cause offer wheelchair van pdx disapointed getthanked\n",
       "2                                                                       bihday majesty\n",
       "3   model love u take u time urð   ± ð    ð    ð    ð   ð   ð   ð  \n",
       "4                                                        factsguide society motivation"
      ]
     },
     "execution_count": 22,
     "metadata": {},
     "output_type": "execute_result"
    }
   ],
   "source": [
    "data[['tokenized']].head(5)"
   ]
  },
  {
   "cell_type": "code",
   "execution_count": 23,
   "id": "fdbdd8d4",
   "metadata": {
    "execution": {
     "iopub.execute_input": "2022-03-26T11:58:39.693522Z",
     "iopub.status.busy": "2022-03-26T11:58:39.692830Z",
     "iopub.status.idle": "2022-03-26T11:58:39.742455Z",
     "shell.execute_reply": "2022-03-26T11:58:39.741757Z",
     "shell.execute_reply.started": "2022-03-26T11:40:02.501647Z"
    },
    "papermill": {
     "duration": 0.094235,
     "end_time": "2022-03-26T11:58:39.742614",
     "exception": false,
     "start_time": "2022-03-26T11:58:39.648379",
     "status": "completed"
    },
    "tags": []
   },
   "outputs": [],
   "source": [
    "data['tokenized'].replace(regex=True,to_replace=r'@', value='',inplace=True)"
   ]
  },
  {
   "cell_type": "code",
   "execution_count": 24,
   "id": "72195078",
   "metadata": {
    "execution": {
     "iopub.execute_input": "2022-03-26T11:58:39.831187Z",
     "iopub.status.busy": "2022-03-26T11:58:39.830333Z",
     "iopub.status.idle": "2022-03-26T11:58:39.833196Z",
     "shell.execute_reply": "2022-03-26T11:58:39.832609Z",
     "shell.execute_reply.started": "2022-03-26T11:40:02.573729Z"
    },
    "papermill": {
     "duration": 0.049708,
     "end_time": "2022-03-26T11:58:39.833370",
     "exception": false,
     "start_time": "2022-03-26T11:58:39.783662",
     "status": "completed"
    },
    "tags": []
   },
   "outputs": [],
   "source": [
    "from sklearn.model_selection import train_test_split"
   ]
  },
  {
   "cell_type": "code",
   "execution_count": 25,
   "id": "32b7dcbc",
   "metadata": {
    "execution": {
     "iopub.execute_input": "2022-03-26T11:58:39.920080Z",
     "iopub.status.busy": "2022-03-26T11:58:39.919453Z",
     "iopub.status.idle": "2022-03-26T11:58:39.952213Z",
     "shell.execute_reply": "2022-03-26T11:58:39.951681Z",
     "shell.execute_reply.started": "2022-03-26T11:40:02.579133Z"
    },
    "papermill": {
     "duration": 0.077055,
     "end_time": "2022-03-26T11:58:39.952389",
     "exception": false,
     "start_time": "2022-03-26T11:58:39.875334",
     "status": "completed"
    },
    "tags": []
   },
   "outputs": [],
   "source": [
    "X = data[['tokenized']]\n",
    "y = data['Sentiment']\n",
    "X_train, X_test, y_train, y_test = train_test_split(X,y,test_size=0.20,stratify=y)\n",
    "X_train, X_val, y_train, y_val = train_test_split(X_train, y_train, test_size = 0.25, stratify = y_train)"
   ]
  },
  {
   "cell_type": "code",
   "execution_count": 26,
   "id": "dd53603f",
   "metadata": {
    "execution": {
     "iopub.execute_input": "2022-03-26T11:58:40.032357Z",
     "iopub.status.busy": "2022-03-26T11:58:40.031750Z",
     "iopub.status.idle": "2022-03-26T11:58:40.116347Z",
     "shell.execute_reply": "2022-03-26T11:58:40.115828Z",
     "shell.execute_reply.started": "2022-03-26T11:40:02.622979Z"
    },
    "papermill": {
     "duration": 0.125358,
     "end_time": "2022-03-26T11:58:40.116530",
     "exception": false,
     "start_time": "2022-03-26T11:58:39.991172",
     "status": "completed"
    },
    "tags": []
   },
   "outputs": [],
   "source": [
    "tokens_list = X_train['tokenized'].tolist()\n",
    "tokenFrequency = dict()\n",
    "for tweet in tokens_list:\n",
    "    for token in tweet.split():\n",
    "        if(token in tokenFrequency):\n",
    "            tokenFrequency[token]+=1\n",
    "        else:\n",
    "            tokenFrequency[token]=1"
   ]
  },
  {
   "cell_type": "code",
   "execution_count": 27,
   "id": "c5b82c49",
   "metadata": {
    "execution": {
     "iopub.execute_input": "2022-03-26T11:58:40.196698Z",
     "iopub.status.busy": "2022-03-26T11:58:40.196072Z",
     "iopub.status.idle": "2022-03-26T11:58:40.200292Z",
     "shell.execute_reply": "2022-03-26T11:58:40.200760Z",
     "shell.execute_reply.started": "2022-03-26T11:40:02.716446Z"
    },
    "papermill": {
     "duration": 0.044935,
     "end_time": "2022-03-26T11:58:40.200920",
     "exception": false,
     "start_time": "2022-03-26T11:58:40.155985",
     "status": "completed"
    },
    "tags": []
   },
   "outputs": [
    {
     "name": "stdout",
     "output_type": "stream",
     "text": [
      "27215\n"
     ]
    }
   ],
   "source": [
    "total_number_of_distint_tokens = len(tokenFrequency.keys())\n",
    "print(total_number_of_distint_tokens)"
   ]
  },
  {
   "cell_type": "code",
   "execution_count": 28,
   "id": "fb7e0ef0",
   "metadata": {
    "execution": {
     "iopub.execute_input": "2022-03-26T11:58:40.281532Z",
     "iopub.status.busy": "2022-03-26T11:58:40.280934Z",
     "iopub.status.idle": "2022-03-26T11:58:40.286025Z",
     "shell.execute_reply": "2022-03-26T11:58:40.286856Z",
     "shell.execute_reply.started": "2022-03-26T11:40:02.722403Z"
    },
    "papermill": {
     "duration": 0.047877,
     "end_time": "2022-03-26T11:58:40.287125",
     "exception": false,
     "start_time": "2022-03-26T11:58:40.239248",
     "status": "completed"
    },
    "tags": []
   },
   "outputs": [
    {
     "name": "stdout",
     "output_type": "stream",
     "text": [
      "201550\n"
     ]
    }
   ],
   "source": [
    "total_count_of_tokens = sum(tokenFrequency.values())\n",
    "print(total_count_of_tokens)"
   ]
  },
  {
   "cell_type": "code",
   "execution_count": 29,
   "id": "a576bdf8",
   "metadata": {
    "execution": {
     "iopub.execute_input": "2022-03-26T11:58:40.399308Z",
     "iopub.status.busy": "2022-03-26T11:58:40.396464Z",
     "iopub.status.idle": "2022-03-26T11:58:40.401680Z",
     "shell.execute_reply": "2022-03-26T11:58:40.402302Z",
     "shell.execute_reply.started": "2022-03-26T11:40:02.737112Z"
    },
    "papermill": {
     "duration": 0.061897,
     "end_time": "2022-03-26T11:58:40.402473",
     "exception": false,
     "start_time": "2022-03-26T11:58:40.340576",
     "status": "completed"
    },
    "tags": []
   },
   "outputs": [],
   "source": [
    "def load_words():\n",
    "    with open('../input/domain-generation-algorithm/words.txt') as word_file:\n",
    "        valid_words = set([word.lower() for word in word_file.read().split()])\n",
    "    return valid_words"
   ]
  },
  {
   "cell_type": "code",
   "execution_count": 30,
   "id": "0f238ba0",
   "metadata": {
    "execution": {
     "iopub.execute_input": "2022-03-26T11:58:40.488676Z",
     "iopub.status.busy": "2022-03-26T11:58:40.486599Z",
     "iopub.status.idle": "2022-03-26T11:58:40.774826Z",
     "shell.execute_reply": "2022-03-26T11:58:40.775515Z",
     "shell.execute_reply.started": "2022-03-26T11:40:02.748882Z"
    },
    "papermill": {
     "duration": 0.332582,
     "end_time": "2022-03-26T11:58:40.775699",
     "exception": false,
     "start_time": "2022-03-26T11:58:40.443117",
     "status": "completed"
    },
    "tags": []
   },
   "outputs": [],
   "source": [
    "english_words = load_words()\n",
    "english_tokens = dict()\n",
    "non_english_tokens = dict()\n",
    "\n",
    "for token in tokenFrequency:\n",
    "    if(token not in english_words):\n",
    "        non_english_tokens[token] = tokenFrequency[token]\n",
    "    else:\n",
    "        english_tokens[token] = tokenFrequency[token]"
   ]
  },
  {
   "cell_type": "code",
   "execution_count": 31,
   "id": "77ee1ff7",
   "metadata": {
    "execution": {
     "iopub.execute_input": "2022-03-26T11:58:40.862546Z",
     "iopub.status.busy": "2022-03-26T11:58:40.861931Z",
     "iopub.status.idle": "2022-03-26T11:58:40.866878Z",
     "shell.execute_reply": "2022-03-26T11:58:40.867373Z",
     "shell.execute_reply.started": "2022-03-26T11:40:03.113120Z"
    },
    "papermill": {
     "duration": 0.046775,
     "end_time": "2022-03-26T11:58:40.867535",
     "exception": false,
     "start_time": "2022-03-26T11:58:40.820760",
     "status": "completed"
    },
    "tags": []
   },
   "outputs": [
    {
     "data": {
      "text/plain": [
       "11332"
      ]
     },
     "execution_count": 31,
     "metadata": {},
     "output_type": "execute_result"
    }
   ],
   "source": [
    "len(english_tokens.keys())"
   ]
  },
  {
   "cell_type": "code",
   "execution_count": 32,
   "id": "08c8a0ec",
   "metadata": {
    "execution": {
     "iopub.execute_input": "2022-03-26T11:58:40.953946Z",
     "iopub.status.busy": "2022-03-26T11:58:40.953226Z",
     "iopub.status.idle": "2022-03-26T11:58:41.189508Z",
     "shell.execute_reply": "2022-03-26T11:58:41.189964Z",
     "shell.execute_reply.started": "2022-03-26T11:40:03.123361Z"
    },
    "papermill": {
     "duration": 0.281122,
     "end_time": "2022-03-26T11:58:41.190131",
     "exception": false,
     "start_time": "2022-03-26T11:58:40.909009",
     "status": "completed"
    },
    "tags": []
   },
   "outputs": [
    {
     "data": {
      "text/plain": [
       "[('\\x9f', 10242),\n",
       " ('ð', 8861),\n",
       " ('\\x98', 4309),\n",
       " ('\\x80', 3889),\n",
       " ('â', 2485),\n",
       " ('\\x92', 1883),\n",
       " ('\\x8f', 1729),\n",
       " ('\\x91', 1224),\n",
       " ('\\x99', 1115),\n",
       " ('¸', 1013)]"
      ]
     },
     "execution_count": 32,
     "metadata": {},
     "output_type": "execute_result"
    }
   ],
   "source": [
    "netsorted = sorted(non_english_tokens.items(), key=lambda x: x[1], reverse = True)\n",
    "netsorted[:10]"
   ]
  },
  {
   "cell_type": "code",
   "execution_count": 33,
   "id": "faa6c98e",
   "metadata": {
    "execution": {
     "iopub.execute_input": "2022-03-26T11:58:41.272764Z",
     "iopub.status.busy": "2022-03-26T11:58:41.271125Z",
     "iopub.status.idle": "2022-03-26T11:58:41.282719Z",
     "shell.execute_reply": "2022-03-26T11:58:41.283137Z",
     "shell.execute_reply.started": "2022-03-26T11:40:03.344566Z"
    },
    "papermill": {
     "duration": 0.053811,
     "end_time": "2022-03-26T11:58:41.283334",
     "exception": false,
     "start_time": "2022-03-26T11:58:41.229523",
     "status": "completed"
    },
    "tags": []
   },
   "outputs": [],
   "source": [
    "arr = np.cumsum(np.array(list(dict(netsorted).values())))/np.sum(np.array(list(dict(netsorted).values())))"
   ]
  },
  {
   "cell_type": "code",
   "execution_count": 34,
   "id": "a7b6e407",
   "metadata": {
    "execution": {
     "iopub.execute_input": "2022-03-26T11:58:41.367082Z",
     "iopub.status.busy": "2022-03-26T11:58:41.366145Z",
     "iopub.status.idle": "2022-03-26T11:58:41.601559Z",
     "shell.execute_reply": "2022-03-26T11:58:41.602032Z",
     "shell.execute_reply.started": "2022-03-26T11:40:03.365361Z"
    },
    "papermill": {
     "duration": 0.279356,
     "end_time": "2022-03-26T11:58:41.602216",
     "exception": false,
     "start_time": "2022-03-26T11:58:41.322860",
     "status": "completed"
    },
    "tags": []
   },
   "outputs": [
    {
     "data": {
      "image/png": "[encoded data removed]",
      "text/plain": [
       "<Figure size 576x432 with 1 Axes>"
      ]
     },
     "metadata": {},
     "output_type": "display_data"
    }
   ],
   "source": [
    "plt.figure(figsize=(8,6))\n",
    "plt.plot(arr)\n",
    "plt.yticks(np.arange(0,1,0.1))\n",
    "plt.xticks(np.arange(0,20000,1000),rotation=70)\n",
    "plt.xlabel(\"No. of tokens\")\n",
    "plt.ylabel(\"cumulative  % of text covered\")\n",
    "plt.show()"
   ]
  },
  {
   "cell_type": "code",
   "execution_count": 35,
   "id": "dc48d1be",
   "metadata": {
    "execution": {
     "iopub.execute_input": "2022-03-26T11:58:41.686827Z",
     "iopub.status.busy": "2022-03-26T11:58:41.685892Z",
     "iopub.status.idle": "2022-03-26T11:58:41.691874Z",
     "shell.execute_reply": "2022-03-26T11:58:41.691394Z",
     "shell.execute_reply.started": "2022-03-26T11:40:03.650014Z"
    },
    "papermill": {
     "duration": 0.049132,
     "end_time": "2022-03-26T11:58:41.692013",
     "exception": false,
     "start_time": "2022-03-26T11:58:41.642881",
     "status": "completed"
    },
    "tags": []
   },
   "outputs": [
    {
     "data": {
      "text/plain": [
       "(15883,)"
      ]
     },
     "execution_count": 35,
     "metadata": {},
     "output_type": "execute_result"
    }
   ],
   "source": [
    "arr.shape"
   ]
  },
  {
   "cell_type": "code",
   "execution_count": 36,
   "id": "d9e6211a",
   "metadata": {
    "execution": {
     "iopub.execute_input": "2022-03-26T11:58:41.779404Z",
     "iopub.status.busy": "2022-03-26T11:58:41.778230Z",
     "iopub.status.idle": "2022-03-26T11:58:41.782047Z",
     "shell.execute_reply": "2022-03-26T11:58:41.781589Z",
     "shell.execute_reply.started": "2022-03-26T11:40:03.660663Z"
    },
    "papermill": {
     "duration": 0.048559,
     "end_time": "2022-03-26T11:58:41.782199",
     "exception": false,
     "start_time": "2022-03-26T11:58:41.733640",
     "status": "completed"
    },
    "tags": []
   },
   "outputs": [],
   "source": [
    "number_of_net_to_keep = arr.shape[0] - arr[arr>0.80].shape[0]\n",
    "netremove = list(non_english_tokens.keys())[number_of_net_to_keep:]"
   ]
  },
  {
   "cell_type": "markdown",
   "id": "c3077a19",
   "metadata": {
    "papermill": {
     "duration": 0.040672,
     "end_time": "2022-03-26T11:58:41.864376",
     "exception": false,
     "start_time": "2022-03-26T11:58:41.823704",
     "status": "completed"
    },
    "tags": []
   },
   "source": [
    "This means keeping only the top (most-frequent) 1363 Non-English tokens, we can cover 80% of the text covered by them. 80% can be treated as a hyperparameter of our algorithm. Now we must extract these tokens which must be excluded, and exclude them from our testing set as well. "
   ]
  },
  {
   "cell_type": "code",
   "execution_count": 37,
   "id": "a2044b82",
   "metadata": {
    "execution": {
     "iopub.execute_input": "2022-03-26T11:58:42.010965Z",
     "iopub.status.busy": "2022-03-26T11:58:41.989861Z",
     "iopub.status.idle": "2022-03-26T11:59:35.405047Z",
     "shell.execute_reply": "2022-03-26T11:59:35.404528Z",
     "shell.execute_reply.started": "2022-03-26T11:40:03.686846Z"
    },
    "papermill": {
     "duration": 53.500316,
     "end_time": "2022-03-26T11:59:35.405204",
     "exception": false,
     "start_time": "2022-03-26T11:58:41.904888",
     "status": "completed"
    },
    "tags": []
   },
   "outputs": [],
   "source": [
    "X_train['tokenized'] = X_train['tokenized'].apply(lambda x: ' '.join([word for word in x.split() if word not in netremove]))\n",
    "X_val['tokenized'] = X_val['tokenized'].apply(lambda x: ' '.join([word for word in x.split() if word not in netremove]))\n",
    "X_test['tokenized'] = X_test['tokenized'].apply(lambda x: ' '.join([word for word in x.split() if word not in netremove]))"
   ]
  },
  {
   "cell_type": "code",
   "execution_count": 38,
   "id": "f155c18d",
   "metadata": {
    "execution": {
     "iopub.execute_input": "2022-03-26T11:59:35.492625Z",
     "iopub.status.busy": "2022-03-26T11:59:35.491837Z",
     "iopub.status.idle": "2022-03-26T11:59:35.494910Z",
     "shell.execute_reply": "2022-03-26T11:59:35.495380Z",
     "shell.execute_reply.started": "2022-03-26T11:40:59.334568Z"
    },
    "papermill": {
     "duration": 0.049471,
     "end_time": "2022-03-26T11:59:35.495543",
     "exception": false,
     "start_time": "2022-03-26T11:59:35.446072",
     "status": "completed"
    },
    "tags": []
   },
   "outputs": [
    {
     "name": "stdout",
     "output_type": "stream",
     "text": [
      "(19176, 1) (19176,)\n",
      "(6393, 1) (6393,)\n",
      "(6393, 1) (6393,)\n"
     ]
    }
   ],
   "source": [
    "print(X_train.shape, y_train.shape)\n",
    "print(X_val.shape, y_val.shape)\n",
    "print(X_test.shape, y_test.shape)"
   ]
  },
  {
   "cell_type": "code",
   "execution_count": 39,
   "id": "e5d8603c",
   "metadata": {
    "execution": {
     "iopub.execute_input": "2022-03-26T11:59:35.582003Z",
     "iopub.status.busy": "2022-03-26T11:59:35.581094Z",
     "iopub.status.idle": "2022-03-26T11:59:35.588160Z",
     "shell.execute_reply": "2022-03-26T11:59:35.588708Z",
     "shell.execute_reply.started": "2022-03-26T11:45:08.488909Z"
    },
    "papermill": {
     "duration": 0.051374,
     "end_time": "2022-03-26T11:59:35.588866",
     "exception": false,
     "start_time": "2022-03-26T11:59:35.537492",
     "status": "completed"
    },
    "tags": []
   },
   "outputs": [],
   "source": [
    "train = X_train.copy()\n",
    "train['Sentiment'] = y_train\n",
    "validation = X_val.copy()\n",
    "validation['Sentiment'] = y_val\n",
    "test = X_test.copy()\n",
    "test['Sentiment'] = y_test"
   ]
  },
  {
   "cell_type": "code",
   "execution_count": 40,
   "id": "2f557429",
   "metadata": {
    "execution": {
     "iopub.execute_input": "2022-03-26T11:59:35.675494Z",
     "iopub.status.busy": "2022-03-26T11:59:35.674842Z",
     "iopub.status.idle": "2022-03-26T11:59:35.744363Z",
     "shell.execute_reply": "2022-03-26T11:59:35.744862Z",
     "shell.execute_reply.started": "2022-03-26T10:43:25.213743Z"
    },
    "papermill": {
     "duration": 0.115446,
     "end_time": "2022-03-26T11:59:35.745029",
     "exception": false,
     "start_time": "2022-03-26T11:59:35.629583",
     "status": "completed"
    },
    "tags": []
   },
   "outputs": [],
   "source": [
    "train.to_csv(\"twittertrain.csv\", index=False)\n",
    "validation.to_csv(\"twittervalidation.csv\", index=False)\n",
    "test.to_csv(\"twittertest.csv\", index=False)"
   ]
  },
  {
   "cell_type": "markdown",
   "id": "ea4d4bc0",
   "metadata": {
    "papermill": {
     "duration": 0.042841,
     "end_time": "2022-03-26T11:59:35.828915",
     "exception": false,
     "start_time": "2022-03-26T11:59:35.786074",
     "status": "completed"
    },
    "tags": []
   },
   "source": []
  }
 ],
 "metadata": {
  "kernelspec": {
   "display_name": "Python 3",
   "language": "python",
   "name": "python3"
  },
  "language_info": {
   "codemirror_mode": {
    "name": "ipython",
    "version": 3
   },
   "file_extension": ".py",
   "mimetype": "text/x-python",
   "name": "python",
   "nbconvert_exporter": "python",
   "pygments_lexer": "ipython3",
   "version": "3.7.12"
  },
  "papermill": {
   "default_parameters": {},
   "duration": 134.621304,
   "end_time": "2022-03-26T11:59:36.883291",
   "environment_variables": {},
   "exception": null,
   "input_path": "__notebook__.ipynb",
   "output_path": "__notebook__.ipynb",
   "parameters": {},
   "start_time": "2022-03-26T11:57:22.261987",
   "version": "2.3.3"
  }
 },
 "nbformat": 4,
 "nbformat_minor": 5
}
